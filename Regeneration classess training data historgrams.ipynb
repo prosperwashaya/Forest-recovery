{
 "cells": [
  {
   "cell_type": "code",
   "execution_count": 3,
   "id": "58286356-c4ae-44b6-b2f7-3dd03f606b85",
   "metadata": {},
   "outputs": [
    {
     "name": "stdout",
     "output_type": "stream",
     "text": [
      "Found 43 raster files\n",
      "\n",
      "Processing baresoil...\n"
     ]
    },
    {
     "name": "stderr",
     "output_type": "stream",
     "text": [
      "Rasters for baresoil:   0%|                                                                     | 0/43 [00:00<?, ?it/s]"
     ]
    },
    {
     "name": "stdout",
     "output_type": "stream",
     "text": [
      "Starting extraction. Memory usage: 215.9 MB\n",
      "Processing Baresoil.shp with CHM_uav47.tif\n",
      "Detected S-JTSK Krovak CRS. Manually setting target CRS to EPSG:5514\n",
      "Successfully reprojected to S-JTSK using EPSG:5514\n",
      "Current memory usage before zonal stats: 216.0 MB\n",
      "Sampling 5 polygons from 117 total\n",
      "  Extracted 2000 values from polygon 52\n",
      "  Extracted 2000 values from polygon 24\n",
      "  Extracted 2000 values from polygon 47\n",
      "  Extracted 2000 values from polygon 68\n"
     ]
    },
    {
     "name": "stderr",
     "output_type": "stream",
     "text": [
      "Rasters for baresoil:   2%|█▍                                                           | 1/43 [00:00<00:10,  3.92it/s]"
     ]
    },
    {
     "name": "stdout",
     "output_type": "stream",
     "text": [
      "  Extracted 2000 values from polygon 79\n",
      "Successfully extracted 10000 sampled values. Memory: 226.1 MB\n",
      "Starting extraction. Memory usage: 214.5 MB\n",
      "Processing Baresoil.shp with CHM_uav1.tif\n",
      "Detected S-JTSK Krovak CRS. Manually setting target CRS to EPSG:5514\n",
      "Successfully reprojected to S-JTSK using EPSG:5514\n",
      "Current memory usage before zonal stats: 214.5 MB\n",
      "Sampling 5 polygons from 117 total\n",
      "  Extracted 2000 values from polygon 71\n",
      "  Extracted 2000 values from polygon 78\n",
      "  Extracted 2000 values from polygon 49\n",
      "  Extracted 2000 values from polygon 113\n"
     ]
    },
    {
     "name": "stderr",
     "output_type": "stream",
     "text": [
      "Rasters for baresoil:   5%|██▊                                                          | 2/43 [00:00<00:10,  4.06it/s]"
     ]
    },
    {
     "name": "stdout",
     "output_type": "stream",
     "text": [
      "  Extracted 2000 values from polygon 77\n",
      "Successfully extracted 10000 sampled values. Memory: 225.6 MB\n",
      "Starting extraction. Memory usage: 219.8 MB\n",
      "Processing Baresoil.shp with CHM_uav2.tif\n",
      "Detected S-JTSK Krovak CRS. Manually setting target CRS to EPSG:5514\n",
      "Successfully reprojected to S-JTSK using EPSG:5514\n",
      "Current memory usage before zonal stats: 219.8 MB\n",
      "Sampling 5 polygons from 117 total\n",
      "  Extracted 2000 values from polygon 19\n",
      "  Extracted 2000 values from polygon 116\n"
     ]
    },
    {
     "name": "stderr",
     "output_type": "stream",
     "text": [
      "Rasters for baresoil:   7%|████▎                                                        | 3/43 [00:00<00:11,  3.59it/s]"
     ]
    },
    {
     "name": "stdout",
     "output_type": "stream",
     "text": [
      "  Extracted 2000 values from polygon 58\n",
      "  Extracted 2000 values from polygon 35\n",
      "  Extracted 2000 values from polygon 63\n",
      "Successfully extracted 10000 sampled values. Memory: 222.0 MB\n",
      "Starting extraction. Memory usage: 214.5 MB\n",
      "Processing Baresoil.shp with CHM_uav3.tif\n",
      "Detected S-JTSK Krovak CRS. Manually setting target CRS to EPSG:5514\n",
      "Successfully reprojected to S-JTSK using EPSG:5514\n",
      "Current memory usage before zonal stats: 214.6 MB\n",
      "Sampling 5 polygons from 117 total\n",
      "  Extracted 2000 values from polygon 13\n"
     ]
    },
    {
     "name": "stderr",
     "output_type": "stream",
     "text": [
      "Rasters for baresoil:   9%|█████▋                                                       | 4/43 [00:01<00:09,  3.98it/s]"
     ]
    },
    {
     "name": "stdout",
     "output_type": "stream",
     "text": [
      "  Extracted 2000 values from polygon 79\n",
      "  Extracted 2000 values from polygon 2\n",
      "  Extracted 2000 values from polygon 112\n",
      "  Extracted 2000 values from polygon 92\n",
      "Successfully extracted 10000 sampled values. Memory: 215.3 MB\n",
      "Starting extraction. Memory usage: 215.3 MB\n",
      "Processing Baresoil.shp with CHM_uav4.tif\n",
      "Detected S-JTSK Krovak CRS. Manually setting target CRS to EPSG:5514\n",
      "Successfully reprojected to S-JTSK using EPSG:5514\n",
      "Current memory usage before zonal stats: 215.3 MB\n",
      "Sampling 5 polygons from 117 total\n",
      "  Extracted 2000 values from polygon 97\n"
     ]
    },
    {
     "name": "stderr",
     "output_type": "stream",
     "text": [
      "Rasters for baresoil:  12%|███████                                                      | 5/43 [00:01<00:09,  3.96it/s]"
     ]
    },
    {
     "name": "stdout",
     "output_type": "stream",
     "text": [
      "  Extracted 2000 values from polygon 45\n",
      "  Extracted 2000 values from polygon 101\n",
      "  Extracted 2000 values from polygon 51\n",
      "  Extracted 2000 values from polygon 71\n",
      "Successfully extracted 10000 sampled values. Memory: 219.9 MB\n",
      "Starting extraction. Memory usage: 214.9 MB\n",
      "Processing Baresoil.shp with CHM_uav5.tif\n",
      "Detected S-JTSK Krovak CRS. Manually setting target CRS to EPSG:5514\n",
      "Successfully reprojected to S-JTSK using EPSG:5514\n",
      "Current memory usage before zonal stats: 214.9 MB\n",
      "Sampling 5 polygons from 117 total\n",
      "  Extracted 2000 values from polygon 58\n",
      "  Extracted 2000 values from polygon 68\n",
      "  Extracted 2000 values from polygon 61\n",
      "  Extracted 2000 values from polygon 109\n"
     ]
    },
    {
     "name": "stderr",
     "output_type": "stream",
     "text": [
      "Rasters for baresoil:  14%|████████▌                                                    | 6/43 [00:01<00:10,  3.53it/s]"
     ]
    },
    {
     "name": "stdout",
     "output_type": "stream",
     "text": [
      "  Extracted 2000 values from polygon 80\n",
      "Successfully extracted 10000 sampled values. Memory: 223.3 MB\n",
      "Starting extraction. Memory usage: 217.7 MB\n",
      "Processing Baresoil.shp with CHM_uav6.tif\n",
      "Detected S-JTSK Krovak CRS. Manually setting target CRS to EPSG:5514\n",
      "Successfully reprojected to S-JTSK using EPSG:5514\n",
      "Current memory usage before zonal stats: 217.7 MB\n",
      "Sampling 5 polygons from 117 total\n",
      "  Extracted 2000 values from polygon 24\n",
      "  Extracted 2000 values from polygon 73\n",
      "  Extracted 2000 values from polygon 30\n"
     ]
    },
    {
     "name": "stderr",
     "output_type": "stream",
     "text": [
      "Rasters for baresoil:  16%|█████████▉                                                   | 7/43 [00:01<00:09,  3.62it/s]"
     ]
    },
    {
     "name": "stdout",
     "output_type": "stream",
     "text": [
      "  Extracted 2000 values from polygon 94\n",
      "  Extracted 2000 values from polygon 79\n",
      "Successfully extracted 10000 sampled values. Memory: 223.9 MB\n",
      "Starting extraction. Memory usage: 219.7 MB\n",
      "Processing Baresoil.shp with CHM_uav7.tif\n",
      "Detected S-JTSK Krovak CRS. Manually setting target CRS to EPSG:5514\n",
      "Successfully reprojected to S-JTSK using EPSG:5514\n",
      "Current memory usage before zonal stats: 219.8 MB\n",
      "Sampling 5 polygons from 117 total\n",
      "  Extracted 2000 values from polygon 74\n",
      "  Extracted 2000 values from polygon 104\n",
      "  Extracted 2000 values from polygon 107\n",
      "  Extracted 2000 values from polygon 49\n",
      "  Extracted 2000 values from polygon 75\n",
      "Successfully extracted 10000 sampled values. Memory: 262.6 MB\n"
     ]
    },
    {
     "name": "stderr",
     "output_type": "stream",
     "text": [
      "Rasters for baresoil:  19%|███████████▎                                                 | 8/43 [00:02<00:11,  3.16it/s]"
     ]
    },
    {
     "name": "stdout",
     "output_type": "stream",
     "text": [
      "Starting extraction. Memory usage: 219.7 MB\n",
      "Processing Baresoil.shp with CHM_uav12.tif\n",
      "Detected S-JTSK Krovak CRS. Manually setting target CRS to EPSG:5514\n",
      "Successfully reprojected to S-JTSK using EPSG:5514\n",
      "Current memory usage before zonal stats: 219.7 MB\n",
      "Sampling 5 polygons from 117 total\n",
      "  Extracted 2000 values from polygon 18\n",
      "  Extracted 2000 values from polygon 48\n",
      "  Extracted 2000 values from polygon 29\n",
      "  Extracted 2000 values from polygon 42\n"
     ]
    },
    {
     "name": "stderr",
     "output_type": "stream",
     "text": [
      "Rasters for baresoil:  21%|████████████▊                                                | 9/43 [00:02<00:10,  3.26it/s]"
     ]
    },
    {
     "name": "stdout",
     "output_type": "stream",
     "text": [
      "  Extracted 2000 values from polygon 63\n",
      "Successfully extracted 10000 sampled values. Memory: 222.9 MB\n",
      "Starting extraction. Memory usage: 218.9 MB\n",
      "Processing Baresoil.shp with CHM_uav13.tif\n",
      "Detected S-JTSK Krovak CRS. Manually setting target CRS to EPSG:5514\n",
      "Successfully reprojected to S-JTSK using EPSG:5514\n",
      "Current memory usage before zonal stats: 219.0 MB\n",
      "Sampling 5 polygons from 117 total\n",
      "  Extracted 2000 values from polygon 44\n",
      "  Extracted 2000 values from polygon 113\n",
      "  Extracted 2000 values from polygon 13\n"
     ]
    },
    {
     "name": "stderr",
     "output_type": "stream",
     "text": [
      "Rasters for baresoil:  23%|█████████████▉                                              | 10/43 [00:02<00:09,  3.43it/s]"
     ]
    },
    {
     "name": "stdout",
     "output_type": "stream",
     "text": [
      "  Extracted 2000 values from polygon 57\n",
      "  Extracted 2000 values from polygon 32\n",
      "Successfully extracted 10000 sampled values. Memory: 225.6 MB\n",
      "Starting extraction. Memory usage: 220.0 MB\n",
      "Processing Baresoil.shp with CHM_uav14.tif\n",
      "Detected S-JTSK Krovak CRS. Manually setting target CRS to EPSG:5514\n",
      "Successfully reprojected to S-JTSK using EPSG:5514\n",
      "Current memory usage before zonal stats: 220.0 MB\n",
      "Sampling 5 polygons from 117 total\n",
      "  Extracted 2000 values from polygon 107\n",
      "  Extracted 2000 values from polygon 75\n",
      "  Extracted 2000 values from polygon 29\n",
      "  Extracted 2000 values from polygon 100\n",
      "  Extracted 2000 values from polygon 38\n",
      "Successfully extracted 10000 sampled values. Memory: 234.8 MB\n"
     ]
    },
    {
     "name": "stderr",
     "output_type": "stream",
     "text": [
      "Rasters for baresoil:  26%|███████████████▎                                            | 11/43 [00:03<00:10,  2.92it/s]"
     ]
    },
    {
     "name": "stdout",
     "output_type": "stream",
     "text": [
      "Starting extraction. Memory usage: 215.2 MB\n",
      "Processing Baresoil.shp with CHM_uav15.tif\n",
      "Detected S-JTSK Krovak CRS. Manually setting target CRS to EPSG:5514\n",
      "Successfully reprojected to S-JTSK using EPSG:5514\n",
      "Current memory usage before zonal stats: 215.2 MB\n",
      "Sampling 5 polygons from 117 total\n",
      "  Extracted 2000 values from polygon 98\n",
      "  Extracted 2000 values from polygon 28\n",
      "  Extracted 2000 values from polygon 15\n",
      "  Extracted 2000 values from polygon 68\n"
     ]
    },
    {
     "name": "stderr",
     "output_type": "stream",
     "text": [
      "Rasters for baresoil:  28%|████████████████▋                                           | 12/43 [00:03<00:10,  2.82it/s]"
     ]
    },
    {
     "name": "stdout",
     "output_type": "stream",
     "text": [
      "  Extracted 2000 values from polygon 33\n",
      "Successfully extracted 10000 sampled values. Memory: 308.1 MB\n",
      "Starting extraction. Memory usage: 215.2 MB\n",
      "Processing Baresoil.shp with CHM_uav16.tif\n",
      "Detected S-JTSK Krovak CRS. Manually setting target CRS to EPSG:5514\n",
      "Successfully reprojected to S-JTSK using EPSG:5514\n",
      "Current memory usage before zonal stats: 215.2 MB\n",
      "Sampling 5 polygons from 117 total\n",
      "  Extracted 2000 values from polygon 1\n",
      "  Extracted 2000 values from polygon 25\n",
      "  Extracted 2000 values from polygon 92\n",
      "  Extracted 2000 values from polygon 75\n"
     ]
    },
    {
     "name": "stderr",
     "output_type": "stream",
     "text": [
      "Rasters for baresoil:  30%|██████████████████▏                                         | 13/43 [00:03<00:09,  3.13it/s]"
     ]
    },
    {
     "name": "stdout",
     "output_type": "stream",
     "text": [
      "  Extracted 2000 values from polygon 10\n",
      "Successfully extracted 10000 sampled values. Memory: 222.9 MB\n",
      "Starting extraction. Memory usage: 215.3 MB\n",
      "Processing Baresoil.shp with CHM_uav17.tif\n",
      "Detected S-JTSK Krovak CRS. Manually setting target CRS to EPSG:5514\n",
      "Successfully reprojected to S-JTSK using EPSG:5514\n",
      "Current memory usage before zonal stats: 215.4 MB\n",
      "Sampling 5 polygons from 117 total\n",
      "  Extracted 2000 values from polygon 68\n",
      "  Extracted 2000 values from polygon 91\n",
      "  Extracted 2000 values from polygon 19\n"
     ]
    },
    {
     "name": "stderr",
     "output_type": "stream",
     "text": [
      "Rasters for baresoil:  33%|███████████████████▌                                        | 14/43 [00:04<00:09,  3.00it/s]"
     ]
    },
    {
     "name": "stdout",
     "output_type": "stream",
     "text": [
      "  Extracted 2000 values from polygon 100\n",
      "  Extracted 2000 values from polygon 106\n",
      "Successfully extracted 10000 sampled values. Memory: 271.1 MB\n",
      "Starting extraction. Memory usage: 222.2 MB\n",
      "Processing Baresoil.shp with CHM_uav18.tif\n",
      "Detected S-JTSK Krovak CRS. Manually setting target CRS to EPSG:5514\n",
      "Successfully reprojected to S-JTSK using EPSG:5514\n",
      "Current memory usage before zonal stats: 222.2 MB\n",
      "Sampling 5 polygons from 117 total\n",
      "  Extracted 2000 values from polygon 18\n",
      "  Extracted 2000 values from polygon 13\n",
      "  Extracted 2000 values from polygon 88\n",
      "  Extracted 2000 values from polygon 17\n"
     ]
    },
    {
     "name": "stderr",
     "output_type": "stream",
     "text": [
      "Rasters for baresoil:  35%|████████████████████▉                                       | 15/43 [00:04<00:09,  2.88it/s]"
     ]
    },
    {
     "name": "stdout",
     "output_type": "stream",
     "text": [
      "  Extracted 2000 values from polygon 12\n",
      "Successfully extracted 10000 sampled values. Memory: 227.0 MB\n",
      "Starting extraction. Memory usage: 218.7 MB\n",
      "Processing Baresoil.shp with CHM_uav19.tif\n",
      "Detected S-JTSK Krovak CRS. Manually setting target CRS to EPSG:5514\n",
      "Successfully reprojected to S-JTSK using EPSG:5514\n",
      "Current memory usage before zonal stats: 218.7 MB\n",
      "Sampling 5 polygons from 117 total\n",
      "  Extracted 2000 values from polygon 81\n",
      "  Extracted 2000 values from polygon 5\n",
      "  Extracted 2000 values from polygon 89\n"
     ]
    },
    {
     "name": "stderr",
     "output_type": "stream",
     "text": [
      "Rasters for baresoil:  37%|██████████████████████▎                                     | 16/43 [00:05<00:09,  2.84it/s]"
     ]
    },
    {
     "name": "stdout",
     "output_type": "stream",
     "text": [
      "  Extracted 2000 values from polygon 116\n",
      "  Extracted 2000 values from polygon 0\n",
      "Successfully extracted 10000 sampled values. Memory: 239.9 MB\n",
      "Starting extraction. Memory usage: 219.0 MB\n",
      "Processing Baresoil.shp with CHM_uav20.tif\n",
      "Detected S-JTSK Krovak CRS. Manually setting target CRS to EPSG:5514\n",
      "Successfully reprojected to S-JTSK using EPSG:5514\n",
      "Current memory usage before zonal stats: 219.0 MB\n",
      "Sampling 5 polygons from 117 total\n",
      "  Extracted 2000 values from polygon 72\n",
      "  Extracted 2000 values from polygon 53\n",
      "  Extracted 2000 values from polygon 65\n",
      "  Extracted 2000 values from polygon 84\n"
     ]
    },
    {
     "name": "stderr",
     "output_type": "stream",
     "text": [
      "Rasters for baresoil:  40%|███████████████████████▋                                    | 17/43 [00:05<00:09,  2.86it/s]"
     ]
    },
    {
     "name": "stdout",
     "output_type": "stream",
     "text": [
      "  Extracted 2000 values from polygon 33\n",
      "Successfully extracted 10000 sampled values. Memory: 280.8 MB\n",
      "Starting extraction. Memory usage: 215.8 MB\n",
      "Processing Baresoil.shp with CHM_uav21.tif\n",
      "Detected S-JTSK Krovak CRS. Manually setting target CRS to EPSG:5514\n",
      "Successfully reprojected to S-JTSK using EPSG:5514\n",
      "Current memory usage before zonal stats: 215.8 MB\n",
      "Sampling 5 polygons from 117 total\n",
      "  Extracted 2000 values from polygon 38\n",
      "  Extracted 2000 values from polygon 84\n",
      "  Extracted 2000 values from polygon 23\n",
      "  Extracted 2000 values from polygon 4\n",
      "  Extracted 2000 values from polygon 110\n",
      "Successfully extracted 10000 sampled values. Memory: 240.7 MB\n"
     ]
    },
    {
     "name": "stderr",
     "output_type": "stream",
     "text": [
      "Rasters for baresoil:  42%|█████████████████████████                                   | 18/43 [00:05<00:08,  2.80it/s]"
     ]
    },
    {
     "name": "stdout",
     "output_type": "stream",
     "text": [
      "Starting extraction. Memory usage: 216.1 MB\n",
      "Processing Baresoil.shp with CHM_uav22.tif\n",
      "Detected S-JTSK Krovak CRS. Manually setting target CRS to EPSG:5514\n",
      "Successfully reprojected to S-JTSK using EPSG:5514\n",
      "Current memory usage before zonal stats: 216.1 MB\n",
      "Sampling 5 polygons from 117 total\n",
      "  Extracted 2000 values from polygon 28\n",
      "  Extracted 2000 values from polygon 51\n",
      "  Extracted 2000 values from polygon 98\n",
      "  Extracted 2000 values from polygon 15\n",
      "  Extracted 2000 values from polygon 10\n"
     ]
    },
    {
     "name": "stderr",
     "output_type": "stream",
     "text": [
      "Rasters for baresoil:  44%|██████████████████████████▌                                 | 19/43 [00:05<00:07,  3.10it/s]"
     ]
    },
    {
     "name": "stdout",
     "output_type": "stream",
     "text": [
      "Successfully extracted 10000 sampled values. Memory: 234.9 MB\n",
      "Starting extraction. Memory usage: 215.9 MB\n",
      "Processing Baresoil.shp with CHM_uav23.tif\n",
      "Detected S-JTSK Krovak CRS. Manually setting target CRS to EPSG:5514\n",
      "Successfully reprojected to S-JTSK using EPSG:5514\n",
      "Current memory usage before zonal stats: 215.9 MB\n",
      "Sampling 5 polygons from 117 total\n",
      "  Extracted 2000 values from polygon 48\n",
      "  Extracted 2000 values from polygon 111\n",
      "  Extracted 2000 values from polygon 79\n",
      "  Extracted 2000 values from polygon 67\n",
      "  Extracted 2000 values from polygon 12\n",
      "Successfully extracted 10000 sampled values. Memory: 217.4 MB\n"
     ]
    },
    {
     "name": "stderr",
     "output_type": "stream",
     "text": [
      "Rasters for baresoil:  49%|█████████████████████████████▎                              | 21/43 [00:06<00:05,  3.79it/s]"
     ]
    },
    {
     "name": "stdout",
     "output_type": "stream",
     "text": [
      "Starting extraction. Memory usage: 217.5 MB\n",
      "Processing Baresoil.shp with CHM_uav24.tif\n",
      "Detected S-JTSK Krovak CRS. Manually setting target CRS to EPSG:5514\n",
      "Successfully reprojected to S-JTSK using EPSG:5514\n",
      "Current memory usage before zonal stats: 217.5 MB\n",
      "Sampling 5 polygons from 117 total\n",
      "  Extracted 2000 values from polygon 32\n",
      "  Extracted 2000 values from polygon 43\n",
      "  Extracted 2000 values from polygon 98\n",
      "  Extracted 2000 values from polygon 7\n",
      "  Extracted 2000 values from polygon 40\n",
      "Successfully extracted 10000 sampled values. Memory: 217.9 MB\n",
      "Starting extraction. Memory usage: 218.0 MB\n",
      "Processing Baresoil.shp with CHM_uav25.tif\n",
      "Detected S-JTSK Krovak CRS. Manually setting target CRS to EPSG:5514\n",
      "Successfully reprojected to S-JTSK using EPSG:5514\n",
      "Current memory usage before zonal stats: 218.0 MB\n",
      "Sampling 5 polygons from 117 total\n",
      "  Extracted 2000 values from polygon 62\n",
      "  Extracted 2000 values from polygon 26\n",
      "  Extracted 2000 values from polygon 3\n",
      "  Extracted 2000 values from polygon 106\n",
      "  Extracted 2000 values from polygon 91\n",
      "Successfully extracted 10000 sampled values. Memory: 217.0 MB\n"
     ]
    },
    {
     "name": "stderr",
     "output_type": "stream",
     "text": [
      "Rasters for baresoil:  53%|████████████████████████████████                            | 23/43 [00:06<00:04,  4.25it/s]"
     ]
    },
    {
     "name": "stdout",
     "output_type": "stream",
     "text": [
      "Starting extraction. Memory usage: 217.1 MB\n",
      "Processing Baresoil.shp with CHM_uav26.tif\n",
      "Detected S-JTSK Krovak CRS. Manually setting target CRS to EPSG:5514\n",
      "Successfully reprojected to S-JTSK using EPSG:5514\n",
      "Current memory usage before zonal stats: 217.1 MB\n",
      "Sampling 5 polygons from 117 total\n",
      "  Extracted 2000 values from polygon 95\n",
      "  Extracted 2000 values from polygon 93\n",
      "  Extracted 2000 values from polygon 98\n",
      "  Extracted 2000 values from polygon 23\n",
      "  Extracted 2000 values from polygon 58\n",
      "Successfully extracted 10000 sampled values. Memory: 220.1 MB\n",
      "Starting extraction. Memory usage: 220.2 MB\n",
      "Processing Baresoil.shp with CHM_uav27.tif\n",
      "Detected S-JTSK Krovak CRS. Manually setting target CRS to EPSG:5514\n",
      "Successfully reprojected to S-JTSK using EPSG:5514\n",
      "Current memory usage before zonal stats: 220.2 MB\n",
      "Sampling 5 polygons from 117 total\n",
      "  Extracted 2000 values from polygon 77\n",
      "  Extracted 2000 values from polygon 9\n",
      "  Extracted 2000 values from polygon 54\n",
      "  Extracted 2000 values from polygon 30\n",
      "  Extracted 2000 values from polygon 15\n",
      "Successfully extracted 10000 sampled values. Memory: 220.2 MB\n"
     ]
    },
    {
     "name": "stderr",
     "output_type": "stream",
     "text": [
      "Rasters for baresoil:  56%|█████████████████████████████████▍                          | 24/43 [00:07<00:04,  4.38it/s]"
     ]
    },
    {
     "name": "stdout",
     "output_type": "stream",
     "text": [
      "Starting extraction. Memory usage: 220.3 MB\n",
      "Processing Baresoil.shp with CHM_uav28.tif\n",
      "Detected S-JTSK Krovak CRS. Manually setting target CRS to EPSG:5514\n",
      "Successfully reprojected to S-JTSK using EPSG:5514\n",
      "Current memory usage before zonal stats: 220.3 MB\n",
      "Sampling 5 polygons from 117 total\n",
      "  Extracted 2000 values from polygon 24\n",
      "  Extracted 2000 values from polygon 29\n",
      "  Extracted 2000 values from polygon 13\n",
      "  Extracted 2000 values from polygon 12\n",
      "  Extracted 2000 values from polygon 25\n",
      "Successfully extracted 10000 sampled values. Memory: 220.3 MB\n"
     ]
    },
    {
     "name": "stderr",
     "output_type": "stream",
     "text": [
      "Rasters for baresoil:  58%|██████████████████████████████████▉                         | 25/43 [00:07<00:04,  4.48it/s]"
     ]
    },
    {
     "name": "stdout",
     "output_type": "stream",
     "text": [
      "Starting extraction. Memory usage: 220.4 MB\n",
      "Processing Baresoil.shp with CHM_uav29.tif\n",
      "Detected S-JTSK Krovak CRS. Manually setting target CRS to EPSG:5514\n",
      "Successfully reprojected to S-JTSK using EPSG:5514\n",
      "Current memory usage before zonal stats: 220.4 MB\n",
      "Sampling 5 polygons from 117 total\n",
      "  Extracted 2000 values from polygon 46\n",
      "  Extracted 2000 values from polygon 16\n",
      "  Extracted 2000 values from polygon 111\n",
      "  Extracted 2000 values from polygon 56\n",
      "  Extracted 2000 values from polygon 64\n",
      "Successfully extracted 10000 sampled values. Memory: 220.4 MB\n"
     ]
    },
    {
     "name": "stderr",
     "output_type": "stream",
     "text": [
      "Rasters for baresoil:  60%|████████████████████████████████████▎                       | 26/43 [00:07<00:03,  4.60it/s]"
     ]
    },
    {
     "name": "stdout",
     "output_type": "stream",
     "text": [
      "Starting extraction. Memory usage: 220.4 MB\n",
      "Processing Baresoil.shp with CHM_uav30.tif\n",
      "Detected S-JTSK Krovak CRS. Manually setting target CRS to EPSG:5514\n",
      "Successfully reprojected to S-JTSK using EPSG:5514\n",
      "Current memory usage before zonal stats: 220.4 MB\n",
      "Sampling 5 polygons from 117 total\n",
      "  Extracted 2000 values from polygon 39\n",
      "  Extracted 2000 values from polygon 76\n",
      "  Extracted 2000 values from polygon 19\n",
      "  Extracted 2000 values from polygon 15\n",
      "  Extracted 2000 values from polygon 44\n",
      "Successfully extracted 10000 sampled values. Memory: 220.4 MB\n"
     ]
    },
    {
     "name": "stderr",
     "output_type": "stream",
     "text": [
      "Rasters for baresoil:  63%|█████████████████████████████████████▋                      | 27/43 [00:07<00:03,  4.68it/s]"
     ]
    },
    {
     "name": "stdout",
     "output_type": "stream",
     "text": [
      "Starting extraction. Memory usage: 220.5 MB\n",
      "Processing Baresoil.shp with CHM_uav31.tif\n",
      "Detected S-JTSK Krovak CRS. Manually setting target CRS to EPSG:5514\n",
      "Successfully reprojected to S-JTSK using EPSG:5514\n",
      "Current memory usage before zonal stats: 220.5 MB\n",
      "Sampling 5 polygons from 117 total\n",
      "  Extracted 2000 values from polygon 0\n",
      "  Extracted 2000 values from polygon 107\n",
      "  Extracted 2000 values from polygon 12\n",
      "  Extracted 2000 values from polygon 79\n",
      "  Extracted 2000 values from polygon 111\n",
      "Successfully extracted 10000 sampled values. Memory: 218.0 MB\n"
     ]
    },
    {
     "name": "stderr",
     "output_type": "stream",
     "text": [
      "Rasters for baresoil:  67%|████████████████████████████████████████▍                   | 29/43 [00:08<00:02,  4.76it/s]"
     ]
    },
    {
     "name": "stdout",
     "output_type": "stream",
     "text": [
      "Starting extraction. Memory usage: 218.0 MB\n",
      "Processing Baresoil.shp with CHM_uav32.tif\n",
      "Detected S-JTSK Krovak CRS. Manually setting target CRS to EPSG:5514\n",
      "Successfully reprojected to S-JTSK using EPSG:5514\n",
      "Current memory usage before zonal stats: 218.1 MB\n",
      "Sampling 5 polygons from 117 total\n",
      "  Extracted 2000 values from polygon 46\n",
      "  Extracted 2000 values from polygon 6\n",
      "  Extracted 2000 values from polygon 81\n",
      "  Extracted 2000 values from polygon 39\n",
      "  Extracted 2000 values from polygon 63\n",
      "Successfully extracted 10000 sampled values. Memory: 218.4 MB\n",
      "Starting extraction. Memory usage: 218.5 MB\n",
      "Processing Baresoil.shp with CHM_uav33.tif\n",
      "Detected S-JTSK Krovak CRS. Manually setting target CRS to EPSG:5514\n",
      "Successfully reprojected to S-JTSK using EPSG:5514\n",
      "Current memory usage before zonal stats: 218.5 MB\n",
      "Sampling 5 polygons from 117 total\n",
      "  Extracted 2000 values from polygon 45\n",
      "  Extracted 400 values from polygon 72\n",
      "  Extracted 2000 values from polygon 17\n",
      "  Extracted 2000 values from polygon 40\n",
      "  Extracted 2000 values from polygon 35\n"
     ]
    },
    {
     "name": "stderr",
     "output_type": "stream",
     "text": [
      "Rasters for baresoil:  70%|█████████████████████████████████████████▊                  | 30/43 [00:08<00:02,  4.67it/s]"
     ]
    },
    {
     "name": "stdout",
     "output_type": "stream",
     "text": [
      "Successfully extracted 8400 sampled values. Memory: 221.2 MB\n",
      "Starting extraction. Memory usage: 221.2 MB\n",
      "Processing Baresoil.shp with CHM_uav34.tif\n",
      "Detected S-JTSK Krovak CRS. Manually setting target CRS to EPSG:5514\n",
      "Successfully reprojected to S-JTSK using EPSG:5514\n",
      "Current memory usage before zonal stats: 221.2 MB\n",
      "Sampling 5 polygons from 117 total\n",
      "  Extracted 2000 values from polygon 89\n",
      "  Extracted 2000 values from polygon 2\n",
      "  Extracted 2000 values from polygon 51\n",
      "  Extracted 2000 values from polygon 50\n",
      "  Extracted 2000 values from polygon 52\n",
      "Successfully extracted 10000 sampled values. Memory: 221.2 MB\n"
     ]
    },
    {
     "name": "stderr",
     "output_type": "stream",
     "text": [
      "Rasters for baresoil:  72%|███████████████████████████████████████████▎                | 31/43 [00:08<00:02,  4.72it/s]"
     ]
    },
    {
     "name": "stdout",
     "output_type": "stream",
     "text": [
      "Starting extraction. Memory usage: 221.4 MB\n",
      "Processing Baresoil.shp with CHM_uav35.tif\n",
      "Detected S-JTSK Krovak CRS. Manually setting target CRS to EPSG:5514\n",
      "Successfully reprojected to S-JTSK using EPSG:5514\n",
      "Current memory usage before zonal stats: 221.4 MB\n",
      "Sampling 5 polygons from 117 total\n",
      "  Extracted 2000 values from polygon 34\n",
      "  Extracted 2000 values from polygon 96\n",
      "  Extracted 2000 values from polygon 95\n",
      "  Extracted 2000 values from polygon 20\n"
     ]
    },
    {
     "name": "stderr",
     "output_type": "stream",
     "text": [
      "Rasters for baresoil:  74%|████████████████████████████████████████████▋               | 32/43 [00:08<00:02,  4.46it/s]"
     ]
    },
    {
     "name": "stdout",
     "output_type": "stream",
     "text": [
      "  Extracted 2000 values from polygon 5\n",
      "Successfully extracted 10000 sampled values. Memory: 234.3 MB\n",
      "Starting extraction. Memory usage: 223.6 MB\n",
      "Processing Baresoil.shp with CHM_uav36.tif\n",
      "Detected S-JTSK Krovak CRS. Manually setting target CRS to EPSG:5514\n",
      "Successfully reprojected to S-JTSK using EPSG:5514\n",
      "Current memory usage before zonal stats: 223.6 MB\n",
      "Sampling 5 polygons from 117 total\n",
      "  Extracted 2000 values from polygon 95\n",
      "  Extracted 2000 values from polygon 14\n",
      "  Extracted 2000 values from polygon 81\n",
      "  Extracted 2000 values from polygon 25\n",
      "  Extracted 2000 values from polygon 105\n",
      "Successfully extracted 10000 sampled values. Memory: 308.6 MB\n"
     ]
    },
    {
     "name": "stderr",
     "output_type": "stream",
     "text": [
      "Rasters for baresoil:  77%|██████████████████████████████████████████████              | 33/43 [00:09<00:02,  3.56it/s]"
     ]
    },
    {
     "name": "stdout",
     "output_type": "stream",
     "text": [
      "Starting extraction. Memory usage: 217.2 MB\n",
      "Processing Baresoil.shp with CHM_uav37.tif\n",
      "Detected S-JTSK Krovak CRS. Manually setting target CRS to EPSG:5514\n",
      "Successfully reprojected to S-JTSK using EPSG:5514\n",
      "Current memory usage before zonal stats: 217.2 MB\n",
      "Sampling 5 polygons from 117 total\n",
      "  Extracted 2000 values from polygon 57\n",
      "  Extracted 2000 values from polygon 55\n",
      "  Extracted 2000 values from polygon 5\n",
      "  Extracted 2000 values from polygon 35\n"
     ]
    },
    {
     "name": "stderr",
     "output_type": "stream",
     "text": [
      "Rasters for baresoil:  79%|███████████████████████████████████████████████▍            | 34/43 [00:09<00:02,  3.63it/s]"
     ]
    },
    {
     "name": "stdout",
     "output_type": "stream",
     "text": [
      "  Extracted 2000 values from polygon 56\n",
      "Successfully extracted 10000 sampled values. Memory: 223.3 MB\n",
      "Starting extraction. Memory usage: 217.2 MB\n",
      "Processing Baresoil.shp with CHM_uav38.tif\n",
      "Detected S-JTSK Krovak CRS. Manually setting target CRS to EPSG:5514\n",
      "Successfully reprojected to S-JTSK using EPSG:5514\n",
      "Current memory usage before zonal stats: 217.3 MB\n",
      "Sampling 5 polygons from 117 total\n",
      "  Extracted 2000 values from polygon 19\n",
      "  Extracted 2000 values from polygon 55\n",
      "  Extracted 2000 values from polygon 58\n"
     ]
    },
    {
     "name": "stderr",
     "output_type": "stream",
     "text": [
      "Rasters for baresoil:  81%|████████████████████████████████████████████████▊           | 35/43 [00:09<00:02,  3.61it/s]"
     ]
    },
    {
     "name": "stdout",
     "output_type": "stream",
     "text": [
      "  Extracted 2000 values from polygon 84\n",
      "  Extracted 2000 values from polygon 79\n",
      "Successfully extracted 10000 sampled values. Memory: 227.5 MB\n",
      "Starting extraction. Memory usage: 220.8 MB\n",
      "Processing Baresoil.shp with CHM_uav39.tif\n",
      "Detected S-JTSK Krovak CRS. Manually setting target CRS to EPSG:5514\n",
      "Successfully reprojected to S-JTSK using EPSG:5514\n",
      "Current memory usage before zonal stats: 220.8 MB\n",
      "Sampling 5 polygons from 117 total\n",
      "  Extracted 2000 values from polygon 6\n",
      "  Extracted 2000 values from polygon 58\n"
     ]
    },
    {
     "name": "stderr",
     "output_type": "stream",
     "text": [
      "Rasters for baresoil:  84%|██████████████████████████████████████████████████▏         | 36/43 [00:09<00:01,  3.64it/s]"
     ]
    },
    {
     "name": "stdout",
     "output_type": "stream",
     "text": [
      "  Extracted 2000 values from polygon 104\n",
      "  Extracted 2000 values from polygon 97\n",
      "  Extracted 2000 values from polygon 88\n",
      "Successfully extracted 10000 sampled values. Memory: 228.2 MB\n",
      "Starting extraction. Memory usage: 220.4 MB\n",
      "Processing Baresoil.shp with CHM_uav40.tif\n",
      "Detected S-JTSK Krovak CRS. Manually setting target CRS to EPSG:5514\n",
      "Successfully reprojected to S-JTSK using EPSG:5514\n",
      "Current memory usage before zonal stats: 220.5 MB\n",
      "Sampling 5 polygons from 117 total\n",
      "  Extracted 2000 values from polygon 36\n",
      "  Extracted 2000 values from polygon 55\n",
      "  Extracted 2000 values from polygon 28\n",
      "  Extracted 2000 values from polygon 97\n"
     ]
    },
    {
     "name": "stderr",
     "output_type": "stream",
     "text": [
      "Rasters for baresoil:  86%|███████████████████████████████████████████████████▋        | 37/43 [00:10<00:01,  3.39it/s]"
     ]
    },
    {
     "name": "stdout",
     "output_type": "stream",
     "text": [
      "  Extracted 2000 values from polygon 17\n",
      "Successfully extracted 10000 sampled values. Memory: 240.6 MB\n",
      "Starting extraction. Memory usage: 223.5 MB\n",
      "Processing Baresoil.shp with CHM_uav41.tif\n",
      "Detected S-JTSK Krovak CRS. Manually setting target CRS to EPSG:5514\n",
      "Successfully reprojected to S-JTSK using EPSG:5514\n",
      "Current memory usage before zonal stats: 223.5 MB\n",
      "Sampling 5 polygons from 117 total\n",
      "  Extracted 2000 values from polygon 22\n",
      "  Extracted 2000 values from polygon 76\n",
      "  Extracted 2000 values from polygon 100\n"
     ]
    },
    {
     "name": "stderr",
     "output_type": "stream",
     "text": [
      "Rasters for baresoil:  88%|█████████████████████████████████████████████████████       | 38/43 [00:10<00:01,  3.36it/s]"
     ]
    },
    {
     "name": "stdout",
     "output_type": "stream",
     "text": [
      "  Extracted 2000 values from polygon 25\n",
      "  Extracted 2000 values from polygon 88\n",
      "Successfully extracted 10000 sampled values. Memory: 237.3 MB\n",
      "Starting extraction. Memory usage: 218.2 MB\n",
      "Processing Baresoil.shp with CHM_uav42.tif\n",
      "Detected S-JTSK Krovak CRS. Manually setting target CRS to EPSG:5514\n",
      "Successfully reprojected to S-JTSK using EPSG:5514\n",
      "Current memory usage before zonal stats: 218.3 MB\n",
      "Sampling 5 polygons from 117 total\n",
      "  Extracted 2000 values from polygon 35\n",
      "  Extracted 2000 values from polygon 76\n",
      "  Extracted 2000 values from polygon 86\n",
      "  Extracted 2000 values from polygon 36\n",
      "  Extracted 2000 values from polygon 69\n",
      "Successfully extracted 10000 sampled values. Memory: 221.3 MB\n"
     ]
    },
    {
     "name": "stderr",
     "output_type": "stream",
     "text": [
      "Rasters for baresoil:  91%|██████████████████████████████████████████████████████▍     | 39/43 [00:11<00:01,  3.03it/s]"
     ]
    },
    {
     "name": "stdout",
     "output_type": "stream",
     "text": [
      "Starting extraction. Memory usage: 221.4 MB\n",
      "Processing Baresoil.shp with CHM_uav43.tif\n",
      "Detected S-JTSK Krovak CRS. Manually setting target CRS to EPSG:5514\n",
      "Successfully reprojected to S-JTSK using EPSG:5514\n",
      "Current memory usage before zonal stats: 221.4 MB\n",
      "Sampling 5 polygons from 117 total\n",
      "  Extracted 2000 values from polygon 49\n",
      "  Extracted 2000 values from polygon 27\n",
      "  Extracted 2000 values from polygon 2\n",
      "  Extracted 2000 values from polygon 56\n"
     ]
    },
    {
     "name": "stderr",
     "output_type": "stream",
     "text": [
      "Rasters for baresoil:  93%|███████████████████████████████████████████████████████▊    | 40/43 [00:11<00:00,  3.22it/s]"
     ]
    },
    {
     "name": "stdout",
     "output_type": "stream",
     "text": [
      "  Extracted 2000 values from polygon 24\n",
      "Successfully extracted 10000 sampled values. Memory: 226.5 MB\n",
      "Starting extraction. Memory usage: 222.9 MB\n",
      "Processing Baresoil.shp with CHM_uav44.tif\n",
      "Detected S-JTSK Krovak CRS. Manually setting target CRS to EPSG:5514\n",
      "Successfully reprojected to S-JTSK using EPSG:5514\n",
      "Current memory usage before zonal stats: 222.9 MB\n",
      "Sampling 5 polygons from 117 total\n",
      "  Extracted 2000 values from polygon 28\n",
      "  Extracted 2000 values from polygon 99\n",
      "  Extracted 2000 values from polygon 77\n",
      "  Extracted 2000 values from polygon 49\n",
      "  Extracted 2000 values from polygon 109\n",
      "Successfully extracted 10000 sampled values. Memory: 317.0 MB\n"
     ]
    },
    {
     "name": "stderr",
     "output_type": "stream",
     "text": [
      "Rasters for baresoil:  95%|█████████████████████████████████████████████████████████▏  | 41/43 [00:11<00:00,  3.01it/s]"
     ]
    },
    {
     "name": "stdout",
     "output_type": "stream",
     "text": [
      "Starting extraction. Memory usage: 217.8 MB\n",
      "Processing Baresoil.shp with CHM_uav45.tif\n",
      "Detected S-JTSK Krovak CRS. Manually setting target CRS to EPSG:5514\n",
      "Successfully reprojected to S-JTSK using EPSG:5514\n",
      "Current memory usage before zonal stats: 217.9 MB\n",
      "Sampling 5 polygons from 117 total\n",
      "  Extracted 2000 values from polygon 81\n",
      "  Extracted 2000 values from polygon 15\n",
      "  Extracted 2000 values from polygon 73\n",
      "  Extracted 2000 values from polygon 13\n",
      "  Extracted 2000 values from polygon 58\n",
      "Successfully extracted 10000 sampled values. Memory: 224.0 MB\n"
     ]
    },
    {
     "name": "stderr",
     "output_type": "stream",
     "text": [
      "Rasters for baresoil:  98%|██████████████████████████████████████████████████████████▌ | 42/43 [00:11<00:00,  3.32it/s]"
     ]
    },
    {
     "name": "stdout",
     "output_type": "stream",
     "text": [
      "Starting extraction. Memory usage: 224.1 MB\n",
      "Processing Baresoil.shp with CHM_uav46.tif\n",
      "Detected S-JTSK Krovak CRS. Manually setting target CRS to EPSG:5514\n",
      "Successfully reprojected to S-JTSK using EPSG:5514\n",
      "Current memory usage before zonal stats: 224.1 MB\n",
      "Sampling 5 polygons from 117 total\n",
      "  Extracted 2000 values from polygon 111\n",
      "  Extracted 2000 values from polygon 14\n",
      "  Extracted 2000 values from polygon 25\n"
     ]
    },
    {
     "name": "stderr",
     "output_type": "stream",
     "text": [
      "Rasters for baresoil: 100%|████████████████████████████████████████████████████████████| 43/43 [00:12<00:00,  3.49it/s]\n"
     ]
    },
    {
     "name": "stdout",
     "output_type": "stream",
     "text": [
      "  Extracted 2000 values from polygon 36\n",
      "  Extracted 2000 values from polygon 110\n",
      "Successfully extracted 10000 sampled values. Memory: 254.7 MB\n",
      "Collected 428400 pixel values for baresoil\n",
      "\n",
      "Processing early_regrowth...\n"
     ]
    },
    {
     "name": "stderr",
     "output_type": "stream",
     "text": [
      "Rasters for early_regrowth:   0%|                                                               | 0/43 [00:00<?, ?it/s]"
     ]
    },
    {
     "name": "stdout",
     "output_type": "stream",
     "text": [
      "Starting extraction. Memory usage: 224.4 MB\n",
      "Processing Early_regrowth.shp with CHM_uav47.tif\n",
      "Detected S-JTSK Krovak CRS. Manually setting target CRS to EPSG:5514\n",
      "Successfully reprojected to S-JTSK using EPSG:5514\n",
      "Current memory usage before zonal stats: 224.4 MB\n",
      "Sampling 5 polygons from 288 total\n",
      "  Extracted 2000 values from polygon 65\n",
      "  Extracted 2000 values from polygon 1\n",
      "  Extracted 2000 values from polygon 213\n",
      "  Extracted 2000 values from polygon 116\n",
      "  Extracted 2000 values from polygon 252\n"
     ]
    },
    {
     "name": "stderr",
     "output_type": "stream",
     "text": [
      "Rasters for early_regrowth:   2%|█▎                                                     | 1/43 [00:00<00:16,  2.59it/s]"
     ]
    },
    {
     "name": "stdout",
     "output_type": "stream",
     "text": [
      "Successfully extracted 10000 sampled values. Memory: 293.1 MB\n",
      "Starting extraction. Memory usage: 224.4 MB\n",
      "Processing Early_regrowth.shp with CHM_uav1.tif\n",
      "Detected S-JTSK Krovak CRS. Manually setting target CRS to EPSG:5514\n",
      "Successfully reprojected to S-JTSK using EPSG:5514\n",
      "Current memory usage before zonal stats: 224.4 MB\n",
      "Sampling 5 polygons from 288 total\n",
      "  Extracted 2000 values from polygon 9\n",
      "  Extracted 2000 values from polygon 128\n",
      "  Extracted 2000 values from polygon 217\n",
      "  Extracted 2000 values from polygon 106\n",
      "  Extracted 2000 values from polygon 137\n",
      "Successfully extracted 10000 sampled values. Memory: 235.1 MB\n"
     ]
    },
    {
     "name": "stderr",
     "output_type": "stream",
     "text": [
      "Rasters for early_regrowth:   5%|██▌                                                    | 2/43 [00:00<00:15,  2.65it/s]"
     ]
    },
    {
     "name": "stdout",
     "output_type": "stream",
     "text": [
      "Starting extraction. Memory usage: 218.4 MB\n",
      "Processing Early_regrowth.shp with CHM_uav2.tif\n",
      "Detected S-JTSK Krovak CRS. Manually setting target CRS to EPSG:5514\n",
      "Successfully reprojected to S-JTSK using EPSG:5514\n",
      "Current memory usage before zonal stats: 218.4 MB\n",
      "Sampling 5 polygons from 288 total\n",
      "  Extracted 2000 values from polygon 82\n",
      "  Extracted 2000 values from polygon 224\n",
      "  Extracted 2000 values from polygon 106\n",
      "  Extracted 2000 values from polygon 266\n"
     ]
    },
    {
     "name": "stderr",
     "output_type": "stream",
     "text": [
      "Rasters for early_regrowth:   7%|███▊                                                   | 3/43 [00:01<00:14,  2.80it/s]"
     ]
    },
    {
     "name": "stdout",
     "output_type": "stream",
     "text": [
      "  Extracted 2000 values from polygon 83\n",
      "Successfully extracted 10000 sampled values. Memory: 242.2 MB\n",
      "Starting extraction. Memory usage: 218.6 MB\n",
      "Processing Early_regrowth.shp with CHM_uav3.tif\n",
      "Detected S-JTSK Krovak CRS. Manually setting target CRS to EPSG:5514\n",
      "Successfully reprojected to S-JTSK using EPSG:5514\n",
      "Current memory usage before zonal stats: 218.7 MB\n",
      "Sampling 5 polygons from 288 total\n",
      "  Extracted 2000 values from polygon 180\n",
      "  Extracted 2000 values from polygon 127\n",
      "  Extracted 2000 values from polygon 255\n",
      "  Extracted 2000 values from polygon 74\n"
     ]
    },
    {
     "name": "stderr",
     "output_type": "stream",
     "text": [
      "Rasters for early_regrowth:   9%|█████                                                  | 4/43 [00:01<00:11,  3.27it/s]"
     ]
    },
    {
     "name": "stdout",
     "output_type": "stream",
     "text": [
      "  Extracted 2000 values from polygon 227\n",
      "Successfully extracted 10000 sampled values. Memory: 219.8 MB\n",
      "Starting extraction. Memory usage: 219.8 MB\n",
      "Processing Early_regrowth.shp with CHM_uav4.tif\n",
      "Detected S-JTSK Krovak CRS. Manually setting target CRS to EPSG:5514\n",
      "Successfully reprojected to S-JTSK using EPSG:5514\n",
      "Current memory usage before zonal stats: 219.8 MB\n",
      "Sampling 5 polygons from 288 total\n",
      "  Extracted 2000 values from polygon 225\n",
      "  Extracted 2000 values from polygon 75\n",
      "  Extracted 2000 values from polygon 131\n",
      "  Extracted 2000 values from polygon 245\n",
      "  Extracted 2000 values from polygon 28\n",
      "Successfully extracted 10000 sampled values. Memory: 228.2 MB\n"
     ]
    },
    {
     "name": "stderr",
     "output_type": "stream",
     "text": [
      "Rasters for early_regrowth:  12%|██████▍                                                | 5/43 [00:01<00:11,  3.19it/s]"
     ]
    },
    {
     "name": "stdout",
     "output_type": "stream",
     "text": [
      "Starting extraction. Memory usage: 224.4 MB\n",
      "Processing Early_regrowth.shp with CHM_uav5.tif\n",
      "Detected S-JTSK Krovak CRS. Manually setting target CRS to EPSG:5514\n",
      "Successfully reprojected to S-JTSK using EPSG:5514\n",
      "Current memory usage before zonal stats: 224.4 MB\n",
      "Sampling 5 polygons from 288 total\n",
      "  Extracted 2000 values from polygon 84\n",
      "  Extracted 2000 values from polygon 217\n",
      "  Extracted 2000 values from polygon 267\n",
      "  Extracted 2000 values from polygon 220\n"
     ]
    },
    {
     "name": "stderr",
     "output_type": "stream",
     "text": [
      "Rasters for early_regrowth:  14%|███████▋                                               | 6/43 [00:01<00:11,  3.32it/s]"
     ]
    },
    {
     "name": "stdout",
     "output_type": "stream",
     "text": [
      "  Extracted 2000 values from polygon 3\n",
      "Successfully extracted 10000 sampled values. Memory: 224.4 MB\n",
      "Starting extraction. Memory usage: 221.1 MB\n",
      "Processing Early_regrowth.shp with CHM_uav6.tif\n",
      "Detected S-JTSK Krovak CRS. Manually setting target CRS to EPSG:5514\n",
      "Successfully reprojected to S-JTSK using EPSG:5514\n",
      "Current memory usage before zonal stats: 221.3 MB\n",
      "Sampling 5 polygons from 288 total\n",
      "  Extracted 2000 values from polygon 218\n",
      "  Extracted 2000 values from polygon 100\n",
      "  Extracted 2000 values from polygon 153\n",
      "  Extracted 2000 values from polygon 216\n",
      "  Extracted 2000 values from polygon 56\n",
      "Successfully extracted 10000 sampled values. Memory: 239.0 MB\n"
     ]
    },
    {
     "name": "stderr",
     "output_type": "stream",
     "text": [
      "Rasters for early_regrowth:  16%|████████▉                                              | 7/43 [00:02<00:19,  1.89it/s]"
     ]
    },
    {
     "name": "stdout",
     "output_type": "stream",
     "text": [
      "Starting extraction. Memory usage: 223.7 MB\n",
      "Processing Early_regrowth.shp with CHM_uav7.tif\n",
      "Detected S-JTSK Krovak CRS. Manually setting target CRS to EPSG:5514\n",
      "Successfully reprojected to S-JTSK using EPSG:5514\n",
      "Current memory usage before zonal stats: 223.8 MB\n",
      "Sampling 5 polygons from 288 total\n",
      "  Extracted 2000 values from polygon 48\n",
      "  Extracted 2000 values from polygon 241\n",
      "  Extracted 2000 values from polygon 242\n",
      "  Extracted 2000 values from polygon 138\n",
      "  Extracted 2000 values from polygon 285\n",
      "Successfully extracted 10000 sampled values. Memory: 290.4 MB\n"
     ]
    },
    {
     "name": "stderr",
     "output_type": "stream",
     "text": [
      "Rasters for early_regrowth:  19%|██████████▏                                            | 8/43 [00:03<00:17,  1.95it/s]"
     ]
    },
    {
     "name": "stdout",
     "output_type": "stream",
     "text": [
      "Starting extraction. Memory usage: 224.4 MB\n",
      "Processing Early_regrowth.shp with CHM_uav12.tif\n",
      "Detected S-JTSK Krovak CRS. Manually setting target CRS to EPSG:5514\n",
      "Successfully reprojected to S-JTSK using EPSG:5514\n",
      "Current memory usage before zonal stats: 224.4 MB\n",
      "Sampling 5 polygons from 288 total\n",
      "  Extracted 2000 values from polygon 159\n",
      "  Extracted 2000 values from polygon 20\n"
     ]
    },
    {
     "name": "stderr",
     "output_type": "stream",
     "text": [
      "Rasters for early_regrowth:  21%|███████████▌                                           | 9/43 [00:03<00:15,  2.13it/s]"
     ]
    },
    {
     "name": "stdout",
     "output_type": "stream",
     "text": [
      "  Extracted 2000 values from polygon 240\n",
      "  Extracted 2000 values from polygon 61\n",
      "  Extracted 2000 values from polygon 193\n",
      "Successfully extracted 10000 sampled values. Memory: 236.8 MB\n",
      "Starting extraction. Memory usage: 220.6 MB\n",
      "Processing Early_regrowth.shp with CHM_uav13.tif\n",
      "Detected S-JTSK Krovak CRS. Manually setting target CRS to EPSG:5514\n",
      "Successfully reprojected to S-JTSK using EPSG:5514\n",
      "Current memory usage before zonal stats: 220.7 MB\n",
      "Sampling 5 polygons from 288 total\n",
      "  Extracted 2000 values from polygon 90\n",
      "  Extracted 2000 values from polygon 117\n",
      "  Extracted 2000 values from polygon 171\n"
     ]
    },
    {
     "name": "stderr",
     "output_type": "stream",
     "text": [
      "Rasters for early_regrowth:  23%|████████████▌                                         | 10/43 [00:04<00:19,  1.67it/s]"
     ]
    },
    {
     "name": "stdout",
     "output_type": "stream",
     "text": [
      "  Extracted 2000 values from polygon 205\n",
      "  Extracted 2000 values from polygon 101\n",
      "Successfully extracted 10000 sampled values. Memory: 224.8 MB\n",
      "Starting extraction. Memory usage: 224.8 MB\n",
      "Processing Early_regrowth.shp with CHM_uav14.tif\n",
      "Detected S-JTSK Krovak CRS. Manually setting target CRS to EPSG:5514\n",
      "Successfully reprojected to S-JTSK using EPSG:5514\n",
      "Current memory usage before zonal stats: 224.8 MB\n",
      "Sampling 5 polygons from 288 total\n",
      "  Extracted 2000 values from polygon 94\n",
      "  Extracted 2000 values from polygon 89\n",
      "  Extracted 2000 values from polygon 77\n",
      "  Extracted 2000 values from polygon 197\n"
     ]
    },
    {
     "name": "stderr",
     "output_type": "stream",
     "text": [
      "Rasters for early_regrowth:  26%|█████████████▊                                        | 11/43 [00:05<00:17,  1.81it/s]"
     ]
    },
    {
     "name": "stdout",
     "output_type": "stream",
     "text": [
      "  Extracted 2000 values from polygon 23\n",
      "Successfully extracted 10000 sampled values. Memory: 230.2 MB\n",
      "Starting extraction. Memory usage: 220.2 MB\n",
      "Processing Early_regrowth.shp with CHM_uav15.tif\n",
      "Detected S-JTSK Krovak CRS. Manually setting target CRS to EPSG:5514\n",
      "Successfully reprojected to S-JTSK using EPSG:5514\n",
      "Current memory usage before zonal stats: 220.4 MB\n",
      "Sampling 5 polygons from 288 total\n",
      "  Extracted 2000 values from polygon 120\n",
      "  Extracted 2000 values from polygon 81\n",
      "  Extracted 2000 values from polygon 231\n"
     ]
    },
    {
     "name": "stderr",
     "output_type": "stream",
     "text": [
      "Rasters for early_regrowth:  28%|███████████████                                       | 12/43 [00:05<00:17,  1.77it/s]"
     ]
    },
    {
     "name": "stdout",
     "output_type": "stream",
     "text": [
      "  Extracted 2000 values from polygon 263\n",
      "  Extracted 2000 values from polygon 11\n",
      "Successfully extracted 10000 sampled values. Memory: 231.5 MB\n",
      "Starting extraction. Memory usage: 226.5 MB\n",
      "Processing Early_regrowth.shp with CHM_uav16.tif\n",
      "Detected S-JTSK Krovak CRS. Manually setting target CRS to EPSG:5514\n",
      "Successfully reprojected to S-JTSK using EPSG:5514\n",
      "Current memory usage before zonal stats: 226.5 MB\n",
      "Sampling 5 polygons from 288 total\n",
      "  Extracted 2000 values from polygon 17\n",
      "  Extracted 2000 values from polygon 40\n",
      "  Extracted 2000 values from polygon 276\n",
      "  Extracted 2000 values from polygon 273\n",
      "  Extracted 2000 values from polygon 25\n",
      "Successfully extracted 10000 sampled values. Memory: 222.1 MB\n"
     ]
    },
    {
     "name": "stderr",
     "output_type": "stream",
     "text": [
      "Rasters for early_regrowth:  30%|████████████████▎                                     | 13/43 [00:06<00:14,  2.01it/s]"
     ]
    },
    {
     "name": "stdout",
     "output_type": "stream",
     "text": [
      "Starting extraction. Memory usage: 222.1 MB\n",
      "Processing Early_regrowth.shp with CHM_uav17.tif\n",
      "Detected S-JTSK Krovak CRS. Manually setting target CRS to EPSG:5514\n",
      "Successfully reprojected to S-JTSK using EPSG:5514\n",
      "Current memory usage before zonal stats: 222.1 MB\n",
      "Sampling 5 polygons from 288 total\n",
      "  Extracted 2000 values from polygon 231\n",
      "  Extracted 2000 values from polygon 44\n",
      "  Extracted 2000 values from polygon 185\n",
      "  Extracted 2000 values from polygon 155\n",
      "  Extracted 2000 values from polygon 243\n",
      "Successfully extracted 10000 sampled values. Memory: 273.8 MB\n"
     ]
    },
    {
     "name": "stderr",
     "output_type": "stream",
     "text": [
      "Rasters for early_regrowth:  33%|█████████████████▌                                    | 14/43 [00:06<00:17,  1.68it/s]"
     ]
    },
    {
     "name": "stdout",
     "output_type": "stream",
     "text": [
      "Starting extraction. Memory usage: 222.4 MB\n",
      "Processing Early_regrowth.shp with CHM_uav18.tif\n",
      "Detected S-JTSK Krovak CRS. Manually setting target CRS to EPSG:5514\n",
      "Successfully reprojected to S-JTSK using EPSG:5514\n",
      "Current memory usage before zonal stats: 222.4 MB\n",
      "Sampling 5 polygons from 288 total\n",
      "  Extracted 2000 values from polygon 246\n",
      "  Extracted 2000 values from polygon 226\n",
      "  Extracted 2000 values from polygon 98\n",
      "  Extracted 2000 values from polygon 167\n",
      "  Extracted 2000 values from polygon 128\n",
      "Successfully extracted 10000 sampled values. Memory: 281.1 MB\n"
     ]
    },
    {
     "name": "stderr",
     "output_type": "stream",
     "text": [
      "Rasters for early_regrowth:  35%|██████████████████▊                                   | 15/43 [00:07<00:15,  1.76it/s]"
     ]
    },
    {
     "name": "stdout",
     "output_type": "stream",
     "text": [
      "Starting extraction. Memory usage: 224.0 MB\n",
      "Processing Early_regrowth.shp with CHM_uav19.tif\n",
      "Detected S-JTSK Krovak CRS. Manually setting target CRS to EPSG:5514\n",
      "Successfully reprojected to S-JTSK using EPSG:5514\n",
      "Current memory usage before zonal stats: 224.0 MB\n",
      "Sampling 5 polygons from 288 total\n",
      "  Extracted 2000 values from polygon 279\n",
      "  Extracted 2000 values from polygon 170\n",
      "  Extracted 2000 values from polygon 191\n"
     ]
    },
    {
     "name": "stderr",
     "output_type": "stream",
     "text": [
      "Rasters for early_regrowth:  37%|████████████████████                                  | 16/43 [00:08<00:16,  1.63it/s]"
     ]
    },
    {
     "name": "stdout",
     "output_type": "stream",
     "text": [
      "  Extracted 2000 values from polygon 159\n",
      "  Extracted 2000 values from polygon 251\n",
      "Successfully extracted 10000 sampled values. Memory: 233.3 MB\n",
      "Starting extraction. Memory usage: 226.3 MB\n",
      "Processing Early_regrowth.shp with CHM_uav20.tif\n",
      "Detected S-JTSK Krovak CRS. Manually setting target CRS to EPSG:5514\n",
      "Successfully reprojected to S-JTSK using EPSG:5514\n",
      "Current memory usage before zonal stats: 226.3 MB\n",
      "Sampling 5 polygons from 288 total\n",
      "  Extracted 2000 values from polygon 138\n",
      "  Extracted 2000 values from polygon 96\n",
      "  Extracted 2000 values from polygon 189\n",
      "  Extracted 2000 values from polygon 47\n"
     ]
    },
    {
     "name": "stderr",
     "output_type": "stream",
     "text": [
      "Rasters for early_regrowth:  40%|█████████████████████▎                                | 17/43 [00:08<00:14,  1.77it/s]"
     ]
    },
    {
     "name": "stdout",
     "output_type": "stream",
     "text": [
      "  Extracted 2000 values from polygon 250\n",
      "Successfully extracted 10000 sampled values. Memory: 296.9 MB\n",
      "Starting extraction. Memory usage: 226.9 MB\n",
      "Processing Early_regrowth.shp with CHM_uav21.tif\n",
      "Detected S-JTSK Krovak CRS. Manually setting target CRS to EPSG:5514\n",
      "Successfully reprojected to S-JTSK using EPSG:5514\n",
      "Current memory usage before zonal stats: 227.0 MB\n",
      "Sampling 5 polygons from 288 total\n",
      "  Extracted 2000 values from polygon 132\n",
      "  Extracted 2000 values from polygon 8\n",
      "  Extracted 2000 values from polygon 103\n",
      "  Extracted 2000 values from polygon 194\n"
     ]
    },
    {
     "name": "stderr",
     "output_type": "stream",
     "text": [
      "Rasters for early_regrowth:  42%|██████████████████████▌                               | 18/43 [00:09<00:13,  1.81it/s]"
     ]
    },
    {
     "name": "stdout",
     "output_type": "stream",
     "text": [
      "  Extracted 2000 values from polygon 88\n",
      "Successfully extracted 10000 sampled values. Memory: 227.4 MB\n",
      "Starting extraction. Memory usage: 227.4 MB\n",
      "Processing Early_regrowth.shp with CHM_uav22.tif\n",
      "Detected S-JTSK Krovak CRS. Manually setting target CRS to EPSG:5514\n",
      "Successfully reprojected to S-JTSK using EPSG:5514\n",
      "Current memory usage before zonal stats: 227.4 MB\n",
      "Sampling 5 polygons from 288 total\n",
      "  Extracted 2000 values from polygon 61\n",
      "  Extracted 2000 values from polygon 14\n",
      "  Extracted 2000 values from polygon 150\n"
     ]
    },
    {
     "name": "stderr",
     "output_type": "stream",
     "text": [
      "Rasters for early_regrowth:  44%|███████████████████████▊                              | 19/43 [00:09<00:11,  2.10it/s]"
     ]
    },
    {
     "name": "stdout",
     "output_type": "stream",
     "text": [
      "  Extracted 2000 values from polygon 101\n",
      "  Extracted 2000 values from polygon 190\n",
      "Successfully extracted 10000 sampled values. Memory: 241.8 MB\n",
      "Starting extraction. Memory usage: 226.2 MB\n",
      "Processing Early_regrowth.shp with CHM_uav23.tif\n",
      "Detected S-JTSK Krovak CRS. Manually setting target CRS to EPSG:5514\n",
      "Successfully reprojected to S-JTSK using EPSG:5514\n",
      "Current memory usage before zonal stats: 226.3 MB\n",
      "Sampling 5 polygons from 288 total\n",
      "  Extracted 2000 values from polygon 286\n",
      "  Extracted 2000 values from polygon 77\n"
     ]
    },
    {
     "name": "stderr",
     "output_type": "stream",
     "text": [
      "Rasters for early_regrowth:  47%|█████████████████████████                             | 20/43 [00:09<00:09,  2.46it/s]"
     ]
    },
    {
     "name": "stdout",
     "output_type": "stream",
     "text": [
      "  Extracted 2000 values from polygon 8\n",
      "  Extracted 2000 values from polygon 14\n",
      "  Extracted 2000 values from polygon 19\n",
      "Successfully extracted 10000 sampled values. Memory: 225.8 MB\n",
      "Starting extraction. Memory usage: 225.9 MB\n",
      "Processing Early_regrowth.shp with CHM_uav24.tif\n",
      "Detected S-JTSK Krovak CRS. Manually setting target CRS to EPSG:5514\n",
      "Successfully reprojected to S-JTSK using EPSG:5514\n",
      "Current memory usage before zonal stats: 226.0 MB\n",
      "Sampling 5 polygons from 288 total\n",
      "  Extracted 2000 values from polygon 122\n",
      "  Extracted 2000 values from polygon 72\n"
     ]
    },
    {
     "name": "stderr",
     "output_type": "stream",
     "text": [
      "Rasters for early_regrowth:  49%|██████████████████████████▎                           | 21/43 [00:09<00:07,  2.83it/s]"
     ]
    },
    {
     "name": "stdout",
     "output_type": "stream",
     "text": [
      "  Extracted 2000 values from polygon 125\n",
      "  Extracted 2000 values from polygon 192\n",
      "  Extracted 2000 values from polygon 236\n",
      "Successfully extracted 10000 sampled values. Memory: 226.6 MB\n",
      "Starting extraction. Memory usage: 226.7 MB\n",
      "Processing Early_regrowth.shp with CHM_uav25.tif\n",
      "Detected S-JTSK Krovak CRS. Manually setting target CRS to EPSG:5514\n",
      "Successfully reprojected to S-JTSK using EPSG:5514\n",
      "Current memory usage before zonal stats: 226.7 MB\n",
      "Sampling 5 polygons from 288 total\n",
      "  Extracted 2000 values from polygon 162\n",
      "  Extracted 2000 values from polygon 17\n",
      "  Extracted 2000 values from polygon 83\n"
     ]
    },
    {
     "name": "stderr",
     "output_type": "stream",
     "text": [
      "Rasters for early_regrowth:  51%|███████████████████████████▋                          | 22/43 [00:10<00:06,  3.20it/s]"
     ]
    },
    {
     "name": "stdout",
     "output_type": "stream",
     "text": [
      "  Extracted 2000 values from polygon 4\n",
      "  Extracted 2000 values from polygon 230\n",
      "Successfully extracted 10000 sampled values. Memory: 230.7 MB\n",
      "Starting extraction. Memory usage: 222.8 MB\n",
      "Processing Early_regrowth.shp with CHM_uav26.tif\n",
      "Detected S-JTSK Krovak CRS. Manually setting target CRS to EPSG:5514\n",
      "Successfully reprojected to S-JTSK using EPSG:5514\n",
      "Current memory usage before zonal stats: 223.0 MB\n",
      "Sampling 5 polygons from 288 total\n",
      "  Extracted 378 values from polygon 55\n",
      "  Extracted 2000 values from polygon 95\n",
      "  Extracted 2000 values from polygon 197\n"
     ]
    },
    {
     "name": "stderr",
     "output_type": "stream",
     "text": [
      "Rasters for early_regrowth:  53%|████████████████████████████▉                         | 23/43 [00:10<00:05,  3.44it/s]"
     ]
    },
    {
     "name": "stdout",
     "output_type": "stream",
     "text": [
      "  Extracted 2000 values from polygon 279\n",
      "  Extracted 2000 values from polygon 156\n",
      "Successfully extracted 8378 sampled values. Memory: 229.0 MB\n",
      "Starting extraction. Memory usage: 223.1 MB\n",
      "Processing Early_regrowth.shp with CHM_uav27.tif\n",
      "Detected S-JTSK Krovak CRS. Manually setting target CRS to EPSG:5514\n",
      "Successfully reprojected to S-JTSK using EPSG:5514\n",
      "Current memory usage before zonal stats: 223.3 MB\n",
      "Sampling 5 polygons from 288 total\n",
      "  Extracted 2000 values from polygon 90\n",
      "  Extracted 2000 values from polygon 66\n",
      "  Extracted 2000 values from polygon 117\n"
     ]
    },
    {
     "name": "stderr",
     "output_type": "stream",
     "text": [
      "Rasters for early_regrowth:  56%|██████████████████████████████▏                       | 24/43 [00:10<00:05,  3.62it/s]"
     ]
    },
    {
     "name": "stdout",
     "output_type": "stream",
     "text": [
      "  Extracted 2000 values from polygon 266\n",
      "  Extracted 2000 values from polygon 221\n",
      "Successfully extracted 10000 sampled values. Memory: 233.5 MB\n",
      "Starting extraction. Memory usage: 228.1 MB\n",
      "Processing Early_regrowth.shp with CHM_uav28.tif\n",
      "Detected S-JTSK Krovak CRS. Manually setting target CRS to EPSG:5514\n",
      "Successfully reprojected to S-JTSK using EPSG:5514\n",
      "Current memory usage before zonal stats: 228.2 MB\n",
      "Sampling 5 polygons from 288 total\n",
      "  Extracted 2000 values from polygon 273\n",
      "  Extracted 2000 values from polygon 223\n",
      "  Extracted 2000 values from polygon 15\n"
     ]
    },
    {
     "name": "stderr",
     "output_type": "stream",
     "text": [
      "Rasters for early_regrowth:  58%|███████████████████████████████▍                      | 25/43 [00:10<00:04,  3.84it/s]"
     ]
    },
    {
     "name": "stdout",
     "output_type": "stream",
     "text": [
      "  Extracted 2000 values from polygon 227\n",
      "  Extracted 2000 values from polygon 80\n",
      "Successfully extracted 10000 sampled values. Memory: 228.8 MB\n",
      "Starting extraction. Memory usage: 228.8 MB\n",
      "Processing Early_regrowth.shp with CHM_uav29.tif\n",
      "Detected S-JTSK Krovak CRS. Manually setting target CRS to EPSG:5514\n",
      "Successfully reprojected to S-JTSK using EPSG:5514\n",
      "Current memory usage before zonal stats: 228.8 MB\n",
      "Sampling 5 polygons from 288 total\n",
      "  Extracted 2000 values from polygon 260\n",
      "  Extracted 2000 values from polygon 23\n",
      "  Extracted 2000 values from polygon 134\n"
     ]
    },
    {
     "name": "stderr",
     "output_type": "stream",
     "text": [
      "Rasters for early_regrowth:  60%|████████████████████████████████▋                     | 26/43 [00:11<00:04,  3.90it/s]"
     ]
    },
    {
     "name": "stdout",
     "output_type": "stream",
     "text": [
      "  Extracted 2000 values from polygon 141\n",
      "  Extracted 2000 values from polygon 232\n",
      "Successfully extracted 10000 sampled values. Memory: 228.2 MB\n",
      "Starting extraction. Memory usage: 224.5 MB\n",
      "Processing Early_regrowth.shp with CHM_uav30.tif\n",
      "Detected S-JTSK Krovak CRS. Manually setting target CRS to EPSG:5514\n",
      "Successfully reprojected to S-JTSK using EPSG:5514\n",
      "Current memory usage before zonal stats: 224.6 MB\n",
      "Sampling 5 polygons from 288 total\n",
      "  Extracted 2000 values from polygon 101\n",
      "  Extracted 2000 values from polygon 234\n",
      "  Extracted 2000 values from polygon 242\n"
     ]
    },
    {
     "name": "stderr",
     "output_type": "stream",
     "text": [
      "Rasters for early_regrowth:  63%|█████████████████████████████████▉                    | 27/43 [00:11<00:03,  4.03it/s]"
     ]
    },
    {
     "name": "stdout",
     "output_type": "stream",
     "text": [
      "  Extracted 2000 values from polygon 254\n",
      "  Extracted 2000 values from polygon 84\n",
      "Successfully extracted 10000 sampled values. Memory: 229.1 MB\n",
      "Starting extraction. Memory usage: 229.1 MB\n",
      "Processing Early_regrowth.shp with CHM_uav31.tif\n",
      "Detected S-JTSK Krovak CRS. Manually setting target CRS to EPSG:5514\n",
      "Successfully reprojected to S-JTSK using EPSG:5514\n",
      "Current memory usage before zonal stats: 229.1 MB\n",
      "Sampling 5 polygons from 288 total\n",
      "  Extracted 2000 values from polygon 284\n",
      "  Extracted 2000 values from polygon 194\n",
      "  Extracted 2000 values from polygon 174\n"
     ]
    },
    {
     "name": "stderr",
     "output_type": "stream",
     "text": [
      "Rasters for early_regrowth:  65%|███████████████████████████████████▏                  | 28/43 [00:11<00:03,  4.13it/s]"
     ]
    },
    {
     "name": "stdout",
     "output_type": "stream",
     "text": [
      "  Extracted 2000 values from polygon 24\n",
      "  Extracted 2000 values from polygon 257\n",
      "Successfully extracted 10000 sampled values. Memory: 233.8 MB\n",
      "Starting extraction. Memory usage: 229.4 MB\n",
      "Processing Early_regrowth.shp with CHM_uav32.tif\n",
      "Detected S-JTSK Krovak CRS. Manually setting target CRS to EPSG:5514\n",
      "Successfully reprojected to S-JTSK using EPSG:5514\n",
      "Current memory usage before zonal stats: 229.4 MB\n",
      "Sampling 5 polygons from 288 total\n",
      "  Extracted 2000 values from polygon 87\n",
      "  Extracted 2000 values from polygon 47\n",
      "  Extracted 2000 values from polygon 209\n"
     ]
    },
    {
     "name": "stderr",
     "output_type": "stream",
     "text": [
      "Rasters for early_regrowth:  67%|████████████████████████████████████▍                 | 29/43 [00:11<00:03,  4.28it/s]"
     ]
    },
    {
     "name": "stdout",
     "output_type": "stream",
     "text": [
      "  Extracted 2000 values from polygon 9\n",
      "  Extracted 2000 values from polygon 90\n",
      "Successfully extracted 10000 sampled values. Memory: 229.6 MB\n",
      "Starting extraction. Memory usage: 229.7 MB\n",
      "Processing Early_regrowth.shp with CHM_uav33.tif\n",
      "Detected S-JTSK Krovak CRS. Manually setting target CRS to EPSG:5514\n",
      "Successfully reprojected to S-JTSK using EPSG:5514\n",
      "Current memory usage before zonal stats: 229.7 MB\n",
      "Sampling 5 polygons from 288 total\n",
      "  Extracted 2000 values from polygon 30\n",
      "  Extracted 2000 values from polygon 156\n",
      "  Extracted 2000 values from polygon 74\n",
      "  Extracted 2000 values from polygon 218\n"
     ]
    },
    {
     "name": "stderr",
     "output_type": "stream",
     "text": [
      "Rasters for early_regrowth:  70%|█████████████████████████████████████▋                | 30/43 [00:11<00:02,  4.39it/s]"
     ]
    },
    {
     "name": "stdout",
     "output_type": "stream",
     "text": [
      "  Extracted 2000 values from polygon 214\n",
      "Successfully extracted 10000 sampled values. Memory: 229.8 MB\n",
      "Starting extraction. Memory usage: 230.0 MB\n",
      "Processing Early_regrowth.shp with CHM_uav34.tif\n",
      "Detected S-JTSK Krovak CRS. Manually setting target CRS to EPSG:5514\n",
      "Successfully reprojected to S-JTSK using EPSG:5514\n",
      "Current memory usage before zonal stats: 230.0 MB\n",
      "Sampling 5 polygons from 288 total\n",
      "  Extracted 2000 values from polygon 41\n",
      "  Extracted 2000 values from polygon 73\n",
      "  Extracted 2000 values from polygon 130\n",
      "  Extracted 2000 values from polygon 69\n"
     ]
    },
    {
     "name": "stderr",
     "output_type": "stream",
     "text": [
      "Rasters for early_regrowth:  72%|██████████████████████████████████████▉               | 31/43 [00:12<00:02,  4.33it/s]"
     ]
    },
    {
     "name": "stdout",
     "output_type": "stream",
     "text": [
      "  Extracted 2000 values from polygon 40\n",
      "Successfully extracted 10000 sampled values. Memory: 234.4 MB\n",
      "Starting extraction. Memory usage: 224.9 MB\n",
      "Processing Early_regrowth.shp with CHM_uav35.tif\n",
      "Detected S-JTSK Krovak CRS. Manually setting target CRS to EPSG:5514\n",
      "Successfully reprojected to S-JTSK using EPSG:5514\n",
      "Current memory usage before zonal stats: 225.0 MB\n",
      "Sampling 5 polygons from 288 total\n",
      "  Extracted 2000 values from polygon 193\n",
      "  Extracted 2000 values from polygon 8\n",
      "  Extracted 2000 values from polygon 76\n"
     ]
    },
    {
     "name": "stderr",
     "output_type": "stream",
     "text": [
      "Rasters for early_regrowth:  74%|████████████████████████████████████████▏             | 32/43 [00:12<00:02,  3.84it/s]"
     ]
    },
    {
     "name": "stdout",
     "output_type": "stream",
     "text": [
      "  Extracted 2000 values from polygon 168\n",
      "  Extracted 2000 values from polygon 176\n",
      "Successfully extracted 10000 sampled values. Memory: 236.5 MB\n",
      "Starting extraction. Memory usage: 229.7 MB\n",
      "Processing Early_regrowth.shp with CHM_uav36.tif\n",
      "Detected S-JTSK Krovak CRS. Manually setting target CRS to EPSG:5514\n",
      "Successfully reprojected to S-JTSK using EPSG:5514\n",
      "Current memory usage before zonal stats: 229.8 MB\n",
      "Sampling 5 polygons from 288 total\n",
      "  Extracted 2000 values from polygon 225\n",
      "  Extracted 2000 values from polygon 89\n",
      "  Extracted 2000 values from polygon 45\n",
      "  Extracted 2000 values from polygon 28\n",
      "  Extracted 2000 values from polygon 105\n",
      "Successfully extracted 10000 sampled values. Memory: 242.1 MB\n"
     ]
    },
    {
     "name": "stderr",
     "output_type": "stream",
     "text": [
      "Rasters for early_regrowth:  77%|█████████████████████████████████████████▍            | 33/43 [00:12<00:03,  3.32it/s]"
     ]
    },
    {
     "name": "stdout",
     "output_type": "stream",
     "text": [
      "Starting extraction. Memory usage: 231.8 MB\n",
      "Processing Early_regrowth.shp with CHM_uav37.tif\n",
      "Detected S-JTSK Krovak CRS. Manually setting target CRS to EPSG:5514\n",
      "Successfully reprojected to S-JTSK using EPSG:5514\n",
      "Current memory usage before zonal stats: 231.8 MB\n",
      "Sampling 5 polygons from 288 total\n",
      "  Extracted 2000 values from polygon 184\n",
      "  Extracted 2000 values from polygon 219\n",
      "  Extracted 2000 values from polygon 57\n",
      "  Extracted 2000 values from polygon 107\n"
     ]
    },
    {
     "name": "stderr",
     "output_type": "stream",
     "text": [
      "Rasters for early_regrowth:  79%|██████████████████████████████████████████▋           | 34/43 [00:13<00:03,  2.87it/s]"
     ]
    },
    {
     "name": "stdout",
     "output_type": "stream",
     "text": [
      "  Extracted 2000 values from polygon 280\n",
      "Successfully extracted 10000 sampled values. Memory: 284.7 MB\n",
      "Starting extraction. Memory usage: 232.7 MB\n",
      "Processing Early_regrowth.shp with CHM_uav38.tif\n",
      "Detected S-JTSK Krovak CRS. Manually setting target CRS to EPSG:5514\n",
      "Successfully reprojected to S-JTSK using EPSG:5514\n",
      "Current memory usage before zonal stats: 232.7 MB\n",
      "Sampling 5 polygons from 288 total\n",
      "  Extracted 2000 values from polygon 249\n",
      "  Extracted 2000 values from polygon 2\n",
      "  Extracted 2000 values from polygon 48\n"
     ]
    },
    {
     "name": "stderr",
     "output_type": "stream",
     "text": [
      "Rasters for early_regrowth:  81%|███████████████████████████████████████████▉          | 35/43 [00:14<00:04,  1.92it/s]"
     ]
    },
    {
     "name": "stdout",
     "output_type": "stream",
     "text": [
      "  Extracted 2000 values from polygon 221\n",
      "  Extracted 2000 values from polygon 11\n",
      "Successfully extracted 10000 sampled values. Memory: 240.5 MB\n",
      "Starting extraction. Memory usage: 229.6 MB\n",
      "Processing Early_regrowth.shp with CHM_uav39.tif\n",
      "Detected S-JTSK Krovak CRS. Manually setting target CRS to EPSG:5514\n",
      "Successfully reprojected to S-JTSK using EPSG:5514\n",
      "Current memory usage before zonal stats: 229.6 MB\n",
      "Sampling 5 polygons from 288 total\n",
      "  Extracted 2000 values from polygon 60\n",
      "  Extracted 2000 values from polygon 113\n",
      "  Extracted 2000 values from polygon 37\n",
      "  Extracted 2000 values from polygon 108\n",
      "  Extracted 2000 values from polygon 197\n"
     ]
    },
    {
     "name": "stderr",
     "output_type": "stream",
     "text": [
      "Rasters for early_regrowth:  84%|█████████████████████████████████████████████▏        | 36/43 [00:16<00:06,  1.07it/s]"
     ]
    },
    {
     "name": "stdout",
     "output_type": "stream",
     "text": [
      "Successfully extracted 10000 sampled values. Memory: 243.7 MB\n",
      "Starting extraction. Memory usage: 226.1 MB\n",
      "Processing Early_regrowth.shp with CHM_uav40.tif\n",
      "Detected S-JTSK Krovak CRS. Manually setting target CRS to EPSG:5514\n",
      "Successfully reprojected to S-JTSK using EPSG:5514\n",
      "Current memory usage before zonal stats: 226.2 MB\n",
      "Sampling 5 polygons from 288 total\n",
      "  Extracted 2000 values from polygon 245\n",
      "  Extracted 2000 values from polygon 117\n",
      "  Extracted 2000 values from polygon 25\n",
      "  Extracted 2000 values from polygon 70\n",
      "  Extracted 2000 values from polygon 266\n",
      "Successfully extracted 10000 sampled values. Memory: 236.9 MB\n"
     ]
    },
    {
     "name": "stderr",
     "output_type": "stream",
     "text": [
      "Rasters for early_regrowth:  86%|██████████████████████████████████████████████▍       | 37/43 [00:16<00:04,  1.27it/s]"
     ]
    },
    {
     "name": "stdout",
     "output_type": "stream",
     "text": [
      "Starting extraction. Memory usage: 229.2 MB\n",
      "Processing Early_regrowth.shp with CHM_uav41.tif\n",
      "Detected S-JTSK Krovak CRS. Manually setting target CRS to EPSG:5514\n",
      "Successfully reprojected to S-JTSK using EPSG:5514\n",
      "Current memory usage before zonal stats: 229.3 MB\n",
      "Sampling 5 polygons from 288 total\n",
      "  Extracted 2000 values from polygon 202\n",
      "  Extracted 2000 values from polygon 73\n",
      "  Extracted 2000 values from polygon 174\n"
     ]
    },
    {
     "name": "stderr",
     "output_type": "stream",
     "text": [
      "Rasters for early_regrowth:  88%|███████████████████████████████████████████████▋      | 38/43 [00:17<00:03,  1.45it/s]"
     ]
    },
    {
     "name": "stdout",
     "output_type": "stream",
     "text": [
      "  Extracted 2000 values from polygon 107\n",
      "  Extracted 2000 values from polygon 244\n",
      "Successfully extracted 10000 sampled values. Memory: 292.1 MB\n",
      "Starting extraction. Memory usage: 226.9 MB\n",
      "Processing Early_regrowth.shp with CHM_uav42.tif\n",
      "Detected S-JTSK Krovak CRS. Manually setting target CRS to EPSG:5514\n",
      "Successfully reprojected to S-JTSK using EPSG:5514\n",
      "Current memory usage before zonal stats: 227.0 MB\n",
      "Sampling 5 polygons from 288 total\n",
      "  Extracted 2000 values from polygon 36\n",
      "  Extracted 2000 values from polygon 170\n",
      "  Extracted 2000 values from polygon 73\n",
      "  Extracted 2000 values from polygon 267\n"
     ]
    },
    {
     "name": "stderr",
     "output_type": "stream",
     "text": [
      "Rasters for early_regrowth:  91%|████████████████████████████████████████████████▉     | 39/43 [00:17<00:02,  1.69it/s]"
     ]
    },
    {
     "name": "stdout",
     "output_type": "stream",
     "text": [
      "  Extracted 2000 values from polygon 208\n",
      "Successfully extracted 10000 sampled values. Memory: 274.1 MB\n",
      "Starting extraction. Memory usage: 226.8 MB\n",
      "Processing Early_regrowth.shp with CHM_uav43.tif\n",
      "Detected S-JTSK Krovak CRS. Manually setting target CRS to EPSG:5514\n",
      "Successfully reprojected to S-JTSK using EPSG:5514\n",
      "Current memory usage before zonal stats: 226.9 MB\n",
      "Sampling 5 polygons from 288 total\n",
      "  Extracted 2000 values from polygon 17\n",
      "  Extracted 2000 values from polygon 239\n",
      "  Extracted 2000 values from polygon 19\n",
      "  Extracted 2000 values from polygon 203\n"
     ]
    },
    {
     "name": "stderr",
     "output_type": "stream",
     "text": [
      "Rasters for early_regrowth:  93%|██████████████████████████████████████████████████▏   | 40/43 [00:17<00:01,  1.74it/s]"
     ]
    },
    {
     "name": "stdout",
     "output_type": "stream",
     "text": [
      "  Extracted 2000 values from polygon 276\n",
      "Successfully extracted 10000 sampled values. Memory: 378.6 MB\n",
      "Starting extraction. Memory usage: 230.2 MB\n",
      "Processing Early_regrowth.shp with CHM_uav44.tif\n",
      "Detected S-JTSK Krovak CRS. Manually setting target CRS to EPSG:5514\n",
      "Successfully reprojected to S-JTSK using EPSG:5514\n",
      "Current memory usage before zonal stats: 230.2 MB\n",
      "Sampling 5 polygons from 288 total\n",
      "  Extracted 2000 values from polygon 85\n",
      "  Extracted 2000 values from polygon 15\n",
      "  Extracted 2000 values from polygon 65\n"
     ]
    },
    {
     "name": "stderr",
     "output_type": "stream",
     "text": [
      "Rasters for early_regrowth:  95%|███████████████████████████████████████████████████▍  | 41/43 [00:18<00:01,  1.93it/s]"
     ]
    },
    {
     "name": "stdout",
     "output_type": "stream",
     "text": [
      "  Extracted 2000 values from polygon 261\n",
      "  Extracted 2000 values from polygon 64\n",
      "Successfully extracted 10000 sampled values. Memory: 265.8 MB\n",
      "Starting extraction. Memory usage: 227.6 MB\n",
      "Processing Early_regrowth.shp with CHM_uav45.tif\n",
      "Detected S-JTSK Krovak CRS. Manually setting target CRS to EPSG:5514\n",
      "Successfully reprojected to S-JTSK using EPSG:5514\n",
      "Current memory usage before zonal stats: 227.7 MB\n",
      "Sampling 5 polygons from 288 total\n",
      "  Extracted 2000 values from polygon 281\n",
      "  Extracted 2000 values from polygon 42\n",
      "  Extracted 2000 values from polygon 58\n",
      "  Extracted 2000 values from polygon 103\n"
     ]
    },
    {
     "name": "stderr",
     "output_type": "stream",
     "text": [
      "Rasters for early_regrowth:  98%|████████████████████████████████████████████████████▋ | 42/43 [00:18<00:00,  1.92it/s]"
     ]
    },
    {
     "name": "stdout",
     "output_type": "stream",
     "text": [
      "  Extracted 2000 values from polygon 108\n",
      "Successfully extracted 10000 sampled values. Memory: 251.1 MB\n",
      "Starting extraction. Memory usage: 227.5 MB\n",
      "Processing Early_regrowth.shp with CHM_uav46.tif\n",
      "Detected S-JTSK Krovak CRS. Manually setting target CRS to EPSG:5514\n",
      "Successfully reprojected to S-JTSK using EPSG:5514\n",
      "Current memory usage before zonal stats: 227.6 MB\n",
      "Sampling 5 polygons from 288 total\n",
      "  Extracted 2000 values from polygon 252\n",
      "  Extracted 2000 values from polygon 278\n",
      "  Extracted 2000 values from polygon 186\n",
      "  Extracted 2000 values from polygon 87\n",
      "  Extracted 2000 values from polygon 169\n",
      "Successfully extracted 10000 sampled values. Memory: 232.4 MB\n"
     ]
    },
    {
     "name": "stderr",
     "output_type": "stream",
     "text": [
      "Rasters for early_regrowth: 100%|██████████████████████████████████████████████████████| 43/43 [00:19<00:00,  2.23it/s]"
     ]
    },
    {
     "name": "stdout",
     "output_type": "stream",
     "text": [
      "Collected 428378 pixel values for early_regrowth\n",
      "\n",
      "Processing mature_regrowth...\n",
      "Warning: G:/classification\\shapefiles\\Mature_regrwoth.shp does not exist. Skipping.\n"
     ]
    },
    {
     "name": "stderr",
     "output_type": "stream",
     "text": [
      "\n"
     ]
    },
    {
     "ename": "TypeError",
     "evalue": "ufunc 'isnan' not supported for the input types, and the inputs could not be safely coerced to any supported types according to the casting rule ''safe''",
     "output_type": "error",
     "traceback": [
      "\u001b[1;31m---------------------------------------------------------------------------\u001b[0m",
      "\u001b[1;31mTypeError\u001b[0m                                 Traceback (most recent call last)",
      "Cell \u001b[1;32mIn[3], line 505\u001b[0m\n\u001b[0;32m    502\u001b[0m values_array \u001b[38;5;241m=\u001b[39m np\u001b[38;5;241m.\u001b[39marray(values)\n\u001b[0;32m    504\u001b[0m \u001b[38;5;66;03m# Check for valid values\u001b[39;00m\n\u001b[1;32m--> 505\u001b[0m valid_mask \u001b[38;5;241m=\u001b[39m \u001b[38;5;241m~\u001b[39m\u001b[43mnp\u001b[49m\u001b[38;5;241;43m.\u001b[39;49m\u001b[43misnan\u001b[49m\u001b[43m(\u001b[49m\u001b[43mvalues_array\u001b[49m\u001b[43m)\u001b[49m\n\u001b[0;32m    506\u001b[0m \u001b[38;5;28;01mif\u001b[39;00m \u001b[38;5;129;01mnot\u001b[39;00m np\u001b[38;5;241m.\u001b[39many(valid_mask):\n\u001b[0;32m    507\u001b[0m     log_message(\u001b[38;5;124mf\u001b[39m\u001b[38;5;124m\"\u001b[39m\u001b[38;5;124mNo valid non-NaN values for \u001b[39m\u001b[38;5;132;01m{\u001b[39;00mland_type\u001b[38;5;132;01m}\u001b[39;00m\u001b[38;5;124m, skipping\u001b[39m\u001b[38;5;124m\"\u001b[39m)\n",
      "\u001b[1;31mTypeError\u001b[0m: ufunc 'isnan' not supported for the input types, and the inputs could not be safely coerced to any supported types according to the casting rule ''safe''"
     ]
    },
    {
     "data": {
      "text/plain": [
       "<Figure size 1500x1000 with 0 Axes>"
      ]
     },
     "metadata": {},
     "output_type": "display_data"
    }
   ],
   "source": [
    "# Import packages for memory monitoring\n",
    "import os\n",
    "import gc\n",
    "import numpy as np\n",
    "import pandas as pd\n",
    "import geopandas as gpd\n",
    "import rasterio\n",
    "import pyproj\n",
    "from rasterio.mask import mask\n",
    "import matplotlib.pyplot as plt\n",
    "from rasterstats import zonal_stats\n",
    "import glob\n",
    "from tqdm import tqdm\n",
    "import warnings\n",
    "import psutil  # For memory monitoring\n",
    "\n",
    "# Suppress common warnings\n",
    "warnings.filterwarnings(\"ignore\", category=UserWarning)\n",
    "warnings.filterwarnings(\"ignore\", category=FutureWarning)\n",
    "\n",
    "# Memory monitor function\n",
    "def get_memory_usage():\n",
    "    \"\"\"Return the current memory usage in MB\"\"\"\n",
    "    process = psutil.Process(os.getpid())\n",
    "    mem_info = process.memory_info()\n",
    "    return mem_info.rss / 1024 / 1024  # Convert to MB\n",
    "\n",
    "# Configuration parameters\n",
    "MAX_SAMPLE_SIZE = 10000  # Maximum number of pixels to sample per shapefile and raster\n",
    "MEMORY_THRESHOLD_MB = 1000  # Trigger memory optimization if usage exceeds this value\n",
    "CHUNK_SIZE = 1024  # Size of chunks when reading large rasters\n",
    "\n",
    "# Set folders\n",
    "data_folder = \"G:/classification\"  # Replace with your data folder\n",
    "shapefile_folder = os.path.join(data_folder, \"shapefiles\")\n",
    "raster_folder = os.path.join(data_folder, \"rasters\")\n",
    "output_folder = os.path.join(data_folder, \"results\")\n",
    "\n",
    "# Create output folder if it doesn't exist\n",
    "os.makedirs(output_folder, exist_ok=True)\n",
    "\n",
    "# Define shapefiles and raster patterns\n",
    "shapefiles = {\n",
    "    \"baresoil\": os.path.join(shapefile_folder, \"Baresoil.shp\"),\n",
    "    \"early_regrowth\": os.path.join(shapefile_folder, \"Early_regrowth.shp\"),\n",
    "    \"mature_regrowth\": os.path.join(shapefile_folder, \"Mature_regrwoth.shp\")\n",
    "}\n",
    "\n",
    "# Find all raster files - using CHM pattern based on error message\n",
    "raster_files = glob.glob(os.path.join(raster_folder, \"CHM_uav*.tif\"))\n",
    "print(f\"Found {len(raster_files)} raster files\")\n",
    "\n",
    "# Create a log file for errors\n",
    "log_file = os.path.join(output_folder, \"processing_log.txt\")\n",
    "with open(log_file, 'w') as f:\n",
    "    f.write(\"Canopy Height Processing Log\\n\")\n",
    "    f.write(\"--------------------------\\n\")\n",
    "\n",
    "def log_message(message):\n",
    "    \"\"\"Write message to log file and print to console\"\"\"\n",
    "    print(message)\n",
    "    with open(log_file, 'a') as f:\n",
    "        f.write(message + \"\\n\")\n",
    "\n",
    "# Function to verify and fix CRS issues\n",
    "def fix_crs_issues(gdf, raster_path):\n",
    "    \"\"\"Try multiple approaches to fix CRS issues between shapefile and raster\"\"\"\n",
    "    try:\n",
    "        # Handle missing CRS in shapefile\n",
    "        if gdf.crs is None:\n",
    "            log_message(f\"Shapefile has no CRS defined. Setting to EPSG:4326 (WGS84)\")\n",
    "            gdf = gdf.set_crs(epsg=4326)\n",
    "        \n",
    "        # Check if raster path contains \"S-JTSK\" or \"Krovak\" in its CRS\n",
    "        # This is a special case for Czech/Slovak S-JTSK Krovak projection\n",
    "        if \"CHM_uav\" in raster_path:\n",
    "            # Based on the error messages, we're dealing with EPSG:5514 (S-JTSK / Krovak East North)\n",
    "            log_message(f\"Detected S-JTSK Krovak CRS. Manually setting target CRS to EPSG:5514\")\n",
    "            \n",
    "            # Instead of reading the raster CRS (which seems to be problematic),\n",
    "            # manually define the S-JTSK / Krovak East North projection using EPSG code\n",
    "            try:\n",
    "                # First try with EPSG code (most reliable if supported)\n",
    "                target_crs = \"EPSG:5514\"\n",
    "                gdf_projected = gdf.to_crs(target_crs)\n",
    "                log_message(\"Successfully reprojected to S-JTSK using EPSG:5514\")\n",
    "                return gdf_projected, None\n",
    "            except Exception as e1:\n",
    "                log_message(f\"EPSG:5514 reprojection failed: {str(e1)}\")\n",
    "                \n",
    "                # Try using a detailed WKT string for S-JTSK\n",
    "                try:\n",
    "                    # Standard WKT definition for S-JTSK / Krovak East North\n",
    "                    s_jtsk_wkt = \"\"\"\n",
    "                    PROJCS[\"S-JTSK / Krovak East North\",\n",
    "                        GEOGCS[\"S-JTSK\",\n",
    "                            DATUM[\"System_of_the_Unified_Trigonometrical_Cadastral_Network\",\n",
    "                                SPHEROID[\"Bessel 1841\",6377397.155,299.1528128,\n",
    "                                    AUTHORITY[\"EPSG\",\"7004\"]],\n",
    "                                TOWGS84[589,76,480,0,0,0,0],\n",
    "                                AUTHORITY[\"EPSG\",\"6156\"]],\n",
    "                            PRIMEM[\"Greenwich\",0,\n",
    "                                AUTHORITY[\"EPSG\",\"8901\"]],\n",
    "                            UNIT[\"degree\",0.0174532925199433,\n",
    "                                AUTHORITY[\"EPSG\",\"9122\"]],\n",
    "                            AUTHORITY[\"EPSG\",\"4156\"]],\n",
    "                        PROJECTION[\"Krovak\"],\n",
    "                        PARAMETER[\"latitude_of_center\",49.5],\n",
    "                        PARAMETER[\"longitude_of_center\",24.83333333333333],\n",
    "                        PARAMETER[\"azimuth\",30.28813972222222],\n",
    "                        PARAMETER[\"pseudo_standard_parallel_1\",78.5],\n",
    "                        PARAMETER[\"scale_factor\",0.9999],\n",
    "                        PARAMETER[\"false_easting\",0],\n",
    "                        PARAMETER[\"false_northing\",0],\n",
    "                        UNIT[\"metre\",1,\n",
    "                            AUTHORITY[\"EPSG\",\"9001\"]],\n",
    "                        AXIS[\"X\",EAST],\n",
    "                        AXIS[\"Y\",NORTH],\n",
    "                        AUTHORITY[\"EPSG\",\"5514\"]]\n",
    "                    \"\"\"\n",
    "                    gdf_projected = gdf.to_crs(s_jtsk_wkt)\n",
    "                    log_message(\"Successfully reprojected to S-JTSK using WKT definition\")\n",
    "                    return gdf_projected, None\n",
    "                except Exception as e2:\n",
    "                    log_message(f\"WKT reprojection failed: {str(e2)}\")\n",
    "                    \n",
    "                    # As a last resort, try with explicit coordinate operation\n",
    "                    try:\n",
    "                        log_message(\"Attempting direct coordinate transformation...\")\n",
    "                        # Create custom transformation pipeline\n",
    "                        transformer = pyproj.Transformer.from_pipeline(\n",
    "                            \"+proj=pipeline +step +proj=unitconvert +xy_in=deg +xy_out=rad \"\n",
    "                            \"+step +proj=krovak +lat_0=49.5 +lon_0=24.83333333333333 \"\n",
    "                            \"+alpha=30.28813972222222 +k=0.9999 +x_0=0 +y_0=0\"\n",
    "                        )\n",
    "                        \n",
    "                        # Manual transformation\n",
    "                        transformed_geometries = []\n",
    "                        for geom in gdf.geometry:\n",
    "                            if geom.geom_type == 'Polygon':\n",
    "                                # Transform each point in the polygon\n",
    "                                exterior_coords = []\n",
    "                                for x, y in geom.exterior.coords:\n",
    "                                    e, n = transformer.transform(y, x)  # Note: y, x order for lon, lat\n",
    "                                    exterior_coords.append((e, n))\n",
    "                                \n",
    "                                # Create new polygon with transformed coordinates\n",
    "                                transformed_geometries.append(\n",
    "                                    gpd.GeoSeries([gpd.geom.Polygon(exterior_coords)], crs=\"EPSG:5514\")[0]\n",
    "                                )\n",
    "                            else:\n",
    "                                # Skip non-polygon geometries\n",
    "                                log_message(f\"Skipping non-polygon geometry: {geom.geom_type}\")\n",
    "                        \n",
    "                        # Create new GeoDataFrame with transformed geometries\n",
    "                        gdf_projected = gpd.GeoDataFrame(\n",
    "                            gdf.drop(columns='geometry'),\n",
    "                            geometry=transformed_geometries,\n",
    "                            crs=\"EPSG:5514\"\n",
    "                        )\n",
    "                        \n",
    "                        log_message(\"Successfully completed manual point-by-point transformation\")\n",
    "                        return gdf_projected, None\n",
    "                    except Exception as e3:\n",
    "                        log_message(f\"Manual transformation failed: {str(e3)}\")\n",
    "                        \n",
    "                        # Final fallback: use alternative raster-based approach\n",
    "                        log_message(\"All reprojection methods failed. Will attempt direct pixel extraction.\")\n",
    "                        return None, \"All reprojection methods failed\"\n",
    "        else:\n",
    "            # For non-S-JTSK rasters, use the standard approach\n",
    "            with rasterio.open(raster_path) as src:\n",
    "                raster_crs = src.crs\n",
    "            \n",
    "            # Handle missing CRS in raster\n",
    "            if raster_crs is None:\n",
    "                log_message(f\"Warning: Raster {os.path.basename(raster_path)} has no CRS defined.\")\n",
    "                return None, \"Raster has no CRS\"\n",
    "            \n",
    "            # Try direct reprojection if CRS differ\n",
    "            if gdf.crs != raster_crs:\n",
    "                try:\n",
    "                    log_message(f\"Reprojecting from {gdf.crs} to {raster_crs}\")\n",
    "                    gdf_projected = gdf.to_crs(raster_crs)\n",
    "                    return gdf_projected, None\n",
    "                except Exception as e1:\n",
    "                    log_message(f\"Direct reprojection failed: {str(e1)}\")\n",
    "                    \n",
    "                    # Try with explicit PROJ4 string if available\n",
    "                    try:\n",
    "                        log_message(\"Trying with explicit PROJ4 string...\")\n",
    "                        proj4 = pyproj.CRS(raster_crs).to_proj4()\n",
    "                        gdf_projected = gdf.to_crs(proj4)\n",
    "                        return gdf_projected, None\n",
    "                    except Exception as e2:\n",
    "                        log_message(f\"PROJ4 approach failed: {str(e2)}\")\n",
    "                        \n",
    "                        # Try two-step reprojection through WGS84\n",
    "                        try:\n",
    "                            log_message(\"Attempting two-step reprojection via EPSG:4326...\")\n",
    "                            gdf_wgs84 = gdf.to_crs(epsg=4326)\n",
    "                            gdf_projected = gdf_wgs84.to_crs(raster_crs)\n",
    "                            return gdf_projected, None\n",
    "                        except Exception as e3:\n",
    "                            log_message(f\"Two-step reprojection failed: {str(e3)}\")\n",
    "                            return None, \"All reprojection methods failed\"\n",
    "            else:\n",
    "                # CRS already match\n",
    "                return gdf, None\n",
    "    except Exception as e:\n",
    "        log_message(f\"CRS processing error: {str(e)}\")\n",
    "        return None, f\"CRS processing error: {str(e)}\"\n",
    "\n",
    "# Function to extract pixel values from raster for a given shapefile\n",
    "def extract_values(shapefile_path, raster_path):\n",
    "    \"\"\"Extract values from raster that fall within the shapefile polygons using sampling\"\"\"\n",
    "    initial_memory = get_memory_usage()\n",
    "    log_message(f\"Starting extraction. Memory usage: {initial_memory:.1f} MB\")\n",
    "    \n",
    "    try:\n",
    "        # Read shapefile\n",
    "        gdf = gpd.read_file(shapefile_path)\n",
    "        log_message(f\"Processing {os.path.basename(shapefile_path)} with {os.path.basename(raster_path)}\")\n",
    "        \n",
    "        # Fix CRS issues\n",
    "        gdf_projected, error = fix_crs_issues(gdf, raster_path)\n",
    "        \n",
    "        # If reprojection failed but it's S-JTSK, try alternative approach\n",
    "        if error and \"CHM_uav\" in raster_path:\n",
    "            log_message(\"Attempting alternative extraction method for S-JTSK data...\")\n",
    "            \n",
    "            # Since we couldn't reproject, we'll try to extract values using the bounds\n",
    "            # of the shapefile and then filter post-extraction\n",
    "            try:\n",
    "                # Load the raster\n",
    "                with rasterio.open(raster_path) as src:\n",
    "                    # Check for NoData value\n",
    "                    nodata = src.nodata\n",
    "                    log_message(f\"Raster NoData value: {nodata}\")\n",
    "                    \n",
    "                    # Read a sample of the raster instead of the whole thing\n",
    "                    # Define a window size based on raster dimensions\n",
    "                    height, width = src.shape\n",
    "                    window_height = min(CHUNK_SIZE, height)\n",
    "                    window_width = min(CHUNK_SIZE, width)\n",
    "                    \n",
    "                    # Calculate number of windows needed\n",
    "                    num_windows_y = (height + window_height - 1) // window_height\n",
    "                    num_windows_x = (width + window_width - 1) // window_width\n",
    "                    \n",
    "                    total_values = []\n",
    "                    \n",
    "                    # Track how many samples we've collected\n",
    "                    sample_count = 0\n",
    "                    \n",
    "                    log_message(f\"Sampling raster in {num_windows_y}x{num_windows_x} windows...\")\n",
    "                    \n",
    "                    # Process a subset of windows to save memory\n",
    "                    # Select a portion of windows to sample randomly\n",
    "                    max_windows = min(20, num_windows_y * num_windows_x)  # Limit total windows\n",
    "                    sample_window_indices = np.random.choice(\n",
    "                        num_windows_y * num_windows_x, \n",
    "                        size=max_windows, \n",
    "                        replace=False\n",
    "                    )\n",
    "                    \n",
    "                    for window_idx in sample_window_indices:\n",
    "                        if sample_count >= MAX_SAMPLE_SIZE:\n",
    "                            break\n",
    "                            \n",
    "                        # Convert linear index to 2D coordinates\n",
    "                        window_y = window_idx // num_windows_x\n",
    "                        window_x = window_idx % num_windows_x\n",
    "                        \n",
    "                        # Calculate window bounds\n",
    "                        row_start = window_y * window_height\n",
    "                        col_start = window_x * window_width\n",
    "                        row_end = min(row_start + window_height, height)\n",
    "                        col_end = min(col_start + window_width, width)\n",
    "                        \n",
    "                        # Read window\n",
    "                        window = src.read(1, window=((row_start, row_end), (col_start, col_end)))\n",
    "                        \n",
    "                        # Filter out NoData values\n",
    "                        if nodata is not None:\n",
    "                            valid_mask = window != nodata\n",
    "                        else:\n",
    "                            valid_mask = ~np.isnan(window)\n",
    "                        \n",
    "                        valid_values = window[valid_mask]\n",
    "                        \n",
    "                        if len(valid_values) > 0:\n",
    "                            # Sample a limited number from this window\n",
    "                            if len(valid_values) > MAX_SAMPLE_SIZE // max_windows:\n",
    "                                indices = np.random.choice(\n",
    "                                    len(valid_values), \n",
    "                                    size=MAX_SAMPLE_SIZE // max_windows, \n",
    "                                    replace=False\n",
    "                                )\n",
    "                                valid_values = valid_values[indices]\n",
    "                            \n",
    "                            total_values.extend(valid_values.tolist())\n",
    "                            sample_count += len(valid_values)\n",
    "                    \n",
    "                    # Force garbage collection to free memory\n",
    "                    gc.collect()\n",
    "                    \n",
    "                    log_message(f\"Extracted {len(total_values)} sampled values. Memory usage: {get_memory_usage():.1f} MB\")\n",
    "                    return total_values\n",
    "                    \n",
    "            except Exception as e:\n",
    "                log_message(f\"Alternative extraction method failed: {str(e)}\")\n",
    "                log_message(\"Unable to process this raster. Skipping.\")\n",
    "                return []\n",
    "        \n",
    "        # If standard reprojection failed and alternative approach isn't applicable\n",
    "        if error and \"CHM_uav\" not in raster_path:\n",
    "            log_message(f\"CRS error for {os.path.basename(raster_path)}: {error}\")\n",
    "            return []\n",
    "            \n",
    "        # Continue with standard approach if reprojection succeeded\n",
    "        # Use optimized zonal stats approach with sampling\n",
    "        try:\n",
    "            # First check memory usage\n",
    "            current_memory = get_memory_usage()\n",
    "            log_message(f\"Current memory usage before zonal stats: {current_memory:.1f} MB\")\n",
    "            \n",
    "            # Use small sample size for each polygon\n",
    "            all_values = []\n",
    "            \n",
    "            # If we have many polygons, sample them\n",
    "            if len(gdf_projected) > 5:\n",
    "                # Sample a max of 5 polygons\n",
    "                sample_size = min(5, len(gdf_projected))\n",
    "                sample_indices = np.random.choice(len(gdf_projected), size=sample_size, replace=False)\n",
    "                gdf_sample = gdf_projected.iloc[sample_indices].copy()\n",
    "                log_message(f\"Sampling {sample_size} polygons from {len(gdf_projected)} total\")\n",
    "            else:\n",
    "                gdf_sample = gdf_projected\n",
    "            \n",
    "            # Process each polygon separately to control memory usage\n",
    "            for idx, row in gdf_sample.iterrows():\n",
    "                # Create a GeoDataFrame with just this polygon\n",
    "                single_polygon_gdf = gpd.GeoDataFrame(geometry=[row.geometry], crs=gdf_projected.crs)\n",
    "                \n",
    "                # Use zonal_stats with raster_out to get pixel values\n",
    "                stats = zonal_stats(single_polygon_gdf, raster_path, \n",
    "                                   stats=['count'], \n",
    "                                   nodata=np.nan,\n",
    "                                   all_touched=False,\n",
    "                                   geojson_out=True,\n",
    "                                   raster_out=True)\n",
    "                \n",
    "                # Extract values from the mini raster\n",
    "                for feature in stats:\n",
    "                    if 'properties' in feature and 'mini_raster_array' in feature['properties']:\n",
    "                        mini_raster = feature['properties']['mini_raster_array']\n",
    "                        \n",
    "                        # Flatten and filter out NoData values\n",
    "                        values = mini_raster.flatten()\n",
    "                        valid_values = values[~np.isnan(values)]\n",
    "                        \n",
    "                        # Sample values if there are too many\n",
    "                        if len(valid_values) > MAX_SAMPLE_SIZE // len(gdf_sample):\n",
    "                            sample_indices = np.random.choice(\n",
    "                                len(valid_values),\n",
    "                                size=MAX_SAMPLE_SIZE // len(gdf_sample),\n",
    "                                replace=False\n",
    "                            )\n",
    "                            valid_values = valid_values[sample_indices]\n",
    "                        \n",
    "                        all_values.extend(valid_values.tolist())\n",
    "                        log_message(f\"  Extracted {len(valid_values)} values from polygon {idx}\")\n",
    "                \n",
    "                # Force garbage collection after each polygon\n",
    "                gc.collect()\n",
    "            \n",
    "            if all_values:\n",
    "                log_message(f\"Successfully extracted {len(all_values)} sampled values. Memory: {get_memory_usage():.1f} MB\")\n",
    "                return all_values\n",
    "            else:\n",
    "                log_message(\"No values extracted with zonal_stats, trying mask method...\")\n",
    "        except Exception as e:\n",
    "            log_message(f\"Zonal stats method failed: {str(e)}\")\n",
    "            log_message(\"Falling back to mask method...\")\n",
    "        \n",
    "        # Fallback to mask method with sampling\n",
    "        log_message(\"Using mask method with sampling...\")\n",
    "        all_values = []\n",
    "        \n",
    "        try:\n",
    "            with rasterio.open(raster_path) as src:\n",
    "                # Sample polygons if there are many\n",
    "                if len(gdf_projected) > 5:\n",
    "                    sample_size = min(5, len(gdf_projected))\n",
    "                    sample_indices = np.random.choice(len(gdf_projected), size=sample_size, replace=False)\n",
    "                    gdf_sample = gdf_projected.iloc[sample_indices].copy()\n",
    "                else:\n",
    "                    gdf_sample = gdf_projected\n",
    "                \n",
    "                # Process each polygon\n",
    "                for idx, geom in enumerate(gdf_sample.geometry):\n",
    "                    try:\n",
    "                        # Get pixel values within the geometry\n",
    "                        out_image, out_transform = mask(src, [geom.__geo_interface__], crop=True, nodata=np.nan)\n",
    "                        \n",
    "                        # Flatten and filter out NoData values\n",
    "                        valid_pixels = out_image[0].flatten()\n",
    "                        valid_pixels = valid_pixels[~np.isnan(valid_pixels)]\n",
    "                        \n",
    "                        # Sample if there are too many values\n",
    "                        if len(valid_pixels) > MAX_SAMPLE_SIZE // len(gdf_sample):\n",
    "                            sample_indices = np.random.choice(\n",
    "                                len(valid_pixels),\n",
    "                                size=MAX_SAMPLE_SIZE // len(gdf_sample),\n",
    "                                replace=False\n",
    "                            )\n",
    "                            valid_pixels = valid_pixels[sample_indices]\n",
    "                        \n",
    "                        all_values.extend(valid_pixels.tolist())\n",
    "                        log_message(f\"  Extracted {len(valid_pixels)} values from geometry {idx+1}/{len(gdf_sample)}\")\n",
    "                        \n",
    "                        # Check memory usage and clean up if necessary\n",
    "                        if get_memory_usage() > MEMORY_THRESHOLD_MB:\n",
    "                            log_message(f\"Memory threshold exceeded. Cleaning up. Memory: {get_memory_usage():.1f} MB\")\n",
    "                            gc.collect()\n",
    "                            \n",
    "                    except Exception as e:\n",
    "                        log_message(f\"Error masking geometry {idx+1}: {str(e)}\")\n",
    "                        continue\n",
    "        except Exception as e:\n",
    "            log_message(f\"Mask method failed: {str(e)}\")\n",
    "            \n",
    "        final_memory = get_memory_usage()\n",
    "        log_message(f\"Total values extracted: {len(all_values)}. Final memory: {final_memory:.1f} MB\")\n",
    "        return all_values\n",
    "    \n",
    "    except Exception as e:\n",
    "        log_message(f\"Error processing {os.path.basename(shapefile_path)} with {os.path.basename(raster_path)}: {str(e)}\")\n",
    "        # Force cleanup\n",
    "        gc.collect()\n",
    "        return []\n",
    "\n",
    "# Dictionary to store all values by land cover type\n",
    "all_values_by_type = {\n",
    "    \"baresoil\": [],\n",
    "    \"early_regrowth\": [],\n",
    "    \"mature_regrowth\": []\n",
    "}\n",
    "\n",
    "# Set raster paths that should be skipped (if any)\n",
    "skip_rasters = []\n",
    "\n",
    "# Process each shapefile with each raster\n",
    "for land_type, shapefile_path in shapefiles.items():\n",
    "    log_message(f\"\\nProcessing {land_type}...\")\n",
    "    \n",
    "    # Skip if shapefile doesn't exist\n",
    "    if not os.path.exists(shapefile_path):\n",
    "        log_message(f\"Warning: {shapefile_path} does not exist. Skipping.\")\n",
    "        continue\n",
    "    \n",
    "    # Process each raster file\n",
    "    for raster_path in tqdm(raster_files, desc=f\"Rasters for {land_type}\"):\n",
    "        # Skip problematic rasters if needed\n",
    "        if os.path.basename(raster_path) in skip_rasters:\n",
    "            log_message(f\"Skipping known problematic raster: {os.path.basename(raster_path)}\")\n",
    "            continue\n",
    "            \n",
    "        values = extract_values(shapefile_path, raster_path)\n",
    "        all_values_by_type[land_type].extend(values)\n",
    "    \n",
    "    log_message(f\"Collected {len(all_values_by_type[land_type])} pixel values for {land_type}\")\n",
    "\n",
    "# Check if we have values to process\n",
    "any_values = any(len(values) > 0 for values in all_values_by_type.values())\n",
    "if not any_values:\n",
    "    log_message(\"No valid values were extracted. Check shapefile and raster compatibility.\")\n",
    "    exit(1)\n",
    "\n",
    "# Create histograms\n",
    "plt.figure(figsize=(15, 10))\n",
    "\n",
    "# Set colors\n",
    "colors = {\n",
    "    \"baresoil\": '#D55E00',      # Orange\n",
    "    \"early_regrowth\": '#0072B2', # Blue\n",
    "    \"mature_regrowth\": '#009E73' # Green\n",
    "}\n",
    "\n",
    "# Plot histograms for each land cover type\n",
    "subplot_index = 1\n",
    "has_valid_data = False\n",
    "\n",
    "for land_type, values in all_values_by_type.items():\n",
    "    # Skip if no values\n",
    "    if not values or len(values) == 0:\n",
    "        log_message(f\"No values for {land_type}, skipping histogram\")\n",
    "        continue\n",
    "        \n",
    "    # Convert to numpy array\n",
    "    values_array = np.array(values)\n",
    "    \n",
    "    # Check for valid values\n",
    "    valid_mask = ~np.isnan(values_array)\n",
    "    if not np.any(valid_mask):\n",
    "        log_message(f\"No valid non-NaN values for {land_type}, skipping\")\n",
    "        continue\n",
    "        \n",
    "    # Filter to only valid values\n",
    "    values_array = values_array[valid_mask]\n",
    "    \n",
    "    # Double-check we have data\n",
    "    if len(values_array) == 0:\n",
    "        log_message(f\"No valid values for {land_type} after filtering NaNs\")\n",
    "        continue\n",
    "        \n",
    "    has_valid_data = True\n",
    "    \n",
    "    # Filter out extreme values for better visualization\n",
    "    if len(values_array) > 10:  # Only filter if we have enough values\n",
    "        try:\n",
    "            # Remove outliers (values beyond 3 standard deviations)\n",
    "            mean = np.mean(values_array)\n",
    "            std = np.std(values_array)\n",
    "            \n",
    "            if std > 0:  # Only filter if standard deviation is positive\n",
    "                filtered_values = values_array[(values_array > mean - 3 * std) & (values_array < mean + 3 * std)]\n",
    "                \n",
    "                # If filtering removed too many values, use original\n",
    "                if len(filtered_values) < 0.5 * len(values_array):\n",
    "                    log_message(f\"Warning: Outlier filtering removed too many values for {land_type}. Using original values.\")\n",
    "                    filtered_values = values_array\n",
    "            else:\n",
    "                log_message(f\"Standard deviation is 0 for {land_type}, skipping outlier filtering\")\n",
    "                filtered_values = values_array\n",
    "                \n",
    "        except Exception as e:\n",
    "            log_message(f\"Error in outlier filtering for {land_type}: {str(e)}\")\n",
    "            filtered_values = values_array\n",
    "    else:\n",
    "        filtered_values = values_array\n",
    "    \n",
    "    # Create histogram\n",
    "    plt.subplot(3, 1, subplot_index)\n",
    "    subplot_index += 1\n",
    "    \n",
    "    # Verify we have valid data to plot\n",
    "    if len(filtered_values) > 0:\n",
    "        # Plot histogram with density=True for probability density\n",
    "        try:\n",
    "            hist, bins, _ = plt.hist(filtered_values, bins=min(50, len(np.unique(filtered_values))), \n",
    "                                    alpha=0.7, color=colors[land_type], density=True,\n",
    "                                    label=f\"n={len(filtered_values)}\")\n",
    "            \n",
    "            # Add vertical line for mean\n",
    "            plt.axvline(np.mean(filtered_values), color='black', linestyle='dashed', linewidth=1, \n",
    "                       label=f'Mean: {np.mean(filtered_values):.2f}m')\n",
    "        except Exception as e:\n",
    "            log_message(f\"Error creating histogram for {land_type}: {str(e)}\")\n",
    "            # Fallback to basic plot if histogram fails\n",
    "            plt.plot([0], [0], color=colors[land_type], label=f\"Error: Could not plot {land_type}\")\n",
    "    else:\n",
    "        # No data placeholder\n",
    "        plt.text(0.5, 0.5, f\"No valid data for {land_type}\", \n",
    "                horizontalalignment='center', verticalalignment='center',\n",
    "                transform=plt.gca().transAxes, fontsize=14)\n",
    "    \n",
    "    # Add title and labels\n",
    "    pretty_name = land_type.replace('_', ' ').title()\n",
    "    plt.title(f'{pretty_name} - Canopy Height Distribution', fontsize=14)\n",
    "    plt.xlabel('Canopy Height (m)', fontsize=12)\n",
    "    plt.ylabel('Density', fontsize=12)\n",
    "    plt.grid(True, alpha=0.3)\n",
    "    plt.legend()\n",
    "\n",
    "# Adjust layout only if we have data\n",
    "if has_valid_data:\n",
    "    plt.tight_layout()\n",
    "    \n",
    "    # Save combined figure\n",
    "    combined_plot_path = os.path.join(output_folder, 'canopy_height_histograms.png')\n",
    "    plt.savefig(combined_plot_path, dpi=300)\n",
    "    plt.savefig(os.path.join(output_folder, 'canopy_height_histograms.pdf'))\n",
    "    log_message(f\"Combined histogram saved to {combined_plot_path}\")\n",
    "else:\n",
    "    log_message(\"No valid data to plot histograms\")\n",
    "    plt.close()  # Close the empty figure\n",
    "\n",
    "# Save individual histograms and statistics\n",
    "for land_type, values in all_values_by_type.items():\n",
    "    if not values or len(values) == 0:\n",
    "        log_message(f\"No data for {land_type}, skipping individual histogram\")\n",
    "        continue\n",
    "        \n",
    "    # Convert to array and filter non-finite values\n",
    "    values_array = np.array(values)\n",
    "    valid_mask = ~np.isnan(values_array) & np.isfinite(values_array)\n",
    "    \n",
    "    # Check if we have valid data\n",
    "    if not np.any(valid_mask):\n",
    "        log_message(f\"No valid data points for {land_type}\")\n",
    "        continue\n",
    "        \n",
    "    # Keep only valid values\n",
    "    values_array = values_array[valid_mask]\n",
    "    \n",
    "    # Double-check we have data\n",
    "    if len(values_array) == 0:\n",
    "        log_message(f\"No valid values for {land_type} after filtering\")\n",
    "        continue\n",
    "    \n",
    "    # Only filter if we have enough values\n",
    "    try:\n",
    "        if len(values_array) > 10:\n",
    "            # Check if standard deviation is positive\n",
    "            if np.std(values_array) > 0:\n",
    "                filtered_values = values_array[(values_array > np.mean(values_array) - 3 * np.std(values_array)) & \n",
    "                                           (values_array < np.mean(values_array) + 3 * np.std(values_array))]\n",
    "                \n",
    "                # If filtering removed too many values, use original\n",
    "                if len(filtered_values) < 0.5 * len(values_array):\n",
    "                    filtered_values = values_array\n",
    "            else:\n",
    "                filtered_values = values_array\n",
    "        else:\n",
    "            filtered_values = values_array\n",
    "    except Exception as e:\n",
    "        log_message(f\"Error filtering outliers for {land_type}: {str(e)}\")\n",
    "        filtered_values = values_array\n",
    "    \n",
    "    # Create separate figure for each land type\n",
    "    try:\n",
    "        plt.figure(figsize=(10, 6))\n",
    "        \n",
    "        if len(filtered_values) > 0:\n",
    "            hist, bins, _ = plt.hist(filtered_values, bins=min(50, len(np.unique(filtered_values))), \n",
    "                                     alpha=0.7, color=colors[land_type], density=True)\n",
    "            \n",
    "            mean_val = np.mean(filtered_values)\n",
    "            plt.axvline(mean_val, color='black', linestyle='dashed', linewidth=1, \n",
    "                       label=f'Mean: {mean_val:.2f}m')\n",
    "            \n",
    "            pretty_name = land_type.replace('_', ' ').title()\n",
    "            plt.title(f'{pretty_name} - Canopy Height Distribution', fontsize=14)\n",
    "            plt.xlabel('Canopy Height (m)', fontsize=12)\n",
    "            plt.ylabel('Density', fontsize=12)\n",
    "            plt.grid(True, alpha=0.3)\n",
    "            plt.legend()\n",
    "            \n",
    "            # Save individual plot\n",
    "            plt.tight_layout()\n",
    "            individual_plot_path = os.path.join(output_folder, f'{land_type}_histogram.png')\n",
    "            plt.savefig(individual_plot_path, dpi=300)\n",
    "            log_message(f\"Individual histogram for {land_type} saved to {individual_plot_path}\")\n",
    "            plt.close()\n",
    "            \n",
    "            # Calculate statistics with error handling\n",
    "            try:\n",
    "                stats = {\n",
    "                    'mean': np.mean(filtered_values),\n",
    "                    'median': np.median(filtered_values),\n",
    "                    'std_dev': np.std(filtered_values),\n",
    "                    'min': np.min(filtered_values),\n",
    "                    'max': np.max(filtered_values),\n",
    "                    'count': len(filtered_values),\n",
    "                    '25th_percentile': np.percentile(filtered_values, 25),\n",
    "                    '75th_percentile': np.percentile(filtered_values, 75)\n",
    "                }\n",
    "                \n",
    "                # Save statistics to CSV\n",
    "                stats_df = pd.DataFrame([stats])\n",
    "                stats_csv_path = os.path.join(output_folder, f'{land_type}_statistics.csv')\n",
    "                stats_df.to_csv(stats_csv_path, index=False)\n",
    "                log_message(f\"Statistics for {land_type} saved to {stats_csv_path}\")\n",
    "            except Exception as e:\n",
    "                log_message(f\"Error calculating statistics for {land_type}: {str(e)}\")\n",
    "        else:\n",
    "            log_message(f\"No valid data to create individual histogram for {land_type}\")\n",
    "            plt.close()\n",
    "    except Exception as e:\n",
    "        log_message(f\"Error creating individual histogram for {land_type}: {str(e)}\")\n",
    "        plt.close()\n",
    "\n",
    "# Create a summary table with statistics for all land cover types\n",
    "summary_rows = []\n",
    "for land_type, values in all_values_by_type.items():\n",
    "    if not values:\n",
    "        continue\n",
    "        \n",
    "    values_array = np.array(values)\n",
    "    if len(values_array) > 0:\n",
    "        summary_rows.append({\n",
    "            'Land_Cover': land_type.replace('_', ' ').title(),\n",
    "            'Count': len(values_array),\n",
    "            'Mean_Height_m': np.mean(values_array),\n",
    "            'Median_Height_m': np.median(values_array),\n",
    "            'Std_Dev_m': np.std(values_array),\n",
    "            'Min_Height_m': np.min(values_array),\n",
    "            'Max_Height_m': np.max(values_array),\n",
    "            'Range_m': np.max(values_array) - np.min(values_array)\n",
    "        })\n",
    "\n",
    "if summary_rows:\n",
    "    summary_df = pd.DataFrame(summary_rows)\n",
    "    summary_csv_path = os.path.join(output_folder, 'canopy_height_summary.csv')\n",
    "    summary_df.to_csv(summary_csv_path, index=False)\n",
    "    log_message(f\"Summary statistics saved to {summary_csv_path}\")\n",
    "\n",
    "    # Also create an Excel file with formatting\n",
    "    summary_excel_path = os.path.join(output_folder, 'canopy_height_summary.xlsx')\n",
    "    with pd.ExcelWriter(summary_excel_path) as writer:\n",
    "        summary_df.to_excel(writer, sheet_name='Summary', index=False)\n",
    "    log_message(f\"Summary Excel file saved to {summary_excel_path}\")\n",
    "\n",
    "log_message(\"\\nAnalysis complete! Results saved to: \" + output_folder)"
   ]
  },
  {
   "cell_type": "code",
   "execution_count": null,
   "id": "a731de9e-467d-4698-a108-6f6e6c280087",
   "metadata": {},
   "outputs": [],
   "source": [
    "\"G:/classification\""
   ]
  },
  {
   "cell_type": "code",
   "execution_count": 4,
   "id": "046e42f2-b8b7-4bc2-bd19-d1014e89bb4d",
   "metadata": {},
   "outputs": [
    {
     "name": "stdout",
     "output_type": "stream",
     "text": [
      "Found 43 raster files\n",
      "\n",
      "Processing baresoil...\n"
     ]
    },
    {
     "name": "stderr",
     "output_type": "stream",
     "text": [
      "Rasters for baresoil:   0%|                                                                     | 0/43 [00:00<?, ?it/s]"
     ]
    },
    {
     "name": "stdout",
     "output_type": "stream",
     "text": [
      "Starting extraction. Memory usage: 247.8 MB\n",
      "Processing Baresoil.shp with CHM_uav47.tif\n",
      "Detected S-JTSK Krovak CRS. Manually setting target CRS to EPSG:5514\n",
      "Successfully reprojected to S-JTSK using EPSG:5514\n",
      "Current memory usage before zonal stats: 247.8 MB\n",
      "Sampling 5 polygons from 117 total\n",
      "  Extracted 20000 values from polygon 40\n",
      "  Extracted 12852 values from polygon 71\n",
      "  Extracted 20000 values from polygon 111\n"
     ]
    },
    {
     "name": "stderr",
     "output_type": "stream",
     "text": [
      "Rasters for baresoil:   2%|█▍                                                           | 1/43 [00:00<00:13,  3.17it/s]"
     ]
    },
    {
     "name": "stdout",
     "output_type": "stream",
     "text": [
      "  Extracted 20000 values from polygon 103\n",
      "  Extracted 20000 values from polygon 5\n",
      "Successfully extracted 92852 sampled values. Memory: 258.6 MB\n",
      "Starting extraction. Memory usage: 249.4 MB\n",
      "Processing Baresoil.shp with CHM_uav1.tif\n",
      "Detected S-JTSK Krovak CRS. Manually setting target CRS to EPSG:5514\n",
      "Successfully reprojected to S-JTSK using EPSG:5514\n",
      "Current memory usage before zonal stats: 249.4 MB\n",
      "Sampling 5 polygons from 117 total\n",
      "  Extracted 20000 values from polygon 65\n",
      "  Extracted 20000 values from polygon 34\n"
     ]
    },
    {
     "name": "stderr",
     "output_type": "stream",
     "text": [
      "Rasters for baresoil:   5%|██▊                                                          | 2/43 [00:00<00:13,  2.99it/s]"
     ]
    },
    {
     "name": "stdout",
     "output_type": "stream",
     "text": [
      "  Extracted 20000 values from polygon 98\n",
      "  Extracted 20000 values from polygon 8\n",
      "  Extracted 20000 values from polygon 97\n",
      "Successfully extracted 100000 sampled values. Memory: 260.8 MB\n",
      "Starting extraction. Memory usage: 247.5 MB\n",
      "Processing Baresoil.shp with CHM_uav2.tif\n",
      "Detected S-JTSK Krovak CRS. Manually setting target CRS to EPSG:5514\n",
      "Successfully reprojected to S-JTSK using EPSG:5514\n",
      "Current memory usage before zonal stats: 247.5 MB\n",
      "Sampling 5 polygons from 117 total\n",
      "  Extracted 20000 values from polygon 16\n",
      "  Extracted 20000 values from polygon 41\n",
      "  Extracted 20000 values from polygon 50\n",
      "  Extracted 20000 values from polygon 55\n",
      "  Extracted 20000 values from polygon 80\n"
     ]
    },
    {
     "name": "stderr",
     "output_type": "stream",
     "text": [
      "Rasters for baresoil:   7%|████▎                                                        | 3/43 [00:01<00:14,  2.69it/s]"
     ]
    },
    {
     "name": "stdout",
     "output_type": "stream",
     "text": [
      "Successfully extracted 100000 sampled values. Memory: 256.7 MB\n",
      "Starting extraction. Memory usage: 251.9 MB\n",
      "Processing Baresoil.shp with CHM_uav3.tif\n",
      "Detected S-JTSK Krovak CRS. Manually setting target CRS to EPSG:5514\n",
      "Successfully reprojected to S-JTSK using EPSG:5514\n",
      "Current memory usage before zonal stats: 251.9 MB\n",
      "Sampling 5 polygons from 117 total\n",
      "  Extracted 1250 values from polygon 6\n",
      "  Extracted 1734 values from polygon 56\n",
      "  Extracted 20000 values from polygon 36\n",
      "  Extracted 3978 values from polygon 62\n"
     ]
    },
    {
     "name": "stderr",
     "output_type": "stream",
     "text": [
      "Rasters for baresoil:   9%|█████▋                                                       | 4/43 [00:01<00:12,  3.03it/s]"
     ]
    },
    {
     "name": "stdout",
     "output_type": "stream",
     "text": [
      "  Extracted 943 values from polygon 69\n",
      "Successfully extracted 27905 sampled values. Memory: 252.0 MB\n",
      "Starting extraction. Memory usage: 245.4 MB\n",
      "Processing Baresoil.shp with CHM_uav4.tif\n",
      "Detected S-JTSK Krovak CRS. Manually setting target CRS to EPSG:5514\n",
      "Successfully reprojected to S-JTSK using EPSG:5514\n",
      "Current memory usage before zonal stats: 245.5 MB\n",
      "Sampling 5 polygons from 117 total\n",
      "  Extracted 5037 values from polygon 72\n",
      "  Extracted 20000 values from polygon 31\n",
      "  Extracted 20000 values from polygon 88\n"
     ]
    },
    {
     "name": "stderr",
     "output_type": "stream",
     "text": [
      "Rasters for baresoil:  12%|███████                                                      | 5/43 [00:01<00:12,  3.04it/s]"
     ]
    },
    {
     "name": "stdout",
     "output_type": "stream",
     "text": [
      "  Extracted 20000 values from polygon 104\n",
      "  Extracted 20000 values from polygon 2\n",
      "Successfully extracted 85037 sampled values. Memory: 255.8 MB\n",
      "Starting extraction. Memory usage: 246.4 MB\n",
      "Processing Baresoil.shp with CHM_uav5.tif\n",
      "Detected S-JTSK Krovak CRS. Manually setting target CRS to EPSG:5514\n",
      "Successfully reprojected to S-JTSK using EPSG:5514\n",
      "Current memory usage before zonal stats: 246.5 MB\n",
      "Sampling 5 polygons from 117 total\n",
      "  Extracted 20000 values from polygon 85\n",
      "  Extracted 20000 values from polygon 62\n",
      "  Extracted 20000 values from polygon 10\n",
      "  Extracted 20000 values from polygon 100\n",
      "  Extracted 20000 values from polygon 63\n"
     ]
    },
    {
     "name": "stderr",
     "output_type": "stream",
     "text": [
      "Rasters for baresoil:  14%|████████▌                                                    | 6/43 [00:02<00:12,  3.03it/s]"
     ]
    },
    {
     "name": "stdout",
     "output_type": "stream",
     "text": [
      "Successfully extracted 100000 sampled values. Memory: 255.3 MB\n",
      "Starting extraction. Memory usage: 248.1 MB\n",
      "Processing Baresoil.shp with CHM_uav6.tif\n",
      "Detected S-JTSK Krovak CRS. Manually setting target CRS to EPSG:5514\n",
      "Successfully reprojected to S-JTSK using EPSG:5514\n",
      "Current memory usage before zonal stats: 248.1 MB\n",
      "Sampling 5 polygons from 117 total\n",
      "  Extracted 20000 values from polygon 38\n",
      "  Extracted 20000 values from polygon 82\n",
      "  Extracted 20000 values from polygon 112\n",
      "  Extracted 20000 values from polygon 43\n"
     ]
    },
    {
     "name": "stderr",
     "output_type": "stream",
     "text": [
      "Rasters for baresoil:  16%|█████████▉                                                   | 7/43 [00:02<00:14,  2.54it/s]"
     ]
    },
    {
     "name": "stdout",
     "output_type": "stream",
     "text": [
      "  Extracted 20000 values from polygon 36\n",
      "Successfully extracted 100000 sampled values. Memory: 306.0 MB\n",
      "Starting extraction. Memory usage: 252.9 MB\n",
      "Processing Baresoil.shp with CHM_uav7.tif\n",
      "Detected S-JTSK Krovak CRS. Manually setting target CRS to EPSG:5514\n",
      "Successfully reprojected to S-JTSK using EPSG:5514\n",
      "Current memory usage before zonal stats: 252.9 MB\n",
      "Sampling 5 polygons from 117 total\n",
      "  Extracted 20000 values from polygon 87\n",
      "  Extracted 20000 values from polygon 76\n",
      "  Extracted 20000 values from polygon 106\n"
     ]
    },
    {
     "name": "stderr",
     "output_type": "stream",
     "text": [
      "Rasters for baresoil:  19%|███████████▎                                                 | 8/43 [00:03<00:15,  2.33it/s]"
     ]
    },
    {
     "name": "stdout",
     "output_type": "stream",
     "text": [
      "  Extracted 20000 values from polygon 67\n",
      "  Extracted 20000 values from polygon 14\n",
      "Successfully extracted 100000 sampled values. Memory: 280.1 MB\n",
      "Starting extraction. Memory usage: 248.8 MB\n",
      "Processing Baresoil.shp with CHM_uav12.tif\n",
      "Detected S-JTSK Krovak CRS. Manually setting target CRS to EPSG:5514\n",
      "Successfully reprojected to S-JTSK using EPSG:5514\n",
      "Current memory usage before zonal stats: 248.9 MB\n",
      "Sampling 5 polygons from 117 total\n",
      "  Extracted 20000 values from polygon 58\n",
      "  Extracted 20000 values from polygon 33\n",
      "  Extracted 20000 values from polygon 84\n",
      "  Extracted 20000 values from polygon 104\n"
     ]
    },
    {
     "name": "stderr",
     "output_type": "stream",
     "text": [
      "Rasters for baresoil:  21%|████████████▊                                                | 9/43 [00:04<00:20,  1.67it/s]"
     ]
    },
    {
     "name": "stdout",
     "output_type": "stream",
     "text": [
      "  Extracted 20000 values from polygon 60\n",
      "Successfully extracted 100000 sampled values. Memory: 397.6 MB\n",
      "Starting extraction. Memory usage: 251.6 MB\n",
      "Processing Baresoil.shp with CHM_uav13.tif\n",
      "Detected S-JTSK Krovak CRS. Manually setting target CRS to EPSG:5514\n",
      "Successfully reprojected to S-JTSK using EPSG:5514\n",
      "Current memory usage before zonal stats: 251.6 MB\n",
      "Sampling 5 polygons from 117 total\n",
      "  Extracted 20000 values from polygon 89\n",
      "  Extracted 20000 values from polygon 48\n",
      "  Extracted 20000 values from polygon 56\n",
      "  Extracted 20000 values from polygon 13\n",
      "  Extracted 20000 values from polygon 92\n"
     ]
    },
    {
     "name": "stderr",
     "output_type": "stream",
     "text": [
      "Rasters for baresoil:  23%|█████████████▉                                              | 10/43 [00:04<00:17,  1.89it/s]"
     ]
    },
    {
     "name": "stdout",
     "output_type": "stream",
     "text": [
      "Successfully extracted 100000 sampled values. Memory: 277.2 MB\n",
      "Starting extraction. Memory usage: 252.2 MB\n",
      "Processing Baresoil.shp with CHM_uav14.tif\n",
      "Detected S-JTSK Krovak CRS. Manually setting target CRS to EPSG:5514\n",
      "Successfully reprojected to S-JTSK using EPSG:5514\n",
      "Current memory usage before zonal stats: 252.2 MB\n",
      "Sampling 5 polygons from 117 total\n",
      "  Extracted 20000 values from polygon 83\n",
      "  Extracted 20000 values from polygon 0\n",
      "  Extracted 20000 values from polygon 48\n"
     ]
    },
    {
     "name": "stderr",
     "output_type": "stream",
     "text": [
      "Rasters for baresoil:  26%|███████████████▎                                            | 11/43 [00:04<00:15,  2.10it/s]"
     ]
    },
    {
     "name": "stdout",
     "output_type": "stream",
     "text": [
      "  Extracted 20000 values from polygon 54\n",
      "  Extracted 20000 values from polygon 53\n",
      "Successfully extracted 100000 sampled values. Memory: 259.2 MB\n",
      "Starting extraction. Memory usage: 251.2 MB\n",
      "Processing Baresoil.shp with CHM_uav15.tif\n",
      "Detected S-JTSK Krovak CRS. Manually setting target CRS to EPSG:5514\n",
      "Successfully reprojected to S-JTSK using EPSG:5514\n",
      "Current memory usage before zonal stats: 251.2 MB\n",
      "Sampling 5 polygons from 117 total\n",
      "  Extracted 18020 values from polygon 74\n",
      "  Extracted 20000 values from polygon 62\n",
      "  Extracted 20000 values from polygon 95\n"
     ]
    },
    {
     "name": "stderr",
     "output_type": "stream",
     "text": [
      "Rasters for baresoil:  28%|████████████████▋                                           | 12/43 [00:05<00:14,  2.12it/s]"
     ]
    },
    {
     "name": "stdout",
     "output_type": "stream",
     "text": [
      "  Extracted 20000 values from polygon 16\n",
      "  Extracted 20000 values from polygon 57\n",
      "Successfully extracted 98020 sampled values. Memory: 257.8 MB\n",
      "Starting extraction. Memory usage: 252.7 MB\n",
      "Processing Baresoil.shp with CHM_uav16.tif\n",
      "Detected S-JTSK Krovak CRS. Manually setting target CRS to EPSG:5514\n",
      "Successfully reprojected to S-JTSK using EPSG:5514\n",
      "Current memory usage before zonal stats: 252.7 MB\n",
      "Sampling 5 polygons from 117 total\n",
      "  Extracted 17680 values from polygon 42\n",
      "  Extracted 20000 values from polygon 99\n",
      "  Extracted 20000 values from polygon 106\n",
      "  Extracted 20000 values from polygon 41\n",
      "  Extracted 1120 values from polygon 72\n"
     ]
    },
    {
     "name": "stderr",
     "output_type": "stream",
     "text": [
      "Rasters for baresoil:  30%|██████████████████▏                                         | 13/43 [00:05<00:13,  2.30it/s]"
     ]
    },
    {
     "name": "stdout",
     "output_type": "stream",
     "text": [
      "Successfully extracted 78800 sampled values. Memory: 254.1 MB\n",
      "Starting extraction. Memory usage: 254.7 MB\n",
      "Processing Baresoil.shp with CHM_uav17.tif\n",
      "Detected S-JTSK Krovak CRS. Manually setting target CRS to EPSG:5514\n",
      "Successfully reprojected to S-JTSK using EPSG:5514\n",
      "Current memory usage before zonal stats: 254.7 MB\n",
      "Sampling 5 polygons from 117 total\n",
      "  Extracted 20000 values from polygon 61\n",
      "  Extracted 20000 values from polygon 103\n",
      "  Extracted 20000 values from polygon 31\n"
     ]
    },
    {
     "name": "stderr",
     "output_type": "stream",
     "text": [
      "Rasters for baresoil:  33%|███████████████████▌                                        | 14/43 [00:06<00:16,  1.77it/s]"
     ]
    },
    {
     "name": "stdout",
     "output_type": "stream",
     "text": [
      "  Extracted 20000 values from polygon 60\n",
      "  Extracted 20000 values from polygon 84\n",
      "Successfully extracted 100000 sampled values. Memory: 273.8 MB\n",
      "Starting extraction. Memory usage: 255.8 MB\n",
      "Processing Baresoil.shp with CHM_uav18.tif\n",
      "Detected S-JTSK Krovak CRS. Manually setting target CRS to EPSG:5514\n",
      "Successfully reprojected to S-JTSK using EPSG:5514\n",
      "Current memory usage before zonal stats: 255.9 MB\n",
      "Sampling 5 polygons from 117 total\n",
      "  Extracted 20000 values from polygon 83\n",
      "  Extracted 20000 values from polygon 100\n",
      "  Extracted 20000 values from polygon 74\n",
      "  Extracted 20000 values from polygon 55\n",
      "  Extracted 20000 values from polygon 20\n"
     ]
    },
    {
     "name": "stderr",
     "output_type": "stream",
     "text": [
      "Rasters for baresoil:  35%|████████████████████▉                                       | 15/43 [00:06<00:14,  1.98it/s]"
     ]
    },
    {
     "name": "stdout",
     "output_type": "stream",
     "text": [
      "Successfully extracted 100000 sampled values. Memory: 263.9 MB\n",
      "Starting extraction. Memory usage: 259.7 MB\n",
      "Processing Baresoil.shp with CHM_uav19.tif\n",
      "Detected S-JTSK Krovak CRS. Manually setting target CRS to EPSG:5514\n",
      "Successfully reprojected to S-JTSK using EPSG:5514\n",
      "Current memory usage before zonal stats: 259.7 MB\n",
      "Sampling 5 polygons from 117 total\n",
      "  Extracted 20000 values from polygon 81\n",
      "  Extracted 20000 values from polygon 100\n",
      "  Extracted 20000 values from polygon 5\n"
     ]
    },
    {
     "name": "stderr",
     "output_type": "stream",
     "text": [
      "Rasters for baresoil:  37%|██████████████████████▎                                     | 16/43 [00:07<00:12,  2.13it/s]"
     ]
    },
    {
     "name": "stdout",
     "output_type": "stream",
     "text": [
      "  Extracted 20000 values from polygon 83\n",
      "  Extracted 20000 values from polygon 44\n",
      "Successfully extracted 100000 sampled values. Memory: 273.0 MB\n",
      "Starting extraction. Memory usage: 255.7 MB\n",
      "Processing Baresoil.shp with CHM_uav20.tif\n",
      "Detected S-JTSK Krovak CRS. Manually setting target CRS to EPSG:5514\n",
      "Successfully reprojected to S-JTSK using EPSG:5514\n",
      "Current memory usage before zonal stats: 255.8 MB\n",
      "Sampling 5 polygons from 117 total\n",
      "  Extracted 20000 values from polygon 35\n",
      "  Extracted 20000 values from polygon 11\n",
      "  Extracted 20000 values from polygon 75\n",
      "  Extracted 20000 values from polygon 49\n"
     ]
    },
    {
     "name": "stderr",
     "output_type": "stream",
     "text": [
      "Rasters for baresoil:  40%|███████████████████████▋                                    | 17/43 [00:07<00:12,  2.12it/s]"
     ]
    },
    {
     "name": "stdout",
     "output_type": "stream",
     "text": [
      "  Extracted 20000 values from polygon 103\n",
      "Successfully extracted 100000 sampled values. Memory: 261.6 MB\n",
      "Starting extraction. Memory usage: 262.3 MB\n",
      "Processing Baresoil.shp with CHM_uav21.tif\n",
      "Detected S-JTSK Krovak CRS. Manually setting target CRS to EPSG:5514\n",
      "Successfully reprojected to S-JTSK using EPSG:5514\n",
      "Current memory usage before zonal stats: 262.3 MB\n",
      "Sampling 5 polygons from 117 total\n",
      "  Extracted 20000 values from polygon 82\n",
      "  Extracted 20000 values from polygon 105\n",
      "  Extracted 20000 values from polygon 62\n",
      "  Extracted 20000 values from polygon 57\n"
     ]
    },
    {
     "name": "stderr",
     "output_type": "stream",
     "text": [
      "Rasters for baresoil:  42%|█████████████████████████                                   | 18/43 [00:08<00:13,  1.92it/s]"
     ]
    },
    {
     "name": "stdout",
     "output_type": "stream",
     "text": [
      "  Extracted 20000 values from polygon 106\n",
      "Successfully extracted 100000 sampled values. Memory: 309.7 MB\n",
      "Starting extraction. Memory usage: 261.8 MB\n",
      "Processing Baresoil.shp with CHM_uav22.tif\n",
      "Detected S-JTSK Krovak CRS. Manually setting target CRS to EPSG:5514\n",
      "Successfully reprojected to S-JTSK using EPSG:5514\n",
      "Current memory usage before zonal stats: 261.8 MB\n",
      "Sampling 5 polygons from 117 total\n",
      "  Extracted 20000 values from polygon 93\n",
      "  Extracted 20000 values from polygon 83\n",
      "  Extracted 20000 values from polygon 23\n",
      "  Extracted 20000 values from polygon 92\n",
      "  Extracted 20000 values from polygon 20\n"
     ]
    },
    {
     "name": "stderr",
     "output_type": "stream",
     "text": [
      "Rasters for baresoil:  44%|██████████████████████████▌                                 | 19/43 [00:08<00:11,  2.02it/s]"
     ]
    },
    {
     "name": "stdout",
     "output_type": "stream",
     "text": [
      "Successfully extracted 100000 sampled values. Memory: 262.9 MB\n",
      "Starting extraction. Memory usage: 260.4 MB\n",
      "Processing Baresoil.shp with CHM_uav23.tif\n",
      "Detected S-JTSK Krovak CRS. Manually setting target CRS to EPSG:5514\n",
      "Successfully reprojected to S-JTSK using EPSG:5514\n",
      "Current memory usage before zonal stats: 260.5 MB\n",
      "Sampling 5 polygons from 117 total\n",
      "  Extracted 20000 values from polygon 39\n",
      "  Extracted 20000 values from polygon 33\n",
      "  Extracted 20000 values from polygon 38\n"
     ]
    },
    {
     "name": "stderr",
     "output_type": "stream",
     "text": [
      "Rasters for baresoil:  47%|███████████████████████████▉                                | 20/43 [00:09<00:10,  2.23it/s]"
     ]
    },
    {
     "name": "stdout",
     "output_type": "stream",
     "text": [
      "  Extracted 8300 values from polygon 21\n",
      "  Extracted 20000 values from polygon 111\n",
      "Successfully extracted 88300 sampled values. Memory: 262.9 MB\n",
      "Starting extraction. Memory usage: 263.6 MB\n",
      "Processing Baresoil.shp with CHM_uav24.tif\n",
      "Detected S-JTSK Krovak CRS. Manually setting target CRS to EPSG:5514\n",
      "Successfully reprojected to S-JTSK using EPSG:5514\n",
      "Current memory usage before zonal stats: 263.6 MB\n",
      "Sampling 5 polygons from 117 total\n",
      "  Extracted 20000 values from polygon 82\n",
      "  Extracted 20000 values from polygon 116\n",
      "  Extracted 20000 values from polygon 62\n",
      "  Extracted 7308 values from polygon 91\n",
      "  Extracted 20000 values from polygon 77\n"
     ]
    },
    {
     "name": "stderr",
     "output_type": "stream",
     "text": [
      "Rasters for baresoil:  49%|█████████████████████████████▎                              | 21/43 [00:09<00:09,  2.43it/s]"
     ]
    },
    {
     "name": "stdout",
     "output_type": "stream",
     "text": [
      "Successfully extracted 87308 sampled values. Memory: 260.8 MB\n",
      "Starting extraction. Memory usage: 261.4 MB\n",
      "Processing Baresoil.shp with CHM_uav25.tif\n",
      "Detected S-JTSK Krovak CRS. Manually setting target CRS to EPSG:5514\n",
      "Successfully reprojected to S-JTSK using EPSG:5514\n",
      "Current memory usage before zonal stats: 261.4 MB\n",
      "Sampling 5 polygons from 117 total\n",
      "  Extracted 20000 values from polygon 87\n",
      "  Extracted 18240 values from polygon 85\n",
      "  Extracted 5187 values from polygon 59\n"
     ]
    },
    {
     "name": "stderr",
     "output_type": "stream",
     "text": [
      "Rasters for baresoil:  51%|██████████████████████████████▋                             | 22/43 [00:09<00:08,  2.61it/s]"
     ]
    },
    {
     "name": "stdout",
     "output_type": "stream",
     "text": [
      "  Extracted 19292 values from polygon 76\n",
      "  Extracted 10622 values from polygon 15\n",
      "Successfully extracted 73341 sampled values. Memory: 263.8 MB\n",
      "Starting extraction. Memory usage: 264.4 MB\n",
      "Processing Baresoil.shp with CHM_uav26.tif\n",
      "Detected S-JTSK Krovak CRS. Manually setting target CRS to EPSG:5514\n",
      "Successfully reprojected to S-JTSK using EPSG:5514\n",
      "Current memory usage before zonal stats: 264.4 MB\n",
      "Sampling 5 polygons from 117 total\n",
      "  Extracted 20000 values from polygon 104\n",
      "  Extracted 20000 values from polygon 111\n"
     ]
    },
    {
     "name": "stderr",
     "output_type": "stream",
     "text": [
      "Rasters for baresoil:  53%|████████████████████████████████                            | 23/43 [00:10<00:07,  2.70it/s]"
     ]
    },
    {
     "name": "stdout",
     "output_type": "stream",
     "text": [
      "  Extracted 20000 values from polygon 77\n",
      "  Extracted 20000 values from polygon 16\n",
      "  Extracted 3965 values from polygon 54\n",
      "Successfully extracted 83965 sampled values. Memory: 266.2 MB\n",
      "Starting extraction. Memory usage: 265.4 MB\n",
      "Processing Baresoil.shp with CHM_uav27.tif\n",
      "Detected S-JTSK Krovak CRS. Manually setting target CRS to EPSG:5514\n",
      "Successfully reprojected to S-JTSK using EPSG:5514\n",
      "Current memory usage before zonal stats: 265.4 MB\n",
      "Sampling 5 polygons from 117 total\n",
      "  Extracted 5625 values from polygon 58\n",
      "  Extracted 20000 values from polygon 93\n",
      "  Extracted 20000 values from polygon 99\n"
     ]
    },
    {
     "name": "stderr",
     "output_type": "stream",
     "text": [
      "Rasters for baresoil:  56%|█████████████████████████████████▍                          | 24/43 [00:10<00:06,  2.79it/s]"
     ]
    },
    {
     "name": "stdout",
     "output_type": "stream",
     "text": [
      "  Extracted 1584 values from polygon 70\n",
      "  Extracted 20000 values from polygon 66\n",
      "Successfully extracted 67209 sampled values. Memory: 265.4 MB\n",
      "Starting extraction. Memory usage: 265.9 MB\n",
      "Processing Baresoil.shp with CHM_uav28.tif\n",
      "Detected S-JTSK Krovak CRS. Manually setting target CRS to EPSG:5514\n",
      "Successfully reprojected to S-JTSK using EPSG:5514\n",
      "Current memory usage before zonal stats: 265.9 MB\n",
      "Sampling 5 polygons from 117 total\n",
      "  Extracted 20000 values from polygon 3\n",
      "  Extracted 20000 values from polygon 43\n",
      "  Extracted 828 values from polygon 74\n",
      "  Extracted 19312 values from polygon 13\n",
      "  Extracted 10593 values from polygon 53\n"
     ]
    },
    {
     "name": "stderr",
     "output_type": "stream",
     "text": [
      "Rasters for baresoil:  58%|██████████████████████████████████▉                         | 25/43 [00:10<00:06,  2.86it/s]"
     ]
    },
    {
     "name": "stdout",
     "output_type": "stream",
     "text": [
      "Successfully extracted 70733 sampled values. Memory: 265.9 MB\n",
      "Starting extraction. Memory usage: 266.5 MB\n",
      "Processing Baresoil.shp with CHM_uav29.tif\n",
      "Detected S-JTSK Krovak CRS. Manually setting target CRS to EPSG:5514\n",
      "Successfully reprojected to S-JTSK using EPSG:5514\n",
      "Current memory usage before zonal stats: 266.5 MB\n",
      "Sampling 5 polygons from 117 total\n",
      "  Extracted 3210 values from polygon 113\n",
      "  Extracted 20000 values from polygon 37\n",
      "  Extracted 20000 values from polygon 10\n"
     ]
    },
    {
     "name": "stderr",
     "output_type": "stream",
     "text": [
      "Rasters for baresoil:  60%|████████████████████████████████████▎                       | 26/43 [00:11<00:05,  2.91it/s]"
     ]
    },
    {
     "name": "stdout",
     "output_type": "stream",
     "text": [
      "  Extracted 20000 values from polygon 39\n",
      "  Extracted 5041 values from polygon 58\n",
      "Successfully extracted 68251 sampled values. Memory: 266.5 MB\n",
      "Starting extraction. Memory usage: 267.0 MB\n",
      "Processing Baresoil.shp with CHM_uav30.tif\n",
      "Detected S-JTSK Krovak CRS. Manually setting target CRS to EPSG:5514\n",
      "Successfully reprojected to S-JTSK using EPSG:5514\n",
      "Current memory usage before zonal stats: 267.0 MB\n",
      "Sampling 5 polygons from 117 total\n",
      "  Extracted 20000 values from polygon 18\n",
      "  Extracted 20000 values from polygon 93\n"
     ]
    },
    {
     "name": "stderr",
     "output_type": "stream",
     "text": [
      "Rasters for baresoil:  63%|█████████████████████████████████████▋                      | 27/43 [00:11<00:05,  2.92it/s]"
     ]
    },
    {
     "name": "stdout",
     "output_type": "stream",
     "text": [
      "  Extracted 20000 values from polygon 80\n",
      "  Extracted 20000 values from polygon 109\n",
      "  Extracted 11780 values from polygon 103\n",
      "Successfully extracted 91780 sampled values. Memory: 268.1 MB\n",
      "Starting extraction. Memory usage: 262.0 MB\n",
      "Processing Baresoil.shp with CHM_uav31.tif\n",
      "Detected S-JTSK Krovak CRS. Manually setting target CRS to EPSG:5514\n",
      "Successfully reprojected to S-JTSK using EPSG:5514\n",
      "Current memory usage before zonal stats: 262.1 MB\n",
      "Sampling 5 polygons from 117 total\n",
      "  Extracted 20000 values from polygon 104\n",
      "  Extracted 20000 values from polygon 105\n",
      "  Extracted 20000 values from polygon 90\n"
     ]
    },
    {
     "name": "stderr",
     "output_type": "stream",
     "text": [
      "Rasters for baresoil:  65%|███████████████████████████████████████                     | 28/43 [00:11<00:05,  2.92it/s]"
     ]
    },
    {
     "name": "stdout",
     "output_type": "stream",
     "text": [
      "  Extracted 20000 values from polygon 1\n",
      "  Extracted 7395 values from polygon 91\n",
      "Successfully extracted 87395 sampled values. Memory: 268.2 MB\n",
      "Starting extraction. Memory usage: 268.9 MB\n",
      "Processing Baresoil.shp with CHM_uav32.tif\n",
      "Detected S-JTSK Krovak CRS. Manually setting target CRS to EPSG:5514\n",
      "Successfully reprojected to S-JTSK using EPSG:5514\n",
      "Current memory usage before zonal stats: 268.9 MB\n",
      "Sampling 5 polygons from 117 total\n",
      "  Extracted 11094 values from polygon 56\n",
      "  Extracted 20000 values from polygon 32\n"
     ]
    },
    {
     "name": "stderr",
     "output_type": "stream",
     "text": [
      "Rasters for baresoil:  67%|████████████████████████████████████████▍                   | 29/43 [00:12<00:04,  2.94it/s]"
     ]
    },
    {
     "name": "stdout",
     "output_type": "stream",
     "text": [
      "  Extracted 20000 values from polygon 92\n",
      "  Extracted 9612 values from polygon 15\n",
      "  Extracted 20000 values from polygon 11\n",
      "Successfully extracted 80706 sampled values. Memory: 270.8 MB\n",
      "Starting extraction. Memory usage: 271.4 MB\n",
      "Processing Baresoil.shp with CHM_uav33.tif\n",
      "Detected S-JTSK Krovak CRS. Manually setting target CRS to EPSG:5514\n",
      "Successfully reprojected to S-JTSK using EPSG:5514\n",
      "Current memory usage before zonal stats: 271.4 MB\n",
      "Sampling 5 polygons from 117 total\n",
      "  Extracted 20000 values from polygon 41\n",
      "  Extracted 20000 values from polygon 104\n",
      "  Extracted 20000 values from polygon 116\n",
      "  Extracted 20000 values from polygon 63\n",
      "  Extracted 20000 values from polygon 64\n"
     ]
    },
    {
     "name": "stderr",
     "output_type": "stream",
     "text": [
      "Rasters for baresoil:  70%|█████████████████████████████████████████▊                  | 30/43 [00:12<00:04,  2.92it/s]"
     ]
    },
    {
     "name": "stdout",
     "output_type": "stream",
     "text": [
      "Successfully extracted 100000 sampled values. Memory: 273.5 MB\n",
      "Starting extraction. Memory usage: 274.2 MB\n",
      "Processing Baresoil.shp with CHM_uav34.tif\n",
      "Detected S-JTSK Krovak CRS. Manually setting target CRS to EPSG:5514\n",
      "Successfully reprojected to S-JTSK using EPSG:5514\n",
      "Current memory usage before zonal stats: 274.2 MB\n",
      "Sampling 5 polygons from 117 total\n",
      "  Extracted 952 values from polygon 71\n",
      "  Extracted 20000 values from polygon 41\n",
      "  Extracted 20000 values from polygon 93\n"
     ]
    },
    {
     "name": "stderr",
     "output_type": "stream",
     "text": [
      "Rasters for baresoil:  72%|███████████████████████████████████████████▎                | 31/43 [00:12<00:04,  2.92it/s]"
     ]
    },
    {
     "name": "stdout",
     "output_type": "stream",
     "text": [
      "  Extracted 4556 values from polygon 58\n",
      "  Extracted 2340 values from polygon 73\n",
      "Successfully extracted 47848 sampled values. Memory: 274.8 MB\n",
      "Starting extraction. Memory usage: 275.2 MB\n",
      "Processing Baresoil.shp with CHM_uav35.tif\n",
      "Detected S-JTSK Krovak CRS. Manually setting target CRS to EPSG:5514\n",
      "Successfully reprojected to S-JTSK using EPSG:5514\n",
      "Current memory usage before zonal stats: 275.2 MB\n",
      "Sampling 5 polygons from 117 total\n",
      "  Extracted 20000 values from polygon 48\n",
      "  Extracted 20000 values from polygon 93\n",
      "  Extracted 20000 values from polygon 79\n",
      "  Extracted 20000 values from polygon 83\n"
     ]
    },
    {
     "name": "stderr",
     "output_type": "stream",
     "text": [
      "Rasters for baresoil:  74%|████████████████████████████████████████████▋               | 32/43 [00:13<00:04,  2.36it/s]"
     ]
    },
    {
     "name": "stdout",
     "output_type": "stream",
     "text": [
      "  Extracted 20000 values from polygon 107\n",
      "Successfully extracted 100000 sampled values. Memory: 338.8 MB\n",
      "Starting extraction. Memory usage: 272.1 MB\n",
      "Processing Baresoil.shp with CHM_uav36.tif\n",
      "Detected S-JTSK Krovak CRS. Manually setting target CRS to EPSG:5514\n",
      "Successfully reprojected to S-JTSK using EPSG:5514\n",
      "Current memory usage before zonal stats: 272.1 MB\n",
      "Sampling 5 polygons from 117 total\n",
      "  Extracted 20000 values from polygon 80\n",
      "  Extracted 20000 values from polygon 103\n",
      "  Extracted 20000 values from polygon 87\n",
      "  Extracted 14715 values from polygon 71\n",
      "  Extracted 20000 values from polygon 97\n",
      "Successfully extracted 94715 sampled values. Memory: 301.5 MB\n"
     ]
    },
    {
     "name": "stderr",
     "output_type": "stream",
     "text": [
      "Rasters for baresoil:  77%|██████████████████████████████████████████████              | 33/43 [00:13<00:04,  2.33it/s]"
     ]
    },
    {
     "name": "stdout",
     "output_type": "stream",
     "text": [
      "Starting extraction. Memory usage: 275.3 MB\n",
      "Processing Baresoil.shp with CHM_uav37.tif\n",
      "Detected S-JTSK Krovak CRS. Manually setting target CRS to EPSG:5514\n",
      "Successfully reprojected to S-JTSK using EPSG:5514\n",
      "Current memory usage before zonal stats: 275.4 MB\n",
      "Sampling 5 polygons from 117 total\n",
      "  Extracted 20000 values from polygon 40\n",
      "  Extracted 20000 values from polygon 45\n",
      "  Extracted 20000 values from polygon 82\n",
      "  Extracted 20000 values from polygon 1\n",
      "  Extracted 20000 values from polygon 76\n",
      "Successfully extracted 100000 sampled values. Memory: 284.8 MB\n"
     ]
    },
    {
     "name": "stderr",
     "output_type": "stream",
     "text": [
      "Rasters for baresoil:  79%|███████████████████████████████████████████████▍            | 34/43 [00:14<00:03,  2.34it/s]"
     ]
    },
    {
     "name": "stdout",
     "output_type": "stream",
     "text": [
      "Starting extraction. Memory usage: 282.4 MB\n",
      "Processing Baresoil.shp with CHM_uav38.tif\n",
      "Detected S-JTSK Krovak CRS. Manually setting target CRS to EPSG:5514\n",
      "Successfully reprojected to S-JTSK using EPSG:5514\n",
      "Current memory usage before zonal stats: 282.4 MB\n",
      "Sampling 5 polygons from 117 total\n",
      "  Extracted 20000 values from polygon 52\n",
      "  Extracted 20000 values from polygon 106\n",
      "  Extracted 20000 values from polygon 27\n",
      "  Extracted 20000 values from polygon 13\n",
      "  Extracted 20000 values from polygon 95\n"
     ]
    },
    {
     "name": "stderr",
     "output_type": "stream",
     "text": [
      "Rasters for baresoil:  81%|████████████████████████████████████████████████▊           | 35/43 [00:14<00:03,  2.23it/s]"
     ]
    },
    {
     "name": "stdout",
     "output_type": "stream",
     "text": [
      "Successfully extracted 100000 sampled values. Memory: 301.2 MB\n",
      "Starting extraction. Memory usage: 282.8 MB\n",
      "Processing Baresoil.shp with CHM_uav39.tif\n",
      "Detected S-JTSK Krovak CRS. Manually setting target CRS to EPSG:5514\n",
      "Successfully reprojected to S-JTSK using EPSG:5514\n",
      "Current memory usage before zonal stats: 282.9 MB\n",
      "Sampling 5 polygons from 117 total\n",
      "  Extracted 20000 values from polygon 67\n",
      "  Extracted 20000 values from polygon 83\n",
      "  Extracted 20000 values from polygon 60\n",
      "  Extracted 20000 values from polygon 13\n",
      "  Extracted 20000 values from polygon 80\n",
      "Successfully extracted 100000 sampled values. Memory: 296.6 MB\n"
     ]
    },
    {
     "name": "stderr",
     "output_type": "stream",
     "text": [
      "Rasters for baresoil:  84%|██████████████████████████████████████████████████▏         | 36/43 [00:15<00:03,  1.84it/s]"
     ]
    },
    {
     "name": "stdout",
     "output_type": "stream",
     "text": [
      "Starting extraction. Memory usage: 281.4 MB\n",
      "Processing Baresoil.shp with CHM_uav40.tif\n",
      "Detected S-JTSK Krovak CRS. Manually setting target CRS to EPSG:5514\n",
      "Successfully reprojected to S-JTSK using EPSG:5514\n",
      "Current memory usage before zonal stats: 281.5 MB\n",
      "Sampling 5 polygons from 117 total\n",
      "  Extracted 16728 values from polygon 74\n",
      "  Extracted 20000 values from polygon 94\n",
      "  Extracted 19090 values from polygon 70\n",
      "  Extracted 20000 values from polygon 41\n"
     ]
    },
    {
     "name": "stderr",
     "output_type": "stream",
     "text": [
      "Rasters for baresoil:  86%|███████████████████████████████████████████████████▋        | 37/43 [00:16<00:03,  1.76it/s]"
     ]
    },
    {
     "name": "stdout",
     "output_type": "stream",
     "text": [
      "  Extracted 20000 values from polygon 105\n",
      "Successfully extracted 95818 sampled values. Memory: 339.7 MB\n",
      "Starting extraction. Memory usage: 285.5 MB\n",
      "Processing Baresoil.shp with CHM_uav41.tif\n",
      "Detected S-JTSK Krovak CRS. Manually setting target CRS to EPSG:5514\n",
      "Successfully reprojected to S-JTSK using EPSG:5514\n",
      "Current memory usage before zonal stats: 285.5 MB\n",
      "Sampling 5 polygons from 117 total\n",
      "  Extracted 20000 values from polygon 82\n",
      "  Extracted 20000 values from polygon 58\n",
      "  Extracted 20000 values from polygon 60\n",
      "  Extracted 20000 values from polygon 12\n"
     ]
    },
    {
     "name": "stderr",
     "output_type": "stream",
     "text": [
      "Rasters for baresoil:  88%|█████████████████████████████████████████████████████       | 38/43 [00:17<00:03,  1.46it/s]"
     ]
    },
    {
     "name": "stdout",
     "output_type": "stream",
     "text": [
      "  Extracted 20000 values from polygon 114\n",
      "Successfully extracted 100000 sampled values. Memory: 371.2 MB\n",
      "Starting extraction. Memory usage: 293.1 MB\n",
      "Processing Baresoil.shp with CHM_uav42.tif\n",
      "Detected S-JTSK Krovak CRS. Manually setting target CRS to EPSG:5514\n",
      "Successfully reprojected to S-JTSK using EPSG:5514\n",
      "Current memory usage before zonal stats: 293.1 MB\n",
      "Sampling 5 polygons from 117 total\n",
      "  Extracted 20000 values from polygon 37\n",
      "  Extracted 20000 values from polygon 76\n",
      "  Extracted 20000 values from polygon 44\n",
      "  Extracted 20000 values from polygon 112\n"
     ]
    },
    {
     "name": "stderr",
     "output_type": "stream",
     "text": [
      "Rasters for baresoil:  91%|██████████████████████████████████████████████████████▍     | 39/43 [00:17<00:02,  1.62it/s]"
     ]
    },
    {
     "name": "stdout",
     "output_type": "stream",
     "text": [
      "  Extracted 14017 values from polygon 71\n",
      "Successfully extracted 94017 sampled values. Memory: 297.3 MB\n",
      "Starting extraction. Memory usage: 292.0 MB\n",
      "Processing Baresoil.shp with CHM_uav43.tif\n",
      "Detected S-JTSK Krovak CRS. Manually setting target CRS to EPSG:5514\n",
      "Successfully reprojected to S-JTSK using EPSG:5514\n",
      "Current memory usage before zonal stats: 292.0 MB\n",
      "Sampling 5 polygons from 117 total\n",
      "  Extracted 20000 values from polygon 14\n",
      "  Extracted 20000 values from polygon 87\n",
      "  Extracted 20000 values from polygon 64\n",
      "  Extracted 20000 values from polygon 41\n"
     ]
    },
    {
     "name": "stderr",
     "output_type": "stream",
     "text": [
      "Rasters for baresoil:  93%|███████████████████████████████████████████████████████▊    | 40/43 [00:18<00:01,  1.70it/s]"
     ]
    },
    {
     "name": "stdout",
     "output_type": "stream",
     "text": [
      "  Extracted 20000 values from polygon 57\n",
      "Successfully extracted 100000 sampled values. Memory: 308.2 MB\n",
      "Starting extraction. Memory usage: 291.4 MB\n",
      "Processing Baresoil.shp with CHM_uav44.tif\n",
      "Detected S-JTSK Krovak CRS. Manually setting target CRS to EPSG:5514\n",
      "Successfully reprojected to S-JTSK using EPSG:5514\n",
      "Current memory usage before zonal stats: 291.5 MB\n",
      "Sampling 5 polygons from 117 total\n",
      "  Extracted 20000 values from polygon 99\n",
      "  Extracted 20000 values from polygon 60\n",
      "  Extracted 20000 values from polygon 106\n"
     ]
    },
    {
     "name": "stderr",
     "output_type": "stream",
     "text": [
      "Rasters for baresoil:  95%|█████████████████████████████████████████████████████████▏  | 41/43 [00:19<00:01,  1.42it/s]"
     ]
    },
    {
     "name": "stdout",
     "output_type": "stream",
     "text": [
      "  Extracted 20000 values from polygon 29\n",
      "  Extracted 20000 values from polygon 56\n",
      "Successfully extracted 100000 sampled values. Memory: 302.5 MB\n",
      "Starting extraction. Memory usage: 299.9 MB\n",
      "Processing Baresoil.shp with CHM_uav45.tif\n",
      "Detected S-JTSK Krovak CRS. Manually setting target CRS to EPSG:5514\n",
      "Successfully reprojected to S-JTSK using EPSG:5514\n",
      "Current memory usage before zonal stats: 299.9 MB\n",
      "Sampling 5 polygons from 117 total\n",
      "  Extracted 20000 values from polygon 61\n",
      "  Extracted 20000 values from polygon 100\n",
      "  Extracted 20000 values from polygon 19\n"
     ]
    },
    {
     "name": "stderr",
     "output_type": "stream",
     "text": [
      "Rasters for baresoil:  98%|██████████████████████████████████████████████████████████▌ | 42/43 [00:19<00:00,  1.50it/s]"
     ]
    },
    {
     "name": "stdout",
     "output_type": "stream",
     "text": [
      "  Extracted 20000 values from polygon 22\n",
      "  Extracted 20000 values from polygon 38\n",
      "Successfully extracted 100000 sampled values. Memory: 328.4 MB\n",
      "Starting extraction. Memory usage: 294.6 MB\n",
      "Processing Baresoil.shp with CHM_uav46.tif\n",
      "Detected S-JTSK Krovak CRS. Manually setting target CRS to EPSG:5514\n",
      "Successfully reprojected to S-JTSK using EPSG:5514\n",
      "Current memory usage before zonal stats: 294.6 MB\n",
      "Sampling 5 polygons from 117 total\n",
      "  Extracted 20000 values from polygon 94\n",
      "  Extracted 20000 values from polygon 107\n",
      "  Extracted 20000 values from polygon 80\n",
      "  Extracted 20000 values from polygon 37\n"
     ]
    },
    {
     "name": "stderr",
     "output_type": "stream",
     "text": [
      "Rasters for baresoil: 100%|████████████████████████████████████████████████████████████| 43/43 [00:20<00:00,  2.14it/s]\n"
     ]
    },
    {
     "name": "stdout",
     "output_type": "stream",
     "text": [
      "  Extracted 20000 values from polygon 53\n",
      "Successfully extracted 100000 sampled values. Memory: 311.4 MB\n",
      "Collected 3914000 pixel values for baresoil\n",
      "\n",
      "Processing early_regrowth...\n"
     ]
    },
    {
     "name": "stderr",
     "output_type": "stream",
     "text": [
      "Rasters for early_regrowth:   0%|                                                               | 0/43 [00:00<?, ?it/s]"
     ]
    },
    {
     "name": "stdout",
     "output_type": "stream",
     "text": [
      "Starting extraction. Memory usage: 298.0 MB\n",
      "Processing Early_regrowth.shp with CHM_uav47.tif\n",
      "Detected S-JTSK Krovak CRS. Manually setting target CRS to EPSG:5514\n",
      "Successfully reprojected to S-JTSK using EPSG:5514\n",
      "Current memory usage before zonal stats: 298.2 MB\n",
      "Sampling 5 polygons from 288 total\n",
      "  Extracted 20000 values from polygon 220\n",
      "  Extracted 20000 values from polygon 260\n",
      "  Extracted 20000 values from polygon 56\n",
      "  Extracted 20000 values from polygon 240\n"
     ]
    },
    {
     "name": "stderr",
     "output_type": "stream",
     "text": [
      "Rasters for early_regrowth:   2%|█▎                                                     | 1/43 [00:00<00:22,  1.89it/s]"
     ]
    },
    {
     "name": "stdout",
     "output_type": "stream",
     "text": [
      "  Extracted 20000 values from polygon 98\n",
      "Successfully extracted 100000 sampled values. Memory: 315.0 MB\n",
      "Starting extraction. Memory usage: 299.4 MB\n",
      "Processing Early_regrowth.shp with CHM_uav1.tif\n",
      "Detected S-JTSK Krovak CRS. Manually setting target CRS to EPSG:5514\n",
      "Successfully reprojected to S-JTSK using EPSG:5514\n",
      "Current memory usage before zonal stats: 299.6 MB\n",
      "Sampling 5 polygons from 288 total\n",
      "  Extracted 20000 values from polygon 255\n",
      "  Extracted 20000 values from polygon 118\n",
      "  Extracted 20000 values from polygon 97\n",
      "  Extracted 20000 values from polygon 27\n"
     ]
    },
    {
     "name": "stderr",
     "output_type": "stream",
     "text": [
      "Rasters for early_regrowth:   5%|██▌                                                    | 2/43 [00:01<00:26,  1.52it/s]"
     ]
    },
    {
     "name": "stdout",
     "output_type": "stream",
     "text": [
      "  Extracted 20000 values from polygon 24\n",
      "Successfully extracted 100000 sampled values. Memory: 316.4 MB\n",
      "Starting extraction. Memory usage: 305.6 MB\n",
      "Processing Early_regrowth.shp with CHM_uav2.tif\n",
      "Detected S-JTSK Krovak CRS. Manually setting target CRS to EPSG:5514\n",
      "Successfully reprojected to S-JTSK using EPSG:5514\n",
      "Current memory usage before zonal stats: 305.7 MB\n",
      "Sampling 5 polygons from 288 total\n",
      "  Extracted 20000 values from polygon 90\n",
      "  Extracted 20000 values from polygon 242\n",
      "  Extracted 20000 values from polygon 29\n",
      "  Extracted 20000 values from polygon 59\n"
     ]
    },
    {
     "name": "stderr",
     "output_type": "stream",
     "text": [
      "Rasters for early_regrowth:   7%|███▊                                                   | 3/43 [00:01<00:23,  1.73it/s]"
     ]
    },
    {
     "name": "stdout",
     "output_type": "stream",
     "text": [
      "  Extracted 20000 values from polygon 256\n",
      "Successfully extracted 100000 sampled values. Memory: 320.1 MB\n",
      "Starting extraction. Memory usage: 305.0 MB\n",
      "Processing Early_regrowth.shp with CHM_uav3.tif\n",
      "Detected S-JTSK Krovak CRS. Manually setting target CRS to EPSG:5514\n",
      "Successfully reprojected to S-JTSK using EPSG:5514\n",
      "Current memory usage before zonal stats: 305.1 MB\n",
      "Sampling 5 polygons from 288 total\n",
      "  Extracted 20000 values from polygon 205\n",
      "  Extracted 20000 values from polygon 146\n",
      "  Extracted 20000 values from polygon 91\n",
      "  Extracted 20000 values from polygon 155\n",
      "  Extracted 3072 values from polygon 0\n",
      "Successfully extracted 83072 sampled values. Memory: 311.2 MB\n"
     ]
    },
    {
     "name": "stderr",
     "output_type": "stream",
     "text": [
      "Rasters for early_regrowth:   9%|█████                                                  | 4/43 [00:02<00:19,  2.00it/s]"
     ]
    },
    {
     "name": "stdout",
     "output_type": "stream",
     "text": [
      "Starting extraction. Memory usage: 311.9 MB\n",
      "Processing Early_regrowth.shp with CHM_uav4.tif\n",
      "Detected S-JTSK Krovak CRS. Manually setting target CRS to EPSG:5514\n",
      "Successfully reprojected to S-JTSK using EPSG:5514\n",
      "Current memory usage before zonal stats: 311.9 MB\n",
      "Sampling 5 polygons from 288 total\n",
      "  Extracted 20000 values from polygon 166\n",
      "  Extracted 7452 values from polygon 35\n",
      "  Extracted 20000 values from polygon 140\n",
      "  Extracted 20000 values from polygon 1\n",
      "  Extracted 20000 values from polygon 48\n"
     ]
    },
    {
     "name": "stderr",
     "output_type": "stream",
     "text": [
      "Rasters for early_regrowth:  12%|██████▍                                                | 5/43 [00:02<00:19,  1.99it/s]"
     ]
    },
    {
     "name": "stdout",
     "output_type": "stream",
     "text": [
      "Successfully extracted 87452 sampled values. Memory: 339.3 MB\n",
      "Starting extraction. Memory usage: 316.9 MB\n",
      "Processing Early_regrowth.shp with CHM_uav5.tif\n",
      "Detected S-JTSK Krovak CRS. Manually setting target CRS to EPSG:5514\n",
      "Successfully reprojected to S-JTSK using EPSG:5514\n",
      "Current memory usage before zonal stats: 316.9 MB\n",
      "Sampling 5 polygons from 288 total\n",
      "  Extracted 20000 values from polygon 57\n",
      "  Extracted 20000 values from polygon 162\n",
      "  Extracted 20000 values from polygon 223\n",
      "  Extracted 20000 values from polygon 231\n"
     ]
    },
    {
     "name": "stderr",
     "output_type": "stream",
     "text": [
      "Rasters for early_regrowth:  14%|███████▋                                               | 6/43 [00:03<00:19,  1.93it/s]"
     ]
    },
    {
     "name": "stdout",
     "output_type": "stream",
     "text": [
      "  Extracted 20000 values from polygon 62\n",
      "Successfully extracted 100000 sampled values. Memory: 326.1 MB\n",
      "Starting extraction. Memory usage: 310.4 MB\n",
      "Processing Early_regrowth.shp with CHM_uav6.tif\n",
      "Detected S-JTSK Krovak CRS. Manually setting target CRS to EPSG:5514\n",
      "Successfully reprojected to S-JTSK using EPSG:5514\n",
      "Current memory usage before zonal stats: 310.6 MB\n",
      "Sampling 5 polygons from 288 total\n",
      "  Extracted 20000 values from polygon 277\n",
      "  Extracted 20000 values from polygon 256\n",
      "  Extracted 20000 values from polygon 228\n",
      "  Extracted 20000 values from polygon 20\n"
     ]
    },
    {
     "name": "stderr",
     "output_type": "stream",
     "text": [
      "Rasters for early_regrowth:  16%|████████▉                                              | 7/43 [00:03<00:18,  1.92it/s]"
     ]
    },
    {
     "name": "stdout",
     "output_type": "stream",
     "text": [
      "  Extracted 20000 values from polygon 70\n",
      "Successfully extracted 100000 sampled values. Memory: 345.6 MB\n",
      "Starting extraction. Memory usage: 321.9 MB\n",
      "Processing Early_regrowth.shp with CHM_uav7.tif\n",
      "Detected S-JTSK Krovak CRS. Manually setting target CRS to EPSG:5514\n",
      "Successfully reprojected to S-JTSK using EPSG:5514\n",
      "Current memory usage before zonal stats: 321.9 MB\n",
      "Sampling 5 polygons from 288 total\n",
      "  Extracted 20000 values from polygon 102\n",
      "  Extracted 20000 values from polygon 40\n",
      "  Extracted 20000 values from polygon 202\n"
     ]
    },
    {
     "name": "stderr",
     "output_type": "stream",
     "text": [
      "Rasters for early_regrowth:  19%|██████████▏                                            | 8/43 [00:04<00:21,  1.63it/s]"
     ]
    },
    {
     "name": "stdout",
     "output_type": "stream",
     "text": [
      "  Extracted 20000 values from polygon 104\n",
      "  Extracted 20000 values from polygon 58\n",
      "Successfully extracted 100000 sampled values. Memory: 346.2 MB\n",
      "Starting extraction. Memory usage: 327.5 MB\n",
      "Processing Early_regrowth.shp with CHM_uav12.tif\n",
      "Detected S-JTSK Krovak CRS. Manually setting target CRS to EPSG:5514\n",
      "Successfully reprojected to S-JTSK using EPSG:5514\n",
      "Current memory usage before zonal stats: 327.5 MB\n",
      "Sampling 5 polygons from 288 total\n",
      "  Extracted 20000 values from polygon 164\n",
      "  Extracted 20000 values from polygon 9\n",
      "  Extracted 20000 values from polygon 254\n",
      "  Extracted 20000 values from polygon 60\n",
      "  Extracted 20000 values from polygon 240\n"
     ]
    },
    {
     "name": "stderr",
     "output_type": "stream",
     "text": [
      "Rasters for early_regrowth:  21%|███████████▌                                           | 9/43 [00:05<00:19,  1.71it/s]"
     ]
    },
    {
     "name": "stdout",
     "output_type": "stream",
     "text": [
      "Successfully extracted 100000 sampled values. Memory: 330.4 MB\n",
      "Starting extraction. Memory usage: 320.8 MB\n",
      "Processing Early_regrowth.shp with CHM_uav13.tif\n",
      "Detected S-JTSK Krovak CRS. Manually setting target CRS to EPSG:5514\n",
      "Successfully reprojected to S-JTSK using EPSG:5514\n",
      "Current memory usage before zonal stats: 320.9 MB\n",
      "Sampling 5 polygons from 288 total\n",
      "  Extracted 20000 values from polygon 43\n",
      "  Extracted 20000 values from polygon 89\n",
      "  Extracted 20000 values from polygon 202\n",
      "  Extracted 20000 values from polygon 115\n",
      "  Extracted 20000 values from polygon 68\n"
     ]
    },
    {
     "name": "stderr",
     "output_type": "stream",
     "text": [
      "Rasters for early_regrowth:  23%|████████████▌                                         | 10/43 [00:06<00:23,  1.41it/s]"
     ]
    },
    {
     "name": "stdout",
     "output_type": "stream",
     "text": [
      "Successfully extracted 100000 sampled values. Memory: 376.4 MB\n",
      "Starting extraction. Memory usage: 322.4 MB\n",
      "Processing Early_regrowth.shp with CHM_uav14.tif\n",
      "Detected S-JTSK Krovak CRS. Manually setting target CRS to EPSG:5514\n",
      "Successfully reprojected to S-JTSK using EPSG:5514\n",
      "Current memory usage before zonal stats: 322.5 MB\n",
      "Sampling 5 polygons from 288 total\n",
      "  Extracted 20000 values from polygon 159\n",
      "  Extracted 20000 values from polygon 258\n",
      "  Extracted 20000 values from polygon 80\n",
      "  Extracted 20000 values from polygon 44\n"
     ]
    },
    {
     "name": "stderr",
     "output_type": "stream",
     "text": [
      "Rasters for early_regrowth:  26%|█████████████▊                                        | 11/43 [00:06<00:23,  1.33it/s]"
     ]
    },
    {
     "name": "stdout",
     "output_type": "stream",
     "text": [
      "  Extracted 20000 values from polygon 231\n",
      "Successfully extracted 100000 sampled values. Memory: 397.8 MB\n",
      "Starting extraction. Memory usage: 328.6 MB\n",
      "Processing Early_regrowth.shp with CHM_uav15.tif\n",
      "Detected S-JTSK Krovak CRS. Manually setting target CRS to EPSG:5514\n",
      "Successfully reprojected to S-JTSK using EPSG:5514\n",
      "Current memory usage before zonal stats: 328.6 MB\n",
      "Sampling 5 polygons from 288 total\n",
      "  Extracted 20000 values from polygon 52\n",
      "  Extracted 20000 values from polygon 285\n",
      "  Extracted 20000 values from polygon 65\n",
      "  Extracted 20000 values from polygon 162\n"
     ]
    },
    {
     "name": "stderr",
     "output_type": "stream",
     "text": [
      "Rasters for early_regrowth:  28%|███████████████                                       | 12/43 [00:07<00:22,  1.36it/s]"
     ]
    },
    {
     "name": "stdout",
     "output_type": "stream",
     "text": [
      "  Extracted 20000 values from polygon 54\n",
      "Successfully extracted 100000 sampled values. Memory: 399.7 MB\n",
      "Starting extraction. Memory usage: 334.3 MB\n",
      "Processing Early_regrowth.shp with CHM_uav16.tif\n",
      "Detected S-JTSK Krovak CRS. Manually setting target CRS to EPSG:5514\n",
      "Successfully reprojected to S-JTSK using EPSG:5514\n",
      "Current memory usage before zonal stats: 334.3 MB\n",
      "Sampling 5 polygons from 288 total\n",
      "  Extracted 20000 values from polygon 92\n",
      "  Extracted 20000 values from polygon 125\n",
      "  Extracted 20000 values from polygon 42\n",
      "  Extracted 20000 values from polygon 43\n",
      "  Extracted 20000 values from polygon 93\n"
     ]
    },
    {
     "name": "stderr",
     "output_type": "stream",
     "text": [
      "Rasters for early_regrowth:  30%|████████████████▎                                     | 13/43 [00:08<00:19,  1.56it/s]"
     ]
    },
    {
     "name": "stdout",
     "output_type": "stream",
     "text": [
      "Successfully extracted 100000 sampled values. Memory: 337.4 MB\n",
      "Starting extraction. Memory usage: 326.4 MB\n",
      "Processing Early_regrowth.shp with CHM_uav17.tif\n",
      "Detected S-JTSK Krovak CRS. Manually setting target CRS to EPSG:5514\n",
      "Successfully reprojected to S-JTSK using EPSG:5514\n",
      "Current memory usage before zonal stats: 326.6 MB\n",
      "Sampling 5 polygons from 288 total\n",
      "  Extracted 20000 values from polygon 206\n",
      "  Extracted 20000 values from polygon 166\n",
      "  Extracted 20000 values from polygon 15\n",
      "  Extracted 20000 values from polygon 128\n"
     ]
    },
    {
     "name": "stderr",
     "output_type": "stream",
     "text": [
      "Rasters for early_regrowth:  33%|█████████████████▌                                    | 14/43 [00:08<00:20,  1.43it/s]"
     ]
    },
    {
     "name": "stdout",
     "output_type": "stream",
     "text": [
      "  Extracted 20000 values from polygon 250\n",
      "Successfully extracted 100000 sampled values. Memory: 457.0 MB\n",
      "Starting extraction. Memory usage: 336.0 MB\n",
      "Processing Early_regrowth.shp with CHM_uav18.tif\n",
      "Detected S-JTSK Krovak CRS. Manually setting target CRS to EPSG:5514\n",
      "Successfully reprojected to S-JTSK using EPSG:5514\n",
      "Current memory usage before zonal stats: 336.0 MB\n",
      "Sampling 5 polygons from 288 total\n",
      "  Extracted 20000 values from polygon 140\n",
      "  Extracted 20000 values from polygon 248\n",
      "  Extracted 20000 values from polygon 60\n",
      "  Extracted 20000 values from polygon 280\n",
      "  Extracted 20000 values from polygon 171\n"
     ]
    },
    {
     "name": "stderr",
     "output_type": "stream",
     "text": [
      "Rasters for early_regrowth:  35%|██████████████████▊                                   | 15/43 [00:09<00:20,  1.37it/s]"
     ]
    },
    {
     "name": "stdout",
     "output_type": "stream",
     "text": [
      "Successfully extracted 100000 sampled values. Memory: 374.2 MB\n",
      "Starting extraction. Memory usage: 331.2 MB\n",
      "Processing Early_regrowth.shp with CHM_uav19.tif\n",
      "Detected S-JTSK Krovak CRS. Manually setting target CRS to EPSG:5514\n",
      "Successfully reprojected to S-JTSK using EPSG:5514\n",
      "Current memory usage before zonal stats: 331.3 MB\n",
      "Sampling 5 polygons from 288 total\n",
      "  Extracted 20000 values from polygon 244\n",
      "  Extracted 20000 values from polygon 99\n",
      "  Extracted 20000 values from polygon 21\n",
      "  Extracted 20000 values from polygon 164\n"
     ]
    },
    {
     "name": "stderr",
     "output_type": "stream",
     "text": [
      "Rasters for early_regrowth:  37%|████████████████████                                  | 16/43 [00:10<00:18,  1.47it/s]"
     ]
    },
    {
     "name": "stdout",
     "output_type": "stream",
     "text": [
      "  Extracted 20000 values from polygon 143\n",
      "Successfully extracted 100000 sampled values. Memory: 346.6 MB\n",
      "Starting extraction. Memory usage: 337.1 MB\n",
      "Processing Early_regrowth.shp with CHM_uav20.tif\n",
      "Detected S-JTSK Krovak CRS. Manually setting target CRS to EPSG:5514\n",
      "Successfully reprojected to S-JTSK using EPSG:5514\n",
      "Current memory usage before zonal stats: 337.3 MB\n",
      "Sampling 5 polygons from 288 total\n",
      "  Extracted 20000 values from polygon 233\n",
      "  Extracted 20000 values from polygon 218\n",
      "  Extracted 20000 values from polygon 75\n",
      "  Extracted 20000 values from polygon 1\n"
     ]
    },
    {
     "name": "stderr",
     "output_type": "stream",
     "text": [
      "Rasters for early_regrowth:  40%|█████████████████████▎                                | 17/43 [00:10<00:17,  1.52it/s]"
     ]
    },
    {
     "name": "stdout",
     "output_type": "stream",
     "text": [
      "  Extracted 20000 values from polygon 280\n",
      "Successfully extracted 100000 sampled values. Memory: 372.4 MB\n",
      "Starting extraction. Memory usage: 341.8 MB\n",
      "Processing Early_regrowth.shp with CHM_uav21.tif\n",
      "Detected S-JTSK Krovak CRS. Manually setting target CRS to EPSG:5514\n",
      "Successfully reprojected to S-JTSK using EPSG:5514\n",
      "Current memory usage before zonal stats: 342.0 MB\n",
      "Sampling 5 polygons from 288 total\n",
      "  Extracted 20000 values from polygon 54\n",
      "  Extracted 20000 values from polygon 224\n",
      "  Extracted 20000 values from polygon 174\n",
      "  Extracted 20000 values from polygon 50\n",
      "  Extracted 20000 values from polygon 237\n"
     ]
    },
    {
     "name": "stderr",
     "output_type": "stream",
     "text": [
      "Rasters for early_regrowth:  42%|██████████████████████▌                               | 18/43 [00:11<00:16,  1.52it/s]"
     ]
    },
    {
     "name": "stdout",
     "output_type": "stream",
     "text": [
      "Successfully extracted 100000 sampled values. Memory: 360.4 MB\n",
      "Starting extraction. Memory usage: 339.2 MB\n",
      "Processing Early_regrowth.shp with CHM_uav22.tif\n",
      "Detected S-JTSK Krovak CRS. Manually setting target CRS to EPSG:5514\n",
      "Successfully reprojected to S-JTSK using EPSG:5514\n",
      "Current memory usage before zonal stats: 339.4 MB\n",
      "Sampling 5 polygons from 288 total\n",
      "  Extracted 20000 values from polygon 191\n",
      "  Extracted 20000 values from polygon 197\n",
      "  Extracted 20000 values from polygon 234\n",
      "  Extracted 20000 values from polygon 224\n"
     ]
    },
    {
     "name": "stderr",
     "output_type": "stream",
     "text": [
      "Rasters for early_regrowth:  44%|███████████████████████▊                              | 19/43 [00:12<00:15,  1.57it/s]"
     ]
    },
    {
     "name": "stdout",
     "output_type": "stream",
     "text": [
      "  Extracted 20000 values from polygon 87\n",
      "Successfully extracted 100000 sampled values. Memory: 365.8 MB\n",
      "Starting extraction. Memory usage: 340.8 MB\n",
      "Processing Early_regrowth.shp with CHM_uav23.tif\n",
      "Detected S-JTSK Krovak CRS. Manually setting target CRS to EPSG:5514\n",
      "Successfully reprojected to S-JTSK using EPSG:5514\n",
      "Current memory usage before zonal stats: 340.9 MB\n",
      "Sampling 5 polygons from 288 total\n",
      "  Extracted 20000 values from polygon 102\n",
      "  Extracted 20000 values from polygon 251\n",
      "  Extracted 10578 values from polygon 47\n",
      "  Extracted 20000 values from polygon 27\n",
      "  Extracted 20000 values from polygon 236\n"
     ]
    },
    {
     "name": "stderr",
     "output_type": "stream",
     "text": [
      "Rasters for early_regrowth:  47%|█████████████████████████                             | 20/43 [00:12<00:13,  1.74it/s]"
     ]
    },
    {
     "name": "stdout",
     "output_type": "stream",
     "text": [
      "Successfully extracted 90578 sampled values. Memory: 347.3 MB\n",
      "Starting extraction. Memory usage: 347.9 MB\n",
      "Processing Early_regrowth.shp with CHM_uav24.tif\n",
      "Detected S-JTSK Krovak CRS. Manually setting target CRS to EPSG:5514\n",
      "Successfully reprojected to S-JTSK using EPSG:5514\n",
      "Current memory usage before zonal stats: 348.0 MB\n",
      "Sampling 5 polygons from 288 total\n",
      "  Extracted 20000 values from polygon 60\n",
      "  Extracted 20000 values from polygon 117\n",
      "  Extracted 20000 values from polygon 48\n",
      "  Extracted 20000 values from polygon 220\n",
      "  Extracted 20000 values from polygon 120\n"
     ]
    },
    {
     "name": "stderr",
     "output_type": "stream",
     "text": [
      "Rasters for early_regrowth:  49%|██████████████████████████▎                           | 21/43 [00:12<00:11,  1.87it/s]"
     ]
    },
    {
     "name": "stdout",
     "output_type": "stream",
     "text": [
      "Successfully extracted 100000 sampled values. Memory: 356.8 MB\n",
      "Starting extraction. Memory usage: 354.4 MB\n",
      "Processing Early_regrowth.shp with CHM_uav25.tif\n",
      "Detected S-JTSK Krovak CRS. Manually setting target CRS to EPSG:5514\n",
      "Successfully reprojected to S-JTSK using EPSG:5514\n",
      "Current memory usage before zonal stats: 354.4 MB\n",
      "Sampling 5 polygons from 288 total\n",
      "  Extracted 20000 values from polygon 221\n",
      "  Extracted 20000 values from polygon 258\n",
      "  Extracted 20000 values from polygon 9\n",
      "  Extracted 20000 values from polygon 201\n",
      "  Extracted 20000 values from polygon 165\n"
     ]
    },
    {
     "name": "stderr",
     "output_type": "stream",
     "text": [
      "Rasters for early_regrowth:  51%|███████████████████████████▋                          | 22/43 [00:13<00:10,  1.97it/s]"
     ]
    },
    {
     "name": "stdout",
     "output_type": "stream",
     "text": [
      "Successfully extracted 100000 sampled values. Memory: 356.0 MB\n",
      "Starting extraction. Memory usage: 347.4 MB\n",
      "Processing Early_regrowth.shp with CHM_uav26.tif\n",
      "Detected S-JTSK Krovak CRS. Manually setting target CRS to EPSG:5514\n",
      "Successfully reprojected to S-JTSK using EPSG:5514\n",
      "Current memory usage before zonal stats: 347.6 MB\n",
      "Sampling 5 polygons from 288 total\n",
      "  Extracted 20000 values from polygon 89\n",
      "  Extracted 20000 values from polygon 234\n",
      "  Extracted 20000 values from polygon 32\n",
      "  Extracted 20000 values from polygon 119\n",
      "  Extracted 20000 values from polygon 152\n"
     ]
    },
    {
     "name": "stderr",
     "output_type": "stream",
     "text": [
      "Rasters for early_regrowth:  53%|████████████████████████████▉                         | 23/43 [00:13<00:09,  2.04it/s]"
     ]
    },
    {
     "name": "stdout",
     "output_type": "stream",
     "text": [
      "Successfully extracted 100000 sampled values. Memory: 357.3 MB\n",
      "Starting extraction. Memory usage: 358.1 MB\n",
      "Processing Early_regrowth.shp with CHM_uav27.tif\n",
      "Detected S-JTSK Krovak CRS. Manually setting target CRS to EPSG:5514\n",
      "Successfully reprojected to S-JTSK using EPSG:5514\n",
      "Current memory usage before zonal stats: 358.1 MB\n",
      "Sampling 5 polygons from 288 total\n",
      "  Extracted 20000 values from polygon 118\n",
      "  Extracted 20000 values from polygon 16\n",
      "  Extracted 20000 values from polygon 108\n"
     ]
    },
    {
     "name": "stderr",
     "output_type": "stream",
     "text": [
      "Rasters for early_regrowth:  56%|██████████████████████████████▏                       | 24/43 [00:14<00:08,  2.12it/s]"
     ]
    },
    {
     "name": "stdout",
     "output_type": "stream",
     "text": [
      "  Extracted 11616 values from polygon 101\n",
      "  Extracted 20000 values from polygon 173\n",
      "Successfully extracted 91616 sampled values. Memory: 359.7 MB\n",
      "Starting extraction. Memory usage: 351.5 MB\n",
      "Processing Early_regrowth.shp with CHM_uav28.tif\n",
      "Detected S-JTSK Krovak CRS. Manually setting target CRS to EPSG:5514\n",
      "Successfully reprojected to S-JTSK using EPSG:5514\n",
      "Current memory usage before zonal stats: 351.7 MB\n",
      "Sampling 5 polygons from 288 total\n",
      "  Extracted 20000 values from polygon 193\n",
      "  Extracted 16400 values from polygon 253\n",
      "  Extracted 20000 values from polygon 197\n",
      "  Extracted 16214 values from polygon 214\n"
     ]
    },
    {
     "name": "stderr",
     "output_type": "stream",
     "text": [
      "Rasters for early_regrowth:  58%|███████████████████████████████▍                      | 25/43 [00:14<00:08,  2.18it/s]"
     ]
    },
    {
     "name": "stdout",
     "output_type": "stream",
     "text": [
      "  Extracted 12012 values from polygon 57\n",
      "Successfully extracted 84626 sampled values. Memory: 356.6 MB\n",
      "Starting extraction. Memory usage: 357.3 MB\n",
      "Processing Early_regrowth.shp with CHM_uav29.tif\n",
      "Detected S-JTSK Krovak CRS. Manually setting target CRS to EPSG:5514\n",
      "Successfully reprojected to S-JTSK using EPSG:5514\n",
      "Current memory usage before zonal stats: 357.3 MB\n",
      "Sampling 5 polygons from 288 total\n",
      "  Extracted 20000 values from polygon 110\n",
      "  Extracted 20000 values from polygon 194\n",
      "  Extracted 14432 values from polygon 34\n",
      "  Extracted 20000 values from polygon 271\n",
      "  Extracted 20000 values from polygon 114\n"
     ]
    },
    {
     "name": "stderr",
     "output_type": "stream",
     "text": [
      "Rasters for early_regrowth:  60%|████████████████████████████████▋                     | 26/43 [00:15<00:07,  2.20it/s]"
     ]
    },
    {
     "name": "stdout",
     "output_type": "stream",
     "text": [
      "Successfully extracted 94432 sampled values. Memory: 374.5 MB\n",
      "Starting extraction. Memory usage: 356.8 MB\n",
      "Processing Early_regrowth.shp with CHM_uav30.tif\n",
      "Detected S-JTSK Krovak CRS. Manually setting target CRS to EPSG:5514\n",
      "Successfully reprojected to S-JTSK using EPSG:5514\n",
      "Current memory usage before zonal stats: 357.0 MB\n",
      "Sampling 5 polygons from 288 total\n",
      "  Extracted 20000 values from polygon 200\n",
      "  Extracted 20000 values from polygon 207\n",
      "  Extracted 20000 values from polygon 183\n",
      "  Extracted 20000 values from polygon 223\n",
      "  Extracted 20000 values from polygon 40\n"
     ]
    },
    {
     "name": "stderr",
     "output_type": "stream",
     "text": [
      "Rasters for early_regrowth:  63%|█████████████████████████████████▉                    | 27/43 [00:15<00:07,  2.21it/s]"
     ]
    },
    {
     "name": "stdout",
     "output_type": "stream",
     "text": [
      "Successfully extracted 100000 sampled values. Memory: 366.7 MB\n",
      "Starting extraction. Memory usage: 359.1 MB\n",
      "Processing Early_regrowth.shp with CHM_uav31.tif\n",
      "Detected S-JTSK Krovak CRS. Manually setting target CRS to EPSG:5514\n",
      "Successfully reprojected to S-JTSK using EPSG:5514\n",
      "Current memory usage before zonal stats: 359.3 MB\n",
      "Sampling 5 polygons from 288 total\n",
      "  Extracted 20000 values from polygon 124\n",
      "  Extracted 20000 values from polygon 121\n",
      "  Extracted 20000 values from polygon 104\n",
      "  Extracted 20000 values from polygon 141\n",
      "  Extracted 20000 values from polygon 80\n"
     ]
    },
    {
     "name": "stderr",
     "output_type": "stream",
     "text": [
      "Rasters for early_regrowth:  65%|███████████████████████████████████▏                  | 28/43 [00:16<00:06,  2.20it/s]"
     ]
    },
    {
     "name": "stdout",
     "output_type": "stream",
     "text": [
      "Successfully extracted 100000 sampled values. Memory: 369.2 MB\n",
      "Starting extraction. Memory usage: 361.3 MB\n",
      "Processing Early_regrowth.shp with CHM_uav32.tif\n",
      "Detected S-JTSK Krovak CRS. Manually setting target CRS to EPSG:5514\n",
      "Successfully reprojected to S-JTSK using EPSG:5514\n",
      "Current memory usage before zonal stats: 361.4 MB\n",
      "Sampling 5 polygons from 288 total\n",
      "  Extracted 10664 values from polygon 1\n",
      "  Extracted 437 values from polygon 35\n",
      "  Extracted 20000 values from polygon 17\n",
      "  Extracted 20000 values from polygon 141\n",
      "  Extracted 20000 values from polygon 19\n"
     ]
    },
    {
     "name": "stderr",
     "output_type": "stream",
     "text": [
      "Rasters for early_regrowth:  67%|████████████████████████████████████▍                 | 29/43 [00:16<00:06,  2.22it/s]"
     ]
    },
    {
     "name": "stdout",
     "output_type": "stream",
     "text": [
      "Successfully extracted 71101 sampled values. Memory: 370.9 MB\n",
      "Starting extraction. Memory usage: 363.0 MB\n",
      "Processing Early_regrowth.shp with CHM_uav33.tif\n",
      "Detected S-JTSK Krovak CRS. Manually setting target CRS to EPSG:5514\n",
      "Successfully reprojected to S-JTSK using EPSG:5514\n",
      "Current memory usage before zonal stats: 363.1 MB\n",
      "Sampling 5 polygons from 288 total\n",
      "  Extracted 20000 values from polygon 170\n",
      "  Extracted 20000 values from polygon 187\n",
      "  Extracted 20000 values from polygon 139\n"
     ]
    },
    {
     "name": "stderr",
     "output_type": "stream",
     "text": [
      "Rasters for early_regrowth:  70%|█████████████████████████████████████▋                | 30/43 [00:16<00:05,  2.23it/s]"
     ]
    },
    {
     "name": "stdout",
     "output_type": "stream",
     "text": [
      "  Extracted 19760 values from polygon 23\n",
      "  Extracted 20000 values from polygon 108\n",
      "Successfully extracted 99760 sampled values. Memory: 369.8 MB\n",
      "Starting extraction. Memory usage: 370.5 MB\n",
      "Processing Early_regrowth.shp with CHM_uav34.tif\n",
      "Detected S-JTSK Krovak CRS. Manually setting target CRS to EPSG:5514\n",
      "Successfully reprojected to S-JTSK using EPSG:5514\n",
      "Current memory usage before zonal stats: 370.5 MB\n",
      "Sampling 5 polygons from 288 total\n",
      "  Extracted 18328 values from polygon 71\n",
      "  Extracted 20000 values from polygon 246\n",
      "  Extracted 20000 values from polygon 261\n",
      "  Extracted 20000 values from polygon 230\n"
     ]
    },
    {
     "name": "stderr",
     "output_type": "stream",
     "text": [
      "Rasters for early_regrowth:  72%|██████████████████████████████████████▉               | 31/43 [00:17<00:05,  2.23it/s]"
     ]
    },
    {
     "name": "stdout",
     "output_type": "stream",
     "text": [
      "  Extracted 20000 values from polygon 92\n",
      "Successfully extracted 98328 sampled values. Memory: 375.4 MB\n",
      "Starting extraction. Memory usage: 376.1 MB\n",
      "Processing Early_regrowth.shp with CHM_uav35.tif\n",
      "Detected S-JTSK Krovak CRS. Manually setting target CRS to EPSG:5514\n",
      "Successfully reprojected to S-JTSK using EPSG:5514\n",
      "Current memory usage before zonal stats: 376.1 MB\n",
      "Sampling 5 polygons from 288 total\n",
      "  Extracted 20000 values from polygon 220\n",
      "  Extracted 20000 values from polygon 32\n",
      "  Extracted 20000 values from polygon 24\n",
      "  Extracted 10206 values from polygon 135\n"
     ]
    },
    {
     "name": "stderr",
     "output_type": "stream",
     "text": [
      "Rasters for early_regrowth:  74%|████████████████████████████████████████▏             | 32/43 [00:17<00:05,  2.09it/s]"
     ]
    },
    {
     "name": "stdout",
     "output_type": "stream",
     "text": [
      "  Extracted 20000 values from polygon 267\n",
      "Successfully extracted 90206 sampled values. Memory: 394.2 MB\n",
      "Starting extraction. Memory usage: 369.0 MB\n",
      "Processing Early_regrowth.shp with CHM_uav36.tif\n",
      "Detected S-JTSK Krovak CRS. Manually setting target CRS to EPSG:5514\n",
      "Successfully reprojected to S-JTSK using EPSG:5514\n",
      "Current memory usage before zonal stats: 369.2 MB\n",
      "Sampling 5 polygons from 288 total\n",
      "  Extracted 20000 values from polygon 147\n",
      "  Extracted 20000 values from polygon 155\n",
      "  Extracted 20000 values from polygon 191\n",
      "  Extracted 20000 values from polygon 1\n"
     ]
    },
    {
     "name": "stderr",
     "output_type": "stream",
     "text": [
      "Rasters for early_regrowth:  77%|█████████████████████████████████████████▍            | 33/43 [00:18<00:05,  1.74it/s]"
     ]
    },
    {
     "name": "stdout",
     "output_type": "stream",
     "text": [
      "  Extracted 20000 values from polygon 174\n",
      "Successfully extracted 100000 sampled values. Memory: 385.8 MB\n",
      "Starting extraction. Memory usage: 371.6 MB\n",
      "Processing Early_regrowth.shp with CHM_uav37.tif\n",
      "Detected S-JTSK Krovak CRS. Manually setting target CRS to EPSG:5514\n",
      "Successfully reprojected to S-JTSK using EPSG:5514\n",
      "Current memory usage before zonal stats: 371.8 MB\n",
      "Sampling 5 polygons from 288 total\n",
      "  Extracted 20000 values from polygon 213\n",
      "  Extracted 20000 values from polygon 234\n",
      "  Extracted 20000 values from polygon 245\n"
     ]
    },
    {
     "name": "stderr",
     "output_type": "stream",
     "text": [
      "Rasters for early_regrowth:  79%|██████████████████████████████████████████▋           | 34/43 [00:19<00:05,  1.63it/s]"
     ]
    },
    {
     "name": "stdout",
     "output_type": "stream",
     "text": [
      "  Extracted 20000 values from polygon 278\n",
      "  Extracted 20000 values from polygon 106\n",
      "Successfully extracted 100000 sampled values. Memory: 391.3 MB\n",
      "Starting extraction. Memory usage: 381.6 MB\n",
      "Processing Early_regrowth.shp with CHM_uav38.tif\n",
      "Detected S-JTSK Krovak CRS. Manually setting target CRS to EPSG:5514\n",
      "Successfully reprojected to S-JTSK using EPSG:5514\n",
      "Current memory usage before zonal stats: 381.7 MB\n",
      "Sampling 5 polygons from 288 total\n",
      "  Extracted 20000 values from polygon 269\n",
      "  Extracted 20000 values from polygon 173\n",
      "  Extracted 20000 values from polygon 210\n",
      "  Extracted 20000 values from polygon 105\n"
     ]
    },
    {
     "name": "stderr",
     "output_type": "stream",
     "text": [
      "Rasters for early_regrowth:  81%|███████████████████████████████████████████▉          | 35/43 [00:20<00:06,  1.29it/s]"
     ]
    },
    {
     "name": "stdout",
     "output_type": "stream",
     "text": [
      "  Extracted 20000 values from polygon 201\n",
      "Successfully extracted 100000 sampled values. Memory: 452.6 MB\n",
      "Starting extraction. Memory usage: 384.5 MB\n",
      "Processing Early_regrowth.shp with CHM_uav39.tif\n",
      "Detected S-JTSK Krovak CRS. Manually setting target CRS to EPSG:5514\n",
      "Successfully reprojected to S-JTSK using EPSG:5514\n",
      "Current memory usage before zonal stats: 384.6 MB\n",
      "Sampling 5 polygons from 288 total\n",
      "  Extracted 20000 values from polygon 93\n",
      "  Extracted 20000 values from polygon 208\n",
      "  Extracted 20000 values from polygon 124\n"
     ]
    },
    {
     "name": "stderr",
     "output_type": "stream",
     "text": [
      "Rasters for early_regrowth:  84%|█████████████████████████████████████████████▏        | 36/43 [00:21<00:05,  1.35it/s]"
     ]
    },
    {
     "name": "stdout",
     "output_type": "stream",
     "text": [
      "  Extracted 20000 values from polygon 70\n",
      "  Extracted 20000 values from polygon 151\n",
      "Successfully extracted 100000 sampled values. Memory: 400.6 MB\n",
      "Starting extraction. Memory usage: 387.0 MB\n",
      "Processing Early_regrowth.shp with CHM_uav40.tif\n",
      "Detected S-JTSK Krovak CRS. Manually setting target CRS to EPSG:5514\n",
      "Successfully reprojected to S-JTSK using EPSG:5514\n",
      "Current memory usage before zonal stats: 387.0 MB\n",
      "Sampling 5 polygons from 288 total\n",
      "  Extracted 20000 values from polygon 79\n",
      "  Extracted 20000 values from polygon 60\n",
      "  Extracted 20000 values from polygon 276\n",
      "  Extracted 20000 values from polygon 2\n"
     ]
    },
    {
     "name": "stderr",
     "output_type": "stream",
     "text": [
      "Rasters for early_regrowth:  86%|██████████████████████████████████████████████▍       | 37/43 [00:21<00:04,  1.38it/s]"
     ]
    },
    {
     "name": "stdout",
     "output_type": "stream",
     "text": [
      "  Extracted 20000 values from polygon 81\n",
      "Successfully extracted 100000 sampled values. Memory: 400.4 MB\n",
      "Starting extraction. Memory usage: 381.1 MB\n",
      "Processing Early_regrowth.shp with CHM_uav41.tif\n",
      "Detected S-JTSK Krovak CRS. Manually setting target CRS to EPSG:5514\n",
      "Successfully reprojected to S-JTSK using EPSG:5514\n",
      "Current memory usage before zonal stats: 381.3 MB\n",
      "Sampling 5 polygons from 288 total\n",
      "  Extracted 20000 values from polygon 51\n",
      "  Extracted 20000 values from polygon 254\n",
      "  Extracted 20000 values from polygon 130\n",
      "  Extracted 20000 values from polygon 229\n"
     ]
    },
    {
     "name": "stderr",
     "output_type": "stream",
     "text": [
      "Rasters for early_regrowth:  88%|███████████████████████████████████████████████▋      | 38/43 [00:22<00:03,  1.33it/s]"
     ]
    },
    {
     "name": "stdout",
     "output_type": "stream",
     "text": [
      "  Extracted 20000 values from polygon 237\n",
      "Successfully extracted 100000 sampled values. Memory: 413.1 MB\n",
      "Starting extraction. Memory usage: 384.8 MB\n",
      "Processing Early_regrowth.shp with CHM_uav42.tif\n",
      "Detected S-JTSK Krovak CRS. Manually setting target CRS to EPSG:5514\n",
      "Successfully reprojected to S-JTSK using EPSG:5514\n",
      "Current memory usage before zonal stats: 384.9 MB\n",
      "Sampling 5 polygons from 288 total\n",
      "  Extracted 20000 values from polygon 187\n",
      "  Extracted 20000 values from polygon 114\n",
      "  Extracted 20000 values from polygon 236\n",
      "  Extracted 20000 values from polygon 282\n",
      "  Extracted 20000 values from polygon 194\n"
     ]
    },
    {
     "name": "stderr",
     "output_type": "stream",
     "text": [
      "Rasters for early_regrowth:  91%|████████████████████████████████████████████████▉     | 39/43 [00:23<00:03,  1.16it/s]"
     ]
    },
    {
     "name": "stdout",
     "output_type": "stream",
     "text": [
      "Successfully extracted 100000 sampled values. Memory: 411.2 MB\n",
      "Starting extraction. Memory usage: 386.1 MB\n",
      "Processing Early_regrowth.shp with CHM_uav43.tif\n",
      "Detected S-JTSK Krovak CRS. Manually setting target CRS to EPSG:5514\n",
      "Successfully reprojected to S-JTSK using EPSG:5514\n",
      "Current memory usage before zonal stats: 386.3 MB\n",
      "Sampling 5 polygons from 288 total\n",
      "  Extracted 20000 values from polygon 273\n",
      "  Extracted 20000 values from polygon 96\n",
      "  Extracted 20000 values from polygon 44\n",
      "  Extracted 20000 values from polygon 202\n"
     ]
    },
    {
     "name": "stderr",
     "output_type": "stream",
     "text": [
      "Rasters for early_regrowth:  93%|██████████████████████████████████████████████████▏   | 40/43 [00:24<00:02,  1.13it/s]"
     ]
    },
    {
     "name": "stdout",
     "output_type": "stream",
     "text": [
      "  Extracted 20000 values from polygon 52\n",
      "Successfully extracted 100000 sampled values. Memory: 417.3 MB\n",
      "Starting extraction. Memory usage: 388.4 MB\n",
      "Processing Early_regrowth.shp with CHM_uav44.tif\n",
      "Detected S-JTSK Krovak CRS. Manually setting target CRS to EPSG:5514\n",
      "Successfully reprojected to S-JTSK using EPSG:5514\n",
      "Current memory usage before zonal stats: 388.5 MB\n",
      "Sampling 5 polygons from 288 total\n",
      "  Extracted 20000 values from polygon 48\n",
      "  Extracted 20000 values from polygon 147\n",
      "  Extracted 20000 values from polygon 141\n",
      "  Extracted 20000 values from polygon 64\n"
     ]
    },
    {
     "name": "stderr",
     "output_type": "stream",
     "text": [
      "Rasters for early_regrowth:  95%|███████████████████████████████████████████████████▍  | 41/43 [00:25<00:01,  1.06it/s]"
     ]
    },
    {
     "name": "stdout",
     "output_type": "stream",
     "text": [
      "  Extracted 20000 values from polygon 263\n",
      "Successfully extracted 100000 sampled values. Memory: 554.0 MB\n",
      "Starting extraction. Memory usage: 394.1 MB\n",
      "Processing Early_regrowth.shp with CHM_uav45.tif\n",
      "Detected S-JTSK Krovak CRS. Manually setting target CRS to EPSG:5514\n",
      "Successfully reprojected to S-JTSK using EPSG:5514\n",
      "Current memory usage before zonal stats: 394.1 MB\n",
      "Sampling 5 polygons from 288 total\n",
      "  Extracted 20000 values from polygon 7\n",
      "  Extracted 20000 values from polygon 85\n",
      "  Extracted 20000 values from polygon 257\n",
      "  Extracted 20000 values from polygon 212\n"
     ]
    },
    {
     "name": "stderr",
     "output_type": "stream",
     "text": [
      "Rasters for early_regrowth:  98%|████████████████████████████████████████████████████▋ | 42/43 [00:26<00:00,  1.02it/s]"
     ]
    },
    {
     "name": "stdout",
     "output_type": "stream",
     "text": [
      "  Extracted 20000 values from polygon 117\n",
      "Successfully extracted 100000 sampled values. Memory: 580.5 MB\n",
      "Starting extraction. Memory usage: 398.2 MB\n",
      "Processing Early_regrowth.shp with CHM_uav46.tif\n",
      "Detected S-JTSK Krovak CRS. Manually setting target CRS to EPSG:5514\n",
      "Successfully reprojected to S-JTSK using EPSG:5514\n",
      "Current memory usage before zonal stats: 398.2 MB\n",
      "Sampling 5 polygons from 288 total\n",
      "  Extracted 20000 values from polygon 276\n",
      "  Extracted 20000 values from polygon 270\n",
      "  Extracted 20000 values from polygon 105\n",
      "  Extracted 20000 values from polygon 20\n",
      "  Extracted 20000 values from polygon 115\n"
     ]
    },
    {
     "name": "stderr",
     "output_type": "stream",
     "text": [
      "Rasters for early_regrowth: 100%|██████████████████████████████████████████████████████| 43/43 [00:28<00:00,  1.53it/s]\n"
     ]
    },
    {
     "name": "stdout",
     "output_type": "stream",
     "text": [
      "Successfully extracted 100000 sampled values. Memory: 467.3 MB\n",
      "Collected 4191171 pixel values for early_regrowth\n",
      "\n",
      "Processing mature_regrowth...\n"
     ]
    },
    {
     "name": "stderr",
     "output_type": "stream",
     "text": [
      "Rasters for mature_regrowth:   0%|                                                              | 0/43 [00:00<?, ?it/s]"
     ]
    },
    {
     "name": "stdout",
     "output_type": "stream",
     "text": [
      "Starting extraction. Memory usage: 403.6 MB\n",
      "Processing Mature_regrowth2.shp with CHM_uav47.tif\n",
      "Detected S-JTSK Krovak CRS. Manually setting target CRS to EPSG:5514\n",
      "Successfully reprojected to S-JTSK using EPSG:5514\n",
      "Current memory usage before zonal stats: 403.6 MB\n",
      "Sampling 5 polygons from 27 total\n",
      "  Extracted 20000 values from polygon 10\n",
      "  Extracted 20000 values from polygon 8\n",
      "  Extracted 20000 values from polygon 16\n",
      "  Extracted 20000 values from polygon 7\n",
      "  Extracted 20000 values from polygon 24\n"
     ]
    },
    {
     "name": "stderr",
     "output_type": "stream",
     "text": [
      "Rasters for mature_regrowth:   2%|█▎                                                    | 1/43 [00:00<00:32,  1.30it/s]"
     ]
    },
    {
     "name": "stdout",
     "output_type": "stream",
     "text": [
      "Successfully extracted 100000 sampled values. Memory: 433.2 MB\n",
      "Starting extraction. Memory usage: 405.2 MB\n",
      "Processing Mature_regrowth2.shp with CHM_uav1.tif\n",
      "Detected S-JTSK Krovak CRS. Manually setting target CRS to EPSG:5514\n",
      "Successfully reprojected to S-JTSK using EPSG:5514\n",
      "Current memory usage before zonal stats: 405.2 MB\n",
      "Sampling 5 polygons from 27 total\n",
      "  Extracted 20000 values from polygon 12\n",
      "  Extracted 20000 values from polygon 10\n",
      "  Extracted 20000 values from polygon 11\n",
      "  Extracted 20000 values from polygon 4\n",
      "  Extracted 20000 values from polygon 0\n"
     ]
    },
    {
     "name": "stderr",
     "output_type": "stream",
     "text": [
      "Rasters for mature_regrowth:   5%|██▌                                                   | 2/43 [00:01<00:36,  1.13it/s]"
     ]
    },
    {
     "name": "stdout",
     "output_type": "stream",
     "text": [
      "Successfully extracted 100000 sampled values. Memory: 430.5 MB\n",
      "Starting extraction. Memory usage: 399.3 MB\n",
      "Processing Mature_regrowth2.shp with CHM_uav2.tif\n",
      "Detected S-JTSK Krovak CRS. Manually setting target CRS to EPSG:5514\n",
      "Successfully reprojected to S-JTSK using EPSG:5514\n",
      "Current memory usage before zonal stats: 399.3 MB\n",
      "Sampling 5 polygons from 27 total\n",
      "  Extracted 20000 values from polygon 2\n",
      "  Extracted 20000 values from polygon 16\n",
      "  Extracted 20000 values from polygon 25\n",
      "  Extracted 20000 values from polygon 13\n",
      "  Extracted 20000 values from polygon 19\n"
     ]
    },
    {
     "name": "stderr",
     "output_type": "stream",
     "text": [
      "Rasters for mature_regrowth:   7%|███▊                                                  | 3/43 [00:02<00:32,  1.24it/s]"
     ]
    },
    {
     "name": "stdout",
     "output_type": "stream",
     "text": [
      "Successfully extracted 100000 sampled values. Memory: 432.0 MB\n",
      "Starting extraction. Memory usage: 404.5 MB\n",
      "Processing Mature_regrowth2.shp with CHM_uav3.tif\n",
      "Detected S-JTSK Krovak CRS. Manually setting target CRS to EPSG:5514\n",
      "Successfully reprojected to S-JTSK using EPSG:5514\n",
      "Current memory usage before zonal stats: 404.5 MB\n",
      "Sampling 5 polygons from 27 total\n",
      "  Extracted 20000 values from polygon 15\n",
      "  Extracted 19398 values from polygon 23\n",
      "  Extracted 15744 values from polygon 7\n",
      "  Extracted 20000 values from polygon 12\n",
      "  Extracted 11520 values from polygon 5\n"
     ]
    },
    {
     "name": "stderr",
     "output_type": "stream",
     "text": [
      "Rasters for mature_regrowth:   9%|█████                                                 | 4/43 [00:02<00:26,  1.48it/s]"
     ]
    },
    {
     "name": "stdout",
     "output_type": "stream",
     "text": [
      "Successfully extracted 86662 sampled values. Memory: 408.7 MB\n",
      "Starting extraction. Memory usage: 409.4 MB\n",
      "Processing Mature_regrowth2.shp with CHM_uav4.tif\n",
      "Detected S-JTSK Krovak CRS. Manually setting target CRS to EPSG:5514\n",
      "Successfully reprojected to S-JTSK using EPSG:5514\n",
      "Current memory usage before zonal stats: 409.4 MB\n",
      "Sampling 5 polygons from 27 total\n",
      "  Extracted 20000 values from polygon 16\n",
      "  Extracted 20000 values from polygon 2\n",
      "  Extracted 20000 values from polygon 3\n",
      "  Extracted 20000 values from polygon 13\n"
     ]
    },
    {
     "name": "stderr",
     "output_type": "stream",
     "text": [
      "Rasters for mature_regrowth:  12%|██████▎                                               | 5/43 [00:04<00:33,  1.13it/s]"
     ]
    },
    {
     "name": "stdout",
     "output_type": "stream",
     "text": [
      "  Extracted 20000 values from polygon 7\n",
      "Successfully extracted 100000 sampled values. Memory: 434.7 MB\n",
      "Starting extraction. Memory usage: 411.8 MB\n",
      "Processing Mature_regrowth2.shp with CHM_uav5.tif\n",
      "Detected S-JTSK Krovak CRS. Manually setting target CRS to EPSG:5514\n",
      "Successfully reprojected to S-JTSK using EPSG:5514\n",
      "Current memory usage before zonal stats: 411.8 MB\n",
      "Sampling 5 polygons from 27 total\n",
      "  Extracted 20000 values from polygon 26\n",
      "  Extracted 20000 values from polygon 24\n",
      "  Extracted 20000 values from polygon 17\n",
      "  Extracted 20000 values from polygon 1\n",
      "  Extracted 20000 values from polygon 4\n"
     ]
    },
    {
     "name": "stderr",
     "output_type": "stream",
     "text": [
      "Rasters for mature_regrowth:  14%|███████▌                                              | 6/43 [00:04<00:30,  1.22it/s]"
     ]
    },
    {
     "name": "stdout",
     "output_type": "stream",
     "text": [
      "Successfully extracted 100000 sampled values. Memory: 457.1 MB\n",
      "Starting extraction. Memory usage: 417.4 MB\n",
      "Processing Mature_regrowth2.shp with CHM_uav6.tif\n",
      "Detected S-JTSK Krovak CRS. Manually setting target CRS to EPSG:5514\n",
      "Successfully reprojected to S-JTSK using EPSG:5514\n",
      "Current memory usage before zonal stats: 417.4 MB\n",
      "Sampling 5 polygons from 27 total\n",
      "  Extracted 20000 values from polygon 23\n",
      "  Extracted 20000 values from polygon 10\n",
      "  Extracted 20000 values from polygon 12\n",
      "  Extracted 20000 values from polygon 26\n",
      "  Extracted 20000 values from polygon 22\n"
     ]
    },
    {
     "name": "stderr",
     "output_type": "stream",
     "text": [
      "Rasters for mature_regrowth:  16%|████████▊                                             | 7/43 [00:05<00:31,  1.15it/s]"
     ]
    },
    {
     "name": "stdout",
     "output_type": "stream",
     "text": [
      "Successfully extracted 100000 sampled values. Memory: 450.7 MB\n",
      "Starting extraction. Memory usage: 419.4 MB\n",
      "Processing Mature_regrowth2.shp with CHM_uav7.tif\n",
      "Detected S-JTSK Krovak CRS. Manually setting target CRS to EPSG:5514\n",
      "Successfully reprojected to S-JTSK using EPSG:5514\n",
      "Current memory usage before zonal stats: 419.4 MB\n",
      "Sampling 5 polygons from 27 total\n",
      "  Extracted 20000 values from polygon 2\n",
      "  Extracted 20000 values from polygon 22\n",
      "  Extracted 20000 values from polygon 6\n",
      "  Extracted 20000 values from polygon 19\n",
      "  Extracted 20000 values from polygon 7\n"
     ]
    },
    {
     "name": "stderr",
     "output_type": "stream",
     "text": [
      "Rasters for mature_regrowth:  19%|██████████                                            | 8/43 [00:06<00:29,  1.20it/s]"
     ]
    },
    {
     "name": "stdout",
     "output_type": "stream",
     "text": [
      "Successfully extracted 100000 sampled values. Memory: 446.8 MB\n",
      "Starting extraction. Memory usage: 423.4 MB\n",
      "Processing Mature_regrowth2.shp with CHM_uav12.tif\n",
      "Detected S-JTSK Krovak CRS. Manually setting target CRS to EPSG:5514\n",
      "Successfully reprojected to S-JTSK using EPSG:5514\n",
      "Current memory usage before zonal stats: 423.4 MB\n",
      "Sampling 5 polygons from 27 total\n",
      "  Extracted 20000 values from polygon 8\n",
      "  Extracted 20000 values from polygon 23\n",
      "  Extracted 20000 values from polygon 24\n",
      "  Extracted 20000 values from polygon 10\n",
      "  Extracted 20000 values from polygon 16\n"
     ]
    },
    {
     "name": "stderr",
     "output_type": "stream",
     "text": [
      "Rasters for mature_regrowth:  21%|███████████▎                                          | 9/43 [00:07<00:28,  1.17it/s]"
     ]
    },
    {
     "name": "stdout",
     "output_type": "stream",
     "text": [
      "Successfully extracted 100000 sampled values. Memory: 461.5 MB\n",
      "Starting extraction. Memory usage: 419.2 MB\n",
      "Processing Mature_regrowth2.shp with CHM_uav13.tif\n",
      "Detected S-JTSK Krovak CRS. Manually setting target CRS to EPSG:5514\n",
      "Successfully reprojected to S-JTSK using EPSG:5514\n",
      "Current memory usage before zonal stats: 419.2 MB\n",
      "Sampling 5 polygons from 27 total\n",
      "  Extracted 20000 values from polygon 13\n",
      "  Extracted 20000 values from polygon 15\n",
      "  Extracted 20000 values from polygon 24\n",
      "  Extracted 20000 values from polygon 4\n",
      "  Extracted 20000 values from polygon 22\n"
     ]
    },
    {
     "name": "stderr",
     "output_type": "stream",
     "text": [
      "Rasters for mature_regrowth:  23%|████████████▎                                        | 10/43 [00:08<00:28,  1.16it/s]"
     ]
    },
    {
     "name": "stdout",
     "output_type": "stream",
     "text": [
      "Successfully extracted 100000 sampled values. Memory: 456.4 MB\n",
      "Starting extraction. Memory usage: 421.4 MB\n",
      "Processing Mature_regrowth2.shp with CHM_uav14.tif\n",
      "Detected S-JTSK Krovak CRS. Manually setting target CRS to EPSG:5514\n",
      "Successfully reprojected to S-JTSK using EPSG:5514\n",
      "Current memory usage before zonal stats: 421.4 MB\n",
      "Sampling 5 polygons from 27 total\n",
      "  Extracted 20000 values from polygon 17\n",
      "  Extracted 20000 values from polygon 18\n",
      "  Extracted 20000 values from polygon 15\n",
      "  Extracted 20000 values from polygon 6\n",
      "  Extracted 20000 values from polygon 23\n"
     ]
    },
    {
     "name": "stderr",
     "output_type": "stream",
     "text": [
      "Rasters for mature_regrowth:  26%|█████████████▌                                       | 11/43 [00:09<00:26,  1.21it/s]"
     ]
    },
    {
     "name": "stdout",
     "output_type": "stream",
     "text": [
      "Successfully extracted 100000 sampled values. Memory: 454.1 MB\n",
      "Starting extraction. Memory usage: 427.9 MB\n",
      "Processing Mature_regrowth2.shp with CHM_uav15.tif\n",
      "Detected S-JTSK Krovak CRS. Manually setting target CRS to EPSG:5514\n",
      "Successfully reprojected to S-JTSK using EPSG:5514\n",
      "Current memory usage before zonal stats: 427.9 MB\n",
      "Sampling 5 polygons from 27 total\n",
      "  Extracted 20000 values from polygon 9\n",
      "  Extracted 20000 values from polygon 20\n",
      "  Extracted 20000 values from polygon 23\n",
      "  Extracted 20000 values from polygon 17\n",
      "  Extracted 20000 values from polygon 13\n"
     ]
    },
    {
     "name": "stderr",
     "output_type": "stream",
     "text": [
      "Rasters for mature_regrowth:  28%|██████████████▊                                      | 12/43 [00:09<00:24,  1.29it/s]"
     ]
    },
    {
     "name": "stdout",
     "output_type": "stream",
     "text": [
      "Successfully extracted 100000 sampled values. Memory: 445.2 MB\n",
      "Starting extraction. Memory usage: 430.4 MB\n",
      "Processing Mature_regrowth2.shp with CHM_uav16.tif\n",
      "Detected S-JTSK Krovak CRS. Manually setting target CRS to EPSG:5514\n",
      "Successfully reprojected to S-JTSK using EPSG:5514\n",
      "Current memory usage before zonal stats: 430.4 MB\n",
      "Sampling 5 polygons from 27 total\n",
      "  Extracted 20000 values from polygon 10\n",
      "  Extracted 20000 values from polygon 9\n",
      "  Extracted 20000 values from polygon 21\n",
      "  Extracted 20000 values from polygon 16\n"
     ]
    },
    {
     "name": "stderr",
     "output_type": "stream",
     "text": [
      "Rasters for mature_regrowth:  30%|████████████████                                     | 13/43 [00:10<00:21,  1.39it/s]"
     ]
    },
    {
     "name": "stdout",
     "output_type": "stream",
     "text": [
      "  Extracted 20000 values from polygon 5\n",
      "Successfully extracted 100000 sampled values. Memory: 437.3 MB\n",
      "Starting extraction. Memory usage: 424.7 MB\n",
      "Processing Mature_regrowth2.shp with CHM_uav17.tif\n",
      "Detected S-JTSK Krovak CRS. Manually setting target CRS to EPSG:5514\n",
      "Successfully reprojected to S-JTSK using EPSG:5514\n",
      "Current memory usage before zonal stats: 424.7 MB\n",
      "Sampling 5 polygons from 27 total\n",
      "  Extracted 20000 values from polygon 7\n",
      "  Extracted 20000 values from polygon 1\n",
      "  Extracted 20000 values from polygon 23\n",
      "  Extracted 20000 values from polygon 13\n"
     ]
    },
    {
     "name": "stderr",
     "output_type": "stream",
     "text": [
      "Rasters for mature_regrowth:  33%|█████████████████▎                                   | 14/43 [00:11<00:25,  1.15it/s]"
     ]
    },
    {
     "name": "stdout",
     "output_type": "stream",
     "text": [
      "  Extracted 20000 values from polygon 3\n",
      "Successfully extracted 100000 sampled values. Memory: 649.2 MB\n",
      "Starting extraction. Memory usage: 427.3 MB\n",
      "Processing Mature_regrowth2.shp with CHM_uav18.tif\n",
      "Detected S-JTSK Krovak CRS. Manually setting target CRS to EPSG:5514\n",
      "Successfully reprojected to S-JTSK using EPSG:5514\n",
      "Current memory usage before zonal stats: 427.3 MB\n",
      "Sampling 5 polygons from 27 total\n",
      "  Extracted 20000 values from polygon 17\n",
      "  Extracted 20000 values from polygon 0\n",
      "  Extracted 20000 values from polygon 6\n",
      "  Extracted 20000 values from polygon 15\n",
      "  Extracted 20000 values from polygon 22\n"
     ]
    },
    {
     "name": "stderr",
     "output_type": "stream",
     "text": [
      "Rasters for mature_regrowth:  35%|██████████████████▍                                  | 15/43 [00:12<00:24,  1.16it/s]"
     ]
    },
    {
     "name": "stdout",
     "output_type": "stream",
     "text": [
      "Successfully extracted 100000 sampled values. Memory: 485.2 MB\n",
      "Starting extraction. Memory usage: 440.2 MB\n",
      "Processing Mature_regrowth2.shp with CHM_uav19.tif\n",
      "Detected S-JTSK Krovak CRS. Manually setting target CRS to EPSG:5514\n",
      "Successfully reprojected to S-JTSK using EPSG:5514\n",
      "Current memory usage before zonal stats: 440.2 MB\n",
      "Sampling 5 polygons from 27 total\n",
      "  Extracted 20000 values from polygon 8\n",
      "  Extracted 20000 values from polygon 16\n",
      "  Extracted 20000 values from polygon 5\n",
      "  Extracted 20000 values from polygon 13\n"
     ]
    },
    {
     "name": "stderr",
     "output_type": "stream",
     "text": [
      "Rasters for mature_regrowth:  37%|███████████████████▋                                 | 16/43 [00:13<00:22,  1.19it/s]"
     ]
    },
    {
     "name": "stdout",
     "output_type": "stream",
     "text": [
      "  Extracted 20000 values from polygon 4\n",
      "Successfully extracted 100000 sampled values. Memory: 488.6 MB\n",
      "Starting extraction. Memory usage: 435.0 MB\n",
      "Processing Mature_regrowth2.shp with CHM_uav20.tif\n",
      "Detected S-JTSK Krovak CRS. Manually setting target CRS to EPSG:5514\n",
      "Successfully reprojected to S-JTSK using EPSG:5514\n",
      "Current memory usage before zonal stats: 435.0 MB\n",
      "Sampling 5 polygons from 27 total\n",
      "  Extracted 20000 values from polygon 17\n",
      "  Extracted 20000 values from polygon 26\n",
      "  Extracted 20000 values from polygon 25\n",
      "  Extracted 20000 values from polygon 6\n",
      "  Extracted 20000 values from polygon 22\n"
     ]
    },
    {
     "name": "stderr",
     "output_type": "stream",
     "text": [
      "Rasters for mature_regrowth:  40%|████████████████████▉                                | 17/43 [00:13<00:20,  1.27it/s]"
     ]
    },
    {
     "name": "stdout",
     "output_type": "stream",
     "text": [
      "Successfully extracted 100000 sampled values. Memory: 463.2 MB\n",
      "Starting extraction. Memory usage: 442.8 MB\n",
      "Processing Mature_regrowth2.shp with CHM_uav21.tif\n",
      "Detected S-JTSK Krovak CRS. Manually setting target CRS to EPSG:5514\n",
      "Successfully reprojected to S-JTSK using EPSG:5514\n",
      "Current memory usage before zonal stats: 442.8 MB\n",
      "Sampling 5 polygons from 27 total\n",
      "  Extracted 20000 values from polygon 16\n",
      "  Extracted 20000 values from polygon 11\n",
      "  Extracted 20000 values from polygon 7\n",
      "  Extracted 20000 values from polygon 12\n",
      "  Extracted 20000 values from polygon 5\n"
     ]
    },
    {
     "name": "stderr",
     "output_type": "stream",
     "text": [
      "Rasters for mature_regrowth:  42%|██████████████████████▏                              | 18/43 [00:14<00:20,  1.25it/s]"
     ]
    },
    {
     "name": "stdout",
     "output_type": "stream",
     "text": [
      "Successfully extracted 100000 sampled values. Memory: 462.5 MB\n",
      "Starting extraction. Memory usage: 445.2 MB\n",
      "Processing Mature_regrowth2.shp with CHM_uav22.tif\n",
      "Detected S-JTSK Krovak CRS. Manually setting target CRS to EPSG:5514\n",
      "Successfully reprojected to S-JTSK using EPSG:5514\n",
      "Current memory usage before zonal stats: 445.2 MB\n",
      "Sampling 5 polygons from 27 total\n",
      "  Extracted 20000 values from polygon 6\n",
      "  Extracted 20000 values from polygon 10\n",
      "  Extracted 20000 values from polygon 13\n",
      "  Extracted 20000 values from polygon 17\n",
      "  Extracted 20000 values from polygon 0\n"
     ]
    },
    {
     "name": "stderr",
     "output_type": "stream",
     "text": [
      "Rasters for mature_regrowth:  44%|███████████████████████▍                             | 19/43 [00:15<00:18,  1.27it/s]"
     ]
    },
    {
     "name": "stdout",
     "output_type": "stream",
     "text": [
      "Successfully extracted 100000 sampled values. Memory: 467.2 MB\n",
      "Starting extraction. Memory usage: 447.9 MB\n",
      "Processing Mature_regrowth2.shp with CHM_uav23.tif\n",
      "Detected S-JTSK Krovak CRS. Manually setting target CRS to EPSG:5514\n",
      "Successfully reprojected to S-JTSK using EPSG:5514\n",
      "Current memory usage before zonal stats: 447.9 MB\n",
      "Sampling 5 polygons from 27 total\n",
      "  Extracted 20000 values from polygon 18\n",
      "  Extracted 20000 values from polygon 2\n",
      "  Extracted 20000 values from polygon 12\n",
      "  Extracted 20000 values from polygon 11\n"
     ]
    },
    {
     "name": "stderr",
     "output_type": "stream",
     "text": [
      "Rasters for mature_regrowth:  47%|████████████████████████▋                            | 20/43 [00:16<00:16,  1.40it/s]"
     ]
    },
    {
     "name": "stdout",
     "output_type": "stream",
     "text": [
      "  Extracted 20000 values from polygon 23\n",
      "Successfully extracted 100000 sampled values. Memory: 453.7 MB\n",
      "Starting extraction. Memory usage: 442.2 MB\n",
      "Processing Mature_regrowth2.shp with CHM_uav24.tif\n",
      "Detected S-JTSK Krovak CRS. Manually setting target CRS to EPSG:5514\n",
      "Successfully reprojected to S-JTSK using EPSG:5514\n",
      "Current memory usage before zonal stats: 442.2 MB\n",
      "Sampling 5 polygons from 27 total\n",
      "  Extracted 20000 values from polygon 1\n",
      "  Extracted 20000 values from polygon 25\n",
      "  Extracted 20000 values from polygon 8\n",
      "  Extracted 20000 values from polygon 17\n"
     ]
    },
    {
     "name": "stderr",
     "output_type": "stream",
     "text": [
      "Rasters for mature_regrowth:  49%|█████████████████████████▉                           | 21/43 [00:16<00:14,  1.52it/s]"
     ]
    },
    {
     "name": "stdout",
     "output_type": "stream",
     "text": [
      "  Extracted 20000 values from polygon 5\n",
      "Successfully extracted 100000 sampled values. Memory: 450.2 MB\n",
      "Starting extraction. Memory usage: 450.9 MB\n",
      "Processing Mature_regrowth2.shp with CHM_uav25.tif\n",
      "Detected S-JTSK Krovak CRS. Manually setting target CRS to EPSG:5514\n",
      "Successfully reprojected to S-JTSK using EPSG:5514\n",
      "Current memory usage before zonal stats: 450.9 MB\n",
      "Sampling 5 polygons from 27 total\n",
      "  Extracted 20000 values from polygon 20\n",
      "  Extracted 20000 values from polygon 23\n",
      "  Extracted 20000 values from polygon 16\n"
     ]
    },
    {
     "name": "stderr",
     "output_type": "stream",
     "text": [
      "Rasters for mature_regrowth:  51%|███████████████████████████                          | 22/43 [00:17<00:12,  1.62it/s]"
     ]
    },
    {
     "name": "stdout",
     "output_type": "stream",
     "text": [
      "  Extracted 20000 values from polygon 22\n",
      "  Extracted 20000 values from polygon 9\n",
      "Successfully extracted 100000 sampled values. Memory: 455.0 MB\n",
      "Starting extraction. Memory usage: 446.3 MB\n",
      "Processing Mature_regrowth2.shp with CHM_uav26.tif\n",
      "Detected S-JTSK Krovak CRS. Manually setting target CRS to EPSG:5514\n",
      "Successfully reprojected to S-JTSK using EPSG:5514\n",
      "Current memory usage before zonal stats: 446.3 MB\n",
      "Sampling 5 polygons from 27 total\n",
      "  Extracted 20000 values from polygon 20\n",
      "  Extracted 20000 values from polygon 24\n",
      "  Extracted 20000 values from polygon 4\n",
      "  Extracted 20000 values from polygon 15\n"
     ]
    },
    {
     "name": "stderr",
     "output_type": "stream",
     "text": [
      "Rasters for mature_regrowth:  53%|████████████████████████████▎                        | 23/43 [00:17<00:11,  1.68it/s]"
     ]
    },
    {
     "name": "stdout",
     "output_type": "stream",
     "text": [
      "  Extracted 20000 values from polygon 25\n",
      "Successfully extracted 100000 sampled values. Memory: 456.6 MB\n",
      "Starting extraction. Memory usage: 457.4 MB\n",
      "Processing Mature_regrowth2.shp with CHM_uav27.tif\n",
      "Detected S-JTSK Krovak CRS. Manually setting target CRS to EPSG:5514\n",
      "Successfully reprojected to S-JTSK using EPSG:5514\n",
      "Current memory usage before zonal stats: 457.4 MB\n",
      "Sampling 5 polygons from 27 total\n",
      "  Extracted 20000 values from polygon 13\n",
      "  Extracted 20000 values from polygon 9\n",
      "  Extracted 20000 values from polygon 7\n",
      "  Extracted 20000 values from polygon 16\n"
     ]
    },
    {
     "name": "stderr",
     "output_type": "stream",
     "text": [
      "Rasters for mature_regrowth:  56%|█████████████████████████████▌                       | 24/43 [00:18<00:10,  1.74it/s]"
     ]
    },
    {
     "name": "stdout",
     "output_type": "stream",
     "text": [
      "  Extracted 20000 values from polygon 18\n",
      "Successfully extracted 100000 sampled values. Memory: 459.3 MB\n",
      "Starting extraction. Memory usage: 451.7 MB\n",
      "Processing Mature_regrowth2.shp with CHM_uav28.tif\n",
      "Detected S-JTSK Krovak CRS. Manually setting target CRS to EPSG:5514\n",
      "Successfully reprojected to S-JTSK using EPSG:5514\n",
      "Current memory usage before zonal stats: 451.7 MB\n",
      "Sampling 5 polygons from 27 total\n",
      "  Extracted 20000 values from polygon 7\n",
      "  Extracted 20000 values from polygon 13\n",
      "  Extracted 20000 values from polygon 11\n",
      "  Extracted 20000 values from polygon 4\n"
     ]
    },
    {
     "name": "stderr",
     "output_type": "stream",
     "text": [
      "Rasters for mature_regrowth:  58%|██████████████████████████████▊                      | 25/43 [00:18<00:10,  1.78it/s]"
     ]
    },
    {
     "name": "stdout",
     "output_type": "stream",
     "text": [
      "  Extracted 20000 values from polygon 26\n",
      "Successfully extracted 100000 sampled values. Memory: 460.0 MB\n",
      "Starting extraction. Memory usage: 453.1 MB\n",
      "Processing Mature_regrowth2.shp with CHM_uav29.tif\n",
      "Detected S-JTSK Krovak CRS. Manually setting target CRS to EPSG:5514\n",
      "Successfully reprojected to S-JTSK using EPSG:5514\n",
      "Current memory usage before zonal stats: 453.1 MB\n",
      "Sampling 5 polygons from 27 total\n",
      "  Extracted 20000 values from polygon 16\n",
      "  Extracted 20000 values from polygon 20\n",
      "  Extracted 20000 values from polygon 22\n",
      "  Extracted 20000 values from polygon 9\n"
     ]
    },
    {
     "name": "stderr",
     "output_type": "stream",
     "text": [
      "Rasters for mature_regrowth:  60%|████████████████████████████████                     | 26/43 [00:19<00:09,  1.80it/s]"
     ]
    },
    {
     "name": "stdout",
     "output_type": "stream",
     "text": [
      "  Extracted 20000 values from polygon 15\n",
      "Successfully extracted 100000 sampled values. Memory: 462.9 MB\n",
      "Starting extraction. Memory usage: 455.6 MB\n",
      "Processing Mature_regrowth2.shp with CHM_uav30.tif\n",
      "Detected S-JTSK Krovak CRS. Manually setting target CRS to EPSG:5514\n",
      "Successfully reprojected to S-JTSK using EPSG:5514\n",
      "Current memory usage before zonal stats: 455.6 MB\n",
      "Sampling 5 polygons from 27 total\n",
      "  Extracted 20000 values from polygon 8\n",
      "  Extracted 20000 values from polygon 26\n",
      "  Extracted 20000 values from polygon 14\n"
     ]
    },
    {
     "name": "stderr",
     "output_type": "stream",
     "text": [
      "Rasters for mature_regrowth:  63%|█████████████████████████████████▎                   | 27/43 [00:19<00:08,  1.80it/s]"
     ]
    },
    {
     "name": "stdout",
     "output_type": "stream",
     "text": [
      "  Extracted 20000 values from polygon 3\n",
      "  Extracted 20000 values from polygon 18\n",
      "Successfully extracted 100000 sampled values. Memory: 468.0 MB\n",
      "Starting extraction. Memory usage: 458.5 MB\n",
      "Processing Mature_regrowth2.shp with CHM_uav31.tif\n",
      "Detected S-JTSK Krovak CRS. Manually setting target CRS to EPSG:5514\n",
      "Successfully reprojected to S-JTSK using EPSG:5514\n",
      "Current memory usage before zonal stats: 458.5 MB\n",
      "Sampling 5 polygons from 27 total\n",
      "  Extracted 20000 values from polygon 9\n",
      "  Extracted 20000 values from polygon 5\n",
      "  Extracted 20000 values from polygon 4\n",
      "  Extracted 20000 values from polygon 2\n"
     ]
    },
    {
     "name": "stderr",
     "output_type": "stream",
     "text": [
      "Rasters for mature_regrowth:  65%|██████████████████████████████████▌                  | 28/43 [00:20<00:08,  1.82it/s]"
     ]
    },
    {
     "name": "stdout",
     "output_type": "stream",
     "text": [
      "  Extracted 20000 values from polygon 8\n",
      "Successfully extracted 100000 sampled values. Memory: 466.1 MB\n",
      "Starting extraction. Memory usage: 466.9 MB\n",
      "Processing Mature_regrowth2.shp with CHM_uav32.tif\n",
      "Detected S-JTSK Krovak CRS. Manually setting target CRS to EPSG:5514\n",
      "Successfully reprojected to S-JTSK using EPSG:5514\n",
      "Current memory usage before zonal stats: 466.9 MB\n",
      "Sampling 5 polygons from 27 total\n",
      "  Extracted 20000 values from polygon 10\n",
      "  Extracted 20000 values from polygon 24\n",
      "  Extracted 20000 values from polygon 7\n"
     ]
    },
    {
     "name": "stderr",
     "output_type": "stream",
     "text": [
      "Rasters for mature_regrowth:  67%|███████████████████████████████████▋                 | 29/43 [00:20<00:07,  1.82it/s]"
     ]
    },
    {
     "name": "stdout",
     "output_type": "stream",
     "text": [
      "  Extracted 20000 values from polygon 6\n",
      "  Extracted 20000 values from polygon 20\n",
      "Successfully extracted 100000 sampled values. Memory: 468.7 MB\n",
      "Starting extraction. Memory usage: 469.6 MB\n",
      "Processing Mature_regrowth2.shp with CHM_uav33.tif\n",
      "Detected S-JTSK Krovak CRS. Manually setting target CRS to EPSG:5514\n",
      "Successfully reprojected to S-JTSK using EPSG:5514\n",
      "Current memory usage before zonal stats: 469.6 MB\n",
      "Sampling 5 polygons from 27 total\n",
      "  Extracted 20000 values from polygon 9\n",
      "  Extracted 20000 values from polygon 17\n",
      "  Extracted 20000 values from polygon 19\n",
      "  Extracted 20000 values from polygon 23\n"
     ]
    },
    {
     "name": "stderr",
     "output_type": "stream",
     "text": [
      "Rasters for mature_regrowth:  70%|████████████████████████████████████▉                | 30/43 [00:21<00:07,  1.81it/s]"
     ]
    },
    {
     "name": "stdout",
     "output_type": "stream",
     "text": [
      "  Extracted 20000 values from polygon 21\n",
      "Successfully extracted 100000 sampled values. Memory: 475.3 MB\n",
      "Starting extraction. Memory usage: 465.4 MB\n",
      "Processing Mature_regrowth2.shp with CHM_uav34.tif\n",
      "Detected S-JTSK Krovak CRS. Manually setting target CRS to EPSG:5514\n",
      "Successfully reprojected to S-JTSK using EPSG:5514\n",
      "Current memory usage before zonal stats: 465.4 MB\n",
      "Sampling 5 polygons from 27 total\n",
      "  Extracted 20000 values from polygon 4\n",
      "  Extracted 20000 values from polygon 13\n",
      "  Extracted 20000 values from polygon 17\n",
      "  Extracted 20000 values from polygon 18\n",
      "  Extracted 20000 values from polygon 20\n",
      "Successfully extracted 100000 sampled values. Memory: 474.0 MB\n"
     ]
    },
    {
     "name": "stderr",
     "output_type": "stream",
     "text": [
      "Rasters for mature_regrowth:  72%|██████████████████████████████████████▏              | 31/43 [00:21<00:06,  1.81it/s]"
     ]
    },
    {
     "name": "stdout",
     "output_type": "stream",
     "text": [
      "Starting extraction. Memory usage: 466.6 MB\n",
      "Processing Mature_regrowth2.shp with CHM_uav35.tif\n",
      "Detected S-JTSK Krovak CRS. Manually setting target CRS to EPSG:5514\n",
      "Successfully reprojected to S-JTSK using EPSG:5514\n",
      "Current memory usage before zonal stats: 466.6 MB\n",
      "Sampling 5 polygons from 27 total\n",
      "  Extracted 20000 values from polygon 2\n",
      "  Extracted 20000 values from polygon 17\n",
      "  Extracted 20000 values from polygon 4\n",
      "  Extracted 20000 values from polygon 22\n",
      "  Extracted 20000 values from polygon 6\n"
     ]
    },
    {
     "name": "stderr",
     "output_type": "stream",
     "text": [
      "Rasters for mature_regrowth:  74%|███████████████████████████████████████▍             | 32/43 [00:22<00:06,  1.60it/s]"
     ]
    },
    {
     "name": "stdout",
     "output_type": "stream",
     "text": [
      "Successfully extracted 100000 sampled values. Memory: 481.0 MB\n",
      "Starting extraction. Memory usage: 468.9 MB\n",
      "Processing Mature_regrowth2.shp with CHM_uav36.tif\n",
      "Detected S-JTSK Krovak CRS. Manually setting target CRS to EPSG:5514\n",
      "Successfully reprojected to S-JTSK using EPSG:5514\n",
      "Current memory usage before zonal stats: 468.9 MB\n",
      "Sampling 5 polygons from 27 total\n",
      "  Extracted 20000 values from polygon 15\n",
      "  Extracted 20000 values from polygon 9\n",
      "  Extracted 20000 values from polygon 17\n",
      "  Extracted 20000 values from polygon 24\n"
     ]
    },
    {
     "name": "stderr",
     "output_type": "stream",
     "text": [
      "Rasters for mature_regrowth:  77%|████████████████████████████████████████▋            | 33/43 [00:23<00:06,  1.46it/s]"
     ]
    },
    {
     "name": "stdout",
     "output_type": "stream",
     "text": [
      "  Extracted 20000 values from polygon 4\n",
      "Successfully extracted 100000 sampled values. Memory: 548.5 MB\n",
      "Starting extraction. Memory usage: 477.3 MB\n",
      "Processing Mature_regrowth2.shp with CHM_uav37.tif\n",
      "Detected S-JTSK Krovak CRS. Manually setting target CRS to EPSG:5514\n",
      "Successfully reprojected to S-JTSK using EPSG:5514\n",
      "Current memory usage before zonal stats: 477.3 MB\n",
      "Sampling 5 polygons from 27 total\n",
      "  Extracted 20000 values from polygon 17\n",
      "  Extracted 20000 values from polygon 25\n",
      "  Extracted 20000 values from polygon 23\n",
      "  Extracted 20000 values from polygon 22\n",
      "  Extracted 20000 values from polygon 9\n"
     ]
    },
    {
     "name": "stderr",
     "output_type": "stream",
     "text": [
      "Rasters for mature_regrowth:  79%|█████████████████████████████████████████▉           | 34/43 [00:24<00:06,  1.42it/s]"
     ]
    },
    {
     "name": "stdout",
     "output_type": "stream",
     "text": [
      "Successfully extracted 100000 sampled values. Memory: 502.1 MB\n",
      "Starting extraction. Memory usage: 478.3 MB\n",
      "Processing Mature_regrowth2.shp with CHM_uav38.tif\n",
      "Detected S-JTSK Krovak CRS. Manually setting target CRS to EPSG:5514\n",
      "Successfully reprojected to S-JTSK using EPSG:5514\n",
      "Current memory usage before zonal stats: 478.3 MB\n",
      "Sampling 5 polygons from 27 total\n",
      "  Extracted 20000 values from polygon 11\n",
      "  Extracted 20000 values from polygon 13\n",
      "  Extracted 20000 values from polygon 0\n",
      "  Extracted 20000 values from polygon 5\n",
      "  Extracted 20000 values from polygon 20\n"
     ]
    },
    {
     "name": "stderr",
     "output_type": "stream",
     "text": [
      "Rasters for mature_regrowth:  81%|███████████████████████████████████████████▏         | 35/43 [00:25<00:05,  1.39it/s]"
     ]
    },
    {
     "name": "stdout",
     "output_type": "stream",
     "text": [
      "Successfully extracted 100000 sampled values. Memory: 511.4 MB\n",
      "Starting extraction. Memory usage: 481.9 MB\n",
      "Processing Mature_regrowth2.shp with CHM_uav39.tif\n",
      "Detected S-JTSK Krovak CRS. Manually setting target CRS to EPSG:5514\n",
      "Successfully reprojected to S-JTSK using EPSG:5514\n",
      "Current memory usage before zonal stats: 481.9 MB\n",
      "Sampling 5 polygons from 27 total\n",
      "  Extracted 20000 values from polygon 19\n",
      "  Extracted 20000 values from polygon 25\n",
      "  Extracted 20000 values from polygon 2\n",
      "  Extracted 20000 values from polygon 18\n",
      "  Extracted 20000 values from polygon 14\n"
     ]
    },
    {
     "name": "stderr",
     "output_type": "stream",
     "text": [
      "Rasters for mature_regrowth:  84%|████████████████████████████████████████████▎        | 36/43 [00:26<00:05,  1.27it/s]"
     ]
    },
    {
     "name": "stdout",
     "output_type": "stream",
     "text": [
      "Successfully extracted 100000 sampled values. Memory: 526.1 MB\n",
      "Starting extraction. Memory usage: 484.2 MB\n",
      "Processing Mature_regrowth2.shp with CHM_uav40.tif\n",
      "Detected S-JTSK Krovak CRS. Manually setting target CRS to EPSG:5514\n",
      "Successfully reprojected to S-JTSK using EPSG:5514\n",
      "Current memory usage before zonal stats: 484.2 MB\n",
      "Sampling 5 polygons from 27 total\n",
      "  Extracted 20000 values from polygon 17\n",
      "  Extracted 20000 values from polygon 3\n",
      "  Extracted 20000 values from polygon 1\n",
      "  Extracted 20000 values from polygon 6\n"
     ]
    },
    {
     "name": "stderr",
     "output_type": "stream",
     "text": [
      "Rasters for mature_regrowth:  86%|█████████████████████████████████████████████▌       | 37/43 [00:27<00:05,  1.11it/s]"
     ]
    },
    {
     "name": "stdout",
     "output_type": "stream",
     "text": [
      "  Extracted 20000 values from polygon 10\n",
      "Successfully extracted 100000 sampled values. Memory: 557.7 MB\n",
      "Starting extraction. Memory usage: 491.9 MB\n",
      "Processing Mature_regrowth2.shp with CHM_uav41.tif\n",
      "Detected S-JTSK Krovak CRS. Manually setting target CRS to EPSG:5514\n",
      "Successfully reprojected to S-JTSK using EPSG:5514\n",
      "Current memory usage before zonal stats: 491.9 MB\n",
      "Sampling 5 polygons from 27 total\n",
      "  Extracted 20000 values from polygon 7\n",
      "  Extracted 20000 values from polygon 23\n",
      "  Extracted 20000 values from polygon 20\n",
      "  Extracted 20000 values from polygon 10\n",
      "  Extracted 20000 values from polygon 24\n"
     ]
    },
    {
     "name": "stderr",
     "output_type": "stream",
     "text": [
      "Rasters for mature_regrowth:  88%|██████████████████████████████████████████████▊      | 38/43 [00:28<00:04,  1.08it/s]"
     ]
    },
    {
     "name": "stdout",
     "output_type": "stream",
     "text": [
      "Successfully extracted 100000 sampled values. Memory: 534.7 MB\n",
      "Starting extraction. Memory usage: 494.1 MB\n",
      "Processing Mature_regrowth2.shp with CHM_uav42.tif\n",
      "Detected S-JTSK Krovak CRS. Manually setting target CRS to EPSG:5514\n",
      "Successfully reprojected to S-JTSK using EPSG:5514\n",
      "Current memory usage before zonal stats: 494.1 MB\n",
      "Sampling 5 polygons from 27 total\n",
      "  Extracted 20000 values from polygon 25\n",
      "  Extracted 20000 values from polygon 7\n",
      "  Extracted 20000 values from polygon 16\n",
      "  Extracted 20000 values from polygon 1\n",
      "  Extracted 20000 values from polygon 12\n"
     ]
    },
    {
     "name": "stderr",
     "output_type": "stream",
     "text": [
      "Rasters for mature_regrowth:  91%|████████████████████████████████████████████████     | 39/43 [00:29<00:03,  1.10it/s]"
     ]
    },
    {
     "name": "stdout",
     "output_type": "stream",
     "text": [
      "Successfully extracted 100000 sampled values. Memory: 553.3 MB\n",
      "Starting extraction. Memory usage: 484.9 MB\n",
      "Processing Mature_regrowth2.shp with CHM_uav43.tif\n",
      "Detected S-JTSK Krovak CRS. Manually setting target CRS to EPSG:5514\n",
      "Successfully reprojected to S-JTSK using EPSG:5514\n",
      "Current memory usage before zonal stats: 484.9 MB\n",
      "Sampling 5 polygons from 27 total\n",
      "  Extracted 20000 values from polygon 13\n",
      "  Extracted 20000 values from polygon 25\n",
      "  Extracted 20000 values from polygon 8\n",
      "  Extracted 20000 values from polygon 21\n",
      "  Extracted 20000 values from polygon 7\n"
     ]
    },
    {
     "name": "stderr",
     "output_type": "stream",
     "text": [
      "Rasters for mature_regrowth:  93%|█████████████████████████████████████████████████▎   | 40/43 [00:29<00:02,  1.12it/s]"
     ]
    },
    {
     "name": "stdout",
     "output_type": "stream",
     "text": [
      "Successfully extracted 100000 sampled values. Memory: 529.5 MB\n",
      "Starting extraction. Memory usage: 495.1 MB\n",
      "Processing Mature_regrowth2.shp with CHM_uav44.tif\n",
      "Detected S-JTSK Krovak CRS. Manually setting target CRS to EPSG:5514\n",
      "Successfully reprojected to S-JTSK using EPSG:5514\n",
      "Current memory usage before zonal stats: 495.1 MB\n",
      "Sampling 5 polygons from 27 total\n",
      "  Extracted 20000 values from polygon 11\n",
      "  Extracted 20000 values from polygon 9\n",
      "  Extracted 20000 values from polygon 8\n",
      "  Extracted 20000 values from polygon 2\n"
     ]
    },
    {
     "name": "stderr",
     "output_type": "stream",
     "text": [
      "Rasters for mature_regrowth:  95%|██████████████████████████████████████████████████▌  | 41/43 [00:30<00:01,  1.10it/s]"
     ]
    },
    {
     "name": "stdout",
     "output_type": "stream",
     "text": [
      "  Extracted 20000 values from polygon 18\n",
      "Successfully extracted 100000 sampled values. Memory: 566.3 MB\n",
      "Starting extraction. Memory usage: 494.3 MB\n",
      "Processing Mature_regrowth2.shp with CHM_uav45.tif\n",
      "Detected S-JTSK Krovak CRS. Manually setting target CRS to EPSG:5514\n",
      "Successfully reprojected to S-JTSK using EPSG:5514\n",
      "Current memory usage before zonal stats: 494.3 MB\n",
      "Sampling 5 polygons from 27 total\n",
      "  Extracted 20000 values from polygon 18\n",
      "  Extracted 20000 values from polygon 12\n",
      "  Extracted 20000 values from polygon 7\n",
      "  Extracted 20000 values from polygon 20\n"
     ]
    },
    {
     "name": "stderr",
     "output_type": "stream",
     "text": [
      "Rasters for mature_regrowth:  98%|███████████████████████████████████████████████████▊ | 42/43 [00:32<00:01,  1.09s/it]"
     ]
    },
    {
     "name": "stdout",
     "output_type": "stream",
     "text": [
      "  Extracted 20000 values from polygon 3\n",
      "Successfully extracted 100000 sampled values. Memory: 804.9 MB\n",
      "Starting extraction. Memory usage: 497.1 MB\n",
      "Processing Mature_regrowth2.shp with CHM_uav46.tif\n",
      "Detected S-JTSK Krovak CRS. Manually setting target CRS to EPSG:5514\n",
      "Successfully reprojected to S-JTSK using EPSG:5514\n",
      "Current memory usage before zonal stats: 497.1 MB\n",
      "Sampling 5 polygons from 27 total\n",
      "  Extracted 20000 values from polygon 22\n",
      "  Extracted 20000 values from polygon 25\n",
      "  Extracted 20000 values from polygon 23\n",
      "  Extracted 20000 values from polygon 1\n",
      "  Extracted 20000 values from polygon 13\n"
     ]
    },
    {
     "name": "stderr",
     "output_type": "stream",
     "text": [
      "Rasters for mature_regrowth: 100%|█████████████████████████████████████████████████████| 43/43 [00:33<00:00,  1.29it/s]"
     ]
    },
    {
     "name": "stdout",
     "output_type": "stream",
     "text": [
      "Successfully extracted 100000 sampled values. Memory: 524.3 MB\n",
      "Collected 4286662 pixel values for mature_regrowth\n",
      "\n",
      "====== Creating publication-quality separate figures ======\n",
      "\n",
      "Processing figure for baresoil...\n",
      "Converting object array to numeric (sample: [None -1.7976931348623157e+308 -1.7976931348623157e+308 None\n",
      " -1.7976931348623157e+308])\n"
     ]
    },
    {
     "name": "stderr",
     "output_type": "stream",
     "text": [
      "\n"
     ]
    },
    {
     "name": "stdout",
     "output_type": "stream",
     "text": [
      "Error converting to numeric: 'numpy.ndarray' object has no attribute 'dropna'\n",
      "Manual conversion yielded 1931948 numeric values\n",
      "baresoil filtered data: min=-0.5, max=30.9326171875, mean=2.3694440985440393, median=0.2\n"
     ]
    },
    {
     "name": "stderr",
     "output_type": "stream",
     "text": [
      "The PostScript backend does not support transparency; partially transparent artists will be rendered opaque.\n"
     ]
    },
    {
     "name": "stdout",
     "output_type": "stream",
     "text": [
      "Publication-quality figure for baresoil saved in multiple formats\n",
      "Statistics for baresoil saved to CSV and Excel\n",
      "\n",
      "Processing figure for early_regrowth...\n",
      "Converting object array to numeric (sample: [-1.7976931348623157e+308 -1.7976931348623157e+308\n",
      " -1.7976931348623157e+308 None -1.7976931348623157e+308])\n",
      "Error converting to numeric: 'numpy.ndarray' object has no attribute 'dropna'\n",
      "Manual conversion yielded 2127297 numeric values\n",
      "early_regrowth filtered data: min=-0.49920654296875, max=40.6458740234375, mean=0.4914666136878065, median=0.1\n"
     ]
    },
    {
     "name": "stderr",
     "output_type": "stream",
     "text": [
      "The PostScript backend does not support transparency; partially transparent artists will be rendered opaque.\n"
     ]
    },
    {
     "name": "stdout",
     "output_type": "stream",
     "text": [
      "Publication-quality figure for early_regrowth saved in multiple formats\n",
      "Statistics for early_regrowth saved to CSV and Excel\n",
      "\n",
      "Processing figure for mature_regrowth...\n",
      "Converting object array to numeric (sample: [-1.7976931348623157e+308 None None -1.7976931348623157e+308 None])\n",
      "Error converting to numeric: 'numpy.ndarray' object has no attribute 'dropna'\n",
      "Manual conversion yielded 2132778 numeric values\n",
      "mature_regrowth filtered data: min=-0.59814453125, max=12.099853515625, mean=3.6621676600447035, median=3.39935302734375\n"
     ]
    },
    {
     "name": "stderr",
     "output_type": "stream",
     "text": [
      "The PostScript backend does not support transparency; partially transparent artists will be rendered opaque.\n"
     ]
    },
    {
     "name": "stdout",
     "output_type": "stream",
     "text": [
      "Publication-quality figure for mature_regrowth saved in multiple formats\n",
      "Statistics for mature_regrowth saved to CSV and Excel\n",
      "\n",
      "====== Creating summary statistics table ======\n",
      "Converting object array to numeric (sample: [None -1.7976931348623157e+308 -1.7976931348623157e+308 None\n",
      " -1.7976931348623157e+308])\n",
      "Error converting to numeric: 'numpy.ndarray' object has no attribute 'dropna'\n",
      "Manual conversion yielded 1931948 numeric values\n",
      "Successfully calculated summary statistics for baresoil\n",
      "Converting object array to numeric (sample: [-1.7976931348623157e+308 -1.7976931348623157e+308\n",
      " -1.7976931348623157e+308 None -1.7976931348623157e+308])\n",
      "Error converting to numeric: 'numpy.ndarray' object has no attribute 'dropna'\n",
      "Manual conversion yielded 2127297 numeric values\n",
      "Successfully calculated summary statistics for early_regrowth\n",
      "Converting object array to numeric (sample: [-1.7976931348623157e+308 None None -1.7976931348623157e+308 None])\n",
      "Error converting to numeric: 'numpy.ndarray' object has no attribute 'dropna'\n",
      "Manual conversion yielded 2132778 numeric values\n",
      "Successfully calculated summary statistics for mature_regrowth\n",
      "Error saving formatted Excel summary: 'Workbook' object has no attribute 'add_format'\n",
      "Summary table saved to H:/classification\\results\\canopy_height_summary.csv only\n",
      "\n",
      "Analysis complete! Results saved to: H:/classification\\results\n"
     ]
    }
   ],
   "source": [
    "# Import packages for memory monitoring\n",
    "import os\n",
    "import gc\n",
    "import numpy as np\n",
    "import pandas as pd\n",
    "import geopandas as gpd\n",
    "import rasterio\n",
    "import pyproj\n",
    "from rasterio.mask import mask\n",
    "import matplotlib.pyplot as plt\n",
    "from rasterstats import zonal_stats\n",
    "import glob\n",
    "from tqdm import tqdm\n",
    "import warnings\n",
    "import psutil  # For memory monitoring\n",
    "\n",
    "# Suppress common warnings\n",
    "warnings.filterwarnings(\"ignore\", category=UserWarning)\n",
    "warnings.filterwarnings(\"ignore\", category=FutureWarning)\n",
    "\n",
    "# Memory monitor function\n",
    "def get_memory_usage():\n",
    "    \"\"\"Return the current memory usage in MB\"\"\"\n",
    "    process = psutil.Process(os.getpid())\n",
    "    mem_info = process.memory_info()\n",
    "    return mem_info.rss / 1024 / 1024  # Convert to MB\n",
    "\n",
    "# Configuration parameters\n",
    "MAX_SAMPLE_SIZE = 100000  # Maximum number of pixels to sample per shapefile and raster\n",
    "MEMORY_THRESHOLD_MB = 1000  # Trigger memory optimization if usage exceeds this value\n",
    "CHUNK_SIZE = 520  # Size of chunks when reading large rasters\n",
    "\n",
    "# Set folders\n",
    "data_folder = \"H:/classification\"  # Replace with your actual folder path\n",
    "shapefile_folder = os.path.join(data_folder, \"shapefiles\")\n",
    "raster_folder = os.path.join(data_folder, \"rasters\")\n",
    "output_folder = os.path.join(data_folder, \"results\")\n",
    "\n",
    "# Create output folder if it doesn't exist\n",
    "os.makedirs(output_folder, exist_ok=True)\n",
    "\n",
    "# Define shapefiles and raster patterns\n",
    "shapefiles = {\n",
    "    \"baresoil\": os.path.join(shapefile_folder, \"Baresoil.shp\"),\n",
    "    \"early_regrowth\": os.path.join(shapefile_folder, \"Early_regrowth.shp\"),\n",
    "    \"mature_regrowth\": os.path.join(shapefile_folder, \"Mature_regrowth2.shp\")\n",
    "}\n",
    "\n",
    "# Find all raster files - using CHM pattern based on error message\n",
    "raster_files = glob.glob(os.path.join(raster_folder, \"CHM_uav*.tif\"))\n",
    "print(f\"Found {len(raster_files)} raster files\")\n",
    "\n",
    "# Create a log file for errors\n",
    "log_file = os.path.join(output_folder, \"processing_log.txt\")\n",
    "with open(log_file, 'w') as f:\n",
    "    f.write(\"Canopy Height Processing Log\\n\")\n",
    "    f.write(\"--------------------------\\n\")\n",
    "\n",
    "def log_message(message):\n",
    "    \"\"\"Write message to log file and print to console\"\"\"\n",
    "    print(message)\n",
    "    with open(log_file, 'a') as f:\n",
    "        f.write(message + \"\\n\")\n",
    "\n",
    "# Function to clean and validate data for analysis\n",
    "def clean_data_for_analysis(values):\n",
    "    \"\"\"Convert values to numeric and filter invalid entries\"\"\"\n",
    "    if not values or len(values) == 0:\n",
    "        return np.array([])\n",
    "        \n",
    "    # First, convert list to numpy array if it's not already\n",
    "    if not isinstance(values, np.ndarray):\n",
    "        values_array = np.array(values, dtype=object)\n",
    "    else:\n",
    "        values_array = values\n",
    "    \n",
    "    # Check if we need to convert from object type to numeric\n",
    "    if values_array.dtype.kind == 'O':  # Object type\n",
    "        log_message(f\"Converting object array to numeric (sample: {values_array[:5]})\")\n",
    "        \n",
    "        # Filter out None values first\n",
    "        values_filtered = [v for v in values_array if v is not None]\n",
    "        \n",
    "        if len(values_filtered) == 0:\n",
    "            log_message(\"All values were None, returning empty array\")\n",
    "            return np.array([])\n",
    "            \n",
    "        # Try to convert to float\n",
    "        try:\n",
    "            # Use pandas for better mixed-type conversion\n",
    "            import pandas as pd\n",
    "            numeric_values = pd.to_numeric(values_filtered, errors='coerce').dropna().values\n",
    "            log_message(f\"Converted {len(numeric_values)} values to numeric (out of {len(values_filtered)})\")\n",
    "            \n",
    "            if len(numeric_values) == 0:\n",
    "                log_message(\"No valid numeric values after conversion\")\n",
    "                return np.array([])\n",
    "                \n",
    "            return numeric_values\n",
    "        except Exception as e:\n",
    "            log_message(f\"Error converting to numeric: {str(e)}\")\n",
    "            \n",
    "            # Manual conversion as fallback\n",
    "            numeric_values = []\n",
    "            for v in values_filtered:\n",
    "                try:\n",
    "                    if v is not None:\n",
    "                        numeric_values.append(float(v))\n",
    "                except (ValueError, TypeError):\n",
    "                    continue\n",
    "                    \n",
    "            log_message(f\"Manual conversion yielded {len(numeric_values)} numeric values\")\n",
    "            return np.array(numeric_values)\n",
    "    else:\n",
    "        # Already numeric type, just filter NaN and inf values if float\n",
    "        if values_array.dtype.kind in 'fc':  # float or complex\n",
    "            mask = ~np.isnan(values_array) & np.isfinite(values_array)\n",
    "            return values_array[mask]\n",
    "        else:\n",
    "            # For integers, just return as is\n",
    "            return values_array\n",
    "\n",
    "# Function to verify and fix CRS issues\n",
    "def fix_crs_issues(gdf, raster_path):\n",
    "    \"\"\"Try multiple approaches to fix CRS issues between shapefile and raster\"\"\"\n",
    "    try:\n",
    "        # Handle missing CRS in shapefile\n",
    "        if gdf.crs is None:\n",
    "            log_message(f\"Shapefile has no CRS defined. Setting to EPSG:4326 (WGS84)\")\n",
    "            gdf = gdf.set_crs(epsg=4326)\n",
    "        \n",
    "        # Check if raster path contains \"S-JTSK\" or \"Krovak\" in its CRS\n",
    "        # This is a special case for Czech/Slovak S-JTSK Krovak projection\n",
    "        if \"CHM_uav\" in raster_path:\n",
    "            # Based on the error messages, we're dealing with EPSG:5514 (S-JTSK / Krovak East North)\n",
    "            log_message(f\"Detected S-JTSK Krovak CRS. Manually setting target CRS to EPSG:5514\")\n",
    "            \n",
    "            # Instead of reading the raster CRS (which seems to be problematic),\n",
    "            # manually define the S-JTSK / Krovak East North projection using EPSG code\n",
    "            try:\n",
    "                # First try with EPSG code (most reliable if supported)\n",
    "                target_crs = \"EPSG:5514\"\n",
    "                gdf_projected = gdf.to_crs(target_crs)\n",
    "                log_message(\"Successfully reprojected to S-JTSK using EPSG:5514\")\n",
    "                return gdf_projected, None\n",
    "            except Exception as e1:\n",
    "                log_message(f\"EPSG:5514 reprojection failed: {str(e1)}\")\n",
    "                \n",
    "                # Try using a detailed WKT string for S-JTSK\n",
    "                try:\n",
    "                    # Standard WKT definition for S-JTSK / Krovak East North\n",
    "                    s_jtsk_wkt = \"\"\"\n",
    "                    PROJCS[\"S-JTSK / Krovak East North\",\n",
    "                        GEOGCS[\"S-JTSK\",\n",
    "                            DATUM[\"System_of_the_Unified_Trigonometrical_Cadastral_Network\",\n",
    "                                SPHEROID[\"Bessel 1841\",6377397.155,299.1528128,\n",
    "                                    AUTHORITY[\"EPSG\",\"7004\"]],\n",
    "                                TOWGS84[589,76,480,0,0,0,0],\n",
    "                                AUTHORITY[\"EPSG\",\"6156\"]],\n",
    "                            PRIMEM[\"Greenwich\",0,\n",
    "                                AUTHORITY[\"EPSG\",\"8901\"]],\n",
    "                            UNIT[\"degree\",0.0174532925199433,\n",
    "                                AUTHORITY[\"EPSG\",\"9122\"]],\n",
    "                            AUTHORITY[\"EPSG\",\"4156\"]],\n",
    "                        PROJECTION[\"Krovak\"],\n",
    "                        PARAMETER[\"latitude_of_center\",49.5],\n",
    "                        PARAMETER[\"longitude_of_center\",24.83333333333333],\n",
    "                        PARAMETER[\"azimuth\",30.28813972222222],\n",
    "                        PARAMETER[\"pseudo_standard_parallel_1\",78.5],\n",
    "                        PARAMETER[\"scale_factor\",0.9999],\n",
    "                        PARAMETER[\"false_easting\",0],\n",
    "                        PARAMETER[\"false_northing\",0],\n",
    "                        UNIT[\"metre\",1,\n",
    "                            AUTHORITY[\"EPSG\",\"9001\"]],\n",
    "                        AXIS[\"X\",EAST],\n",
    "                        AXIS[\"Y\",NORTH],\n",
    "                        AUTHORITY[\"EPSG\",\"5514\"]]\n",
    "                    \"\"\"\n",
    "                    gdf_projected = gdf.to_crs(s_jtsk_wkt)\n",
    "                    log_message(\"Successfully reprojected to S-JTSK using WKT definition\")\n",
    "                    return gdf_projected, None\n",
    "                except Exception as e2:\n",
    "                    log_message(f\"WKT reprojection failed: {str(e2)}\")\n",
    "                    \n",
    "                    # As a last resort, try with explicit coordinate operation\n",
    "                    try:\n",
    "                        log_message(\"Attempting direct coordinate transformation...\")\n",
    "                        # Create custom transformation pipeline\n",
    "                        transformer = pyproj.Transformer.from_pipeline(\n",
    "                            \"+proj=pipeline +step +proj=unitconvert +xy_in=deg +xy_out=rad \"\n",
    "                            \"+step +proj=krovak +lat_0=49.5 +lon_0=24.83333333333333 \"\n",
    "                            \"+alpha=30.28813972222222 +k=0.9999 +x_0=0 +y_0=0\"\n",
    "                        )\n",
    "                        \n",
    "                        # Manual transformation\n",
    "                        transformed_geometries = []\n",
    "                        for geom in gdf.geometry:\n",
    "                            if geom.geom_type == 'Polygon':\n",
    "                                # Transform each point in the polygon\n",
    "                                exterior_coords = []\n",
    "                                for x, y in geom.exterior.coords:\n",
    "                                    e, n = transformer.transform(y, x)  # Note: y, x order for lon, lat\n",
    "                                    exterior_coords.append((e, n))\n",
    "                                \n",
    "                                # Create new polygon with transformed coordinates\n",
    "                                transformed_geometries.append(\n",
    "                                    gpd.GeoSeries([gpd.geom.Polygon(exterior_coords)], crs=\"EPSG:5514\")[0]\n",
    "                                )\n",
    "                            else:\n",
    "                                # Skip non-polygon geometries\n",
    "                                log_message(f\"Skipping non-polygon geometry: {geom.geom_type}\")\n",
    "                        \n",
    "                        # Create new GeoDataFrame with transformed geometries\n",
    "                        gdf_projected = gpd.GeoDataFrame(\n",
    "                            gdf.drop(columns='geometry'),\n",
    "                            geometry=transformed_geometries,\n",
    "                            crs=\"EPSG:5514\"\n",
    "                        )\n",
    "                        \n",
    "                        log_message(\"Successfully completed manual point-by-point transformation\")\n",
    "                        return gdf_projected, None\n",
    "                    except Exception as e3:\n",
    "                        log_message(f\"Manual transformation failed: {str(e3)}\")\n",
    "                        \n",
    "                        # Final fallback: use alternative raster-based approach\n",
    "                        log_message(\"All reprojection methods failed. Will attempt direct pixel extraction.\")\n",
    "                        return None, \"All reprojection methods failed\"\n",
    "        else:\n",
    "            # For non-S-JTSK rasters, use the standard approach\n",
    "            with rasterio.open(raster_path) as src:\n",
    "                raster_crs = src.crs\n",
    "            \n",
    "            # Handle missing CRS in raster\n",
    "            if raster_crs is None:\n",
    "                log_message(f\"Warning: Raster {os.path.basename(raster_path)} has no CRS defined.\")\n",
    "                return None, \"Raster has no CRS\"\n",
    "            \n",
    "            # Try direct reprojection if CRS differ\n",
    "            if gdf.crs != raster_crs:\n",
    "                try:\n",
    "                    log_message(f\"Reprojecting from {gdf.crs} to {raster_crs}\")\n",
    "                    gdf_projected = gdf.to_crs(raster_crs)\n",
    "                    return gdf_projected, None\n",
    "                except Exception as e1:\n",
    "                    log_message(f\"Direct reprojection failed: {str(e1)}\")\n",
    "                    \n",
    "                    # Try with explicit PROJ4 string if available\n",
    "                    try:\n",
    "                        log_message(\"Trying with explicit PROJ4 string...\")\n",
    "                        proj4 = pyproj.CRS(raster_crs).to_proj4()\n",
    "                        gdf_projected = gdf.to_crs(proj4)\n",
    "                        return gdf_projected, None\n",
    "                    except Exception as e2:\n",
    "                        log_message(f\"PROJ4 approach failed: {str(e2)}\")\n",
    "                        \n",
    "                        # Try two-step reprojection through WGS84\n",
    "                        try:\n",
    "                            log_message(\"Attempting two-step reprojection via EPSG:4326...\")\n",
    "                            gdf_wgs84 = gdf.to_crs(epsg=4326)\n",
    "                            gdf_projected = gdf_wgs84.to_crs(raster_crs)\n",
    "                            return gdf_projected, None\n",
    "                        except Exception as e3:\n",
    "                            log_message(f\"Two-step reprojection failed: {str(e3)}\")\n",
    "                            return None, \"All reprojection methods failed\"\n",
    "            else:\n",
    "                # CRS already match\n",
    "                return gdf, None\n",
    "    except Exception as e:\n",
    "        log_message(f\"CRS processing error: {str(e)}\")\n",
    "        return None, f\"CRS processing error: {str(e)}\"\n",
    "\n",
    "# Function to extract pixel values from raster for a given shapefile\n",
    "def extract_values(shapefile_path, raster_path):\n",
    "    \"\"\"Extract values from raster that fall within the shapefile polygons using sampling\"\"\"\n",
    "    initial_memory = get_memory_usage()\n",
    "    log_message(f\"Starting extraction. Memory usage: {initial_memory:.1f} MB\")\n",
    "    \n",
    "    try:\n",
    "        # Read shapefile\n",
    "        gdf = gpd.read_file(shapefile_path)\n",
    "        log_message(f\"Processing {os.path.basename(shapefile_path)} with {os.path.basename(raster_path)}\")\n",
    "        \n",
    "        # Fix CRS issues\n",
    "        gdf_projected, error = fix_crs_issues(gdf, raster_path)\n",
    "        \n",
    "        # If reprojection failed but it's S-JTSK, try alternative approach\n",
    "        if error and \"CHM_uav\" in raster_path:\n",
    "            log_message(\"Attempting alternative extraction method for S-JTSK data...\")\n",
    "            \n",
    "            # Since we couldn't reproject, we'll try to extract values using the bounds\n",
    "            # of the shapefile and then filter post-extraction\n",
    "            try:\n",
    "                # Load the raster\n",
    "                with rasterio.open(raster_path) as src:\n",
    "                    # Check for NoData value\n",
    "                    nodata = src.nodata\n",
    "                    log_message(f\"Raster NoData value: {nodata}\")\n",
    "                    \n",
    "                    # Read a sample of the raster instead of the whole thing\n",
    "                    # Define a window size based on raster dimensions\n",
    "                    height, width = src.shape\n",
    "                    window_height = min(CHUNK_SIZE, height)\n",
    "                    window_width = min(CHUNK_SIZE, width)\n",
    "                    \n",
    "                    # Calculate number of windows needed\n",
    "                    num_windows_y = (height + window_height - 1) // window_height\n",
    "                    num_windows_x = (width + window_width - 1) // window_width\n",
    "                    \n",
    "                    total_values = []\n",
    "                    \n",
    "                    # Track how many samples we've collected\n",
    "                    sample_count = 0\n",
    "                    \n",
    "                    log_message(f\"Sampling raster in {num_windows_y}x{num_windows_x} windows...\")\n",
    "                    \n",
    "                    # Process a subset of windows to save memory\n",
    "                    # Select a portion of windows to sample randomly\n",
    "                    max_windows = min(20, num_windows_y * num_windows_x)  # Limit total windows\n",
    "                    sample_window_indices = np.random.choice(\n",
    "                        num_windows_y * num_windows_x, \n",
    "                        size=max_windows, \n",
    "                        replace=False\n",
    "                    )\n",
    "                    \n",
    "                    for window_idx in sample_window_indices:\n",
    "                        if sample_count >= MAX_SAMPLE_SIZE:\n",
    "                            break\n",
    "                            \n",
    "                        # Convert linear index to 2D coordinates\n",
    "                        window_y = window_idx // num_windows_x\n",
    "                        window_x = window_idx % num_windows_x\n",
    "                        \n",
    "                        # Calculate window bounds\n",
    "                        row_start = window_y * window_height\n",
    "                        col_start = window_x * window_width\n",
    "                        row_end = min(row_start + window_height, height)\n",
    "                        col_end = min(col_start + window_width, width)\n",
    "                        \n",
    "                        # Filter values properly\n",
    "                        try:\n",
    "                            window = src.read(1, window=((row_start, row_end), (col_start, col_end)))\n",
    "                            \n",
    "                            # Handle nodata values - first as is\n",
    "                            if nodata is not None:\n",
    "                                window = np.where(window == nodata, None, window)\n",
    "                                \n",
    "                            # Flatten array\n",
    "                            flat_values = window.flatten()\n",
    "                            \n",
    "                            # Remove None values (if any were substituted)\n",
    "                            values_list = [v for v in flat_values if v is not None]\n",
    "                            \n",
    "                            # Sample if there are too many\n",
    "                            if len(values_list) > MAX_SAMPLE_SIZE // max_windows:\n",
    "                                sample_indices = np.random.choice(\n",
    "                                    len(values_list), \n",
    "                                    size=MAX_SAMPLE_SIZE // max_windows, \n",
    "                                    replace=False\n",
    "                                )\n",
    "                                values_list = [values_list[i] for i in sample_indices]\n",
    "                            \n",
    "                            # Add to our collection\n",
    "                            total_values.extend(values_list)\n",
    "                            sample_count += len(values_list)\n",
    "                            \n",
    "                            log_message(f\"  Window {window_idx+1}/{len(sample_window_indices)}: Added {len(values_list)} values\")\n",
    "                            \n",
    "                        except Exception as e:\n",
    "                            log_message(f\"  Error processing window {window_idx}: {str(e)}\")\n",
    "                            continue\n",
    "                    \n",
    "                    # Force garbage collection to free memory\n",
    "                    gc.collect()\n",
    "                    \n",
    "                    log_message(f\"Extracted {len(total_values)} sampled values. Memory usage: {get_memory_usage():.1f} MB\")\n",
    "                    return total_values\n",
    "                    \n",
    "            except Exception as e:\n",
    "                log_message(f\"Alternative extraction method failed: {str(e)}\")\n",
    "                log_message(\"Unable to process this raster. Skipping.\")\n",
    "                return []\n",
    "        \n",
    "        # If standard reprojection failed and alternative approach isn't applicable\n",
    "        if error and \"CHM_uav\" not in raster_path:\n",
    "            log_message(f\"CRS error for {os.path.basename(raster_path)}: {error}\")\n",
    "            return []\n",
    "            \n",
    "        # Continue with standard approach if reprojection succeeded\n",
    "        # Use optimized zonal stats approach with sampling\n",
    "        try:\n",
    "            # First check memory usage\n",
    "            current_memory = get_memory_usage()\n",
    "            log_message(f\"Current memory usage before zonal stats: {current_memory:.1f} MB\")\n",
    "            \n",
    "            # Use small sample size for each polygon\n",
    "            all_values = []\n",
    "            \n",
    "            # If we have many polygons, sample them\n",
    "            if len(gdf_projected) > 5:\n",
    "                # Sample a max of 5 polygons\n",
    "                sample_size = min(5, len(gdf_projected))\n",
    "                sample_indices = np.random.choice(len(gdf_projected), size=sample_size, replace=False)\n",
    "                gdf_sample = gdf_projected.iloc[sample_indices].copy()\n",
    "                log_message(f\"Sampling {sample_size} polygons from {len(gdf_projected)} total\")\n",
    "            else:\n",
    "                gdf_sample = gdf_projected\n",
    "            \n",
    "            # Process each polygon separately to control memory usage\n",
    "            for idx, row in gdf_sample.iterrows():\n",
    "                # Create a GeoDataFrame with just this polygon\n",
    "                single_polygon_gdf = gpd.GeoDataFrame(geometry=[row.geometry], crs=gdf_projected.crs)\n",
    "                \n",
    "                # Use zonal_stats with raster_out to get pixel values\n",
    "                stats = zonal_stats(single_polygon_gdf, raster_path, \n",
    "                                   stats=['count'], \n",
    "                                   nodata=np.nan,\n",
    "                                   all_touched=False,\n",
    "                                   geojson_out=True,\n",
    "                                   raster_out=True)\n",
    "                \n",
    "                # Extract values from the mini raster\n",
    "                for feature in stats:\n",
    "                    if 'properties' in feature and 'mini_raster_array' in feature['properties']:\n",
    "                        mini_raster = feature['properties']['mini_raster_array']\n",
    "                        \n",
    "                        # Flatten and filter out NoData values\n",
    "                        values = mini_raster.flatten()\n",
    "                        valid_values = values[~np.isnan(values)]\n",
    "                        \n",
    "                        # Sample values if there are too many\n",
    "                        if len(valid_values) > MAX_SAMPLE_SIZE // len(gdf_sample):\n",
    "                            sample_indices = np.random.choice(\n",
    "                                len(valid_values),\n",
    "                                size=MAX_SAMPLE_SIZE // len(gdf_sample),\n",
    "                                replace=False\n",
    "                            )\n",
    "                            valid_values = valid_values[sample_indices]\n",
    "                        \n",
    "                        all_values.extend(valid_values.tolist())\n",
    "                        log_message(f\"  Extracted {len(valid_values)} values from polygon {idx}\")\n",
    "                \n",
    "                # Force garbage collection after each polygon\n",
    "                gc.collect()\n",
    "            \n",
    "            if all_values:\n",
    "                log_message(f\"Successfully extracted {len(all_values)} sampled values. Memory: {get_memory_usage():.1f} MB\")\n",
    "                return all_values\n",
    "            else:\n",
    "                log_message(\"No values extracted with zonal_stats, trying mask method...\")\n",
    "        except Exception as e:\n",
    "            log_message(f\"Zonal stats method failed: {str(e)}\")\n",
    "            log_message(\"Falling back to mask method...\")\n",
    "        \n",
    "        # Fallback to mask method with sampling\n",
    "        log_message(\"Using mask method with sampling...\")\n",
    "        all_values = []\n",
    "        \n",
    "        try:\n",
    "            with rasterio.open(raster_path) as src:\n",
    "                # Sample polygons if there are many\n",
    "                if len(gdf_projected) > 5:\n",
    "                    sample_size = min(5, len(gdf_projected))\n",
    "                    sample_indices = np.random.choice(len(gdf_projected), size=sample_size, replace=False)\n",
    "                    gdf_sample = gdf_projected.iloc[sample_indices].copy()\n",
    "                else:\n",
    "                    gdf_sample = gdf_projected\n",
    "                \n",
    "                # Process each polygon\n",
    "                for idx, geom in enumerate(gdf_sample.geometry):\n",
    "                    try:\n",
    "                        # Get pixel values within the geometry\n",
    "                        out_image, out_transform = mask(src, [geom.__geo_interface__], crop=True, nodata=src.nodata)\n",
    "                        \n",
    "                        # Handle the output data more carefully\n",
    "                        try:\n",
    "                            # Get the nodata value\n",
    "                            nodata_value = src.nodata\n",
    "                            \n",
    "                            # Replace nodata with None\n",
    "                            if nodata_value is not None:\n",
    "                                out_image = np.where(out_image == nodata_value, None, out_image)\n",
    "                            \n",
    "                            # Get all values\n",
    "                            flat_values = out_image[0].flatten()\n",
    "                            \n",
    "                            # Filter None values\n",
    "                            values_list = [v for v in flat_values if v is not None]\n",
    "                            \n",
    "                            # Sample if there are too many values\n",
    "                            if len(values_list) > MAX_SAMPLE_SIZE // len(gdf_sample):\n",
    "                                sample_indices = np.random.choice(\n",
    "                                    len(values_list),\n",
    "                                    size=MAX_SAMPLE_SIZE // len(gdf_sample),\n",
    "                                    replace=False\n",
    "                                )\n",
    "                                values_list = [values_list[i] for i in sample_indices]\n",
    "                            \n",
    "                            all_values.extend(values_list)\n",
    "                            log_message(f\"  Extracted {len(values_list)} values from geometry {idx+1}/{len(gdf_sample)}\")\n",
    "                            \n",
    "                        except Exception as e:\n",
    "                            log_message(f\"  Error processing masked data for geometry {idx+1}: {str(e)}\")\n",
    "                            continue\n",
    "                            \n",
    "                    except Exception as e:\n",
    "                        log_message(f\"Error masking geometry {idx+1}: {str(e)}\")\n",
    "                        continue\n",
    "        except Exception as e:\n",
    "            log_message(f\"Mask method failed: {str(e)}\")\n",
    "            \n",
    "        final_memory = get_memory_usage()\n",
    "        log_message(f\"Total values extracted: {len(all_values)}. Final memory: {final_memory:.1f} MB\")\n",
    "        return all_values\n",
    "    \n",
    "    except Exception as e:\n",
    "        log_message(f\"Error processing {os.path.basename(shapefile_path)} with {os.path.basename(raster_path)}: {str(e)}\")\n",
    "        # Force cleanup\n",
    "        gc.collect()\n",
    "        return []\n",
    "\n",
    "# Dictionary to store all values by land cover type\n",
    "all_values_by_type = {\n",
    "    \"baresoil\": [],\n",
    "    \"early_regrowth\": [],\n",
    "    \"mature_regrowth\": []\n",
    "}\n",
    "\n",
    "# Set raster paths that should be skipped (if any)\n",
    "skip_rasters = []\n",
    "\n",
    "# Process each shapefile with each raster\n",
    "for land_type, shapefile_path in shapefiles.items():\n",
    "    log_message(f\"\\nProcessing {land_type}...\")\n",
    "    \n",
    "    # Skip if shapefile doesn't exist\n",
    "    if not os.path.exists(shapefile_path):\n",
    "        log_message(f\"Warning: {shapefile_path} does not exist. Skipping.\")\n",
    "        continue\n",
    "    \n",
    "    # Process each raster file\n",
    "    for raster_path in tqdm(raster_files, desc=f\"Rasters for {land_type}\"):\n",
    "        # Skip problematic rasters if needed\n",
    "        if os.path.basename(raster_path) in skip_rasters:\n",
    "            log_message(f\"Skipping known problematic raster: {os.path.basename(raster_path)}\")\n",
    "            continue\n",
    "            \n",
    "        values = extract_values(shapefile_path, raster_path)\n",
    "        all_values_by_type[land_type].extend(values)\n",
    "    \n",
    "    log_message(f\"Collected {len(all_values_by_type[land_type])} pixel values for {land_type}\")\n",
    "\n",
    "# Check if we have values to process\n",
    "any_values = any(len(values) > 0 for values in all_values_by_type.values())\n",
    "if not any_values:\n",
    "    log_message(\"No valid values were extracted. Check shapefile and raster compatibility.\")\n",
    "    exit(1)\n",
    "\n",
    "# Configure matplotlib for publication-quality output\n",
    "import matplotlib as mpl\n",
    "from matplotlib import rcParams\n",
    "\n",
    "# Set up publication-quality formatting\n",
    "rcParams['font.family'] = 'serif'\n",
    "rcParams['font.serif'] = ['Times New Roman']\n",
    "rcParams['font.size'] = 10\n",
    "rcParams['axes.linewidth'] = 0.8\n",
    "rcParams['axes.labelsize'] = 11\n",
    "rcParams['axes.titlesize'] = 12\n",
    "rcParams['xtick.major.width'] = 0.8\n",
    "rcParams['ytick.major.width'] = 0.8\n",
    "rcParams['xtick.labelsize'] = 9\n",
    "rcParams['ytick.labelsize'] = 9\n",
    "rcParams['legend.fontsize'] = 9\n",
    "rcParams['figure.dpi'] = 300\n",
    "rcParams['savefig.dpi'] = 600  # High-res output for publication\n",
    "\n",
    "# Define publication-quality colors (colorblind-friendly and works in grayscale)\n",
    "publication_colors = {\n",
    "    \"baresoil\": '#E69F00',      # Orange\n",
    "    \"early_regrowth\": '#56B4E9', # Blue\n",
    "    \"mature_regrowth\": '#009E73' # Green\n",
    "}\n",
    "\n",
    "# Update our color scheme\n",
    "colors = publication_colors\n",
    "\n",
    "# Create separate publication-quality figures for each land cover type\n",
    "log_message(\"\\n====== Creating publication-quality separate figures ======\")\n",
    "\n",
    "# Process each land cover type\n",
    "for land_type, values in all_values_by_type.items():\n",
    "    log_message(f\"\\nProcessing figure for {land_type}...\")\n",
    "    \n",
    "    # Skip if no values\n",
    "    if not values or len(values) == 0:\n",
    "        log_message(f\"No data for {land_type}, skipping\")\n",
    "        continue\n",
    "        \n",
    "    # Clean data for analysis\n",
    "    clean_values = clean_data_for_analysis(values)\n",
    "    \n",
    "    # Check if we have valid data after cleaning\n",
    "    if len(clean_values) == 0:\n",
    "        log_message(f\"No valid numeric values for {land_type} after cleaning\")\n",
    "        continue\n",
    "        \n",
    "    # Additional filtering for extreme values and zeros\n",
    "    try:\n",
    "        # Remove infinities and extreme values\n",
    "        valid_mask = np.isfinite(clean_values) & (np.abs(clean_values) < 1e6) & (np.abs(clean_values) > 1e-6)\n",
    "        filtered_for_extremes = clean_values[valid_mask]\n",
    "        \n",
    "        # Check if we have data left\n",
    "        if len(filtered_for_extremes) == 0:\n",
    "            log_message(f\"No valid data for {land_type} after filtering extremes and near-zeros\")\n",
    "            \n",
    "            # Try a less strict filter\n",
    "            valid_mask = np.isfinite(clean_values)\n",
    "            filtered_for_extremes = clean_values[valid_mask]\n",
    "            \n",
    "            if len(filtered_for_extremes) == 0:\n",
    "                log_message(f\"Still no valid data after basic filtering, skipping {land_type}\")\n",
    "                continue\n",
    "                \n",
    "            log_message(f\"Using less strict filtering: {len(filtered_for_extremes)} values remain\")\n",
    "            \n",
    "        # Log statistics of filtered data\n",
    "        log_message(f\"{land_type} filtered data: min={np.min(filtered_for_extremes)}, max={np.max(filtered_for_extremes)}, \" + \n",
    "                  f\"mean={np.mean(filtered_for_extremes)}, median={np.median(filtered_for_extremes)}\")\n",
    "        \n",
    "        # Further outlier filtering for visualization\n",
    "        if len(filtered_for_extremes) > 10:\n",
    "            try:\n",
    "                # Remove outliers (values beyond 3 standard deviations)\n",
    "                mean = np.mean(filtered_for_extremes)\n",
    "                std = np.std(filtered_for_extremes)\n",
    "                \n",
    "                if std > 0:  # Only filter if standard deviation is positive\n",
    "                    filtered_values = filtered_for_extremes[\n",
    "                        (filtered_for_extremes > mean - 3 * std) & \n",
    "                        (filtered_for_extremes < mean + 3 * std)\n",
    "                    ]\n",
    "                    \n",
    "                    # If filtering removed too many values, use original\n",
    "                    if len(filtered_values) < 0.5 * len(filtered_for_extremes):\n",
    "                        log_message(f\"Warning: Outlier filtering removed too many values. Using pre-filtered values.\")\n",
    "                        filtered_values = filtered_for_extremes\n",
    "                else:\n",
    "                    log_message(f\"Standard deviation is 0, skipping outlier filtering\")\n",
    "                    filtered_values = filtered_for_extremes\n",
    "                    \n",
    "            except Exception as e:\n",
    "                log_message(f\"Error in outlier filtering: {str(e)}\")\n",
    "                filtered_values = filtered_for_extremes\n",
    "        else:\n",
    "            filtered_values = filtered_for_extremes\n",
    "            \n",
    "    except Exception as e:\n",
    "        log_message(f\"Error filtering extreme values: {str(e)}\")\n",
    "        continue\n",
    "    \n",
    "    # Create figure for this land cover type (journal single-column width)\n",
    "    try:\n",
    "        # Create a new figure with journal-standard sizing (3.5 inches for single column)\n",
    "        fig, ax = plt.subplots(figsize=(3.5, 3.5), constrained_layout=True)\n",
    "        \n",
    "        # Verify we have valid data to plot\n",
    "        if len(filtered_values) > 0:\n",
    "            # Plot histogram with density=True for probability density\n",
    "            try:\n",
    "                # Use a reasonable number of bins\n",
    "                num_bins = min(40, max(10, int(np.sqrt(len(filtered_values)))))\n",
    "                \n",
    "                # Plot histogram with improved styling\n",
    "                n, bins, patches = ax.hist(\n",
    "                    filtered_values, \n",
    "                    bins=num_bins, \n",
    "                    alpha=0.7, \n",
    "                    color=colors[land_type], \n",
    "                    density=False,\n",
    "                    label=f\"n = {len(filtered_values):,}\",  # Add comma separators for thousands\n",
    "                    edgecolor='white',  # White edges for better definition\n",
    "                    linewidth=0.5       # Thin edges\n",
    "                )\n",
    "                \n",
    "                # Calculate mean safely\n",
    "                mean_val = np.mean(filtered_values)\n",
    "                if np.isfinite(mean_val):\n",
    "                    # Plot vertical line with improved styling\n",
    "                    ax.axvline(mean_val, color='black', linestyle='--', linewidth=1.2, \n",
    "                             label=f'Mean = {mean_val:.2f} m')\n",
    "                    \n",
    "                    # Add standard deviation range for publication\n",
    "                    std_val = np.std(filtered_values)\n",
    "                    if np.isfinite(std_val) and std_val > 0:\n",
    "                        # Add shaded area for mean ± 1 std dev\n",
    "                        ax.axvspan(mean_val - std_val, mean_val + std_val, \n",
    "                                 alpha=0.2, color='gray', \n",
    "                                 label=f'±1σ = {std_val:.2f} m')\n",
    "                else:\n",
    "                    log_message(f\"Warning: Mean is not finite ({mean_val})\")\n",
    "                    # Use median instead if mean is problematic\n",
    "                    median_val = np.median(filtered_values)\n",
    "                    ax.axvline(median_val, color='black', linestyle='--', linewidth=1.2, \n",
    "                             label=f'Median = {median_val:.2f} m')\n",
    "                \n",
    "                # Set axis labels with appropriate scale (not scientific notation for reasonable values)\n",
    "                if np.max(np.abs(filtered_values)) < 1000 and np.max(np.abs(filtered_values)) > 0.01:\n",
    "                    ax.ticklabel_format(style='plain', axis='x')\n",
    "                \n",
    "                # Fix y-axis to start at zero for density plots\n",
    "                ax.set_ylim(bottom=0)\n",
    "                \n",
    "                # Add subtle grid for readability\n",
    "                ax.grid(True, linestyle='--', alpha=0.3, axis='y')\n",
    "                \n",
    "                # Add title and labels with clear formatting\n",
    "                pretty_name = land_type.replace('_', ' ').title()\n",
    "                ax.set_title(f'{pretty_name}', fontsize=12, weight='bold')\n",
    "                ax.set_xlabel('Canopy Height (m)', fontsize=11)\n",
    "                ax.set_ylabel('Density', fontsize=11)\n",
    "                \n",
    "                # Position legend in upper right, with slight transparency\n",
    "                ax.legend(loc='upper right', framealpha=0.9, edgecolor='lightgray', fontsize=9)\n",
    "                \n",
    "            except Exception as e:\n",
    "                log_message(f\"Error creating histogram for {land_type}: {str(e)}\")\n",
    "                # Fallback to basic plot if histogram fails\n",
    "                ax.plot([0], [0], color=colors[land_type], label=f\"Error plotting {land_type}\")\n",
    "        else:\n",
    "            # No data placeholder\n",
    "            ax.text(0.5, 0.5, f\"No valid data for {land_type}\", \n",
    "                  horizontalalignment='center', verticalalignment='center',\n",
    "                  transform=ax.transAxes, fontsize=12, style='italic')\n",
    "        \n",
    "        # Save figure in multiple formats for publication\n",
    "        base_filename = os.path.join(output_folder, f'{land_type}_histogram')\n",
    "        \n",
    "        plt.savefig(f\"{base_filename}.png\", dpi=600, bbox_inches='tight')\n",
    "        plt.savefig(f\"{base_filename}.pdf\", format='pdf', bbox_inches='tight')\n",
    "        plt.savefig(f\"{base_filename}.tiff\", format='tiff', dpi=600, bbox_inches='tight')\n",
    "        plt.savefig(f\"{base_filename}.eps\", format='eps', bbox_inches='tight')\n",
    "        \n",
    "        log_message(f\"Publication-quality figure for {land_type} saved in multiple formats\")\n",
    "        \n",
    "        # Close figure to release memory\n",
    "        plt.close(fig)\n",
    "        \n",
    "        # Calculate and save statistics\n",
    "        try:\n",
    "            stats = {\n",
    "                'mean': float(np.mean(filtered_values)) if np.isfinite(np.mean(filtered_values)) else float(np.median(filtered_values)),\n",
    "                'median': float(np.median(filtered_values)),\n",
    "                'std_dev': float(np.std(filtered_values)) if np.isfinite(np.std(filtered_values)) else 0.0,\n",
    "                'min': float(np.min(filtered_values)),\n",
    "                'max': float(np.max(filtered_values)),\n",
    "                'count': len(filtered_values),\n",
    "                '25th_percentile': float(np.percentile(filtered_values, 25)),\n",
    "                '75th_percentile': float(np.percentile(filtered_values, 75))\n",
    "            }\n",
    "            \n",
    "            # Save statistics to CSV and Excel\n",
    "            stats_df = pd.DataFrame([stats])\n",
    "            stats_csv_path = os.path.join(output_folder, f'{land_type}_statistics.csv')\n",
    "            stats_df.to_csv(stats_csv_path, index=False)\n",
    "            \n",
    "            # Also save to Excel with formatting\n",
    "            excel_path = os.path.join(output_folder, f'{land_type}_statistics.xlsx')\n",
    "            with pd.ExcelWriter(excel_path) as writer:\n",
    "                stats_df.to_excel(writer, index=False, sheet_name='Statistics')\n",
    "                \n",
    "            log_message(f\"Statistics for {land_type} saved to CSV and Excel\")\n",
    "        except Exception as e:\n",
    "            log_message(f\"Error calculating statistics for {land_type}: {str(e)}\")\n",
    "            \n",
    "    except Exception as e:\n",
    "        log_message(f\"Error creating figure for {land_type}: {str(e)}\")\n",
    "        plt.close()  # Ensure figure is closed in case of error\n",
    "\n",
    "# Create a summary table with statistics for all land cover types\n",
    "log_message(\"\\n====== Creating summary statistics table ======\")\n",
    "summary_rows = []\n",
    "\n",
    "for land_type, values in all_values_by_type.items():\n",
    "    if not values or len(values) == 0:\n",
    "        log_message(f\"No data for {land_type}, skipping summary statistics\")\n",
    "        continue\n",
    "    \n",
    "    # Clean and prepare data\n",
    "    try:\n",
    "        # Convert to numeric values and clean the data\n",
    "        clean_values = clean_data_for_analysis(values)\n",
    "        \n",
    "        # Check if we have any valid data after cleaning\n",
    "        if len(clean_values) == 0:\n",
    "            log_message(f\"No valid numeric data for {land_type} after cleaning for summary stats\")\n",
    "            continue\n",
    "            \n",
    "        # Additional filtering for extreme values and zeros\n",
    "        try:\n",
    "            # Remove infinities and extreme values\n",
    "            valid_mask = np.isfinite(clean_values) & (np.abs(clean_values) < 1e6) & (np.abs(clean_values) > 1e-6)\n",
    "            filtered_values = clean_values[valid_mask]\n",
    "            \n",
    "            # Check if we have data left\n",
    "            if len(filtered_values) == 0:\n",
    "                log_message(f\"No valid data for {land_type} after filtering extremes and near-zeros\")\n",
    "                \n",
    "                # Try a less strict filter\n",
    "                valid_mask = np.isfinite(clean_values)\n",
    "                filtered_values = clean_values[valid_mask]\n",
    "                \n",
    "                if len(filtered_values) == 0:\n",
    "                    log_message(f\"Still no valid data after basic filtering, skipping {land_type} summary\")\n",
    "                    continue\n",
    "                    \n",
    "                log_message(f\"Using less strict filtering for summary: {len(filtered_values)} values remain\")\n",
    "            \n",
    "            # Calculate statistics safely\n",
    "            try:\n",
    "                # Use safer methods for statistics that handle edge cases better\n",
    "                mean_val = np.mean(filtered_values)\n",
    "                if not np.isfinite(mean_val):\n",
    "                    mean_val = np.median(filtered_values)\n",
    "                    log_message(f\"Mean was infinite, using median instead: {mean_val}\")\n",
    "                    \n",
    "                std_val = np.std(filtered_values)\n",
    "                if not np.isfinite(std_val):\n",
    "                    std_val = 0.0\n",
    "                    log_message(f\"Standard deviation was infinite, using 0 instead\")\n",
    "                \n",
    "                # Create summary row with safer values\n",
    "                summary_rows.append({\n",
    "                    'Land_Cover': land_type.replace('_', ' ').title(),\n",
    "                    'Count': len(filtered_values),\n",
    "                    'Mean_Height_m': float(mean_val),\n",
    "                    'Median_Height_m': float(np.median(filtered_values)),\n",
    "                    'Std_Dev_m': float(std_val),\n",
    "                    'Min_Height_m': float(np.min(filtered_values)),\n",
    "                    'Max_Height_m': float(np.max(filtered_values)),\n",
    "                    'Range_m': float(np.max(filtered_values) - np.min(filtered_values))\n",
    "                })\n",
    "                \n",
    "                log_message(f\"Successfully calculated summary statistics for {land_type}\")\n",
    "                \n",
    "            except Exception as e:\n",
    "                log_message(f\"Error calculating statistics for {land_type}: {str(e)}\")\n",
    "                \n",
    "        except Exception as e:\n",
    "            log_message(f\"Error filtering data for {land_type} summary: {str(e)}\")\n",
    "            \n",
    "    except Exception as e:\n",
    "        log_message(f\"Error processing summary for {land_type}: {str(e)}\")\n",
    "\n",
    "if summary_rows:\n",
    "    summary_df = pd.DataFrame(summary_rows)\n",
    "    \n",
    "    # Format the summary dataframe for better readability\n",
    "    for col in summary_df.columns:\n",
    "        if col not in ['Land_Cover', 'Count']:\n",
    "            summary_df[col] = summary_df[col].round(2)\n",
    "    \n",
    "    # Save summary table in multiple formats\n",
    "    summary_csv_path = os.path.join(output_folder, 'canopy_height_summary.csv')\n",
    "    summary_df.to_csv(summary_csv_path, index=False)\n",
    "    \n",
    "    # Create an Excel file with formatting\n",
    "    summary_excel_path = os.path.join(output_folder, 'canopy_height_summary.xlsx')\n",
    "    try:\n",
    "        with pd.ExcelWriter(summary_excel_path) as writer:\n",
    "            summary_df.to_excel(writer, sheet_name='Summary', index=False)\n",
    "            \n",
    "            # Apply formatting to the Excel file\n",
    "            workbook = writer.book\n",
    "            worksheet = writer.sheets['Summary']\n",
    "            \n",
    "            # Format headers\n",
    "            header_format = workbook.add_format({\n",
    "                'bold': True,\n",
    "                'font_name': 'Arial',\n",
    "                'font_size': 11,\n",
    "                'align': 'center',\n",
    "                'valign': 'vcenter',\n",
    "                'border': 1\n",
    "            })\n",
    "            \n",
    "            # Format numeric cells\n",
    "            number_format = workbook.add_format({\n",
    "                'num_format': '0.00',\n",
    "                'font_name': 'Arial',\n",
    "                'font_size': 10,\n",
    "                'align': 'right'\n",
    "            })\n",
    "            \n",
    "            # Apply formats\n",
    "            for col_num, col_name in enumerate(summary_df.columns):\n",
    "                worksheet.write(0, col_num, col_name, header_format)\n",
    "                \n",
    "                # Apply number format to numeric columns\n",
    "                if col_name not in ['Land_Cover', 'Count']:\n",
    "                    worksheet.set_column(col_num, col_num, 15, number_format)\n",
    "            \n",
    "        log_message(f\"Summary table saved to {summary_csv_path} and {summary_excel_path}\")\n",
    "    except Exception as e:\n",
    "        log_message(f\"Error saving formatted Excel summary: {str(e)}\")\n",
    "        # Fallback to simple CSV\n",
    "        summary_df.to_csv(summary_csv_path, index=False)\n",
    "        log_message(f\"Summary table saved to {summary_csv_path} only\")\n",
    "else:\n",
    "    log_message(\"No valid data for summary statistics\")\n",
    "\n",
    "log_message(\"\\nAnalysis complete! Results saved to: \" + output_folder)"
   ]
  },
  {
   "cell_type": "code",
   "execution_count": 2,
   "id": "887185ed-8401-4d3b-b305-70f5014d0bee",
   "metadata": {},
   "outputs": [
    {
     "name": "stdout",
     "output_type": "stream",
     "text": [
      "Found 43 raster files\n",
      "\n",
      "Processing baresoil...\n"
     ]
    },
    {
     "name": "stderr",
     "output_type": "stream",
     "text": [
      "Rasters for baresoil:   0%|                                                                     | 0/43 [00:00<?, ?it/s]"
     ]
    },
    {
     "name": "stdout",
     "output_type": "stream",
     "text": [
      "Starting extraction. Memory usage: 150.0 MB\n",
      "Processing Baresoil.shp with CHM_uav47.tif\n",
      "Detected S-JTSK Krovak CRS. Manually setting target CRS to EPSG:5514\n",
      "Successfully reprojected to S-JTSK using EPSG:5514\n",
      "Current memory usage before zonal stats: 164.9 MB\n",
      "Sampling 5 polygons from 117 total\n",
      "  Extracted 20000 values from polygon 9\n",
      "  Extracted 20000 values from polygon 85\n",
      "  Extracted 20000 values from polygon 39\n",
      "  Extracted 20000 values from polygon 14\n"
     ]
    },
    {
     "name": "stderr",
     "output_type": "stream",
     "text": [
      "Rasters for baresoil:   2%|█▍                                                           | 1/43 [00:00<00:23,  1.78it/s]"
     ]
    },
    {
     "name": "stdout",
     "output_type": "stream",
     "text": [
      "  Extracted 15386 values from polygon 74\n",
      "Successfully extracted 95386 sampled values. Memory: 184.5 MB\n",
      "Starting extraction. Memory usage: 180.1 MB\n",
      "Processing Baresoil.shp with CHM_uav1.tif\n",
      "Detected S-JTSK Krovak CRS. Manually setting target CRS to EPSG:5514\n",
      "Successfully reprojected to S-JTSK using EPSG:5514\n",
      "Current memory usage before zonal stats: 180.2 MB\n",
      "Sampling 5 polygons from 117 total\n",
      "  Extracted 5250 values from polygon 72\n",
      "  Extracted 20000 values from polygon 48\n",
      "  Extracted 20000 values from polygon 26\n"
     ]
    },
    {
     "name": "stderr",
     "output_type": "stream",
     "text": [
      "Rasters for baresoil:   5%|██▊                                                          | 2/43 [00:00<00:16,  2.44it/s]"
     ]
    },
    {
     "name": "stdout",
     "output_type": "stream",
     "text": [
      "  Extracted 20000 values from polygon 99\n",
      "  Extracted 20000 values from polygon 50\n",
      "Successfully extracted 85250 sampled values. Memory: 191.0 MB\n",
      "Starting extraction. Memory usage: 182.0 MB\n",
      "Processing Baresoil.shp with CHM_uav2.tif\n",
      "Detected S-JTSK Krovak CRS. Manually setting target CRS to EPSG:5514\n",
      "Successfully reprojected to S-JTSK using EPSG:5514\n",
      "Current memory usage before zonal stats: 182.1 MB\n",
      "Sampling 5 polygons from 117 total\n",
      "  Extracted 20000 values from polygon 34\n",
      "  Extracted 20000 values from polygon 44\n"
     ]
    },
    {
     "name": "stderr",
     "output_type": "stream",
     "text": [
      "Rasters for baresoil:   7%|████▎                                                        | 3/43 [00:01<00:14,  2.67it/s]"
     ]
    },
    {
     "name": "stdout",
     "output_type": "stream",
     "text": [
      "  Extracted 20000 values from polygon 112\n",
      "  Extracted 20000 values from polygon 110\n",
      "  Extracted 20000 values from polygon 6\n",
      "Successfully extracted 100000 sampled values. Memory: 186.7 MB\n",
      "Starting extraction. Memory usage: 186.3 MB\n",
      "Processing Baresoil.shp with CHM_uav3.tif\n",
      "Detected S-JTSK Krovak CRS. Manually setting target CRS to EPSG:5514\n",
      "Successfully reprojected to S-JTSK using EPSG:5514\n",
      "Current memory usage before zonal stats: 186.3 MB\n",
      "Sampling 5 polygons from 117 total\n",
      "  Extracted 6525 values from polygon 40\n"
     ]
    },
    {
     "name": "stderr",
     "output_type": "stream",
     "text": [
      "Rasters for baresoil:   9%|█████▋                                                       | 4/43 [00:01<00:12,  3.11it/s]"
     ]
    },
    {
     "name": "stdout",
     "output_type": "stream",
     "text": [
      "  Extracted 20000 values from polygon 114\n",
      "  Extracted 15810 values from polygon 82\n",
      "  Extracted 2444 values from polygon 34\n",
      "  Extracted 9440 values from polygon 97\n",
      "Successfully extracted 54219 sampled values. Memory: 187.1 MB\n",
      "Starting extraction. Memory usage: 187.5 MB\n",
      "Processing Baresoil.shp with CHM_uav4.tif\n",
      "Detected S-JTSK Krovak CRS. Manually setting target CRS to EPSG:5514\n",
      "Successfully reprojected to S-JTSK using EPSG:5514\n",
      "Current memory usage before zonal stats: 187.5 MB\n",
      "Sampling 5 polygons from 117 total\n",
      "  Extracted 20000 values from polygon 81\n",
      "  Extracted 20000 values from polygon 53\n",
      "  Extracted 20000 values from polygon 116\n"
     ]
    },
    {
     "name": "stderr",
     "output_type": "stream",
     "text": [
      "Rasters for baresoil:  12%|███████                                                      | 5/43 [00:01<00:13,  2.79it/s]"
     ]
    },
    {
     "name": "stdout",
     "output_type": "stream",
     "text": [
      "  Extracted 20000 values from polygon 104\n",
      "  Extracted 20000 values from polygon 18\n",
      "Successfully extracted 100000 sampled values. Memory: 215.9 MB\n",
      "Starting extraction. Memory usage: 188.7 MB\n",
      "Processing Baresoil.shp with CHM_uav5.tif\n",
      "Detected S-JTSK Krovak CRS. Manually setting target CRS to EPSG:5514\n",
      "Successfully reprojected to S-JTSK using EPSG:5514\n",
      "Current memory usage before zonal stats: 188.8 MB\n",
      "Sampling 5 polygons from 117 total\n",
      "  Extracted 20000 values from polygon 9\n",
      "  Extracted 20000 values from polygon 56\n",
      "  Extracted 20000 values from polygon 3\n",
      "  Extracted 20000 values from polygon 91\n",
      "  Extracted 20000 values from polygon 12\n"
     ]
    },
    {
     "name": "stderr",
     "output_type": "stream",
     "text": [
      "Rasters for baresoil:  14%|████████▌                                                    | 6/43 [00:02<00:13,  2.84it/s]"
     ]
    },
    {
     "name": "stdout",
     "output_type": "stream",
     "text": [
      "Successfully extracted 100000 sampled values. Memory: 198.9 MB\n",
      "Starting extraction. Memory usage: 189.5 MB\n",
      "Processing Baresoil.shp with CHM_uav6.tif\n",
      "Detected S-JTSK Krovak CRS. Manually setting target CRS to EPSG:5514\n",
      "Successfully reprojected to S-JTSK using EPSG:5514\n",
      "Current memory usage before zonal stats: 189.6 MB\n",
      "Sampling 5 polygons from 117 total\n",
      "  Extracted 20000 values from polygon 91\n",
      "  Extracted 20000 values from polygon 34\n",
      "  Extracted 20000 values from polygon 64\n"
     ]
    },
    {
     "name": "stderr",
     "output_type": "stream",
     "text": [
      "Rasters for baresoil:  16%|█████████▉                                                   | 7/43 [00:02<00:12,  2.87it/s]"
     ]
    },
    {
     "name": "stdout",
     "output_type": "stream",
     "text": [
      "  Extracted 20000 values from polygon 17\n",
      "  Extracted 20000 values from polygon 37\n",
      "Successfully extracted 100000 sampled values. Memory: 208.5 MB\n",
      "Starting extraction. Memory usage: 194.9 MB\n",
      "Processing Baresoil.shp with CHM_uav7.tif\n",
      "Detected S-JTSK Krovak CRS. Manually setting target CRS to EPSG:5514\n",
      "Successfully reprojected to S-JTSK using EPSG:5514\n",
      "Current memory usage before zonal stats: 194.9 MB\n",
      "Sampling 5 polygons from 117 total\n",
      "  Extracted 20000 values from polygon 105\n",
      "  Extracted 20000 values from polygon 48\n",
      "  Extracted 20000 values from polygon 116\n"
     ]
    },
    {
     "name": "stderr",
     "output_type": "stream",
     "text": [
      "Rasters for baresoil:  19%|███████████▎                                                 | 8/43 [00:03<00:14,  2.44it/s]"
     ]
    },
    {
     "name": "stdout",
     "output_type": "stream",
     "text": [
      "  Extracted 20000 values from polygon 79\n",
      "  Extracted 20000 values from polygon 9\n",
      "Successfully extracted 100000 sampled values. Memory: 203.1 MB\n",
      "Starting extraction. Memory usage: 194.4 MB\n",
      "Processing Baresoil.shp with CHM_uav12.tif\n",
      "Detected S-JTSK Krovak CRS. Manually setting target CRS to EPSG:5514\n",
      "Successfully reprojected to S-JTSK using EPSG:5514\n",
      "Current memory usage before zonal stats: 194.4 MB\n",
      "Sampling 5 polygons from 117 total\n",
      "  Extracted 20000 values from polygon 103\n",
      "  Extracted 20000 values from polygon 88\n"
     ]
    },
    {
     "name": "stderr",
     "output_type": "stream",
     "text": [
      "Rasters for baresoil:  21%|████████████▊                                                | 9/43 [00:03<00:12,  2.62it/s]"
     ]
    },
    {
     "name": "stdout",
     "output_type": "stream",
     "text": [
      "  Extracted 20000 values from polygon 113\n",
      "  Extracted 20000 values from polygon 6\n",
      "  Extracted 20000 values from polygon 84\n",
      "Successfully extracted 100000 sampled values. Memory: 218.2 MB\n",
      "Starting extraction. Memory usage: 201.3 MB\n",
      "Processing Baresoil.shp with CHM_uav13.tif\n",
      "Detected S-JTSK Krovak CRS. Manually setting target CRS to EPSG:5514\n",
      "Successfully reprojected to S-JTSK using EPSG:5514\n",
      "Current memory usage before zonal stats: 201.3 MB\n",
      "Sampling 5 polygons from 117 total\n",
      "  Extracted 20000 values from polygon 77\n",
      "  Extracted 20000 values from polygon 63\n",
      "  Extracted 20000 values from polygon 66\n"
     ]
    },
    {
     "name": "stderr",
     "output_type": "stream",
     "text": [
      "Rasters for baresoil:  23%|█████████████▉                                              | 10/43 [00:03<00:13,  2.47it/s]"
     ]
    },
    {
     "name": "stdout",
     "output_type": "stream",
     "text": [
      "  Extracted 20000 values from polygon 106\n",
      "  Extracted 20000 values from polygon 82\n",
      "Successfully extracted 100000 sampled values. Memory: 225.8 MB\n",
      "Starting extraction. Memory usage: 201.5 MB\n",
      "Processing Baresoil.shp with CHM_uav14.tif\n",
      "Detected S-JTSK Krovak CRS. Manually setting target CRS to EPSG:5514\n",
      "Successfully reprojected to S-JTSK using EPSG:5514\n",
      "Current memory usage before zonal stats: 201.6 MB\n",
      "Sampling 5 polygons from 117 total\n",
      "  Extracted 20000 values from polygon 82\n",
      "  Extracted 20000 values from polygon 91\n",
      "  Extracted 20000 values from polygon 98\n",
      "  Extracted 20000 values from polygon 68\n"
     ]
    },
    {
     "name": "stderr",
     "output_type": "stream",
     "text": [
      "Rasters for baresoil:  26%|███████████████▎                                            | 11/43 [00:04<00:12,  2.58it/s]"
     ]
    },
    {
     "name": "stdout",
     "output_type": "stream",
     "text": [
      "  Extracted 20000 values from polygon 46\n",
      "Successfully extracted 100000 sampled values. Memory: 209.5 MB\n",
      "Starting extraction. Memory usage: 201.5 MB\n",
      "Processing Baresoil.shp with CHM_uav15.tif\n",
      "Detected S-JTSK Krovak CRS. Manually setting target CRS to EPSG:5514\n",
      "Successfully reprojected to S-JTSK using EPSG:5514\n",
      "Current memory usage before zonal stats: 201.5 MB\n",
      "Sampling 5 polygons from 117 total\n",
      "  Extracted 20000 values from polygon 66\n",
      "  Extracted 20000 values from polygon 7\n",
      "  Extracted 20000 values from polygon 103\n",
      "  Extracted 20000 values from polygon 94\n",
      "  Extracted 20000 values from polygon 84\n",
      "Successfully extracted 100000 sampled values. Memory: 221.2 MB\n"
     ]
    },
    {
     "name": "stderr",
     "output_type": "stream",
     "text": [
      "Rasters for baresoil:  28%|████████████████▋                                           | 12/43 [00:04<00:11,  2.64it/s]"
     ]
    },
    {
     "name": "stdout",
     "output_type": "stream",
     "text": [
      "Starting extraction. Memory usage: 205.9 MB\n",
      "Processing Baresoil.shp with CHM_uav16.tif\n",
      "Detected S-JTSK Krovak CRS. Manually setting target CRS to EPSG:5514\n",
      "Successfully reprojected to S-JTSK using EPSG:5514\n",
      "Current memory usage before zonal stats: 205.9 MB\n",
      "Sampling 5 polygons from 117 total\n",
      "  Extracted 20000 values from polygon 93\n",
      "  Extracted 20000 values from polygon 35\n",
      "  Extracted 8800 values from polygon 55\n",
      "  Extracted 20000 values from polygon 97\n"
     ]
    },
    {
     "name": "stderr",
     "output_type": "stream",
     "text": [
      "Rasters for baresoil:  30%|██████████████████▏                                         | 13/43 [00:04<00:10,  2.80it/s]"
     ]
    },
    {
     "name": "stdout",
     "output_type": "stream",
     "text": [
      "  Extracted 20000 values from polygon 85\n",
      "Successfully extracted 88800 sampled values. Memory: 211.1 MB\n",
      "Starting extraction. Memory usage: 206.9 MB\n",
      "Processing Baresoil.shp with CHM_uav17.tif\n",
      "Detected S-JTSK Krovak CRS. Manually setting target CRS to EPSG:5514\n",
      "Successfully reprojected to S-JTSK using EPSG:5514\n",
      "Current memory usage before zonal stats: 207.0 MB\n",
      "Sampling 5 polygons from 117 total\n",
      "  Extracted 20000 values from polygon 51\n",
      "  Extracted 20000 values from polygon 37\n"
     ]
    },
    {
     "name": "stderr",
     "output_type": "stream",
     "text": [
      "Rasters for baresoil:  33%|███████████████████▌                                        | 14/43 [00:05<00:10,  2.74it/s]"
     ]
    },
    {
     "name": "stdout",
     "output_type": "stream",
     "text": [
      "  Extracted 20000 values from polygon 8\n",
      "  Extracted 20000 values from polygon 23\n",
      "  Extracted 20000 values from polygon 49\n",
      "Successfully extracted 100000 sampled values. Memory: 218.1 MB\n",
      "Starting extraction. Memory usage: 208.9 MB\n",
      "Processing Baresoil.shp with CHM_uav18.tif\n",
      "Detected S-JTSK Krovak CRS. Manually setting target CRS to EPSG:5514\n",
      "Successfully reprojected to S-JTSK using EPSG:5514\n",
      "Current memory usage before zonal stats: 209.0 MB\n",
      "Sampling 5 polygons from 117 total\n",
      "  Extracted 20000 values from polygon 30\n",
      "  Extracted 20000 values from polygon 67\n",
      "  Extracted 20000 values from polygon 11\n"
     ]
    },
    {
     "name": "stderr",
     "output_type": "stream",
     "text": [
      "Rasters for baresoil:  35%|████████████████████▉                                       | 15/43 [00:05<00:12,  2.23it/s]"
     ]
    },
    {
     "name": "stdout",
     "output_type": "stream",
     "text": [
      "  Extracted 20000 values from polygon 107\n",
      "  Extracted 20000 values from polygon 108\n",
      "Successfully extracted 100000 sampled values. Memory: 240.8 MB\n",
      "Starting extraction. Memory usage: 213.5 MB\n",
      "Processing Baresoil.shp with CHM_uav19.tif\n",
      "Detected S-JTSK Krovak CRS. Manually setting target CRS to EPSG:5514\n",
      "Successfully reprojected to S-JTSK using EPSG:5514\n",
      "Current memory usage before zonal stats: 213.5 MB\n",
      "Sampling 5 polygons from 117 total\n",
      "  Extracted 20000 values from polygon 115\n",
      "  Extracted 20000 values from polygon 43\n",
      "  Extracted 20000 values from polygon 114\n",
      "  Extracted 20000 values from polygon 12\n"
     ]
    },
    {
     "name": "stderr",
     "output_type": "stream",
     "text": [
      "Rasters for baresoil:  37%|██████████████████████▎                                     | 16/43 [00:06<00:13,  1.94it/s]"
     ]
    },
    {
     "name": "stdout",
     "output_type": "stream",
     "text": [
      "  Extracted 20000 values from polygon 105\n",
      "Successfully extracted 100000 sampled values. Memory: 282.4 MB\n",
      "Starting extraction. Memory usage: 214.0 MB\n",
      "Processing Baresoil.shp with CHM_uav20.tif\n",
      "Detected S-JTSK Krovak CRS. Manually setting target CRS to EPSG:5514\n",
      "Successfully reprojected to S-JTSK using EPSG:5514\n",
      "Current memory usage before zonal stats: 214.0 MB\n",
      "Sampling 5 polygons from 117 total\n",
      "  Extracted 20000 values from polygon 83\n",
      "  Extracted 20000 values from polygon 31\n",
      "  Extracted 20000 values from polygon 46\n",
      "  Extracted 20000 values from polygon 100\n",
      "  Extracted 20000 values from polygon 75\n",
      "Successfully extracted 100000 sampled values. Memory: 243.2 MB\n"
     ]
    },
    {
     "name": "stderr",
     "output_type": "stream",
     "text": [
      "Rasters for baresoil:  40%|███████████████████████▋                                    | 17/43 [00:06<00:12,  2.08it/s]"
     ]
    },
    {
     "name": "stdout",
     "output_type": "stream",
     "text": [
      "Starting extraction. Memory usage: 216.9 MB\n",
      "Processing Baresoil.shp with CHM_uav21.tif\n",
      "Detected S-JTSK Krovak CRS. Manually setting target CRS to EPSG:5514\n",
      "Successfully reprojected to S-JTSK using EPSG:5514\n",
      "Current memory usage before zonal stats: 216.9 MB\n",
      "Sampling 5 polygons from 117 total\n",
      "  Extracted 20000 values from polygon 8\n",
      "  Extracted 20000 values from polygon 77\n",
      "  Extracted 20000 values from polygon 81\n"
     ]
    },
    {
     "name": "stderr",
     "output_type": "stream",
     "text": [
      "Rasters for baresoil:  42%|█████████████████████████                                   | 18/43 [00:07<00:11,  2.18it/s]"
     ]
    },
    {
     "name": "stdout",
     "output_type": "stream",
     "text": [
      "  Extracted 20000 values from polygon 4\n",
      "  Extracted 20000 values from polygon 103\n",
      "Successfully extracted 100000 sampled values. Memory: 223.4 MB\n",
      "Starting extraction. Memory usage: 218.6 MB\n",
      "Processing Baresoil.shp with CHM_uav22.tif\n",
      "Detected S-JTSK Krovak CRS. Manually setting target CRS to EPSG:5514\n",
      "Successfully reprojected to S-JTSK using EPSG:5514\n",
      "Current memory usage before zonal stats: 218.7 MB\n",
      "Sampling 5 polygons from 117 total\n",
      "  Extracted 20000 values from polygon 22\n",
      "  Extracted 20000 values from polygon 68\n",
      "  Extracted 20000 values from polygon 73\n",
      "  Extracted 20000 values from polygon 86\n"
     ]
    },
    {
     "name": "stderr",
     "output_type": "stream",
     "text": [
      "Rasters for baresoil:  44%|██████████████████████████▌                                 | 19/43 [00:07<00:10,  2.28it/s]"
     ]
    },
    {
     "name": "stdout",
     "output_type": "stream",
     "text": [
      "  Extracted 20000 values from polygon 83\n",
      "Successfully extracted 100000 sampled values. Memory: 230.3 MB\n",
      "Starting extraction. Memory usage: 220.0 MB\n",
      "Processing Baresoil.shp with CHM_uav23.tif\n",
      "Detected S-JTSK Krovak CRS. Manually setting target CRS to EPSG:5514\n",
      "Successfully reprojected to S-JTSK using EPSG:5514\n",
      "Current memory usage before zonal stats: 220.1 MB\n",
      "Sampling 5 polygons from 117 total\n",
      "  Extracted 20000 values from polygon 85\n",
      "  Extracted 7308 values from polygon 69\n",
      "  Extracted 20000 values from polygon 78\n"
     ]
    },
    {
     "name": "stderr",
     "output_type": "stream",
     "text": [
      "Rasters for baresoil:  47%|███████████████████████████▉                                | 20/43 [00:08<00:09,  2.50it/s]"
     ]
    },
    {
     "name": "stdout",
     "output_type": "stream",
     "text": [
      "  Extracted 20000 values from polygon 111\n",
      "  Extracted 20000 values from polygon 49\n",
      "Successfully extracted 87308 sampled values. Memory: 224.6 MB\n",
      "Starting extraction. Memory usage: 225.3 MB\n",
      "Processing Baresoil.shp with CHM_uav24.tif\n",
      "Detected S-JTSK Krovak CRS. Manually setting target CRS to EPSG:5514\n",
      "Successfully reprojected to S-JTSK using EPSG:5514\n",
      "Current memory usage before zonal stats: 225.3 MB\n",
      "Sampling 5 polygons from 117 total\n",
      "  Extracted 20000 values from polygon 112\n",
      "  Extracted 20000 values from polygon 76\n"
     ]
    },
    {
     "name": "stderr",
     "output_type": "stream",
     "text": [
      "Rasters for baresoil:  49%|█████████████████████████████▎                              | 21/43 [00:08<00:08,  2.68it/s]"
     ]
    },
    {
     "name": "stdout",
     "output_type": "stream",
     "text": [
      "  Extracted 20000 values from polygon 1\n",
      "  Extracted 20000 values from polygon 109\n",
      "  Extracted 5565 values from polygon 68\n",
      "Successfully extracted 85565 sampled values. Memory: 228.3 MB\n",
      "Starting extraction. Memory usage: 227.9 MB\n",
      "Processing Baresoil.shp with CHM_uav25.tif\n",
      "Detected S-JTSK Krovak CRS. Manually setting target CRS to EPSG:5514\n",
      "Successfully reprojected to S-JTSK using EPSG:5514\n",
      "Current memory usage before zonal stats: 227.9 MB\n",
      "Sampling 5 polygons from 117 total\n",
      "  Extracted 20000 values from polygon 22\n",
      "  Extracted 15609 values from polygon 48\n",
      "  Extracted 20000 values from polygon 108\n",
      "  Extracted 20000 values from polygon 9\n"
     ]
    },
    {
     "name": "stderr",
     "output_type": "stream",
     "text": [
      "Rasters for baresoil:  51%|██████████████████████████████▋                             | 22/43 [00:08<00:07,  2.83it/s]"
     ]
    },
    {
     "name": "stdout",
     "output_type": "stream",
     "text": [
      "  Extracted 6216 values from polygon 52\n",
      "Successfully extracted 81825 sampled values. Memory: 229.5 MB\n",
      "Starting extraction. Memory usage: 230.1 MB\n",
      "Processing Baresoil.shp with CHM_uav26.tif\n",
      "Detected S-JTSK Krovak CRS. Manually setting target CRS to EPSG:5514\n",
      "Successfully reprojected to S-JTSK using EPSG:5514\n",
      "Current memory usage before zonal stats: 230.1 MB\n",
      "Sampling 5 polygons from 117 total\n",
      "  Extracted 20000 values from polygon 102\n",
      "  Extracted 20000 values from polygon 109\n",
      "  Extracted 20000 values from polygon 7\n"
     ]
    },
    {
     "name": "stderr",
     "output_type": "stream",
     "text": [
      "Rasters for baresoil:  53%|████████████████████████████████                            | 23/43 [00:09<00:06,  2.90it/s]"
     ]
    },
    {
     "name": "stdout",
     "output_type": "stream",
     "text": [
      "  Extracted 20000 values from polygon 95\n",
      "  Extracted 20000 values from polygon 35\n",
      "Successfully extracted 100000 sampled values. Memory: 233.0 MB\n",
      "Starting extraction. Memory usage: 228.0 MB\n",
      "Processing Baresoil.shp with CHM_uav27.tif\n",
      "Detected S-JTSK Krovak CRS. Manually setting target CRS to EPSG:5514\n",
      "Successfully reprojected to S-JTSK using EPSG:5514\n",
      "Current memory usage before zonal stats: 228.0 MB\n",
      "Sampling 5 polygons from 117 total\n",
      "  Extracted 20000 values from polygon 49\n",
      "  Extracted 20000 values from polygon 46\n",
      "  Extracted 20000 values from polygon 98\n",
      "  Extracted 20000 values from polygon 0\n",
      "  Extracted 20000 values from polygon 36\n",
      "Successfully extracted 100000 sampled values. Memory: 237.2 MB\n"
     ]
    },
    {
     "name": "stderr",
     "output_type": "stream",
     "text": [
      "Rasters for baresoil:  56%|█████████████████████████████████▍                          | 24/43 [00:09<00:06,  2.93it/s]"
     ]
    },
    {
     "name": "stdout",
     "output_type": "stream",
     "text": [
      "Starting extraction. Memory usage: 230.0 MB\n",
      "Processing Baresoil.shp with CHM_uav28.tif\n",
      "Detected S-JTSK Krovak CRS. Manually setting target CRS to EPSG:5514\n",
      "Successfully reprojected to S-JTSK using EPSG:5514\n",
      "Current memory usage before zonal stats: 230.1 MB\n",
      "Sampling 5 polygons from 117 total\n",
      "  Extracted 10593 values from polygon 53\n",
      "  Extracted 20000 values from polygon 4\n",
      "  Extracted 17582 values from polygon 50\n",
      "  Extracted 3150 values from polygon 59\n"
     ]
    },
    {
     "name": "stderr",
     "output_type": "stream",
     "text": [
      "Rasters for baresoil:  58%|██████████████████████████████████▉                         | 25/43 [00:09<00:05,  3.01it/s]"
     ]
    },
    {
     "name": "stdout",
     "output_type": "stream",
     "text": [
      "  Extracted 16744 values from polygon 62\n",
      "Successfully extracted 68069 sampled values. Memory: 233.8 MB\n",
      "Starting extraction. Memory usage: 234.3 MB\n",
      "Processing Baresoil.shp with CHM_uav29.tif\n",
      "Detected S-JTSK Krovak CRS. Manually setting target CRS to EPSG:5514\n",
      "Successfully reprojected to S-JTSK using EPSG:5514\n",
      "Current memory usage before zonal stats: 234.3 MB\n",
      "Sampling 5 polygons from 117 total\n",
      "  Extracted 20000 values from polygon 60\n",
      "  Extracted 6240 values from polygon 91\n",
      "  Extracted 7564 values from polygon 6\n"
     ]
    },
    {
     "name": "stderr",
     "output_type": "stream",
     "text": [
      "Rasters for baresoil:  60%|████████████████████████████████████▎                       | 26/43 [00:09<00:05,  3.04it/s]"
     ]
    },
    {
     "name": "stdout",
     "output_type": "stream",
     "text": [
      "  Extracted 20000 values from polygon 83\n",
      "  Extracted 20000 values from polygon 93\n",
      "Successfully extracted 73804 sampled values. Memory: 235.8 MB\n",
      "Starting extraction. Memory usage: 236.4 MB\n",
      "Processing Baresoil.shp with CHM_uav30.tif\n",
      "Detected S-JTSK Krovak CRS. Manually setting target CRS to EPSG:5514\n",
      "Successfully reprojected to S-JTSK using EPSG:5514\n",
      "Current memory usage before zonal stats: 236.4 MB\n",
      "Sampling 5 polygons from 117 total\n",
      "  Extracted 980 values from polygon 71\n",
      "  Extracted 20000 values from polygon 94\n"
     ]
    },
    {
     "name": "stderr",
     "output_type": "stream",
     "text": [
      "Rasters for baresoil:  63%|█████████████████████████████████████▋                      | 27/43 [00:10<00:05,  3.08it/s]"
     ]
    },
    {
     "name": "stdout",
     "output_type": "stream",
     "text": [
      "  Extracted 20000 values from polygon 40\n",
      "  Extracted 20000 values from polygon 88\n",
      "  Extracted 20000 values from polygon 29\n",
      "Successfully extracted 80980 sampled values. Memory: 237.9 MB\n",
      "Starting extraction. Memory usage: 238.5 MB\n",
      "Processing Baresoil.shp with CHM_uav31.tif\n",
      "Detected S-JTSK Krovak CRS. Manually setting target CRS to EPSG:5514\n",
      "Successfully reprojected to S-JTSK using EPSG:5514\n",
      "Current memory usage before zonal stats: 238.5 MB\n",
      "Sampling 5 polygons from 117 total\n",
      "  Extracted 5546 values from polygon 59\n",
      "  Extracted 20000 values from polygon 1\n",
      "  Extracted 20000 values from polygon 45\n",
      "  Extracted 20000 values from polygon 8\n",
      "  Extracted 20000 values from polygon 95\n",
      "Successfully extracted 85546 sampled values. Memory: 240.5 MB\n"
     ]
    },
    {
     "name": "stderr",
     "output_type": "stream",
     "text": [
      "Rasters for baresoil:  65%|███████████████████████████████████████                     | 28/43 [00:10<00:04,  3.16it/s]"
     ]
    },
    {
     "name": "stdout",
     "output_type": "stream",
     "text": [
      "Starting extraction. Memory usage: 241.2 MB\n",
      "Processing Baresoil.shp with CHM_uav32.tif\n",
      "Detected S-JTSK Krovak CRS. Manually setting target CRS to EPSG:5514\n",
      "Successfully reprojected to S-JTSK using EPSG:5514\n",
      "Current memory usage before zonal stats: 241.2 MB\n",
      "Sampling 5 polygons from 117 total\n",
      "  Extracted 20000 values from polygon 110\n",
      "  Extracted 15982 values from polygon 53\n",
      "  Extracted 20000 values from polygon 38\n",
      "  Extracted 20000 values from polygon 116\n"
     ]
    },
    {
     "name": "stderr",
     "output_type": "stream",
     "text": [
      "Rasters for baresoil:  67%|████████████████████████████████████████▍                   | 29/43 [00:10<00:04,  3.20it/s]"
     ]
    },
    {
     "name": "stdout",
     "output_type": "stream",
     "text": [
      "  Extracted 306 values from polygon 72\n",
      "Successfully extracted 76288 sampled values. Memory: 244.5 MB\n",
      "Starting extraction. Memory usage: 239.2 MB\n",
      "Processing Baresoil.shp with CHM_uav33.tif\n",
      "Detected S-JTSK Krovak CRS. Manually setting target CRS to EPSG:5514\n",
      "Successfully reprojected to S-JTSK using EPSG:5514\n",
      "Current memory usage before zonal stats: 239.2 MB\n",
      "Sampling 5 polygons from 117 total\n",
      "  Extracted 20000 values from polygon 112\n",
      "  Extracted 7533 values from polygon 52\n"
     ]
    },
    {
     "name": "stderr",
     "output_type": "stream",
     "text": [
      "Rasters for baresoil:  70%|█████████████████████████████████████████▊                  | 30/43 [00:11<00:04,  3.15it/s]"
     ]
    },
    {
     "name": "stdout",
     "output_type": "stream",
     "text": [
      "  Extracted 18612 values from polygon 48\n",
      "  Extracted 20000 values from polygon 109\n",
      "  Extracted 6724 values from polygon 58\n",
      "Successfully extracted 72869 sampled values. Memory: 245.2 MB\n",
      "Starting extraction. Memory usage: 244.6 MB\n",
      "Processing Baresoil.shp with CHM_uav34.tif\n",
      "Detected S-JTSK Krovak CRS. Manually setting target CRS to EPSG:5514\n",
      "Successfully reprojected to S-JTSK using EPSG:5514\n",
      "Current memory usage before zonal stats: 244.6 MB\n",
      "Sampling 5 polygons from 117 total\n",
      "  Extracted 20000 values from polygon 37\n",
      "  Extracted 20000 values from polygon 101\n",
      "  Extracted 272 values from polygon 72\n",
      "  Extracted 4324 values from polygon 68\n",
      "  Extracted 20000 values from polygon 1\n"
     ]
    },
    {
     "name": "stderr",
     "output_type": "stream",
     "text": [
      "Rasters for baresoil:  72%|███████████████████████████████████████████▎                | 31/43 [00:11<00:03,  3.15it/s]"
     ]
    },
    {
     "name": "stdout",
     "output_type": "stream",
     "text": [
      "Successfully extracted 64596 sampled values. Memory: 245.3 MB\n",
      "Starting extraction. Memory usage: 241.2 MB\n",
      "Processing Baresoil.shp with CHM_uav35.tif\n",
      "Detected S-JTSK Krovak CRS. Manually setting target CRS to EPSG:5514\n",
      "Successfully reprojected to S-JTSK using EPSG:5514\n",
      "Current memory usage before zonal stats: 241.3 MB\n",
      "Sampling 5 polygons from 117 total\n",
      "  Extracted 20000 values from polygon 95\n",
      "  Extracted 20000 values from polygon 21\n",
      "  Extracted 20000 values from polygon 53\n"
     ]
    },
    {
     "name": "stderr",
     "output_type": "stream",
     "text": [
      "Rasters for baresoil:  74%|████████████████████████████████████████████▋               | 32/43 [00:11<00:03,  3.05it/s]"
     ]
    },
    {
     "name": "stdout",
     "output_type": "stream",
     "text": [
      "  Extracted 20000 values from polygon 54\n",
      "  Extracted 20000 values from polygon 12\n",
      "Successfully extracted 100000 sampled values. Memory: 256.9 MB\n",
      "Starting extraction. Memory usage: 243.5 MB\n",
      "Processing Baresoil.shp with CHM_uav36.tif\n",
      "Detected S-JTSK Krovak CRS. Manually setting target CRS to EPSG:5514\n",
      "Successfully reprojected to S-JTSK using EPSG:5514\n",
      "Current memory usage before zonal stats: 243.6 MB\n",
      "Sampling 5 polygons from 117 total\n",
      "  Extracted 20000 values from polygon 109\n",
      "  Extracted 20000 values from polygon 116\n"
     ]
    },
    {
     "name": "stderr",
     "output_type": "stream",
     "text": [
      "Rasters for baresoil:  77%|██████████████████████████████████████████████              | 33/43 [00:12<00:03,  2.56it/s]"
     ]
    },
    {
     "name": "stdout",
     "output_type": "stream",
     "text": [
      "  Extracted 20000 values from polygon 66\n",
      "  Extracted 20000 values from polygon 49\n",
      "  Extracted 20000 values from polygon 43\n",
      "Successfully extracted 100000 sampled values. Memory: 261.6 MB\n",
      "Starting extraction. Memory usage: 245.9 MB\n",
      "Processing Baresoil.shp with CHM_uav37.tif\n",
      "Detected S-JTSK Krovak CRS. Manually setting target CRS to EPSG:5514\n",
      "Successfully reprojected to S-JTSK using EPSG:5514\n",
      "Current memory usage before zonal stats: 245.9 MB\n",
      "Sampling 5 polygons from 117 total\n",
      "  Extracted 20000 values from polygon 11\n",
      "  Extracted 20000 values from polygon 32\n",
      "  Extracted 20000 values from polygon 104\n"
     ]
    },
    {
     "name": "stderr",
     "output_type": "stream",
     "text": [
      "Rasters for baresoil:  79%|███████████████████████████████████████████████▍            | 34/43 [00:12<00:03,  2.49it/s]"
     ]
    },
    {
     "name": "stdout",
     "output_type": "stream",
     "text": [
      "  Extracted 20000 values from polygon 17\n",
      "  Extracted 20000 values from polygon 21\n",
      "Successfully extracted 100000 sampled values. Memory: 251.6 MB\n",
      "Starting extraction. Memory usage: 252.4 MB\n",
      "Processing Baresoil.shp with CHM_uav38.tif\n",
      "Detected S-JTSK Krovak CRS. Manually setting target CRS to EPSG:5514\n",
      "Successfully reprojected to S-JTSK using EPSG:5514\n",
      "Current memory usage before zonal stats: 252.4 MB\n",
      "Sampling 5 polygons from 117 total\n",
      "  Extracted 20000 values from polygon 19\n",
      "  Extracted 20000 values from polygon 94\n",
      "  Extracted 20000 values from polygon 57\n",
      "  Extracted 20000 values from polygon 47\n",
      "  Extracted 20000 values from polygon 1\n"
     ]
    },
    {
     "name": "stderr",
     "output_type": "stream",
     "text": [
      "Rasters for baresoil:  81%|████████████████████████████████████████████████▊           | 35/43 [00:13<00:03,  2.48it/s]"
     ]
    },
    {
     "name": "stdout",
     "output_type": "stream",
     "text": [
      "Successfully extracted 100000 sampled values. Memory: 263.9 MB\n",
      "Starting extraction. Memory usage: 251.2 MB\n",
      "Processing Baresoil.shp with CHM_uav39.tif\n",
      "Detected S-JTSK Krovak CRS. Manually setting target CRS to EPSG:5514\n",
      "Successfully reprojected to S-JTSK using EPSG:5514\n",
      "Current memory usage before zonal stats: 251.2 MB\n",
      "Sampling 5 polygons from 117 total\n",
      "  Extracted 20000 values from polygon 39\n",
      "  Extracted 20000 values from polygon 58\n",
      "  Extracted 20000 values from polygon 12\n"
     ]
    },
    {
     "name": "stderr",
     "output_type": "stream",
     "text": [
      "Rasters for baresoil:  84%|██████████████████████████████████████████████████▏         | 36/43 [00:13<00:02,  2.53it/s]"
     ]
    },
    {
     "name": "stdout",
     "output_type": "stream",
     "text": [
      "  Extracted 20000 values from polygon 54\n",
      "  Extracted 20000 values from polygon 40\n",
      "Successfully extracted 100000 sampled values. Memory: 267.5 MB\n",
      "Starting extraction. Memory usage: 254.1 MB\n",
      "Processing Baresoil.shp with CHM_uav40.tif\n",
      "Detected S-JTSK Krovak CRS. Manually setting target CRS to EPSG:5514\n",
      "Successfully reprojected to S-JTSK using EPSG:5514\n",
      "Current memory usage before zonal stats: 254.2 MB\n",
      "Sampling 5 polygons from 117 total\n",
      "  Extracted 20000 values from polygon 83\n",
      "  Extracted 20000 values from polygon 92\n",
      "  Extracted 20000 values from polygon 23\n",
      "  Extracted 20000 values from polygon 40\n"
     ]
    },
    {
     "name": "stderr",
     "output_type": "stream",
     "text": [
      "Rasters for baresoil:  86%|███████████████████████████████████████████████████▋        | 37/43 [00:14<00:02,  2.48it/s]"
     ]
    },
    {
     "name": "stdout",
     "output_type": "stream",
     "text": [
      "  Extracted 20000 values from polygon 98\n",
      "Successfully extracted 100000 sampled values. Memory: 268.5 MB\n",
      "Starting extraction. Memory usage: 256.3 MB\n",
      "Processing Baresoil.shp with CHM_uav41.tif\n",
      "Detected S-JTSK Krovak CRS. Manually setting target CRS to EPSG:5514\n",
      "Successfully reprojected to S-JTSK using EPSG:5514\n",
      "Current memory usage before zonal stats: 256.4 MB\n",
      "Sampling 5 polygons from 117 total\n",
      "  Extracted 20000 values from polygon 61\n",
      "  Extracted 20000 values from polygon 50\n"
     ]
    },
    {
     "name": "stderr",
     "output_type": "stream",
     "text": [
      "Rasters for baresoil:  88%|█████████████████████████████████████████████████████       | 38/43 [00:14<00:02,  1.99it/s]"
     ]
    },
    {
     "name": "stdout",
     "output_type": "stream",
     "text": [
      "  Extracted 20000 values from polygon 33\n",
      "  Extracted 20000 values from polygon 54\n",
      "  Extracted 20000 values from polygon 26\n",
      "Successfully extracted 100000 sampled values. Memory: 273.9 MB\n",
      "Starting extraction. Memory usage: 259.5 MB\n",
      "Processing Baresoil.shp with CHM_uav42.tif\n",
      "Detected S-JTSK Krovak CRS. Manually setting target CRS to EPSG:5514\n",
      "Successfully reprojected to S-JTSK using EPSG:5514\n",
      "Current memory usage before zonal stats: 259.5 MB\n",
      "Sampling 5 polygons from 117 total\n",
      "  Extracted 20000 values from polygon 19\n",
      "  Extracted 20000 values from polygon 11\n",
      "  Extracted 20000 values from polygon 44\n",
      "  Extracted 20000 values from polygon 77\n",
      "  Extracted 20000 values from polygon 38\n",
      "Successfully extracted 100000 sampled values. Memory: 278.3 MB\n"
     ]
    },
    {
     "name": "stderr",
     "output_type": "stream",
     "text": [
      "Rasters for baresoil:  91%|██████████████████████████████████████████████████████▍     | 39/43 [00:15<00:01,  2.06it/s]"
     ]
    },
    {
     "name": "stdout",
     "output_type": "stream",
     "text": [
      "Starting extraction. Memory usage: 262.6 MB\n",
      "Processing Baresoil.shp with CHM_uav43.tif\n",
      "Detected S-JTSK Krovak CRS. Manually setting target CRS to EPSG:5514\n",
      "Successfully reprojected to S-JTSK using EPSG:5514\n",
      "Current memory usage before zonal stats: 262.7 MB\n",
      "Sampling 5 polygons from 117 total\n",
      "  Extracted 20000 values from polygon 50\n",
      "  Extracted 20000 values from polygon 94\n"
     ]
    },
    {
     "name": "stderr",
     "output_type": "stream",
     "text": [
      "Rasters for baresoil:  93%|███████████████████████████████████████████████████████▊    | 40/43 [00:15<00:01,  2.13it/s]"
     ]
    },
    {
     "name": "stdout",
     "output_type": "stream",
     "text": [
      "  Extracted 20000 values from polygon 28\n",
      "  Extracted 20000 values from polygon 91\n",
      "  Extracted 20000 values from polygon 2\n",
      "Successfully extracted 100000 sampled values. Memory: 278.7 MB\n",
      "Starting extraction. Memory usage: 262.6 MB\n",
      "Processing Baresoil.shp with CHM_uav44.tif\n",
      "Detected S-JTSK Krovak CRS. Manually setting target CRS to EPSG:5514\n",
      "Successfully reprojected to S-JTSK using EPSG:5514\n",
      "Current memory usage before zonal stats: 262.7 MB\n",
      "Sampling 5 polygons from 117 total\n",
      "  Extracted 20000 values from polygon 105\n",
      "  Extracted 20000 values from polygon 32\n",
      "  Extracted 20000 values from polygon 54\n",
      "  Extracted 20000 values from polygon 21\n"
     ]
    },
    {
     "name": "stderr",
     "output_type": "stream",
     "text": [
      "Rasters for baresoil:  95%|█████████████████████████████████████████████████████████▏  | 41/43 [00:16<00:00,  2.02it/s]"
     ]
    },
    {
     "name": "stdout",
     "output_type": "stream",
     "text": [
      "  Extracted 20000 values from polygon 63\n",
      "Successfully extracted 100000 sampled values. Memory: 273.0 MB\n",
      "Starting extraction. Memory usage: 266.5 MB\n",
      "Processing Baresoil.shp with CHM_uav45.tif\n",
      "Detected S-JTSK Krovak CRS. Manually setting target CRS to EPSG:5514\n",
      "Successfully reprojected to S-JTSK using EPSG:5514\n",
      "Current memory usage before zonal stats: 266.5 MB\n",
      "Sampling 5 polygons from 117 total\n",
      "  Extracted 20000 values from polygon 53\n",
      "  Extracted 20000 values from polygon 81\n",
      "  Extracted 20000 values from polygon 84\n",
      "  Extracted 20000 values from polygon 18\n"
     ]
    },
    {
     "name": "stderr",
     "output_type": "stream",
     "text": [
      "Rasters for baresoil:  98%|██████████████████████████████████████████████████████████▌ | 42/43 [00:16<00:00,  2.06it/s]"
     ]
    },
    {
     "name": "stdout",
     "output_type": "stream",
     "text": [
      "  Extracted 20000 values from polygon 1\n",
      "Successfully extracted 100000 sampled values. Memory: 282.4 MB\n",
      "Starting extraction. Memory usage: 266.8 MB\n",
      "Processing Baresoil.shp with CHM_uav46.tif\n",
      "Detected S-JTSK Krovak CRS. Manually setting target CRS to EPSG:5514\n",
      "Successfully reprojected to S-JTSK using EPSG:5514\n",
      "Current memory usage before zonal stats: 266.9 MB\n",
      "Sampling 5 polygons from 117 total\n",
      "  Extracted 20000 values from polygon 20\n",
      "  Extracted 20000 values from polygon 106\n",
      "  Extracted 20000 values from polygon 89\n",
      "  Extracted 20000 values from polygon 58\n"
     ]
    },
    {
     "name": "stderr",
     "output_type": "stream",
     "text": [
      "Rasters for baresoil: 100%|████████████████████████████████████████████████████████████| 43/43 [00:17<00:00,  2.51it/s]\n"
     ]
    },
    {
     "name": "stdout",
     "output_type": "stream",
     "text": [
      "  Extracted 20000 values from polygon 51\n",
      "Successfully extracted 100000 sampled values. Memory: 274.9 MB\n",
      "Collected 4000505 pixel values for baresoil\n",
      "\n",
      "Processing early_regrowth...\n"
     ]
    },
    {
     "name": "stderr",
     "output_type": "stream",
     "text": [
      "Rasters for early_regrowth:   0%|                                                               | 0/43 [00:00<?, ?it/s]"
     ]
    },
    {
     "name": "stdout",
     "output_type": "stream",
     "text": [
      "Starting extraction. Memory usage: 269.2 MB\n",
      "Processing Early_regrowth.shp with CHM_uav47.tif\n",
      "Detected S-JTSK Krovak CRS. Manually setting target CRS to EPSG:5514\n",
      "Successfully reprojected to S-JTSK using EPSG:5514\n",
      "Current memory usage before zonal stats: 269.5 MB\n",
      "Sampling 5 polygons from 288 total\n",
      "  Extracted 20000 values from polygon 281\n",
      "  Extracted 20000 values from polygon 125\n",
      "  Extracted 20000 values from polygon 112\n",
      "  Extracted 20000 values from polygon 115\n"
     ]
    },
    {
     "name": "stderr",
     "output_type": "stream",
     "text": [
      "Rasters for early_regrowth:   2%|█▎                                                     | 1/43 [00:01<00:50,  1.21s/it]"
     ]
    },
    {
     "name": "stdout",
     "output_type": "stream",
     "text": [
      "  Extracted 20000 values from polygon 6\n",
      "Successfully extracted 100000 sampled values. Memory: 274.7 MB\n",
      "Starting extraction. Memory usage: 274.7 MB\n",
      "Processing Early_regrowth.shp with CHM_uav1.tif\n",
      "Detected S-JTSK Krovak CRS. Manually setting target CRS to EPSG:5514\n",
      "Successfully reprojected to S-JTSK using EPSG:5514\n",
      "Current memory usage before zonal stats: 274.7 MB\n",
      "Sampling 5 polygons from 288 total\n",
      "  Extracted 20000 values from polygon 115\n",
      "  Extracted 20000 values from polygon 91\n",
      "  Extracted 20000 values from polygon 230\n",
      "  Extracted 20000 values from polygon 37\n"
     ]
    },
    {
     "name": "stderr",
     "output_type": "stream",
     "text": [
      "Rasters for early_regrowth:   5%|██▌                                                    | 2/43 [00:01<00:39,  1.04it/s]"
     ]
    },
    {
     "name": "stdout",
     "output_type": "stream",
     "text": [
      "  Extracted 20000 values from polygon 274\n",
      "Successfully extracted 100000 sampled values. Memory: 349.2 MB\n",
      "Starting extraction. Memory usage: 274.4 MB\n",
      "Processing Early_regrowth.shp with CHM_uav2.tif\n",
      "Detected S-JTSK Krovak CRS. Manually setting target CRS to EPSG:5514\n",
      "Successfully reprojected to S-JTSK using EPSG:5514\n",
      "Current memory usage before zonal stats: 274.6 MB\n",
      "Sampling 5 polygons from 288 total\n",
      "  Extracted 20000 values from polygon 226\n",
      "  Extracted 20000 values from polygon 52\n",
      "  Extracted 20000 values from polygon 45\n",
      "  Extracted 20000 values from polygon 225\n",
      "  Extracted 20000 values from polygon 59\n",
      "Successfully extracted 100000 sampled values. Memory: 292.6 MB\n"
     ]
    },
    {
     "name": "stderr",
     "output_type": "stream",
     "text": [
      "Rasters for early_regrowth:   7%|███▊                                                   | 3/43 [00:02<00:28,  1.40it/s]"
     ]
    },
    {
     "name": "stdout",
     "output_type": "stream",
     "text": [
      "Starting extraction. Memory usage: 278.7 MB\n",
      "Processing Early_regrowth.shp with CHM_uav3.tif\n",
      "Detected S-JTSK Krovak CRS. Manually setting target CRS to EPSG:5514\n",
      "Successfully reprojected to S-JTSK using EPSG:5514\n",
      "Current memory usage before zonal stats: 278.8 MB\n",
      "Sampling 5 polygons from 288 total\n",
      "  Extracted 20000 values from polygon 243\n",
      "  Extracted 10947 values from polygon 202\n",
      "  Extracted 1620 values from polygon 169\n"
     ]
    },
    {
     "name": "stderr",
     "output_type": "stream",
     "text": [
      "Rasters for early_regrowth:   9%|█████                                                  | 4/43 [00:02<00:22,  1.77it/s]"
     ]
    },
    {
     "name": "stdout",
     "output_type": "stream",
     "text": [
      "  Extracted 20000 values from polygon 205\n",
      "  Extracted 20000 values from polygon 69\n",
      "Successfully extracted 72567 sampled values. Memory: 281.3 MB\n",
      "Starting extraction. Memory usage: 281.8 MB\n",
      "Processing Early_regrowth.shp with CHM_uav4.tif\n",
      "Detected S-JTSK Krovak CRS. Manually setting target CRS to EPSG:5514\n",
      "Successfully reprojected to S-JTSK using EPSG:5514\n",
      "Current memory usage before zonal stats: 281.9 MB\n",
      "Sampling 5 polygons from 288 total\n",
      "  Extracted 20000 values from polygon 121\n",
      "  Extracted 20000 values from polygon 211\n",
      "  Extracted 20000 values from polygon 109\n",
      "  Extracted 20000 values from polygon 186\n"
     ]
    },
    {
     "name": "stderr",
     "output_type": "stream",
     "text": [
      "Rasters for early_regrowth:  12%|██████▍                                                | 5/43 [00:03<00:22,  1.67it/s]"
     ]
    },
    {
     "name": "stdout",
     "output_type": "stream",
     "text": [
      "  Extracted 20000 values from polygon 214\n",
      "Successfully extracted 100000 sampled values. Memory: 290.4 MB\n",
      "Starting extraction. Memory usage: 279.9 MB\n",
      "Processing Early_regrowth.shp with CHM_uav5.tif\n",
      "Detected S-JTSK Krovak CRS. Manually setting target CRS to EPSG:5514\n",
      "Successfully reprojected to S-JTSK using EPSG:5514\n",
      "Current memory usage before zonal stats: 280.2 MB\n",
      "Sampling 5 polygons from 288 total\n",
      "  Extracted 20000 values from polygon 266\n",
      "  Extracted 20000 values from polygon 163\n"
     ]
    },
    {
     "name": "stderr",
     "output_type": "stream",
     "text": [
      "Rasters for early_regrowth:  14%|███████▋                                               | 6/43 [00:03<00:19,  1.89it/s]"
     ]
    },
    {
     "name": "stdout",
     "output_type": "stream",
     "text": [
      "  Extracted 20000 values from polygon 81\n",
      "  Extracted 20000 values from polygon 85\n",
      "  Extracted 20000 values from polygon 4\n",
      "Successfully extracted 100000 sampled values. Memory: 288.4 MB\n",
      "Starting extraction. Memory usage: 283.2 MB\n",
      "Processing Early_regrowth.shp with CHM_uav6.tif\n",
      "Detected S-JTSK Krovak CRS. Manually setting target CRS to EPSG:5514\n",
      "Successfully reprojected to S-JTSK using EPSG:5514\n",
      "Current memory usage before zonal stats: 283.4 MB\n",
      "Sampling 5 polygons from 288 total\n",
      "  Extracted 20000 values from polygon 234\n",
      "  Extracted 20000 values from polygon 221\n",
      "  Extracted 20000 values from polygon 65\n",
      "  Extracted 20000 values from polygon 217\n"
     ]
    },
    {
     "name": "stderr",
     "output_type": "stream",
     "text": [
      "Rasters for early_regrowth:  16%|████████▉                                              | 7/43 [00:04<00:20,  1.76it/s]"
     ]
    },
    {
     "name": "stdout",
     "output_type": "stream",
     "text": [
      "  Extracted 20000 values from polygon 225\n",
      "Successfully extracted 100000 sampled values. Memory: 297.1 MB\n",
      "Starting extraction. Memory usage: 288.9 MB\n",
      "Processing Early_regrowth.shp with CHM_uav7.tif\n",
      "Detected S-JTSK Krovak CRS. Manually setting target CRS to EPSG:5514\n",
      "Successfully reprojected to S-JTSK using EPSG:5514\n",
      "Current memory usage before zonal stats: 289.0 MB\n",
      "Sampling 5 polygons from 288 total\n",
      "  Extracted 20000 values from polygon 84\n",
      "  Extracted 20000 values from polygon 266\n",
      "  Extracted 20000 values from polygon 15\n",
      "  Extracted 20000 values from polygon 93\n",
      "  Extracted 20000 values from polygon 169\n",
      "Successfully extracted 100000 sampled values. Memory: 294.0 MB\n"
     ]
    },
    {
     "name": "stderr",
     "output_type": "stream",
     "text": [
      "Rasters for early_regrowth:  19%|██████████▏                                            | 8/43 [00:04<00:18,  1.94it/s]"
     ]
    },
    {
     "name": "stdout",
     "output_type": "stream",
     "text": [
      "Starting extraction. Memory usage: 288.0 MB\n",
      "Processing Early_regrowth.shp with CHM_uav12.tif\n",
      "Detected S-JTSK Krovak CRS. Manually setting target CRS to EPSG:5514\n",
      "Successfully reprojected to S-JTSK using EPSG:5514\n",
      "Current memory usage before zonal stats: 288.1 MB\n",
      "Sampling 5 polygons from 288 total\n",
      "  Extracted 20000 values from polygon 49\n",
      "  Extracted 20000 values from polygon 149\n"
     ]
    },
    {
     "name": "stderr",
     "output_type": "stream",
     "text": [
      "Rasters for early_regrowth:  21%|███████████▌                                           | 9/43 [00:06<00:25,  1.34it/s]"
     ]
    },
    {
     "name": "stdout",
     "output_type": "stream",
     "text": [
      "  Extracted 20000 values from polygon 153\n",
      "  Extracted 20000 values from polygon 164\n",
      "  Extracted 20000 values from polygon 63\n",
      "Successfully extracted 100000 sampled values. Memory: 299.5 MB\n",
      "Starting extraction. Memory usage: 293.2 MB\n",
      "Processing Early_regrowth.shp with CHM_uav13.tif\n",
      "Detected S-JTSK Krovak CRS. Manually setting target CRS to EPSG:5514\n",
      "Successfully reprojected to S-JTSK using EPSG:5514\n",
      "Current memory usage before zonal stats: 293.2 MB\n",
      "Sampling 5 polygons from 288 total\n",
      "  Extracted 20000 values from polygon 46\n",
      "  Extracted 20000 values from polygon 185\n",
      "  Extracted 20000 values from polygon 215\n",
      "  Extracted 20000 values from polygon 245\n"
     ]
    },
    {
     "name": "stderr",
     "output_type": "stream",
     "text": [
      "Rasters for early_regrowth:  23%|████████████▌                                         | 10/43 [00:06<00:22,  1.46it/s]"
     ]
    },
    {
     "name": "stdout",
     "output_type": "stream",
     "text": [
      "  Extracted 20000 values from polygon 167\n",
      "Successfully extracted 100000 sampled values. Memory: 341.4 MB\n",
      "Starting extraction. Memory usage: 293.9 MB\n",
      "Processing Early_regrowth.shp with CHM_uav14.tif\n",
      "Detected S-JTSK Krovak CRS. Manually setting target CRS to EPSG:5514\n",
      "Successfully reprojected to S-JTSK using EPSG:5514\n",
      "Current memory usage before zonal stats: 293.9 MB\n",
      "Sampling 5 polygons from 288 total\n",
      "  Extracted 20000 values from polygon 6\n",
      "  Extracted 20000 values from polygon 260\n",
      "  Extracted 20000 values from polygon 209\n"
     ]
    },
    {
     "name": "stderr",
     "output_type": "stream",
     "text": [
      "Rasters for early_regrowth:  26%|█████████████▊                                        | 11/43 [00:07<00:20,  1.53it/s]"
     ]
    },
    {
     "name": "stdout",
     "output_type": "stream",
     "text": [
      "  Extracted 20000 values from polygon 212\n",
      "  Extracted 20000 values from polygon 105\n",
      "Successfully extracted 100000 sampled values. Memory: 306.8 MB\n",
      "Starting extraction. Memory usage: 295.3 MB\n",
      "Processing Early_regrowth.shp with CHM_uav15.tif\n",
      "Detected S-JTSK Krovak CRS. Manually setting target CRS to EPSG:5514\n",
      "Successfully reprojected to S-JTSK using EPSG:5514\n",
      "Current memory usage before zonal stats: 295.5 MB\n",
      "Sampling 5 polygons from 288 total\n",
      "  Extracted 20000 values from polygon 121\n",
      "  Extracted 20000 values from polygon 30\n",
      "  Extracted 20000 values from polygon 280\n",
      "  Extracted 20000 values from polygon 157\n",
      "  Extracted 20000 values from polygon 71\n"
     ]
    },
    {
     "name": "stderr",
     "output_type": "stream",
     "text": [
      "Rasters for early_regrowth:  28%|███████████████                                       | 12/43 [00:07<00:19,  1.58it/s]"
     ]
    },
    {
     "name": "stdout",
     "output_type": "stream",
     "text": [
      "Successfully extracted 100000 sampled values. Memory: 306.1 MB\n",
      "Starting extraction. Memory usage: 296.8 MB\n",
      "Processing Early_regrowth.shp with CHM_uav16.tif\n",
      "Detected S-JTSK Krovak CRS. Manually setting target CRS to EPSG:5514\n",
      "Successfully reprojected to S-JTSK using EPSG:5514\n",
      "Current memory usage before zonal stats: 297.0 MB\n",
      "Sampling 5 polygons from 288 total\n",
      "  Extracted 20000 values from polygon 167\n",
      "  Extracted 20000 values from polygon 144\n",
      "  Extracted 20000 values from polygon 258\n",
      "  Extracted 20000 values from polygon 254\n"
     ]
    },
    {
     "name": "stderr",
     "output_type": "stream",
     "text": [
      "Rasters for early_regrowth:  30%|████████████████▎                                     | 13/43 [00:08<00:18,  1.65it/s]"
     ]
    },
    {
     "name": "stdout",
     "output_type": "stream",
     "text": [
      "  Extracted 20000 values from polygon 101\n",
      "Successfully extracted 100000 sampled values. Memory: 304.2 MB\n",
      "Starting extraction. Memory usage: 300.1 MB\n",
      "Processing Early_regrowth.shp with CHM_uav17.tif\n",
      "Detected S-JTSK Krovak CRS. Manually setting target CRS to EPSG:5514\n",
      "Successfully reprojected to S-JTSK using EPSG:5514\n",
      "Current memory usage before zonal stats: 300.3 MB\n",
      "Sampling 5 polygons from 288 total\n",
      "  Extracted 20000 values from polygon 125\n",
      "  Extracted 20000 values from polygon 39\n",
      "  Extracted 20000 values from polygon 171\n",
      "  Extracted 20000 values from polygon 103\n",
      "  Extracted 20000 values from polygon 81\n"
     ]
    },
    {
     "name": "stderr",
     "output_type": "stream",
     "text": [
      "Rasters for early_regrowth:  33%|█████████████████▌                                    | 14/43 [00:08<00:16,  1.78it/s]"
     ]
    },
    {
     "name": "stdout",
     "output_type": "stream",
     "text": [
      "Successfully extracted 100000 sampled values. Memory: 316.7 MB\n",
      "Starting extraction. Memory usage: 301.5 MB\n",
      "Processing Early_regrowth.shp with CHM_uav18.tif\n",
      "Detected S-JTSK Krovak CRS. Manually setting target CRS to EPSG:5514\n",
      "Successfully reprojected to S-JTSK using EPSG:5514\n",
      "Current memory usage before zonal stats: 301.7 MB\n",
      "Sampling 5 polygons from 288 total\n",
      "  Extracted 20000 values from polygon 192\n",
      "  Extracted 20000 values from polygon 14\n",
      "  Extracted 20000 values from polygon 151\n",
      "  Extracted 20000 values from polygon 150\n"
     ]
    },
    {
     "name": "stderr",
     "output_type": "stream",
     "text": [
      "Rasters for early_regrowth:  35%|██████████████████▊                                   | 15/43 [00:09<00:16,  1.73it/s]"
     ]
    },
    {
     "name": "stdout",
     "output_type": "stream",
     "text": [
      "  Extracted 20000 values from polygon 86\n",
      "Successfully extracted 100000 sampled values. Memory: 355.1 MB\n",
      "Starting extraction. Memory usage: 306.9 MB\n",
      "Processing Early_regrowth.shp with CHM_uav19.tif\n",
      "Detected S-JTSK Krovak CRS. Manually setting target CRS to EPSG:5514\n",
      "Successfully reprojected to S-JTSK using EPSG:5514\n",
      "Current memory usage before zonal stats: 306.9 MB\n",
      "Sampling 5 polygons from 288 total\n",
      "  Extracted 20000 values from polygon 46\n",
      "  Extracted 20000 values from polygon 65\n",
      "  Extracted 20000 values from polygon 112\n",
      "  Extracted 20000 values from polygon 286\n"
     ]
    },
    {
     "name": "stderr",
     "output_type": "stream",
     "text": [
      "Rasters for early_regrowth:  37%|████████████████████                                  | 16/43 [00:10<00:21,  1.25it/s]"
     ]
    },
    {
     "name": "stdout",
     "output_type": "stream",
     "text": [
      "  Extracted 20000 values from polygon 190\n",
      "Successfully extracted 100000 sampled values. Memory: 326.3 MB\n",
      "Starting extraction. Memory usage: 309.4 MB\n",
      "Processing Early_regrowth.shp with CHM_uav20.tif\n",
      "Detected S-JTSK Krovak CRS. Manually setting target CRS to EPSG:5514\n",
      "Successfully reprojected to S-JTSK using EPSG:5514\n",
      "Current memory usage before zonal stats: 309.4 MB\n",
      "Sampling 5 polygons from 288 total\n",
      "  Extracted 20000 values from polygon 237\n",
      "  Extracted 20000 values from polygon 250\n",
      "  Extracted 20000 values from polygon 97\n"
     ]
    },
    {
     "name": "stderr",
     "output_type": "stream",
     "text": [
      "Rasters for early_regrowth:  40%|█████████████████████▎                                | 17/43 [00:11<00:19,  1.34it/s]"
     ]
    },
    {
     "name": "stdout",
     "output_type": "stream",
     "text": [
      "  Extracted 20000 values from polygon 272\n",
      "  Extracted 20000 values from polygon 225\n",
      "Successfully extracted 100000 sampled values. Memory: 319.7 MB\n",
      "Starting extraction. Memory usage: 308.3 MB\n",
      "Processing Early_regrowth.shp with CHM_uav21.tif\n",
      "Detected S-JTSK Krovak CRS. Manually setting target CRS to EPSG:5514\n",
      "Successfully reprojected to S-JTSK using EPSG:5514\n",
      "Current memory usage before zonal stats: 308.5 MB\n",
      "Sampling 5 polygons from 288 total\n",
      "  Extracted 20000 values from polygon 87\n",
      "  Extracted 20000 values from polygon 269\n",
      "  Extracted 20000 values from polygon 82\n"
     ]
    },
    {
     "name": "stderr",
     "output_type": "stream",
     "text": [
      "Rasters for early_regrowth:  42%|██████████████████████▌                               | 18/43 [00:12<00:21,  1.15it/s]"
     ]
    },
    {
     "name": "stdout",
     "output_type": "stream",
     "text": [
      "  Extracted 20000 values from polygon 222\n",
      "  Extracted 20000 values from polygon 168\n",
      "Successfully extracted 100000 sampled values. Memory: 333.8 MB\n",
      "Starting extraction. Memory usage: 313.1 MB\n",
      "Processing Early_regrowth.shp with CHM_uav22.tif\n",
      "Detected S-JTSK Krovak CRS. Manually setting target CRS to EPSG:5514\n",
      "Successfully reprojected to S-JTSK using EPSG:5514\n",
      "Current memory usage before zonal stats: 313.1 MB\n",
      "Sampling 5 polygons from 288 total\n",
      "  Extracted 20000 values from polygon 228\n",
      "  Extracted 20000 values from polygon 111\n",
      "  Extracted 20000 values from polygon 238\n",
      "  Extracted 20000 values from polygon 185\n",
      "  Extracted 20000 values from polygon 2\n"
     ]
    },
    {
     "name": "stderr",
     "output_type": "stream",
     "text": [
      "Rasters for early_regrowth:  44%|███████████████████████▊                              | 19/43 [00:13<00:18,  1.30it/s]"
     ]
    },
    {
     "name": "stdout",
     "output_type": "stream",
     "text": [
      "Successfully extracted 100000 sampled values. Memory: 327.7 MB\n",
      "Starting extraction. Memory usage: 315.5 MB\n",
      "Processing Early_regrowth.shp with CHM_uav23.tif\n",
      "Detected S-JTSK Krovak CRS. Manually setting target CRS to EPSG:5514\n",
      "Successfully reprojected to S-JTSK using EPSG:5514\n",
      "Current memory usage before zonal stats: 315.6 MB\n",
      "Sampling 5 polygons from 288 total\n",
      "  Extracted 20000 values from polygon 163\n",
      "  Extracted 20000 values from polygon 81\n",
      "  Extracted 20000 values from polygon 264\n"
     ]
    },
    {
     "name": "stderr",
     "output_type": "stream",
     "text": [
      "Rasters for early_regrowth:  47%|█████████████████████████                             | 20/43 [00:13<00:15,  1.53it/s]"
     ]
    },
    {
     "name": "stdout",
     "output_type": "stream",
     "text": [
      "  Extracted 20000 values from polygon 207\n",
      "  Extracted 20000 values from polygon 198\n",
      "Successfully extracted 100000 sampled values. Memory: 321.0 MB\n",
      "Starting extraction. Memory usage: 315.5 MB\n",
      "Processing Early_regrowth.shp with CHM_uav24.tif\n",
      "Detected S-JTSK Krovak CRS. Manually setting target CRS to EPSG:5514\n",
      "Successfully reprojected to S-JTSK using EPSG:5514\n",
      "Current memory usage before zonal stats: 315.8 MB\n",
      "Sampling 5 polygons from 288 total\n",
      "  Extracted 20000 values from polygon 151\n",
      "  Extracted 20000 values from polygon 26\n",
      "  Extracted 9040 values from polygon 36\n",
      "  Extracted 20000 values from polygon 150\n"
     ]
    },
    {
     "name": "stderr",
     "output_type": "stream",
     "text": [
      "Rasters for early_regrowth:  49%|██████████████████████████▎                           | 21/43 [00:13<00:12,  1.76it/s]"
     ]
    },
    {
     "name": "stdout",
     "output_type": "stream",
     "text": [
      "  Extracted 20000 values from polygon 21\n",
      "Successfully extracted 89040 sampled values. Memory: 322.3 MB\n",
      "Starting extraction. Memory usage: 317.6 MB\n",
      "Processing Early_regrowth.shp with CHM_uav25.tif\n",
      "Detected S-JTSK Krovak CRS. Manually setting target CRS to EPSG:5514\n",
      "Successfully reprojected to S-JTSK using EPSG:5514\n",
      "Current memory usage before zonal stats: 317.8 MB\n",
      "Sampling 5 polygons from 288 total\n",
      "  Extracted 20000 values from polygon 49\n",
      "  Extracted 20000 values from polygon 222\n"
     ]
    },
    {
     "name": "stderr",
     "output_type": "stream",
     "text": [
      "Rasters for early_regrowth:  51%|███████████████████████████▋                          | 22/43 [00:14<00:10,  1.93it/s]"
     ]
    },
    {
     "name": "stdout",
     "output_type": "stream",
     "text": [
      "  Extracted 20000 values from polygon 146\n",
      "  Extracted 20000 values from polygon 82\n",
      "  Extracted 20000 values from polygon 268\n",
      "Successfully extracted 100000 sampled values. Memory: 327.2 MB\n",
      "Starting extraction. Memory usage: 321.8 MB\n",
      "Processing Early_regrowth.shp with CHM_uav26.tif\n",
      "Detected S-JTSK Krovak CRS. Manually setting target CRS to EPSG:5514\n",
      "Successfully reprojected to S-JTSK using EPSG:5514\n",
      "Current memory usage before zonal stats: 322.0 MB\n",
      "Sampling 5 polygons from 288 total\n",
      "  Extracted 20000 values from polygon 37\n",
      "  Extracted 20000 values from polygon 200\n",
      "  Extracted 20000 values from polygon 276\n"
     ]
    },
    {
     "name": "stderr",
     "output_type": "stream",
     "text": [
      "Rasters for early_regrowth:  53%|████████████████████████████▉                         | 23/43 [00:14<00:09,  2.07it/s]"
     ]
    },
    {
     "name": "stdout",
     "output_type": "stream",
     "text": [
      "  Extracted 20000 values from polygon 128\n",
      "  Extracted 20000 values from polygon 90\n",
      "Successfully extracted 100000 sampled values. Memory: 329.8 MB\n",
      "Starting extraction. Memory usage: 324.8 MB\n",
      "Processing Early_regrowth.shp with CHM_uav27.tif\n",
      "Detected S-JTSK Krovak CRS. Manually setting target CRS to EPSG:5514\n",
      "Successfully reprojected to S-JTSK using EPSG:5514\n",
      "Current memory usage before zonal stats: 324.8 MB\n",
      "Sampling 5 polygons from 288 total\n",
      "  Extracted 20000 values from polygon 208\n",
      "  Extracted 20000 values from polygon 145\n",
      "  Extracted 20000 values from polygon 219\n",
      "  Extracted 20000 values from polygon 284\n"
     ]
    },
    {
     "name": "stderr",
     "output_type": "stream",
     "text": [
      "Rasters for early_regrowth:  56%|██████████████████████████████▏                       | 24/43 [00:15<00:08,  2.18it/s]"
     ]
    },
    {
     "name": "stdout",
     "output_type": "stream",
     "text": [
      "  Extracted 20000 values from polygon 109\n",
      "Successfully extracted 100000 sampled values. Memory: 330.9 MB\n",
      "Starting extraction. Memory usage: 326.3 MB\n",
      "Processing Early_regrowth.shp with CHM_uav28.tif\n",
      "Detected S-JTSK Krovak CRS. Manually setting target CRS to EPSG:5514\n",
      "Successfully reprojected to S-JTSK using EPSG:5514\n",
      "Current memory usage before zonal stats: 326.5 MB\n",
      "Sampling 5 polygons from 288 total\n",
      "  Extracted 12354 values from polygon 72\n",
      "  Extracted 20000 values from polygon 86\n",
      "  Extracted 20000 values from polygon 9\n",
      "  Extracted 11055 values from polygon 25\n",
      "  Extracted 7021 values from polygon 100\n"
     ]
    },
    {
     "name": "stderr",
     "output_type": "stream",
     "text": [
      "Rasters for early_regrowth:  58%|███████████████████████████████▍                      | 25/43 [00:15<00:07,  2.25it/s]"
     ]
    },
    {
     "name": "stdout",
     "output_type": "stream",
     "text": [
      "Successfully extracted 70430 sampled values. Memory: 330.1 MB\n",
      "Starting extraction. Memory usage: 330.6 MB\n",
      "Processing Early_regrowth.shp with CHM_uav29.tif\n",
      "Detected S-JTSK Krovak CRS. Manually setting target CRS to EPSG:5514\n",
      "Successfully reprojected to S-JTSK using EPSG:5514\n",
      "Current memory usage before zonal stats: 330.7 MB\n",
      "Sampling 5 polygons from 288 total\n",
      "  Extracted 20000 values from polygon 226\n",
      "  Extracted 20000 values from polygon 149\n",
      "  Extracted 20000 values from polygon 260\n"
     ]
    },
    {
     "name": "stderr",
     "output_type": "stream",
     "text": [
      "Rasters for early_regrowth:  60%|████████████████████████████████▋                     | 26/43 [00:15<00:07,  2.35it/s]"
     ]
    },
    {
     "name": "stdout",
     "output_type": "stream",
     "text": [
      "  Extracted 20000 values from polygon 64\n",
      "  Extracted 270 values from polygon 55\n",
      "Successfully extracted 80270 sampled values. Memory: 333.4 MB\n",
      "Starting extraction. Memory usage: 329.2 MB\n",
      "Processing Early_regrowth.shp with CHM_uav30.tif\n",
      "Detected S-JTSK Krovak CRS. Manually setting target CRS to EPSG:5514\n",
      "Successfully reprojected to S-JTSK using EPSG:5514\n",
      "Current memory usage before zonal stats: 329.4 MB\n",
      "Sampling 5 polygons from 288 total\n",
      "  Extracted 20000 values from polygon 40\n",
      "  Extracted 9747 values from polygon 88\n",
      "  Extracted 20000 values from polygon 163\n",
      "  Extracted 20000 values from polygon 220\n"
     ]
    },
    {
     "name": "stderr",
     "output_type": "stream",
     "text": [
      "Rasters for early_regrowth:  63%|█████████████████████████████████▉                    | 27/43 [00:16<00:06,  2.39it/s]"
     ]
    },
    {
     "name": "stdout",
     "output_type": "stream",
     "text": [
      "  Extracted 20000 values from polygon 48\n",
      "Successfully extracted 89747 sampled values. Memory: 334.8 MB\n",
      "Starting extraction. Memory usage: 330.6 MB\n",
      "Processing Early_regrowth.shp with CHM_uav31.tif\n",
      "Detected S-JTSK Krovak CRS. Manually setting target CRS to EPSG:5514\n",
      "Successfully reprojected to S-JTSK using EPSG:5514\n",
      "Current memory usage before zonal stats: 330.8 MB\n",
      "Sampling 5 polygons from 288 total\n",
      "  Extracted 20000 values from polygon 26\n",
      "  Extracted 20000 values from polygon 107\n",
      "  Extracted 11165 values from polygon 14\n",
      "  Extracted 20000 values from polygon 64\n",
      "  Extracted 2232 values from polygon 186\n",
      "Successfully extracted 73397 sampled values. Memory: 338.5 MB\n"
     ]
    },
    {
     "name": "stderr",
     "output_type": "stream",
     "text": [
      "Rasters for early_regrowth:  65%|███████████████████████████████████▏                  | 28/43 [00:16<00:06,  2.45it/s]"
     ]
    },
    {
     "name": "stdout",
     "output_type": "stream",
     "text": [
      "Starting extraction. Memory usage: 332.1 MB\n",
      "Processing Early_regrowth.shp with CHM_uav32.tif\n",
      "Detected S-JTSK Krovak CRS. Manually setting target CRS to EPSG:5514\n",
      "Successfully reprojected to S-JTSK using EPSG:5514\n",
      "Current memory usage before zonal stats: 332.4 MB\n",
      "Sampling 5 polygons from 288 total\n",
      "  Extracted 20000 values from polygon 220\n",
      "  Extracted 20000 values from polygon 249\n",
      "  Extracted 20000 values from polygon 30\n"
     ]
    },
    {
     "name": "stderr",
     "output_type": "stream",
     "text": [
      "Rasters for early_regrowth:  67%|████████████████████████████████████▍                 | 29/43 [00:17<00:05,  2.43it/s]"
     ]
    },
    {
     "name": "stdout",
     "output_type": "stream",
     "text": [
      "  Extracted 7875 values from polygon 36\n",
      "  Extracted 20000 values from polygon 265\n",
      "Successfully extracted 87875 sampled values. Memory: 343.2 MB\n",
      "Starting extraction. Memory usage: 335.0 MB\n",
      "Processing Early_regrowth.shp with CHM_uav33.tif\n",
      "Detected S-JTSK Krovak CRS. Manually setting target CRS to EPSG:5514\n",
      "Successfully reprojected to S-JTSK using EPSG:5514\n",
      "Current memory usage before zonal stats: 335.2 MB\n",
      "Sampling 5 polygons from 288 total\n",
      "  Extracted 20000 values from polygon 283\n",
      "  Extracted 20000 values from polygon 3\n",
      "  Extracted 20000 values from polygon 112\n"
     ]
    },
    {
     "name": "stderr",
     "output_type": "stream",
     "text": [
      "Rasters for early_regrowth:  70%|█████████████████████████████████████▋                | 30/43 [00:17<00:05,  2.34it/s]"
     ]
    },
    {
     "name": "stdout",
     "output_type": "stream",
     "text": [
      "  Extracted 20000 values from polygon 274\n",
      "  Extracted 20000 values from polygon 276\n",
      "Successfully extracted 100000 sampled values. Memory: 349.2 MB\n",
      "Starting extraction. Memory usage: 337.6 MB\n",
      "Processing Early_regrowth.shp with CHM_uav34.tif\n",
      "Detected S-JTSK Krovak CRS. Manually setting target CRS to EPSG:5514\n",
      "Successfully reprojected to S-JTSK using EPSG:5514\n",
      "Current memory usage before zonal stats: 337.8 MB\n",
      "Sampling 5 polygons from 288 total\n",
      "  Extracted 20000 values from polygon 268\n",
      "  Extracted 20000 values from polygon 91\n",
      "  Extracted 13625 values from polygon 160\n",
      "  Extracted 20000 values from polygon 219\n"
     ]
    },
    {
     "name": "stderr",
     "output_type": "stream",
     "text": [
      "Rasters for early_regrowth:  72%|██████████████████████████████████████▉               | 31/43 [00:17<00:05,  2.38it/s]"
     ]
    },
    {
     "name": "stdout",
     "output_type": "stream",
     "text": [
      "  Extracted 20000 values from polygon 52\n",
      "Successfully extracted 93625 sampled values. Memory: 343.7 MB\n",
      "Starting extraction. Memory usage: 338.8 MB\n",
      "Processing Early_regrowth.shp with CHM_uav35.tif\n",
      "Detected S-JTSK Krovak CRS. Manually setting target CRS to EPSG:5514\n",
      "Successfully reprojected to S-JTSK using EPSG:5514\n",
      "Current memory usage before zonal stats: 339.0 MB\n",
      "Sampling 5 polygons from 288 total\n",
      "  Extracted 20000 values from polygon 126\n",
      "  Extracted 20000 values from polygon 182\n",
      "  Extracted 20000 values from polygon 218\n",
      "  Extracted 20000 values from polygon 85\n"
     ]
    },
    {
     "name": "stderr",
     "output_type": "stream",
     "text": [
      "Rasters for early_regrowth:  74%|████████████████████████████████████████▏             | 32/43 [00:18<00:05,  2.07it/s]"
     ]
    },
    {
     "name": "stdout",
     "output_type": "stream",
     "text": [
      "  Extracted 20000 values from polygon 99\n",
      "Successfully extracted 100000 sampled values. Memory: 358.4 MB\n",
      "Starting extraction. Memory usage: 344.3 MB\n",
      "Processing Early_regrowth.shp with CHM_uav36.tif\n",
      "Detected S-JTSK Krovak CRS. Manually setting target CRS to EPSG:5514\n",
      "Successfully reprojected to S-JTSK using EPSG:5514\n",
      "Current memory usage before zonal stats: 344.4 MB\n",
      "Sampling 5 polygons from 288 total\n",
      "  Extracted 20000 values from polygon 5\n",
      "  Extracted 20000 values from polygon 201\n",
      "  Extracted 20000 values from polygon 188\n",
      "  Extracted 20000 values from polygon 141\n",
      "  Extracted 20000 values from polygon 115\n"
     ]
    },
    {
     "name": "stderr",
     "output_type": "stream",
     "text": [
      "Rasters for early_regrowth:  77%|█████████████████████████████████████████▍            | 33/43 [00:19<00:05,  1.79it/s]"
     ]
    },
    {
     "name": "stdout",
     "output_type": "stream",
     "text": [
      "Successfully extracted 100000 sampled values. Memory: 413.3 MB\n",
      "Starting extraction. Memory usage: 348.9 MB\n",
      "Processing Early_regrowth.shp with CHM_uav37.tif\n",
      "Detected S-JTSK Krovak CRS. Manually setting target CRS to EPSG:5514\n",
      "Successfully reprojected to S-JTSK using EPSG:5514\n",
      "Current memory usage before zonal stats: 348.9 MB\n",
      "Sampling 5 polygons from 288 total\n",
      "  Extracted 20000 values from polygon 31\n",
      "  Extracted 20000 values from polygon 141\n",
      "  Extracted 20000 values from polygon 128\n",
      "  Extracted 20000 values from polygon 263\n"
     ]
    },
    {
     "name": "stderr",
     "output_type": "stream",
     "text": [
      "Rasters for early_regrowth:  79%|██████████████████████████████████████████▋           | 34/43 [00:19<00:05,  1.66it/s]"
     ]
    },
    {
     "name": "stdout",
     "output_type": "stream",
     "text": [
      "  Extracted 20000 values from polygon 43\n",
      "Successfully extracted 100000 sampled values. Memory: 356.1 MB\n",
      "Starting extraction. Memory usage: 345.9 MB\n",
      "Processing Early_regrowth.shp with CHM_uav38.tif\n",
      "Detected S-JTSK Krovak CRS. Manually setting target CRS to EPSG:5514\n",
      "Successfully reprojected to S-JTSK using EPSG:5514\n",
      "Current memory usage before zonal stats: 346.1 MB\n",
      "Sampling 5 polygons from 288 total\n",
      "  Extracted 20000 values from polygon 100\n",
      "  Extracted 20000 values from polygon 286\n",
      "  Extracted 20000 values from polygon 33\n",
      "  Extracted 20000 values from polygon 63\n"
     ]
    },
    {
     "name": "stderr",
     "output_type": "stream",
     "text": [
      "Rasters for early_regrowth:  81%|███████████████████████████████████████████▉          | 35/43 [00:20<00:04,  1.77it/s]"
     ]
    },
    {
     "name": "stdout",
     "output_type": "stream",
     "text": [
      "  Extracted 20000 values from polygon 164\n",
      "Successfully extracted 100000 sampled values. Memory: 357.4 MB\n",
      "Starting extraction. Memory usage: 349.4 MB\n",
      "Processing Early_regrowth.shp with CHM_uav39.tif\n",
      "Detected S-JTSK Krovak CRS. Manually setting target CRS to EPSG:5514\n",
      "Successfully reprojected to S-JTSK using EPSG:5514\n",
      "Current memory usage before zonal stats: 349.6 MB\n",
      "Sampling 5 polygons from 288 total\n",
      "  Extracted 20000 values from polygon 14\n",
      "  Extracted 4864 values from polygon 55\n",
      "  Extracted 20000 values from polygon 61\n",
      "  Extracted 20000 values from polygon 152\n"
     ]
    },
    {
     "name": "stderr",
     "output_type": "stream",
     "text": [
      "Rasters for early_regrowth:  84%|█████████████████████████████████████████████▏        | 36/43 [00:20<00:03,  1.85it/s]"
     ]
    },
    {
     "name": "stdout",
     "output_type": "stream",
     "text": [
      "  Extracted 20000 values from polygon 139\n",
      "Successfully extracted 84864 sampled values. Memory: 364.0 MB\n",
      "Starting extraction. Memory usage: 353.3 MB\n",
      "Processing Early_regrowth.shp with CHM_uav40.tif\n",
      "Detected S-JTSK Krovak CRS. Manually setting target CRS to EPSG:5514\n",
      "Successfully reprojected to S-JTSK using EPSG:5514\n",
      "Current memory usage before zonal stats: 353.5 MB\n",
      "Sampling 5 polygons from 288 total\n",
      "  Extracted 20000 values from polygon 107\n",
      "  Extracted 20000 values from polygon 63\n",
      "  Extracted 20000 values from polygon 113\n",
      "  Extracted 20000 values from polygon 163\n",
      "  Extracted 20000 values from polygon 31\n"
     ]
    },
    {
     "name": "stderr",
     "output_type": "stream",
     "text": [
      "Rasters for early_regrowth:  86%|██████████████████████████████████████████████▍       | 37/43 [00:22<00:05,  1.10it/s]"
     ]
    },
    {
     "name": "stdout",
     "output_type": "stream",
     "text": [
      "Successfully extracted 100000 sampled values. Memory: 368.0 MB\n",
      "Starting extraction. Memory usage: 353.7 MB\n",
      "Processing Early_regrowth.shp with CHM_uav41.tif\n",
      "Detected S-JTSK Krovak CRS. Manually setting target CRS to EPSG:5514\n",
      "Successfully reprojected to S-JTSK using EPSG:5514\n",
      "Current memory usage before zonal stats: 353.9 MB\n",
      "Sampling 5 polygons from 288 total\n",
      "  Extracted 20000 values from polygon 163\n",
      "  Extracted 20000 values from polygon 202\n",
      "  Extracted 20000 values from polygon 274\n",
      "  Extracted 20000 values from polygon 140\n"
     ]
    },
    {
     "name": "stderr",
     "output_type": "stream",
     "text": [
      "Rasters for early_regrowth:  88%|███████████████████████████████████████████████▋      | 38/43 [00:23<00:04,  1.17it/s]"
     ]
    },
    {
     "name": "stdout",
     "output_type": "stream",
     "text": [
      "  Extracted 20000 values from polygon 203\n",
      "Successfully extracted 100000 sampled values. Memory: 372.7 MB\n",
      "Starting extraction. Memory usage: 358.8 MB\n",
      "Processing Early_regrowth.shp with CHM_uav42.tif\n",
      "Detected S-JTSK Krovak CRS. Manually setting target CRS to EPSG:5514\n",
      "Successfully reprojected to S-JTSK using EPSG:5514\n",
      "Current memory usage before zonal stats: 358.8 MB\n",
      "Sampling 5 polygons from 288 total\n",
      "  Extracted 20000 values from polygon 73\n",
      "  Extracted 20000 values from polygon 121\n",
      "  Extracted 20000 values from polygon 247\n"
     ]
    },
    {
     "name": "stderr",
     "output_type": "stream",
     "text": [
      "Rasters for early_regrowth:  91%|████████████████████████████████████████████████▉     | 39/43 [00:24<00:03,  1.28it/s]"
     ]
    },
    {
     "name": "stdout",
     "output_type": "stream",
     "text": [
      "  Extracted 20000 values from polygon 200\n",
      "  Extracted 20000 values from polygon 52\n",
      "Successfully extracted 100000 sampled values. Memory: 374.9 MB\n",
      "Starting extraction. Memory usage: 361.0 MB\n",
      "Processing Early_regrowth.shp with CHM_uav43.tif\n",
      "Detected S-JTSK Krovak CRS. Manually setting target CRS to EPSG:5514\n",
      "Successfully reprojected to S-JTSK using EPSG:5514\n",
      "Current memory usage before zonal stats: 361.1 MB\n",
      "Sampling 5 polygons from 288 total\n",
      "  Extracted 20000 values from polygon 148\n",
      "  Extracted 20000 values from polygon 75\n",
      "  Extracted 20000 values from polygon 279\n"
     ]
    },
    {
     "name": "stderr",
     "output_type": "stream",
     "text": [
      "Rasters for early_regrowth:  93%|██████████████████████████████████████████████████▏   | 40/43 [00:25<00:02,  1.08it/s]"
     ]
    },
    {
     "name": "stdout",
     "output_type": "stream",
     "text": [
      "  Extracted 20000 values from polygon 273\n",
      "  Extracted 20000 values from polygon 33\n",
      "Successfully extracted 100000 sampled values. Memory: 380.2 MB\n",
      "Starting extraction. Memory usage: 361.1 MB\n",
      "Processing Early_regrowth.shp with CHM_uav44.tif\n",
      "Detected S-JTSK Krovak CRS. Manually setting target CRS to EPSG:5514\n",
      "Successfully reprojected to S-JTSK using EPSG:5514\n",
      "Current memory usage before zonal stats: 361.3 MB\n",
      "Sampling 5 polygons from 288 total\n",
      "  Extracted 20000 values from polygon 46\n",
      "  Extracted 20000 values from polygon 157\n",
      "  Extracted 20000 values from polygon 177\n",
      "  Extracted 5293 values from polygon 55\n",
      "  Extracted 20000 values from polygon 213\n"
     ]
    },
    {
     "name": "stderr",
     "output_type": "stream",
     "text": [
      "Rasters for early_regrowth:  95%|███████████████████████████████████████████████████▍  | 41/43 [00:25<00:01,  1.17it/s]"
     ]
    },
    {
     "name": "stdout",
     "output_type": "stream",
     "text": [
      "Successfully extracted 85293 sampled values. Memory: 413.1 MB\n",
      "Starting extraction. Memory usage: 365.1 MB\n",
      "Processing Early_regrowth.shp with CHM_uav45.tif\n",
      "Detected S-JTSK Krovak CRS. Manually setting target CRS to EPSG:5514\n",
      "Successfully reprojected to S-JTSK using EPSG:5514\n",
      "Current memory usage before zonal stats: 365.1 MB\n",
      "Sampling 5 polygons from 288 total\n",
      "  Extracted 20000 values from polygon 222\n",
      "  Extracted 20000 values from polygon 173\n",
      "  Extracted 20000 values from polygon 187\n"
     ]
    },
    {
     "name": "stderr",
     "output_type": "stream",
     "text": [
      "Rasters for early_regrowth:  98%|████████████████████████████████████████████████████▋ | 42/43 [00:26<00:00,  1.27it/s]"
     ]
    },
    {
     "name": "stdout",
     "output_type": "stream",
     "text": [
      "  Extracted 20000 values from polygon 76\n",
      "  Extracted 20000 values from polygon 71\n",
      "Successfully extracted 100000 sampled values. Memory: 378.5 MB\n",
      "Starting extraction. Memory usage: 364.7 MB\n",
      "Processing Early_regrowth.shp with CHM_uav46.tif\n",
      "Detected S-JTSK Krovak CRS. Manually setting target CRS to EPSG:5514\n",
      "Successfully reprojected to S-JTSK using EPSG:5514\n",
      "Current memory usage before zonal stats: 364.9 MB\n",
      "Sampling 5 polygons from 288 total\n",
      "  Extracted 20000 values from polygon 194\n",
      "  Extracted 20000 values from polygon 137\n",
      "  Extracted 20000 values from polygon 163\n",
      "  Extracted 20000 values from polygon 186\n",
      "  Extracted 20000 values from polygon 214\n"
     ]
    },
    {
     "name": "stderr",
     "output_type": "stream",
     "text": [
      "Rasters for early_regrowth: 100%|██████████████████████████████████████████████████████| 43/43 [00:27<00:00,  1.59it/s]\n"
     ]
    },
    {
     "name": "stdout",
     "output_type": "stream",
     "text": [
      "Successfully extracted 100000 sampled values. Memory: 378.8 MB\n",
      "Collected 4127108 pixel values for early_regrowth\n",
      "\n",
      "Processing mature_regrowth...\n"
     ]
    },
    {
     "name": "stderr",
     "output_type": "stream",
     "text": [
      "Rasters for mature_regrowth:   0%|                                                              | 0/43 [00:00<?, ?it/s]"
     ]
    },
    {
     "name": "stdout",
     "output_type": "stream",
     "text": [
      "Starting extraction. Memory usage: 366.9 MB\n",
      "Processing Mature_regrowth2.shp with CHM_uav47.tif\n",
      "Detected S-JTSK Krovak CRS. Manually setting target CRS to EPSG:5514\n",
      "Successfully reprojected to S-JTSK using EPSG:5514\n",
      "Current memory usage before zonal stats: 366.9 MB\n",
      "Sampling 5 polygons from 27 total\n",
      "  Extracted 20000 values from polygon 8\n",
      "  Extracted 20000 values from polygon 12\n",
      "  Extracted 20000 values from polygon 19\n"
     ]
    },
    {
     "name": "stderr",
     "output_type": "stream",
     "text": [
      "Rasters for mature_regrowth:   2%|█▎                                                    | 1/43 [00:00<00:29,  1.42it/s]"
     ]
    },
    {
     "name": "stdout",
     "output_type": "stream",
     "text": [
      "  Extracted 20000 values from polygon 18\n",
      "  Extracted 20000 values from polygon 25\n",
      "Successfully extracted 100000 sampled values. Memory: 410.0 MB\n",
      "Starting extraction. Memory usage: 371.4 MB\n",
      "Processing Mature_regrowth2.shp with CHM_uav1.tif\n",
      "Detected S-JTSK Krovak CRS. Manually setting target CRS to EPSG:5514\n",
      "Successfully reprojected to S-JTSK using EPSG:5514\n",
      "Current memory usage before zonal stats: 371.4 MB\n",
      "Sampling 5 polygons from 27 total\n",
      "  Extracted 20000 values from polygon 15\n",
      "  Extracted 20000 values from polygon 10\n",
      "  Extracted 20000 values from polygon 6\n",
      "  Extracted 20000 values from polygon 3\n",
      "  Extracted 20000 values from polygon 4\n"
     ]
    },
    {
     "name": "stderr",
     "output_type": "stream",
     "text": [
      "Rasters for mature_regrowth:   5%|██▌                                                   | 2/43 [00:02<00:45,  1.10s/it]"
     ]
    },
    {
     "name": "stdout",
     "output_type": "stream",
     "text": [
      "Successfully extracted 100000 sampled values. Memory: 431.8 MB\n",
      "Starting extraction. Memory usage: 371.0 MB\n",
      "Processing Mature_regrowth2.shp with CHM_uav2.tif\n",
      "Detected S-JTSK Krovak CRS. Manually setting target CRS to EPSG:5514\n",
      "Successfully reprojected to S-JTSK using EPSG:5514\n",
      "Current memory usage before zonal stats: 371.1 MB\n",
      "Sampling 5 polygons from 27 total\n",
      "  Extracted 20000 values from polygon 24\n",
      "  Extracted 20000 values from polygon 3\n",
      "  Extracted 20000 values from polygon 8\n"
     ]
    },
    {
     "name": "stderr",
     "output_type": "stream",
     "text": [
      "Rasters for mature_regrowth:   7%|███▊                                                  | 3/43 [00:02<00:40,  1.01s/it]"
     ]
    },
    {
     "name": "stdout",
     "output_type": "stream",
     "text": [
      "  Extracted 20000 values from polygon 7\n",
      "  Extracted 20000 values from polygon 2\n",
      "Successfully extracted 100000 sampled values. Memory: 399.8 MB\n",
      "Starting extraction. Memory usage: 375.8 MB\n",
      "Processing Mature_regrowth2.shp with CHM_uav3.tif\n",
      "Detected S-JTSK Krovak CRS. Manually setting target CRS to EPSG:5514\n",
      "Successfully reprojected to S-JTSK using EPSG:5514\n",
      "Current memory usage before zonal stats: 375.8 MB\n",
      "Sampling 5 polygons from 27 total\n",
      "  Extracted 20000 values from polygon 12\n",
      "  Extracted 20000 values from polygon 25\n",
      "  Extracted 16675 values from polygon 24\n"
     ]
    },
    {
     "name": "stderr",
     "output_type": "stream",
     "text": [
      "Rasters for mature_regrowth:   9%|█████                                                 | 4/43 [00:03<00:30,  1.28it/s]"
     ]
    },
    {
     "name": "stdout",
     "output_type": "stream",
     "text": [
      "  Extracted 20000 values from polygon 3\n",
      "  Extracted 20000 values from polygon 2\n",
      "Successfully extracted 96675 sampled values. Memory: 378.9 MB\n",
      "Starting extraction. Memory usage: 379.7 MB\n",
      "Processing Mature_regrowth2.shp with CHM_uav4.tif\n",
      "Detected S-JTSK Krovak CRS. Manually setting target CRS to EPSG:5514\n",
      "Successfully reprojected to S-JTSK using EPSG:5514\n",
      "Current memory usage before zonal stats: 379.7 MB\n",
      "Sampling 5 polygons from 27 total\n",
      "  Extracted 20000 values from polygon 4\n",
      "  Extracted 20000 values from polygon 13\n",
      "  Extracted 20000 values from polygon 18\n",
      "  Extracted 20000 values from polygon 2\n"
     ]
    },
    {
     "name": "stderr",
     "output_type": "stream",
     "text": [
      "Rasters for mature_regrowth:  12%|██████▎                                               | 5/43 [00:04<00:29,  1.28it/s]"
     ]
    },
    {
     "name": "stdout",
     "output_type": "stream",
     "text": [
      "  Extracted 20000 values from polygon 24\n",
      "Successfully extracted 100000 sampled values. Memory: 406.1 MB\n",
      "Starting extraction. Memory usage: 381.9 MB\n",
      "Processing Mature_regrowth2.shp with CHM_uav5.tif\n",
      "Detected S-JTSK Krovak CRS. Manually setting target CRS to EPSG:5514\n",
      "Successfully reprojected to S-JTSK using EPSG:5514\n",
      "Current memory usage before zonal stats: 381.9 MB\n",
      "Sampling 5 polygons from 27 total\n",
      "  Extracted 20000 values from polygon 8\n",
      "  Extracted 20000 values from polygon 21\n",
      "  Extracted 20000 values from polygon 18\n",
      "  Extracted 20000 values from polygon 20\n",
      "  Extracted 20000 values from polygon 12\n",
      "Successfully extracted 100000 sampled values. Memory: 415.6 MB\n"
     ]
    },
    {
     "name": "stderr",
     "output_type": "stream",
     "text": [
      "Rasters for mature_regrowth:  14%|███████▌                                              | 6/43 [00:04<00:27,  1.35it/s]"
     ]
    },
    {
     "name": "stdout",
     "output_type": "stream",
     "text": [
      "Starting extraction. Memory usage: 382.0 MB\n",
      "Processing Mature_regrowth2.shp with CHM_uav6.tif\n",
      "Detected S-JTSK Krovak CRS. Manually setting target CRS to EPSG:5514\n",
      "Successfully reprojected to S-JTSK using EPSG:5514\n",
      "Current memory usage before zonal stats: 382.0 MB\n",
      "Sampling 5 polygons from 27 total\n",
      "  Extracted 20000 values from polygon 13\n",
      "  Extracted 20000 values from polygon 1\n",
      "  Extracted 20000 values from polygon 23\n",
      "  Extracted 20000 values from polygon 15\n"
     ]
    },
    {
     "name": "stderr",
     "output_type": "stream",
     "text": [
      "Rasters for mature_regrowth:  16%|████████▊                                             | 7/43 [00:05<00:26,  1.38it/s]"
     ]
    },
    {
     "name": "stdout",
     "output_type": "stream",
     "text": [
      "  Extracted 20000 values from polygon 25\n",
      "Successfully extracted 100000 sampled values. Memory: 416.6 MB\n",
      "Starting extraction. Memory usage: 384.3 MB\n",
      "Processing Mature_regrowth2.shp with CHM_uav7.tif\n",
      "Detected S-JTSK Krovak CRS. Manually setting target CRS to EPSG:5514\n",
      "Successfully reprojected to S-JTSK using EPSG:5514\n",
      "Current memory usage before zonal stats: 384.3 MB\n",
      "Sampling 5 polygons from 27 total\n",
      "  Extracted 20000 values from polygon 13\n",
      "  Extracted 20000 values from polygon 7\n",
      "  Extracted 20000 values from polygon 4\n",
      "  Extracted 20000 values from polygon 0\n",
      "  Extracted 20000 values from polygon 21\n"
     ]
    },
    {
     "name": "stderr",
     "output_type": "stream",
     "text": [
      "Rasters for mature_regrowth:  19%|██████████                                            | 8/43 [00:06<00:25,  1.35it/s]"
     ]
    },
    {
     "name": "stdout",
     "output_type": "stream",
     "text": [
      "Successfully extracted 100000 sampled values. Memory: 434.4 MB\n",
      "Starting extraction. Memory usage: 386.7 MB\n",
      "Processing Mature_regrowth2.shp with CHM_uav12.tif\n",
      "Detected S-JTSK Krovak CRS. Manually setting target CRS to EPSG:5514\n",
      "Successfully reprojected to S-JTSK using EPSG:5514\n",
      "Current memory usage before zonal stats: 386.7 MB\n",
      "Sampling 5 polygons from 27 total\n",
      "  Extracted 20000 values from polygon 3\n",
      "  Extracted 20000 values from polygon 13\n",
      "  Extracted 20000 values from polygon 2\n",
      "  Extracted 20000 values from polygon 17\n"
     ]
    },
    {
     "name": "stderr",
     "output_type": "stream",
     "text": [
      "Rasters for mature_regrowth:  21%|███████████▎                                          | 9/43 [00:07<00:29,  1.17it/s]"
     ]
    },
    {
     "name": "stdout",
     "output_type": "stream",
     "text": [
      "  Extracted 20000 values from polygon 11\n",
      "Successfully extracted 100000 sampled values. Memory: 411.9 MB\n",
      "Starting extraction. Memory usage: 386.3 MB\n",
      "Processing Mature_regrowth2.shp with CHM_uav13.tif\n",
      "Detected S-JTSK Krovak CRS. Manually setting target CRS to EPSG:5514\n",
      "Successfully reprojected to S-JTSK using EPSG:5514\n",
      "Current memory usage before zonal stats: 386.3 MB\n",
      "Sampling 5 polygons from 27 total\n",
      "  Extracted 20000 values from polygon 25\n",
      "  Extracted 20000 values from polygon 23\n",
      "  Extracted 20000 values from polygon 9\n",
      "  Extracted 20000 values from polygon 21\n",
      "  Extracted 20000 values from polygon 2\n"
     ]
    },
    {
     "name": "stderr",
     "output_type": "stream",
     "text": [
      "Rasters for mature_regrowth:  23%|████████████▎                                        | 10/43 [00:08<00:27,  1.19it/s]"
     ]
    },
    {
     "name": "stdout",
     "output_type": "stream",
     "text": [
      "Successfully extracted 100000 sampled values. Memory: 426.3 MB\n",
      "Starting extraction. Memory usage: 391.0 MB\n",
      "Processing Mature_regrowth2.shp with CHM_uav14.tif\n",
      "Detected S-JTSK Krovak CRS. Manually setting target CRS to EPSG:5514\n",
      "Successfully reprojected to S-JTSK using EPSG:5514\n",
      "Current memory usage before zonal stats: 391.0 MB\n",
      "Sampling 5 polygons from 27 total\n",
      "  Extracted 20000 values from polygon 18\n",
      "  Extracted 20000 values from polygon 3\n",
      "  Extracted 20000 values from polygon 25\n"
     ]
    },
    {
     "name": "stderr",
     "output_type": "stream",
     "text": [
      "Rasters for mature_regrowth:  26%|█████████████▌                                       | 11/43 [00:09<00:29,  1.08it/s]"
     ]
    },
    {
     "name": "stdout",
     "output_type": "stream",
     "text": [
      "  Extracted 20000 values from polygon 14\n",
      "  Extracted 20000 values from polygon 1\n",
      "Successfully extracted 100000 sampled values. Memory: 405.3 MB\n",
      "Starting extraction. Memory usage: 392.0 MB\n",
      "Processing Mature_regrowth2.shp with CHM_uav15.tif\n",
      "Detected S-JTSK Krovak CRS. Manually setting target CRS to EPSG:5514\n",
      "Successfully reprojected to S-JTSK using EPSG:5514\n",
      "Current memory usage before zonal stats: 392.0 MB\n",
      "Sampling 5 polygons from 27 total\n",
      "  Extracted 20000 values from polygon 17\n",
      "  Extracted 20000 values from polygon 3\n",
      "  Extracted 20000 values from polygon 8\n"
     ]
    },
    {
     "name": "stderr",
     "output_type": "stream",
     "text": [
      "Rasters for mature_regrowth:  28%|██████████████▊                                      | 12/43 [00:10<00:29,  1.06it/s]"
     ]
    },
    {
     "name": "stdout",
     "output_type": "stream",
     "text": [
      "  Extracted 20000 values from polygon 18\n",
      "  Extracted 20000 values from polygon 1\n",
      "Successfully extracted 100000 sampled values. Memory: 406.5 MB\n",
      "Starting extraction. Memory usage: 393.5 MB\n",
      "Processing Mature_regrowth2.shp with CHM_uav16.tif\n",
      "Detected S-JTSK Krovak CRS. Manually setting target CRS to EPSG:5514\n",
      "Successfully reprojected to S-JTSK using EPSG:5514\n",
      "Current memory usage before zonal stats: 393.5 MB\n",
      "Sampling 5 polygons from 27 total\n",
      "  Extracted 20000 values from polygon 22\n",
      "  Extracted 20000 values from polygon 2\n",
      "  Extracted 20000 values from polygon 20\n",
      "  Extracted 20000 values from polygon 1\n",
      "  Extracted 20000 values from polygon 18\n"
     ]
    },
    {
     "name": "stderr",
     "output_type": "stream",
     "text": [
      "Rasters for mature_regrowth:  30%|████████████████                                     | 13/43 [00:10<00:24,  1.24it/s]"
     ]
    },
    {
     "name": "stdout",
     "output_type": "stream",
     "text": [
      "Successfully extracted 100000 sampled values. Memory: 405.2 MB\n",
      "Starting extraction. Memory usage: 397.6 MB\n",
      "Processing Mature_regrowth2.shp with CHM_uav17.tif\n",
      "Detected S-JTSK Krovak CRS. Manually setting target CRS to EPSG:5514\n",
      "Successfully reprojected to S-JTSK using EPSG:5514\n",
      "Current memory usage before zonal stats: 397.6 MB\n",
      "Sampling 5 polygons from 27 total\n",
      "  Extracted 20000 values from polygon 7\n",
      "  Extracted 20000 values from polygon 25\n",
      "  Extracted 20000 values from polygon 21\n"
     ]
    },
    {
     "name": "stderr",
     "output_type": "stream",
     "text": [
      "Rasters for mature_regrowth:  33%|█████████████████▎                                   | 14/43 [00:11<00:23,  1.24it/s]"
     ]
    },
    {
     "name": "stdout",
     "output_type": "stream",
     "text": [
      "  Extracted 20000 values from polygon 12\n",
      "  Extracted 20000 values from polygon 17\n",
      "Successfully extracted 100000 sampled values. Memory: 411.4 MB\n",
      "Starting extraction. Memory usage: 398.1 MB\n",
      "Processing Mature_regrowth2.shp with CHM_uav18.tif\n",
      "Detected S-JTSK Krovak CRS. Manually setting target CRS to EPSG:5514\n",
      "Successfully reprojected to S-JTSK using EPSG:5514\n",
      "Current memory usage before zonal stats: 398.1 MB\n",
      "Sampling 5 polygons from 27 total\n",
      "  Extracted 20000 values from polygon 20\n",
      "  Extracted 20000 values from polygon 18\n",
      "  Extracted 20000 values from polygon 19\n",
      "  Extracted 20000 values from polygon 8\n"
     ]
    },
    {
     "name": "stderr",
     "output_type": "stream",
     "text": [
      "Rasters for mature_regrowth:  35%|██████████████████▍                                  | 15/43 [00:12<00:22,  1.24it/s]"
     ]
    },
    {
     "name": "stdout",
     "output_type": "stream",
     "text": [
      "  Extracted 20000 values from polygon 9\n",
      "Successfully extracted 100000 sampled values. Memory: 433.8 MB\n",
      "Starting extraction. Memory usage: 402.8 MB\n",
      "Processing Mature_regrowth2.shp with CHM_uav19.tif\n",
      "Detected S-JTSK Krovak CRS. Manually setting target CRS to EPSG:5514\n",
      "Successfully reprojected to S-JTSK using EPSG:5514\n",
      "Current memory usage before zonal stats: 402.8 MB\n",
      "Sampling 5 polygons from 27 total\n",
      "  Extracted 20000 values from polygon 2\n",
      "  Extracted 20000 values from polygon 17\n",
      "  Extracted 20000 values from polygon 20\n",
      "  Extracted 20000 values from polygon 10\n",
      "  Extracted 20000 values from polygon 16\n"
     ]
    },
    {
     "name": "stderr",
     "output_type": "stream",
     "text": [
      "Rasters for mature_regrowth:  37%|███████████████████▋                                 | 16/43 [00:13<00:22,  1.23it/s]"
     ]
    },
    {
     "name": "stdout",
     "output_type": "stream",
     "text": [
      "Successfully extracted 100000 sampled values. Memory: 445.7 MB\n",
      "Starting extraction. Memory usage: 404.8 MB\n",
      "Processing Mature_regrowth2.shp with CHM_uav20.tif\n",
      "Detected S-JTSK Krovak CRS. Manually setting target CRS to EPSG:5514\n",
      "Successfully reprojected to S-JTSK using EPSG:5514\n",
      "Current memory usage before zonal stats: 404.8 MB\n",
      "Sampling 5 polygons from 27 total\n",
      "  Extracted 20000 values from polygon 14\n",
      "  Extracted 20000 values from polygon 20\n",
      "  Extracted 20000 values from polygon 15\n",
      "  Extracted 20000 values from polygon 2\n"
     ]
    },
    {
     "name": "stderr",
     "output_type": "stream",
     "text": [
      "Rasters for mature_regrowth:  40%|████████████████████▉                                | 17/43 [00:13<00:20,  1.28it/s]"
     ]
    },
    {
     "name": "stdout",
     "output_type": "stream",
     "text": [
      "  Extracted 20000 values from polygon 12\n",
      "Successfully extracted 100000 sampled values. Memory: 435.0 MB\n",
      "Starting extraction. Memory usage: 406.6 MB\n",
      "Processing Mature_regrowth2.shp with CHM_uav21.tif\n",
      "Detected S-JTSK Krovak CRS. Manually setting target CRS to EPSG:5514\n",
      "Successfully reprojected to S-JTSK using EPSG:5514\n",
      "Current memory usage before zonal stats: 406.6 MB\n",
      "Sampling 5 polygons from 27 total\n",
      "  Extracted 20000 values from polygon 1\n",
      "  Extracted 20000 values from polygon 12\n",
      "  Extracted 20000 values from polygon 10\n",
      "  Extracted 20000 values from polygon 9\n"
     ]
    },
    {
     "name": "stderr",
     "output_type": "stream",
     "text": [
      "Rasters for mature_regrowth:  42%|██████████████████████▏                              | 18/43 [00:14<00:19,  1.26it/s]"
     ]
    },
    {
     "name": "stdout",
     "output_type": "stream",
     "text": [
      "  Extracted 20000 values from polygon 17\n",
      "Successfully extracted 100000 sampled values. Memory: 420.8 MB\n",
      "Starting extraction. Memory usage: 407.0 MB\n",
      "Processing Mature_regrowth2.shp with CHM_uav22.tif\n",
      "Detected S-JTSK Krovak CRS. Manually setting target CRS to EPSG:5514\n",
      "Successfully reprojected to S-JTSK using EPSG:5514\n",
      "Current memory usage before zonal stats: 407.0 MB\n",
      "Sampling 5 polygons from 27 total\n",
      "  Extracted 20000 values from polygon 24\n",
      "  Extracted 20000 values from polygon 1\n",
      "  Extracted 20000 values from polygon 25\n"
     ]
    },
    {
     "name": "stderr",
     "output_type": "stream",
     "text": [
      "Rasters for mature_regrowth:  44%|███████████████████████▍                             | 19/43 [00:15<00:18,  1.33it/s]"
     ]
    },
    {
     "name": "stdout",
     "output_type": "stream",
     "text": [
      "  Extracted 20000 values from polygon 11\n",
      "  Extracted 20000 values from polygon 20\n",
      "Successfully extracted 100000 sampled values. Memory: 428.6 MB\n",
      "Starting extraction. Memory usage: 411.0 MB\n",
      "Processing Mature_regrowth2.shp with CHM_uav23.tif\n",
      "Detected S-JTSK Krovak CRS. Manually setting target CRS to EPSG:5514\n",
      "Successfully reprojected to S-JTSK using EPSG:5514\n",
      "Current memory usage before zonal stats: 411.0 MB\n",
      "Sampling 5 polygons from 27 total\n",
      "  Extracted 20000 values from polygon 15\n",
      "  Extracted 20000 values from polygon 13\n",
      "  Extracted 20000 values from polygon 18\n"
     ]
    },
    {
     "name": "stderr",
     "output_type": "stream",
     "text": [
      "Rasters for mature_regrowth:  47%|████████████████████████▋                            | 20/43 [00:15<00:15,  1.48it/s]"
     ]
    },
    {
     "name": "stdout",
     "output_type": "stream",
     "text": [
      "  Extracted 20000 values from polygon 10\n",
      "  Extracted 20000 values from polygon 20\n",
      "Successfully extracted 100000 sampled values. Memory: 415.1 MB\n",
      "Starting extraction. Memory usage: 410.7 MB\n",
      "Processing Mature_regrowth2.shp with CHM_uav24.tif\n",
      "Detected S-JTSK Krovak CRS. Manually setting target CRS to EPSG:5514\n",
      "Successfully reprojected to S-JTSK using EPSG:5514\n",
      "Current memory usage before zonal stats: 410.7 MB\n",
      "Sampling 5 polygons from 27 total\n",
      "  Extracted 20000 values from polygon 11\n",
      "  Extracted 20000 values from polygon 12\n",
      "  Extracted 20000 values from polygon 4\n",
      "  Extracted 20000 values from polygon 1\n"
     ]
    },
    {
     "name": "stderr",
     "output_type": "stream",
     "text": [
      "Rasters for mature_regrowth:  49%|█████████████████████████▉                           | 21/43 [00:16<00:13,  1.62it/s]"
     ]
    },
    {
     "name": "stdout",
     "output_type": "stream",
     "text": [
      "  Extracted 20000 values from polygon 23\n",
      "Successfully extracted 100000 sampled values. Memory: 416.9 MB\n",
      "Starting extraction. Memory usage: 412.9 MB\n",
      "Processing Mature_regrowth2.shp with CHM_uav25.tif\n",
      "Detected S-JTSK Krovak CRS. Manually setting target CRS to EPSG:5514\n",
      "Successfully reprojected to S-JTSK using EPSG:5514\n",
      "Current memory usage before zonal stats: 413.0 MB\n",
      "Sampling 5 polygons from 27 total\n",
      "  Extracted 20000 values from polygon 7\n",
      "  Extracted 20000 values from polygon 8\n",
      "  Extracted 20000 values from polygon 16\n",
      "  Extracted 20000 values from polygon 6\n",
      "  Extracted 20000 values from polygon 19\n"
     ]
    },
    {
     "name": "stderr",
     "output_type": "stream",
     "text": [
      "Rasters for mature_regrowth:  51%|███████████████████████████                          | 22/43 [00:16<00:12,  1.73it/s]"
     ]
    },
    {
     "name": "stdout",
     "output_type": "stream",
     "text": [
      "Successfully extracted 100000 sampled values. Memory: 420.7 MB\n",
      "Starting extraction. Memory usage: 415.5 MB\n",
      "Processing Mature_regrowth2.shp with CHM_uav26.tif\n",
      "Detected S-JTSK Krovak CRS. Manually setting target CRS to EPSG:5514\n",
      "Successfully reprojected to S-JTSK using EPSG:5514\n",
      "Current memory usage before zonal stats: 415.5 MB\n",
      "Sampling 5 polygons from 27 total\n",
      "  Extracted 20000 values from polygon 12\n",
      "  Extracted 20000 values from polygon 13\n",
      "  Extracted 20000 values from polygon 0\n",
      "  Extracted 20000 values from polygon 3\n",
      "  Extracted 20000 values from polygon 6\n"
     ]
    },
    {
     "name": "stderr",
     "output_type": "stream",
     "text": [
      "Rasters for mature_regrowth:  53%|████████████████████████████▎                        | 23/43 [00:17<00:11,  1.80it/s]"
     ]
    },
    {
     "name": "stdout",
     "output_type": "stream",
     "text": [
      "Successfully extracted 100000 sampled values. Memory: 423.5 MB\n",
      "Starting extraction. Memory usage: 417.8 MB\n",
      "Processing Mature_regrowth2.shp with CHM_uav27.tif\n",
      "Detected S-JTSK Krovak CRS. Manually setting target CRS to EPSG:5514\n",
      "Successfully reprojected to S-JTSK using EPSG:5514\n",
      "Current memory usage before zonal stats: 417.8 MB\n",
      "Sampling 5 polygons from 27 total\n",
      "  Extracted 20000 values from polygon 11\n",
      "  Extracted 20000 values from polygon 25\n",
      "  Extracted 20000 values from polygon 13\n",
      "  Extracted 20000 values from polygon 12\n",
      "  Extracted 20000 values from polygon 1\n"
     ]
    },
    {
     "name": "stderr",
     "output_type": "stream",
     "text": [
      "Rasters for mature_regrowth:  56%|█████████████████████████████▌                       | 24/43 [00:17<00:10,  1.87it/s]"
     ]
    },
    {
     "name": "stdout",
     "output_type": "stream",
     "text": [
      "Successfully extracted 100000 sampled values. Memory: 425.3 MB\n",
      "Starting extraction. Memory usage: 421.3 MB\n",
      "Processing Mature_regrowth2.shp with CHM_uav28.tif\n",
      "Detected S-JTSK Krovak CRS. Manually setting target CRS to EPSG:5514\n",
      "Successfully reprojected to S-JTSK using EPSG:5514\n",
      "Current memory usage before zonal stats: 421.3 MB\n",
      "Sampling 5 polygons from 27 total\n",
      "  Extracted 20000 values from polygon 0\n",
      "  Extracted 20000 values from polygon 20\n",
      "  Extracted 20000 values from polygon 14\n"
     ]
    },
    {
     "name": "stderr",
     "output_type": "stream",
     "text": [
      "Rasters for mature_regrowth:  58%|██████████████████████████████▊                      | 25/43 [00:18<00:09,  1.94it/s]"
     ]
    },
    {
     "name": "stdout",
     "output_type": "stream",
     "text": [
      "  Extracted 20000 values from polygon 23\n",
      "  Extracted 20000 values from polygon 17\n",
      "Successfully extracted 100000 sampled values. Memory: 427.1 MB\n",
      "Starting extraction. Memory usage: 427.9 MB\n",
      "Processing Mature_regrowth2.shp with CHM_uav29.tif\n",
      "Detected S-JTSK Krovak CRS. Manually setting target CRS to EPSG:5514\n",
      "Successfully reprojected to S-JTSK using EPSG:5514\n",
      "Current memory usage before zonal stats: 427.9 MB\n",
      "Sampling 5 polygons from 27 total\n",
      "  Extracted 20000 values from polygon 13\n",
      "  Extracted 20000 values from polygon 19\n",
      "  Extracted 20000 values from polygon 22\n",
      "  Extracted 20000 values from polygon 10\n"
     ]
    },
    {
     "name": "stderr",
     "output_type": "stream",
     "text": [
      "Rasters for mature_regrowth:  60%|████████████████████████████████                     | 26/43 [00:18<00:08,  1.96it/s]"
     ]
    },
    {
     "name": "stdout",
     "output_type": "stream",
     "text": [
      "  Extracted 20000 values from polygon 11\n",
      "Successfully extracted 100000 sampled values. Memory: 430.1 MB\n",
      "Starting extraction. Memory usage: 425.6 MB\n",
      "Processing Mature_regrowth2.shp with CHM_uav30.tif\n",
      "Detected S-JTSK Krovak CRS. Manually setting target CRS to EPSG:5514\n",
      "Successfully reprojected to S-JTSK using EPSG:5514\n",
      "Current memory usage before zonal stats: 425.7 MB\n",
      "Sampling 5 polygons from 27 total\n",
      "  Extracted 20000 values from polygon 25\n",
      "  Extracted 20000 values from polygon 13\n",
      "  Extracted 20000 values from polygon 10\n",
      "  Extracted 20000 values from polygon 26\n"
     ]
    },
    {
     "name": "stderr",
     "output_type": "stream",
     "text": [
      "Rasters for mature_regrowth:  63%|█████████████████████████████████▎                   | 27/43 [00:19<00:08,  1.98it/s]"
     ]
    },
    {
     "name": "stdout",
     "output_type": "stream",
     "text": [
      "  Extracted 20000 values from polygon 7\n",
      "Successfully extracted 100000 sampled values. Memory: 432.1 MB\n",
      "Starting extraction. Memory usage: 428.1 MB\n",
      "Processing Mature_regrowth2.shp with CHM_uav31.tif\n",
      "Detected S-JTSK Krovak CRS. Manually setting target CRS to EPSG:5514\n",
      "Successfully reprojected to S-JTSK using EPSG:5514\n",
      "Current memory usage before zonal stats: 428.2 MB\n",
      "Sampling 5 polygons from 27 total\n",
      "  Extracted 20000 values from polygon 16\n",
      "  Extracted 20000 values from polygon 18\n",
      "  Extracted 20000 values from polygon 4\n",
      "  Extracted 20000 values from polygon 0\n",
      "  Extracted 20000 values from polygon 20\n"
     ]
    },
    {
     "name": "stderr",
     "output_type": "stream",
     "text": [
      "Rasters for mature_regrowth:  65%|██████████████████████████████████▌                  | 28/43 [00:19<00:07,  1.97it/s]"
     ]
    },
    {
     "name": "stdout",
     "output_type": "stream",
     "text": [
      "Successfully extracted 100000 sampled values. Memory: 434.9 MB\n",
      "Starting extraction. Memory usage: 429.3 MB\n",
      "Processing Mature_regrowth2.shp with CHM_uav32.tif\n",
      "Detected S-JTSK Krovak CRS. Manually setting target CRS to EPSG:5514\n",
      "Successfully reprojected to S-JTSK using EPSG:5514\n",
      "Current memory usage before zonal stats: 429.3 MB\n",
      "Sampling 5 polygons from 27 total\n",
      "  Extracted 20000 values from polygon 25\n",
      "  Extracted 20000 values from polygon 7\n",
      "  Extracted 20000 values from polygon 20\n",
      "  Extracted 20000 values from polygon 12\n",
      "  Extracted 20000 values from polygon 13\n"
     ]
    },
    {
     "name": "stderr",
     "output_type": "stream",
     "text": [
      "Rasters for mature_regrowth:  67%|███████████████████████████████████▋                 | 29/43 [00:20<00:07,  1.99it/s]"
     ]
    },
    {
     "name": "stdout",
     "output_type": "stream",
     "text": [
      "Successfully extracted 100000 sampled values. Memory: 437.6 MB\n",
      "Starting extraction. Memory usage: 431.7 MB\n",
      "Processing Mature_regrowth2.shp with CHM_uav33.tif\n",
      "Detected S-JTSK Krovak CRS. Manually setting target CRS to EPSG:5514\n",
      "Successfully reprojected to S-JTSK using EPSG:5514\n",
      "Current memory usage before zonal stats: 431.7 MB\n",
      "Sampling 5 polygons from 27 total\n",
      "  Extracted 20000 values from polygon 25\n",
      "  Extracted 20000 values from polygon 14\n",
      "  Extracted 20000 values from polygon 21\n",
      "  Extracted 20000 values from polygon 4\n",
      "  Extracted 20000 values from polygon 15\n"
     ]
    },
    {
     "name": "stderr",
     "output_type": "stream",
     "text": [
      "Rasters for mature_regrowth:  70%|████████████████████████████████████▉                | 30/43 [00:20<00:06,  1.96it/s]"
     ]
    },
    {
     "name": "stdout",
     "output_type": "stream",
     "text": [
      "Successfully extracted 100000 sampled values. Memory: 440.0 MB\n",
      "Starting extraction. Memory usage: 437.7 MB\n",
      "Processing Mature_regrowth2.shp with CHM_uav34.tif\n",
      "Detected S-JTSK Krovak CRS. Manually setting target CRS to EPSG:5514\n",
      "Successfully reprojected to S-JTSK using EPSG:5514\n",
      "Current memory usage before zonal stats: 437.7 MB\n",
      "Sampling 5 polygons from 27 total\n",
      "  Extracted 20000 values from polygon 24\n",
      "  Extracted 20000 values from polygon 10\n",
      "  Extracted 20000 values from polygon 0\n",
      "  Extracted 20000 values from polygon 19\n",
      "  Extracted 20000 values from polygon 5\n"
     ]
    },
    {
     "name": "stderr",
     "output_type": "stream",
     "text": [
      "Rasters for mature_regrowth:  72%|██████████████████████████████████████▏              | 31/43 [00:21<00:06,  1.96it/s]"
     ]
    },
    {
     "name": "stdout",
     "output_type": "stream",
     "text": [
      "Successfully extracted 100000 sampled values. Memory: 441.1 MB\n",
      "Starting extraction. Memory usage: 435.8 MB\n",
      "Processing Mature_regrowth2.shp with CHM_uav35.tif\n",
      "Detected S-JTSK Krovak CRS. Manually setting target CRS to EPSG:5514\n",
      "Successfully reprojected to S-JTSK using EPSG:5514\n",
      "Current memory usage before zonal stats: 435.8 MB\n",
      "Sampling 5 polygons from 27 total\n",
      "  Extracted 20000 values from polygon 7\n",
      "  Extracted 20000 values from polygon 21\n",
      "  Extracted 20000 values from polygon 5\n",
      "  Extracted 20000 values from polygon 3\n",
      "  Extracted 20000 values from polygon 15\n"
     ]
    },
    {
     "name": "stderr",
     "output_type": "stream",
     "text": [
      "Rasters for mature_regrowth:  74%|███████████████████████████████████████▍             | 32/43 [00:22<00:07,  1.42it/s]"
     ]
    },
    {
     "name": "stdout",
     "output_type": "stream",
     "text": [
      "Successfully extracted 100000 sampled values. Memory: 503.5 MB\n",
      "Starting extraction. Memory usage: 440.7 MB\n",
      "Processing Mature_regrowth2.shp with CHM_uav36.tif\n",
      "Detected S-JTSK Krovak CRS. Manually setting target CRS to EPSG:5514\n",
      "Successfully reprojected to S-JTSK using EPSG:5514\n",
      "Current memory usage before zonal stats: 440.7 MB\n",
      "Sampling 5 polygons from 27 total\n",
      "  Extracted 20000 values from polygon 18\n",
      "  Extracted 20000 values from polygon 16\n",
      "  Extracted 20000 values from polygon 26\n",
      "  Extracted 20000 values from polygon 10\n",
      "  Extracted 20000 values from polygon 15\n"
     ]
    },
    {
     "name": "stderr",
     "output_type": "stream",
     "text": [
      "Rasters for mature_regrowth:  77%|████████████████████████████████████████▋            | 33/43 [00:23<00:08,  1.17it/s]"
     ]
    },
    {
     "name": "stdout",
     "output_type": "stream",
     "text": [
      "Successfully extracted 100000 sampled values. Memory: 505.3 MB\n",
      "Starting extraction. Memory usage: 442.8 MB\n",
      "Processing Mature_regrowth2.shp with CHM_uav37.tif\n",
      "Detected S-JTSK Krovak CRS. Manually setting target CRS to EPSG:5514\n",
      "Successfully reprojected to S-JTSK using EPSG:5514\n",
      "Current memory usage before zonal stats: 442.8 MB\n",
      "Sampling 5 polygons from 27 total\n",
      "  Extracted 20000 values from polygon 9\n",
      "  Extracted 20000 values from polygon 6\n",
      "  Extracted 20000 values from polygon 2\n",
      "  Extracted 20000 values from polygon 18\n",
      "  Extracted 20000 values from polygon 16\n"
     ]
    },
    {
     "name": "stderr",
     "output_type": "stream",
     "text": [
      "Rasters for mature_regrowth:  79%|█████████████████████████████████████████▉           | 34/43 [00:24<00:07,  1.21it/s]"
     ]
    },
    {
     "name": "stdout",
     "output_type": "stream",
     "text": [
      "Successfully extracted 100000 sampled values. Memory: 490.1 MB\n",
      "Starting extraction. Memory usage: 447.0 MB\n",
      "Processing Mature_regrowth2.shp with CHM_uav38.tif\n",
      "Detected S-JTSK Krovak CRS. Manually setting target CRS to EPSG:5514\n",
      "Successfully reprojected to S-JTSK using EPSG:5514\n",
      "Current memory usage before zonal stats: 447.0 MB\n",
      "Sampling 5 polygons from 27 total\n",
      "  Extracted 20000 values from polygon 9\n",
      "  Extracted 20000 values from polygon 20\n",
      "  Extracted 20000 values from polygon 24\n",
      "  Extracted 20000 values from polygon 22\n",
      "  Extracted 20000 values from polygon 19\n"
     ]
    },
    {
     "name": "stderr",
     "output_type": "stream",
     "text": [
      "Rasters for mature_regrowth:  81%|███████████████████████████████████████████▏         | 35/43 [00:25<00:06,  1.22it/s]"
     ]
    },
    {
     "name": "stdout",
     "output_type": "stream",
     "text": [
      "Successfully extracted 100000 sampled values. Memory: 505.3 MB\n",
      "Starting extraction. Memory usage: 449.6 MB\n",
      "Processing Mature_regrowth2.shp with CHM_uav39.tif\n",
      "Detected S-JTSK Krovak CRS. Manually setting target CRS to EPSG:5514\n",
      "Successfully reprojected to S-JTSK using EPSG:5514\n",
      "Current memory usage before zonal stats: 449.6 MB\n",
      "Sampling 5 polygons from 27 total\n",
      "  Extracted 20000 values from polygon 8\n",
      "  Extracted 20000 values from polygon 4\n",
      "  Extracted 20000 values from polygon 3\n",
      "  Extracted 20000 values from polygon 2\n"
     ]
    },
    {
     "name": "stderr",
     "output_type": "stream",
     "text": [
      "Rasters for mature_regrowth:  84%|████████████████████████████████████████████▎        | 36/43 [00:26<00:06,  1.03it/s]"
     ]
    },
    {
     "name": "stdout",
     "output_type": "stream",
     "text": [
      "  Extracted 20000 values from polygon 14\n",
      "Successfully extracted 100000 sampled values. Memory: 491.9 MB\n",
      "Starting extraction. Memory usage: 449.9 MB\n",
      "Processing Mature_regrowth2.shp with CHM_uav40.tif\n",
      "Detected S-JTSK Krovak CRS. Manually setting target CRS to EPSG:5514\n",
      "Successfully reprojected to S-JTSK using EPSG:5514\n",
      "Current memory usage before zonal stats: 449.9 MB\n",
      "Sampling 5 polygons from 27 total\n",
      "  Extracted 20000 values from polygon 1\n",
      "  Extracted 20000 values from polygon 25\n",
      "  Extracted 20000 values from polygon 10\n",
      "  Extracted 20000 values from polygon 4\n"
     ]
    },
    {
     "name": "stderr",
     "output_type": "stream",
     "text": [
      "Rasters for mature_regrowth:  86%|█████████████████████████████████████████████▌       | 37/43 [00:27<00:05,  1.06it/s]"
     ]
    },
    {
     "name": "stdout",
     "output_type": "stream",
     "text": [
      "  Extracted 20000 values from polygon 26\n",
      "Successfully extracted 100000 sampled values. Memory: 493.2 MB\n",
      "Starting extraction. Memory usage: 451.9 MB\n",
      "Processing Mature_regrowth2.shp with CHM_uav41.tif\n",
      "Detected S-JTSK Krovak CRS. Manually setting target CRS to EPSG:5514\n",
      "Successfully reprojected to S-JTSK using EPSG:5514\n",
      "Current memory usage before zonal stats: 451.9 MB\n",
      "Sampling 5 polygons from 27 total\n",
      "  Extracted 20000 values from polygon 23\n",
      "  Extracted 20000 values from polygon 7\n",
      "  Extracted 20000 values from polygon 15\n",
      "  Extracted 20000 values from polygon 1\n",
      "  Extracted 20000 values from polygon 24\n"
     ]
    },
    {
     "name": "stderr",
     "output_type": "stream",
     "text": [
      "Rasters for mature_regrowth:  88%|██████████████████████████████████████████████▊      | 38/43 [00:28<00:04,  1.10it/s]"
     ]
    },
    {
     "name": "stdout",
     "output_type": "stream",
     "text": [
      "Successfully extracted 100000 sampled values. Memory: 493.8 MB\n",
      "Starting extraction. Memory usage: 453.2 MB\n",
      "Processing Mature_regrowth2.shp with CHM_uav42.tif\n",
      "Detected S-JTSK Krovak CRS. Manually setting target CRS to EPSG:5514\n",
      "Successfully reprojected to S-JTSK using EPSG:5514\n",
      "Current memory usage before zonal stats: 453.2 MB\n",
      "Sampling 5 polygons from 27 total\n",
      "  Extracted 20000 values from polygon 0\n",
      "  Extracted 20000 values from polygon 16\n",
      "  Extracted 20000 values from polygon 2\n",
      "  Extracted 20000 values from polygon 11\n",
      "  Extracted 20000 values from polygon 12\n"
     ]
    },
    {
     "name": "stderr",
     "output_type": "stream",
     "text": [
      "Rasters for mature_regrowth:  91%|████████████████████████████████████████████████     | 39/43 [00:29<00:03,  1.14it/s]"
     ]
    },
    {
     "name": "stdout",
     "output_type": "stream",
     "text": [
      "Successfully extracted 100000 sampled values. Memory: 513.7 MB\n",
      "Starting extraction. Memory usage: 456.9 MB\n",
      "Processing Mature_regrowth2.shp with CHM_uav43.tif\n",
      "Detected S-JTSK Krovak CRS. Manually setting target CRS to EPSG:5514\n",
      "Successfully reprojected to S-JTSK using EPSG:5514\n",
      "Current memory usage before zonal stats: 456.9 MB\n",
      "Sampling 5 polygons from 27 total\n",
      "  Extracted 20000 values from polygon 5\n",
      "  Extracted 20000 values from polygon 8\n",
      "  Extracted 20000 values from polygon 14\n",
      "  Extracted 20000 values from polygon 17\n"
     ]
    },
    {
     "name": "stderr",
     "output_type": "stream",
     "text": [
      "Rasters for mature_regrowth:  93%|█████████████████████████████████████████████████▎   | 40/43 [00:29<00:02,  1.18it/s]"
     ]
    },
    {
     "name": "stdout",
     "output_type": "stream",
     "text": [
      "  Extracted 20000 values from polygon 16\n",
      "Successfully extracted 100000 sampled values. Memory: 524.2 MB\n",
      "Starting extraction. Memory usage: 456.1 MB\n",
      "Processing Mature_regrowth2.shp with CHM_uav44.tif\n",
      "Detected S-JTSK Krovak CRS. Manually setting target CRS to EPSG:5514\n",
      "Successfully reprojected to S-JTSK using EPSG:5514\n",
      "Current memory usage before zonal stats: 456.1 MB\n",
      "Sampling 5 polygons from 27 total\n",
      "  Extracted 20000 values from polygon 8\n",
      "  Extracted 20000 values from polygon 2\n",
      "  Extracted 20000 values from polygon 13\n",
      "  Extracted 20000 values from polygon 21\n",
      "  Extracted 20000 values from polygon 19\n"
     ]
    },
    {
     "name": "stderr",
     "output_type": "stream",
     "text": [
      "Rasters for mature_regrowth:  95%|██████████████████████████████████████████████████▌  | 41/43 [00:30<00:01,  1.12it/s]"
     ]
    },
    {
     "name": "stdout",
     "output_type": "stream",
     "text": [
      "Successfully extracted 100000 sampled values. Memory: 532.1 MB\n",
      "Starting extraction. Memory usage: 463.4 MB\n",
      "Processing Mature_regrowth2.shp with CHM_uav45.tif\n",
      "Detected S-JTSK Krovak CRS. Manually setting target CRS to EPSG:5514\n",
      "Successfully reprojected to S-JTSK using EPSG:5514\n",
      "Current memory usage before zonal stats: 463.4 MB\n",
      "Sampling 5 polygons from 27 total\n",
      "  Extracted 20000 values from polygon 10\n",
      "  Extracted 20000 values from polygon 16\n",
      "  Extracted 20000 values from polygon 26\n",
      "  Extracted 20000 values from polygon 3\n",
      "  Extracted 20000 values from polygon 23\n"
     ]
    },
    {
     "name": "stderr",
     "output_type": "stream",
     "text": [
      "Rasters for mature_regrowth:  98%|███████████████████████████████████████████████████▊ | 42/43 [00:32<00:01,  1.08s/it]"
     ]
    },
    {
     "name": "stdout",
     "output_type": "stream",
     "text": [
      "Successfully extracted 100000 sampled values. Memory: 510.2 MB\n",
      "Starting extraction. Memory usage: 465.4 MB\n",
      "Processing Mature_regrowth2.shp with CHM_uav46.tif\n",
      "Detected S-JTSK Krovak CRS. Manually setting target CRS to EPSG:5514\n",
      "Successfully reprojected to S-JTSK using EPSG:5514\n",
      "Current memory usage before zonal stats: 465.4 MB\n",
      "Sampling 5 polygons from 27 total\n",
      "  Extracted 20000 values from polygon 6\n",
      "  Extracted 20000 values from polygon 21\n",
      "  Extracted 20000 values from polygon 15\n",
      "  Extracted 20000 values from polygon 4\n",
      "  Extracted 20000 values from polygon 9\n"
     ]
    },
    {
     "name": "stderr",
     "output_type": "stream",
     "text": [
      "Rasters for mature_regrowth: 100%|█████████████████████████████████████████████████████| 43/43 [00:33<00:00,  1.29it/s]"
     ]
    },
    {
     "name": "stdout",
     "output_type": "stream",
     "text": [
      "Successfully extracted 100000 sampled values. Memory: 498.9 MB\n",
      "Collected 4296675 pixel values for mature_regrowth\n",
      "\n",
      "====== Creating publication-quality separate figures ======\n",
      "\n",
      "Processing figure for baresoil...\n",
      "Converting object array to numeric (sample: [None -1.7976931348623157e+308 -1.7976931348623157e+308 None\n",
      " -1.7976931348623157e+308])\n"
     ]
    },
    {
     "name": "stderr",
     "output_type": "stream",
     "text": [
      "\n"
     ]
    },
    {
     "name": "stdout",
     "output_type": "stream",
     "text": [
      "Error converting to numeric: 'numpy.ndarray' object has no attribute 'dropna'\n",
      "Manual conversion yielded 1939688 numeric values\n",
      "baresoil filtered data: min=0.0, max=31.84576416015625, mean=0.3449481896445922, median=0.150146484375\n",
      "Area under histogram for baresoil: 1.000\n"
     ]
    },
    {
     "name": "stderr",
     "output_type": "stream",
     "text": [
      "The PostScript backend does not support transparency; partially transparent artists will be rendered opaque.\n"
     ]
    },
    {
     "name": "stdout",
     "output_type": "stream",
     "text": [
      "Publication-quality figure for baresoil saved in multiple formats\n",
      "Statistics for baresoil saved to CSV and Excel\n",
      "\n",
      "Processing figure for early_regrowth...\n",
      "Converting object array to numeric (sample: [None -1.7976931348623157e+308 None -1.7976931348623157e+308 None])\n",
      "Error converting to numeric: 'numpy.ndarray' object has no attribute 'dropna'\n",
      "Manual conversion yielded 2147077 numeric values\n",
      "early_regrowth filtered data: min=6.103515625e-05, max=30.94403076171875, mean=0.6167198856477651, median=0.42926025390625\n",
      "Area under histogram for early_regrowth: 1.000\n"
     ]
    },
    {
     "name": "stderr",
     "output_type": "stream",
     "text": [
      "The PostScript backend does not support transparency; partially transparent artists will be rendered opaque.\n"
     ]
    },
    {
     "name": "stdout",
     "output_type": "stream",
     "text": [
      "Publication-quality figure for early_regrowth saved in multiple formats\n",
      "Statistics for early_regrowth saved to CSV and Excel\n",
      "\n",
      "Processing figure for mature_regrowth...\n",
      "Converting object array to numeric (sample: [None -1.7976931348623157e+308 -1.7976931348623157e+308 None None])\n",
      "Error converting to numeric: 'numpy.ndarray' object has no attribute 'dropna'\n",
      "Manual conversion yielded 2024100 numeric values\n",
      "mature_regrowth filtered data: min=0.000244140625, max=11.31036376953125, mean=3.4003614483639226, median=3.578521728515625\n",
      "Area under histogram for mature_regrowth: 1.000\n"
     ]
    },
    {
     "name": "stderr",
     "output_type": "stream",
     "text": [
      "The PostScript backend does not support transparency; partially transparent artists will be rendered opaque.\n"
     ]
    },
    {
     "name": "stdout",
     "output_type": "stream",
     "text": [
      "Publication-quality figure for mature_regrowth saved in multiple formats\n",
      "Statistics for mature_regrowth saved to CSV and Excel\n",
      "\n",
      "====== Creating summary statistics table ======\n",
      "Converting object array to numeric (sample: [None -1.7976931348623157e+308 -1.7976931348623157e+308 None\n",
      " -1.7976931348623157e+308])\n",
      "Error converting to numeric: 'numpy.ndarray' object has no attribute 'dropna'\n",
      "Manual conversion yielded 1939688 numeric values\n",
      "Successfully calculated summary statistics for baresoil\n",
      "Converting object array to numeric (sample: [None -1.7976931348623157e+308 None -1.7976931348623157e+308 None])\n",
      "Error converting to numeric: 'numpy.ndarray' object has no attribute 'dropna'\n",
      "Manual conversion yielded 2147077 numeric values\n",
      "Successfully calculated summary statistics for early_regrowth\n",
      "Converting object array to numeric (sample: [None -1.7976931348623157e+308 -1.7976931348623157e+308 None None])\n",
      "Error converting to numeric: 'numpy.ndarray' object has no attribute 'dropna'\n",
      "Manual conversion yielded 2024100 numeric values\n",
      "Successfully calculated summary statistics for mature_regrowth\n",
      "Error saving formatted Excel summary: 'Workbook' object has no attribute 'add_format'\n",
      "Summary table saved to H:/classification\\results\\canopy_height_summary.csv only\n",
      "\n",
      "Analysis complete! Results saved to: H:/classification\\results\n"
     ]
    }
   ],
   "source": [
    "# Import packages for memory monitoring\n",
    "import os\n",
    "import gc\n",
    "import numpy as np\n",
    "import pandas as pd\n",
    "import geopandas as gpd\n",
    "import rasterio\n",
    "import pyproj\n",
    "from rasterio.mask import mask\n",
    "import matplotlib.pyplot as plt\n",
    "from rasterstats import zonal_stats\n",
    "import glob\n",
    "from tqdm import tqdm\n",
    "import warnings\n",
    "import psutil  # For memory monitoring\n",
    "\n",
    "# Suppress common warnings\n",
    "warnings.filterwarnings(\"ignore\", category=UserWarning)\n",
    "warnings.filterwarnings(\"ignore\", category=FutureWarning)\n",
    "\n",
    "# Memory monitor function\n",
    "def get_memory_usage():\n",
    "    \"\"\"Return the current memory usage in MB\"\"\"\n",
    "    process = psutil.Process(os.getpid())\n",
    "    mem_info = process.memory_info()\n",
    "    return mem_info.rss / 1024 / 1024  # Convert to MB\n",
    "\n",
    "# Configuration parameters\n",
    "MAX_SAMPLE_SIZE = 100000  # Maximum number of pixels to sample per shapefile and raster\n",
    "MEMORY_THRESHOLD_MB = 1000  # Trigger memory optimization if usage exceeds this value\n",
    "CHUNK_SIZE = 520  # Size of chunks when reading large rasters\n",
    "\n",
    "# Set folders\n",
    "data_folder = \"H:/classification\"  # Replace with your actual folder path\n",
    "shapefile_folder = os.path.join(data_folder, \"shapefiles\")\n",
    "raster_folder = os.path.join(data_folder, \"rasters\")\n",
    "output_folder = os.path.join(data_folder, \"results\")\n",
    "\n",
    "# Create output folder if it doesn't exist\n",
    "os.makedirs(output_folder, exist_ok=True)\n",
    "\n",
    "# Define shapefiles and raster patterns\n",
    "shapefiles = {\n",
    "    \"baresoil\": os.path.join(shapefile_folder, \"Baresoil.shp\"),\n",
    "    \"early_regrowth\": os.path.join(shapefile_folder, \"Early_regrowth.shp\"),\n",
    "    \"mature_regrowth\": os.path.join(shapefile_folder, \"Mature_regrowth2.shp\")\n",
    "}\n",
    "\n",
    "# Find all raster files - using CHM pattern based on error message\n",
    "raster_files = glob.glob(os.path.join(raster_folder, \"CHM_uav*.tif\"))\n",
    "print(f\"Found {len(raster_files)} raster files\")\n",
    "\n",
    "# Create a log file for errors\n",
    "log_file = os.path.join(output_folder, \"processing_log.txt\")\n",
    "with open(log_file, 'w') as f:\n",
    "    f.write(\"Canopy Height Processing Log\\n\")\n",
    "    f.write(\"--------------------------\\n\")\n",
    "\n",
    "def log_message(message):\n",
    "    \"\"\"Write message to log file and print to console\"\"\"\n",
    "    print(message)\n",
    "    with open(log_file, 'a') as f:\n",
    "        f.write(message + \"\\n\")\n",
    "\n",
    "# Function to clean and validate data for analysis\n",
    "def clean_data_for_analysis(values):\n",
    "    \"\"\"Convert values to numeric and filter invalid entries\"\"\"\n",
    "    if not values or len(values) == 0:\n",
    "        return np.array([])\n",
    "        \n",
    "    # First, convert list to numpy array if it's not already\n",
    "    if not isinstance(values, np.ndarray):\n",
    "        values_array = np.array(values, dtype=object)\n",
    "    else:\n",
    "        values_array = values\n",
    "    \n",
    "    # Check if we need to convert from object type to numeric\n",
    "    if values_array.dtype.kind == 'O':  # Object type\n",
    "        log_message(f\"Converting object array to numeric (sample: {values_array[:5]})\")\n",
    "        \n",
    "        # Filter out None values first\n",
    "        values_filtered = [v for v in values_array if v is not None]\n",
    "        \n",
    "        if len(values_filtered) == 0:\n",
    "            log_message(\"All values were None, returning empty array\")\n",
    "            return np.array([])\n",
    "            \n",
    "        # Try to convert to float\n",
    "        try:\n",
    "            # Use pandas for better mixed-type conversion\n",
    "            import pandas as pd\n",
    "            numeric_values = pd.to_numeric(values_filtered, errors='coerce').dropna().values\n",
    "            log_message(f\"Converted {len(numeric_values)} values to numeric (out of {len(values_filtered)})\")\n",
    "            \n",
    "            if len(numeric_values) == 0:\n",
    "                log_message(\"No valid numeric values after conversion\")\n",
    "                return np.array([])\n",
    "                \n",
    "            return numeric_values\n",
    "        except Exception as e:\n",
    "            log_message(f\"Error converting to numeric: {str(e)}\")\n",
    "            \n",
    "            # Manual conversion as fallback\n",
    "            numeric_values = []\n",
    "            for v in values_filtered:\n",
    "                try:\n",
    "                    if v is not None:\n",
    "                        numeric_values.append(float(v))\n",
    "                except (ValueError, TypeError):\n",
    "                    continue\n",
    "                    \n",
    "            log_message(f\"Manual conversion yielded {len(numeric_values)} numeric values\")\n",
    "            return np.array(numeric_values)\n",
    "    else:\n",
    "        # Already numeric type, just filter NaN and inf values if float\n",
    "        if values_array.dtype.kind in 'fc':  # float or complex\n",
    "            mask = ~np.isnan(values_array) & np.isfinite(values_array)\n",
    "            return values_array[mask]\n",
    "        else:\n",
    "            # For integers, just return as is\n",
    "            return values_array\n",
    "\n",
    "# Function to verify and fix CRS issues\n",
    "def fix_crs_issues(gdf, raster_path):\n",
    "    \"\"\"Try multiple approaches to fix CRS issues between shapefile and raster\"\"\"\n",
    "    try:\n",
    "        # Handle missing CRS in shapefile\n",
    "        if gdf.crs is None:\n",
    "            log_message(f\"Shapefile has no CRS defined. Setting to EPSG:4326 (WGS84)\")\n",
    "            gdf = gdf.set_crs(epsg=4326)\n",
    "        \n",
    "        # Check if raster path contains \"S-JTSK\" or \"Krovak\" in its CRS\n",
    "        if \"CHM_uav\" in raster_path:\n",
    "            log_message(f\"Detected S-JTSK Krovak CRS. Manually setting target CRS to EPSG:5514\")\n",
    "            \n",
    "            try:\n",
    "                target_crs = \"EPSG:5514\"\n",
    "                gdf_projected = gdf.to_crs(target_crs)\n",
    "                log_message(\"Successfully reprojected to S-JTSK using EPSG:5514\")\n",
    "                return gdf_projected, None\n",
    "            except Exception as e1:\n",
    "                log_message(f\"EPSG:5514 reprojection failed: {str(e1)}\")\n",
    "                \n",
    "                try:\n",
    "                    s_jtsk_wkt = \"\"\"\n",
    "                    PROJCS[\"S-JTSK / Krovak East North\",\n",
    "                        GEOGCS[\"S-JTSK\",\n",
    "                            DATUM[\"System_of_the_Unified_Trigonometrical_Cadastral_Network\",\n",
    "                                SPHEROID[\"Bessel 1841\",6377397.155,299.1528128,\n",
    "                                    AUTHORITY[\"EPSG\",\"7004\"]],\n",
    "                                TOWGS84[589,76,480,0,0,0,0],\n",
    "                                AUTHORITY[\"EPSG\",\"6156\"]],\n",
    "                            PRIMEM[\"Greenwich\",0,\n",
    "                                AUTHORITY[\"EPSG\",\"8901\"]],\n",
    "                            UNIT[\"degree\",0.0174532925199433,\n",
    "                                AUTHORITY[\"EPSG\",\"9122\"]],\n",
    "                            AUTHORITY[\"EPSG\",\"4156\"]],\n",
    "                        PROJECTION[\"Krovak\"],\n",
    "                        PARAMETER[\"latitude_of_center\",49.5],\n",
    "                        PARAMETER[\"longitude_of_center\",24.83333333333333],\n",
    "                        PARAMETER[\"azimuth\",30.28813972222222],\n",
    "                        PARAMETER[\"pseudo_standard_parallel_1\",78.5],\n",
    "                        PARAMETER[\"scale_factor\",0.9999],\n",
    "                        PARAMETER[\"false_easting\",0],\n",
    "                        PARAMETER[\"false_northing\",0],\n",
    "                        UNIT[\"metre\",1,\n",
    "                            AUTHORITY[\"EPSG\",\"9001\"]],\n",
    "                        AXIS[\"X\",EAST],\n",
    "                        AXIS[\"Y\",NORTH],\n",
    "                        AUTHORITY[\"EPSG\",\"5514\"]]\n",
    "                    \"\"\"\n",
    "                    gdf_projected = gdf.to_crs(s_jtsk_wkt)\n",
    "                    log_message(\"Successfully reprojected to S-JTSK using WKT definition\")\n",
    "                    return gdf_projected, None\n",
    "                except Exception as e2:\n",
    "                    log_message(f\"WKT reprojection failed: {str(e2)}\")\n",
    "                    \n",
    "                    try:\n",
    "                        log_message(\"Attempting direct coordinate transformation...\")\n",
    "                        transformer = pyproj.Transformer.from_pipeline(\n",
    "                            \"+proj=pipeline +step +proj=unitconvert +xy_in=deg +xy_out=rad \"\n",
    "                            \"+step +proj=krovak +lat_0=49.5 +lon_0=24.83333333333333 \"\n",
    "                            \"+alpha=30.28813972222222 +k=0.9999 +x_0=0 +y_0=0\"\n",
    "                        )\n",
    "                        \n",
    "                        transformed_geometries = []\n",
    "                        for geom in gdf.geometry:\n",
    "                            if geom.geom_type == 'Polygon':\n",
    "                                exterior_coords = []\n",
    "                                for x, y in geom.exterior.coords:\n",
    "                                    e, n = transformer.transform(y, x)\n",
    "                                    exterior_coords.append((e, n))\n",
    "                                transformed_geometries.append(\n",
    "                                    gpd.GeoSeries([gpd.geom.Polygon(exterior_coords)], crs=\"EPSG:5514\")[0]\n",
    "                                )\n",
    "                            else:\n",
    "                                log_message(f\"Skipping non-polygon geometry: {geom.geom_type}\")\n",
    "                        \n",
    "                        gdf_projected = gpd.GeoDataFrame(\n",
    "                            gdf.drop(columns='geometry'),\n",
    "                            geometry=transformed_geometries,\n",
    "                            crs=\"EPSG:5514\"\n",
    "                        )\n",
    "                        \n",
    "                        log_message(\"Successfully completed manual point-by-point transformation\")\n",
    "                        return gdf_projected, None\n",
    "                    except Exception as e3:\n",
    "                        log_message(f\"Manual transformation failed: {str(e3)}\")\n",
    "                        log_message(\"All reprojection methods failed. Will attempt direct pixel extraction.\")\n",
    "                        return None, \"All reprojection methods failed\"\n",
    "        else:\n",
    "            with rasterio.open(raster_path) as src:\n",
    "                raster_crs = src.crs\n",
    "            \n",
    "            if raster_crs is None:\n",
    "                log_message(f\"Warning: Raster {os.path.basename(raster_path)} has no CRS defined.\")\n",
    "                return None, \"Raster has no CRS\"\n",
    "            \n",
    "            if gdf.crs != raster_crs:\n",
    "                try:\n",
    "                    log_message(f\"Reprojecting from {gdf.crs} to {raster_crs}\")\n",
    "                    gdf_projected = gdf.to_crs(raster_crs)\n",
    "                    return gdf_projected, None\n",
    "                except Exception as e1:\n",
    "                    log_message(f\"Direct reprojection failed: {str(e1)}\")\n",
    "                    \n",
    "                    try:\n",
    "                        log_message(\"Trying with explicit PROJ4 string...\")\n",
    "                        proj4 = pyproj.CRS(raster_crs).to_proj4()\n",
    "                        gdf_projected = gdf.to_crs(proj4)\n",
    "                        return gdf_projected, None\n",
    "                    except Exception as e2:\n",
    "                        log_message(f\"PROJ4 approach failed: {str(e2)}\")\n",
    "                        \n",
    "                        try:\n",
    "                            log_message(\"Attempting two-step reprojection via EPSG:4326...\")\n",
    "                            gdf_wgs84 = gdf.to_crs(epsg=4326)\n",
    "                            gdf_projected = gdf_wgs84.to_crs(raster_crs)\n",
    "                            return gdf_projected, None\n",
    "                        except Exception as e3:\n",
    "                            log_message(f\"Two-step reprojection failed: {str(e3)}\")\n",
    "                            return None, \"All reprojection methods failed\"\n",
    "            else:\n",
    "                return gdf, None\n",
    "    except Exception as e:\n",
    "        log_message(f\"CRS processing error: {str(e)}\")\n",
    "        return None, f\"CRS processing error: {str(e)}\"\n",
    "\n",
    "# Function to extract pixel values from raster for a given shapefile\n",
    "def extract_values(shapefile_path, raster_path):\n",
    "    \"\"\"Extract values from raster that fall within the shapefile polygons using sampling\"\"\"\n",
    "    initial_memory = get_memory_usage()\n",
    "    log_message(f\"Starting extraction. Memory usage: {initial_memory:.1f} MB\")\n",
    "    \n",
    "    try:\n",
    "        gdf = gpd.read_file(shapefile_path)\n",
    "        log_message(f\"Processing {os.path.basename(shapefile_path)} with {os.path.basename(raster_path)}\")\n",
    "        \n",
    "        gdf_projected, error = fix_crs_issues(gdf, raster_path)\n",
    "        \n",
    "        if error and \"CHM_uav\" in raster_path:\n",
    "            log_message(\"Attempting alternative extraction method for S-JTSK data...\")\n",
    "            \n",
    "            try:\n",
    "                with rasterio.open(raster_path) as src:\n",
    "                    nodata = src.nodata\n",
    "                    log_message(f\"Raster NoData value: {nodata}\")\n",
    "                    \n",
    "                    height, width = src.shape\n",
    "                    window_height = min(CHUNK_SIZE, height)\n",
    "                    window_width = min(CHUNK_SIZE, width)\n",
    "                    \n",
    "                    num_windows_y = (height + window_height - 1) // window_height\n",
    "                    num_windows_x = (width + window_width - 1) // window_width\n",
    "                    \n",
    "                    total_values = []\n",
    "                    sample_count = 0\n",
    "                    \n",
    "                    log_message(f\"Sampling raster in {num_windows_y}x{num_windows_x} windows...\")\n",
    "                    \n",
    "                    max_windows = min(20, num_windows_y * num_windows_x)\n",
    "                    sample_window_indices = np.random.choice(\n",
    "                        num_windows_y * num_windows_x, \n",
    "                        size=max_windows, \n",
    "                        replace=False\n",
    "                    )\n",
    "                    \n",
    "                    for window_idx in sample_window_indices:\n",
    "                        if sample_count >= MAX_SAMPLE_SIZE:\n",
    "                            break\n",
    "                            \n",
    "                        window_y = window_idx // num_windows_x\n",
    "                        window_x = window_idx % num_windows_x\n",
    "                        \n",
    "                        row_start = window_y * window_height\n",
    "                        col_start = window_x * window_width\n",
    "                        row_end = min(row_start + window_height, height)\n",
    "                        col_end = min(col_start + window_width, width)\n",
    "                        \n",
    "                        try:\n",
    "                            window = src.read(1, window=((row_start, row_end), (col_start, col_end)))\n",
    "                            \n",
    "                            if nodata is not None:\n",
    "                                window = np.where(window == nodata, None, window)\n",
    "                                \n",
    "                            flat_values = window.flatten()\n",
    "                            values_list = [v for v in flat_values if v is not None]\n",
    "                            \n",
    "                            if len(values_list) > MAX_SAMPLE_SIZE // max_windows:\n",
    "                                sample_indices = np.random.choice(\n",
    "                                    len(values_list), \n",
    "                                    size=MAX_SAMPLE_SIZE // max_windows, \n",
    "                                    replace=False\n",
    "                                )\n",
    "                                values_list = [values_list[i] for i in sample_indices]\n",
    "                            \n",
    "                            total_values.extend(values_list)\n",
    "                            sample_count += len(values_list)\n",
    "                            \n",
    "                            log_message(f\"  Window {window_idx+1}/{len(sample_window_indices)}: Added {len(values_list)} values\")\n",
    "                            \n",
    "                        except Exception as e:\n",
    "                            log_message(f\"  Error processing window {window_idx}: {str(e)}\")\n",
    "                            continue\n",
    "                    \n",
    "                    gc.collect()\n",
    "                    \n",
    "                    log_message(f\"Extracted {len(total_values)} sampled values. Memory usage: {get_memory_usage():.1f} MB\")\n",
    "                    return total_values\n",
    "                    \n",
    "            except Exception as e:\n",
    "                log_message(f\"Alternative extraction method failed: {str(e)}\")\n",
    "                log_message(\"Unable to process this raster. Skipping.\")\n",
    "                return []\n",
    "        \n",
    "        if error and \"CHM_uav\" not in raster_path:\n",
    "            log_message(f\"CRS error for {os.path.basename(raster_path)}: {error}\")\n",
    "            return []\n",
    "            \n",
    "        try:\n",
    "            current_memory = get_memory_usage()\n",
    "            log_message(f\"Current memory usage before zonal stats: {current_memory:.1f} MB\")\n",
    "            \n",
    "            all_values = []\n",
    "            \n",
    "            if len(gdf_projected) > 5:\n",
    "                sample_size = min(5, len(gdf_projected))\n",
    "                sample_indices = np.random.choice(len(gdf_projected), size=sample_size, replace=False)\n",
    "                gdf_sample = gdf_projected.iloc[sample_indices].copy()\n",
    "                log_message(f\"Sampling {sample_size} polygons from {len(gdf_projected)} total\")\n",
    "            else:\n",
    "                gdf_sample = gdf_projected\n",
    "            \n",
    "            for idx, row in gdf_sample.iterrows():\n",
    "                single_polygon_gdf = gpd.GeoDataFrame(geometry=[row.geometry], crs=gdf_projected.crs)\n",
    "                \n",
    "                stats = zonal_stats(single_polygon_gdf, raster_path, \n",
    "                                   stats=['count'], \n",
    "                                   nodata=np.nan,\n",
    "                                   all_touched=False,\n",
    "                                   geojson_out=True,\n",
    "                                   raster_out=True)\n",
    "                \n",
    "                for feature in stats:\n",
    "                    if 'properties' in feature and 'mini_raster_array' in feature['properties']:\n",
    "                        mini_raster = feature['properties']['mini_raster_array']\n",
    "                        values = mini_raster.flatten()\n",
    "                        valid_values = values[~np.isnan(values)]\n",
    "                        \n",
    "                        if len(valid_values) > MAX_SAMPLE_SIZE // len(gdf_sample):\n",
    "                            sample_indices = np.random.choice(\n",
    "                                len(valid_values),\n",
    "                                size=MAX_SAMPLE_SIZE // len(gdf_sample),\n",
    "                                replace=False\n",
    "                            )\n",
    "                            valid_values = valid_values[sample_indices]\n",
    "                        \n",
    "                        all_values.extend(valid_values.tolist())\n",
    "                        log_message(f\"  Extracted {len(valid_values)} values from polygon {idx}\")\n",
    "                \n",
    "                gc.collect()\n",
    "            \n",
    "            if all_values:\n",
    "                log_message(f\"Successfully extracted {len(all_values)} sampled values. Memory: {get_memory_usage():.1f} MB\")\n",
    "                return all_values\n",
    "            else:\n",
    "                log_message(\"No values extracted with zonal_stats, trying mask method...\")\n",
    "        except Exception as e:\n",
    "            log_message(f\"Zonal stats method failed: {str(e)}\")\n",
    "            log_message(\"Falling back to mask method...\")\n",
    "        \n",
    "        log_message(\"Using mask method with sampling...\")\n",
    "        all_values = []\n",
    "        \n",
    "        try:\n",
    "            with rasterio.open(raster_path) as src:\n",
    "                if len(gdf_projected) > 5:\n",
    "                    sample_size = min(5, len(gdf_projected))\n",
    "                    sample_indices = np.random.choice(len(gdf_projected), size=sample_size, replace=False)\n",
    "                    gdf_sample = gdf_projected.iloc[sample_indices].copy()\n",
    "                else:\n",
    "                    gdf_sample = gdf_projected\n",
    "                \n",
    "                for idx, geom in enumerate(gdf_sample.geometry):\n",
    "                    try:\n",
    "                        out_image, out_transform = mask(src, [geom.__geo_interface__], crop=True, nodata=src.nodata)\n",
    "                        nodata_value = src.nodata\n",
    "                        if nodata_value is not None:\n",
    "                            out_image = np.where(out_image == nodata_value, None, out_image)\n",
    "                        flat_values = out_image[0].flatten()\n",
    "                        values_list = [v for v in flat_values if v is not None]\n",
    "                        if len(values_list) > MAX_SAMPLE_SIZE // len(gdf_sample):\n",
    "                            sample_indices = np.random.choice(\n",
    "                                len(values_list),\n",
    "                                size=MAX_SAMPLE_SIZE // len(gdf_sample),\n",
    "                                replace=False\n",
    "                            )\n",
    "                            values_list = [values_list[i] for i in sample_indices]\n",
    "                        all_values.extend(values_list)\n",
    "                        log_message(f\"  Extracted {len(values_list)} values from geometry {idx+1}/{len(gdf_sample)}\")\n",
    "                    except Exception as e:\n",
    "                        log_message(f\"Error masking geometry {idx+1}: {str(e)}\")\n",
    "                        continue\n",
    "        except Exception as e:\n",
    "            log_message(f\"Mask method failed: {str(e)}\")\n",
    "            \n",
    "        final_memory = get_memory_usage()\n",
    "        log_message(f\"Total values extracted: {len(all_values)}. Final memory: {final_memory:.1f} MB\")\n",
    "        return all_values\n",
    "    \n",
    "    except Exception as e:\n",
    "        log_message(f\"Error processing {os.path.basename(shapefile_path)} with {os.path.basename(raster_path)}: {str(e)}\")\n",
    "        gc.collect()\n",
    "        return []\n",
    "\n",
    "# Dictionary to store all values by land cover type\n",
    "all_values_by_type = {\n",
    "    \"baresoil\": [],\n",
    "    \"early_regrowth\": [],\n",
    "    \"mature_regrowth\": []\n",
    "}\n",
    "\n",
    "# Set raster paths that should be skipped (if any)\n",
    "skip_rasters = []\n",
    "\n",
    "# Process each shapefile with each raster\n",
    "for land_type, shapefile_path in shapefiles.items():\n",
    "    log_message(f\"\\nProcessing {land_type}...\")\n",
    "    \n",
    "    if not os.path.exists(shapefile_path):\n",
    "        log_message(f\"Warning: {shapefile_path} does not exist. Skipping.\")\n",
    "        continue\n",
    "    \n",
    "    for raster_path in tqdm(raster_files, desc=f\"Rasters for {land_type}\"):\n",
    "        if os.path.basename(raster_path) in skip_rasters:\n",
    "            log_message(f\"Skipping known problematic raster: {os.path.basename(raster_path)}\")\n",
    "            continue\n",
    "        values = extract_values(shapefile_path, raster_path)\n",
    "        all_values_by_type[land_type].extend(values)\n",
    "    \n",
    "    log_message(f\"Collected {len(all_values_by_type[land_type])} pixel values for {land_type}\")\n",
    "\n",
    "# Check if we have values to process\n",
    "any_values = any(len(values) > 0 for values in all_values_by_type.values())\n",
    "if not any_values:\n",
    "    log_message(\"No valid values were extracted. Check shapefile and raster compatibility.\")\n",
    "    exit(1)\n",
    "\n",
    "# Configure matplotlib for publication-quality output\n",
    "import matplotlib as mpl\n",
    "from matplotlib import rcParams\n",
    "\n",
    "rcParams['font.family'] = 'serif'\n",
    "rcParams['font.serif'] = ['Times New Roman']\n",
    "rcParams['font.size'] = 10\n",
    "rcParams['axes.linewidth'] = 0.8\n",
    "rcParams['axes.labelsize'] = 11\n",
    "rcParams['axes.titlesize'] = 12\n",
    "rcParams['xtick.major.width'] = 0.8\n",
    "rcParams['ytick.major.width'] = 0.8\n",
    "rcParams['xtick.labelsize'] = 9\n",
    "rcParams['ytick.labelsize'] = 9\n",
    "rcParams['legend.fontsize'] = 9\n",
    "rcParams['figure.dpi'] = 300\n",
    "rcParams['savefig.dpi'] = 600\n",
    "\n",
    "publication_colors = {\n",
    "    \"baresoil\": '#E69F00',\n",
    "    \"early_regrowth\": '#56B4E9',\n",
    "    \"mature_regrowth\": '#009E73'\n",
    "}\n",
    "\n",
    "colors = publication_colors\n",
    "\n",
    "# Create separate publication-quality figures for each land cover type\n",
    "log_message(\"\\n====== Creating publication-quality separate figures ======\")\n",
    "\n",
    "for land_type, values in all_values_by_type.items():\n",
    "    log_message(f\"\\nProcessing figure for {land_type}...\")\n",
    "    \n",
    "    if not values or len(values) == 0:\n",
    "        log_message(f\"No data for {land_type}, skipping\")\n",
    "        continue\n",
    "        \n",
    "    # Clean data for analysis\n",
    "    clean_values = clean_data_for_analysis(values)\n",
    "    # Filter out negative values (since canopy heights should be non-negative)\n",
    "    clean_values = clean_values[clean_values >= 0]\n",
    "    \n",
    "    # Check if we have valid data after cleaning\n",
    "    if len(clean_values) == 0:\n",
    "        log_message(f\"No valid numeric values for {land_type} after cleaning\")\n",
    "        continue\n",
    "        \n",
    "    # Additional filtering for extreme values\n",
    "    try:\n",
    "        valid_mask = np.isfinite(clean_values) & (clean_values < 1e6)\n",
    "        filtered_for_extremes = clean_values[valid_mask]\n",
    "        \n",
    "        if len(filtered_for_extremes) == 0:\n",
    "            log_message(f\"No valid data for {land_type} after filtering extremes\")\n",
    "            continue\n",
    "                \n",
    "        log_message(f\"{land_type} filtered data: min={np.min(filtered_for_extremes)}, max={np.max(filtered_for_extremes)}, \" + \n",
    "                  f\"mean={np.mean(filtered_for_extremes)}, median={np.median(filtered_for_extremes)}\")\n",
    "        \n",
    "        # Further outlier filtering for visualization\n",
    "        if len(filtered_for_extremes) > 10:\n",
    "            try:\n",
    "                mean = np.mean(filtered_for_extremes)\n",
    "                std = np.std(filtered_for_extremes)\n",
    "                \n",
    "                if std > 0:\n",
    "                    filtered_values = filtered_for_extremes[\n",
    "                        (filtered_for_extremes > mean - 3 * std) & \n",
    "                        (filtered_for_extremes < mean + 3 * std)\n",
    "                    ]\n",
    "                    \n",
    "                    if len(filtered_values) < 0.5 * len(filtered_for_extremes):\n",
    "                        log_message(f\"Warning: Outlier filtering removed too many values. Using pre-filtered values.\")\n",
    "                        filtered_values = filtered_for_extremes\n",
    "                else:\n",
    "                    log_message(f\"Standard deviation is 0, skipping outlier filtering\")\n",
    "                    filtered_values = filtered_for_extremes\n",
    "            except Exception as e:\n",
    "                log_message(f\"Error in outlier filtering: {str(e)}\")\n",
    "                filtered_values = filtered_for_extremes\n",
    "        else:\n",
    "            filtered_values = filtered_for_extremes\n",
    "            \n",
    "    except Exception as e:\n",
    "        log_message(f\"Error filtering extreme values: {str(e)}\")\n",
    "        continue\n",
    "    \n",
    "    # Create figure for this land cover type\n",
    "    try:\n",
    "        fig, ax = plt.subplots(figsize=(3.5, 3.5), constrained_layout=True)\n",
    "        \n",
    "        if len(filtered_values) > 0:\n",
    "            num_bins = min(40, max(10, int(np.sqrt(len(filtered_values)))))\n",
    "            \n",
    "            n, bins, patches = ax.hist(\n",
    "                filtered_values, \n",
    "                bins=num_bins, \n",
    "                alpha=0.7, \n",
    "                color=colors[land_type], \n",
    "                density=True,\n",
    "                label=f\"n = {len(filtered_values):,}\",\n",
    "                edgecolor='white',\n",
    "                linewidth=0.5\n",
    "            )\n",
    "            \n",
    "            # Verify the area under the histogram\n",
    "            area = sum(n * (bins[1:] - bins[:-1]))\n",
    "            log_message(f\"Area under histogram for {land_type}: {area:.3f}\")\n",
    "            \n",
    "            mean_val = np.mean(filtered_values)\n",
    "            if np.isfinite(mean_val):\n",
    "                ax.axvline(mean_val, color='black', linestyle='--', linewidth=1.2, \n",
    "                         label=f'Mean = {mean_val:.2f} m')\n",
    "                \n",
    "                std_val = np.std(filtered_values)\n",
    "                if np.isfinite(std_val) and std_val > 0:\n",
    "                    ax.axvspan(mean_val - std_val, mean_val + std_val, \n",
    "                             alpha=0.2, color='gray', \n",
    "                             label=f'±1σ = {std_val:.2f} m')\n",
    "            else:\n",
    "                median_val = np.median(filtered_values)\n",
    "                ax.axvline(median_val, color='black', linestyle='--', linewidth=1.2, \n",
    "                         label=f'Median = {median_val:.2f} m')\n",
    "            \n",
    "            if np.max(np.abs(filtered_values)) < 1000 and np.max(np.abs(filtered_values)) > 0.01:\n",
    "                ax.ticklabel_format(style='plain', axis='x')\n",
    "            \n",
    "            ax.set_ylim(bottom=0)\n",
    "            ax.set_xlim(left=0)  # Force x-axis to start at 0\n",
    "            ax.grid(True, linestyle='--', alpha=0.3, axis='y')\n",
    "            \n",
    "            pretty_name = land_type.replace('_', ' ').title()\n",
    "            ax.set_title(f'{pretty_name}', fontsize=12, weight='bold')\n",
    "            ax.set_xlabel('Canopy Height (m)', fontsize=11)\n",
    "            ax.set_ylabel('Density', fontsize=11)\n",
    "            ax.legend(loc='upper right', framealpha=0.9, edgecolor='lightgray', fontsize=9)\n",
    "        else:\n",
    "            ax.text(0.5, 0.5, f\"No valid data for {land_type}\", \n",
    "                  horizontalalignment='center', verticalalignment='center',\n",
    "                  transform=ax.transAxes, fontsize=12, style='italic')\n",
    "        \n",
    "        base_filename = os.path.join(output_folder, f'{land_type}_histogram')\n",
    "        plt.savefig(f\"{base_filename}.png\", dpi=600, bbox_inches='tight')\n",
    "        plt.savefig(f\"{base_filename}.pdf\", format='pdf', bbox_inches='tight')\n",
    "        plt.savefig(f\"{base_filename}.tiff\", format='tiff', dpi=600, bbox_inches='tight')\n",
    "        plt.savefig(f\"{base_filename}.eps\", format='eps', bbox_inches='tight')\n",
    "        \n",
    "        log_message(f\"Publication-quality figure for {land_type} saved in multiple formats\")\n",
    "        plt.close(fig)\n",
    "        \n",
    "        # Calculate and save statistics\n",
    "        try:\n",
    "            stats = {\n",
    "                'mean': float(np.mean(filtered_values)) if np.isfinite(np.mean(filtered_values)) else float(np.median(filtered_values)),\n",
    "                'median': float(np.median(filtered_values)),\n",
    "                'std_dev': float(np.std(filtered_values)) if np.isfinite(np.std(filtered_values)) else 0.0,\n",
    "                'min': float(np.min(filtered_values)),\n",
    "                'max': float(np.max(filtered_values)),\n",
    "                'count': len(filtered_values),\n",
    "                '25th_percentile': float(np.percentile(filtered_values, 25)),\n",
    "                '75th_percentile': float(np.percentile(filtered_values, 75))\n",
    "            }\n",
    "            \n",
    "            stats_df = pd.DataFrame([stats])\n",
    "            stats_csv_path = os.path.join(output_folder, f'{land_type}_statistics.csv')\n",
    "            stats_df.to_csv(stats_csv_path, index=False)\n",
    "            \n",
    "            excel_path = os.path.join(output_folder, f'{land_type}_statistics.xlsx')\n",
    "            with pd.ExcelWriter(excel_path) as writer:\n",
    "                stats_df.to_excel(writer, index=False, sheet_name='Statistics')\n",
    "                \n",
    "            log_message(f\"Statistics for {land_type} saved to CSV and Excel\")\n",
    "        except Exception as e:\n",
    "            log_message(f\"Error calculating statistics for {land_type}: {str(e)}\")\n",
    "            \n",
    "    except Exception as e:\n",
    "        log_message(f\"Error creating figure for {land_type}: {str(e)}\")\n",
    "        plt.close()\n",
    "\n",
    "# Create a summary table with statistics for all land cover types\n",
    "log_message(\"\\n====== Creating summary statistics table ======\")\n",
    "summary_rows = []\n",
    "\n",
    "for land_type, values in all_values_by_type.items():\n",
    "    if not values or len(values) == 0:\n",
    "        log_message(f\"No data for {land_type}, skipping summary statistics\")\n",
    "        continue\n",
    "    \n",
    "    try:\n",
    "        clean_values = clean_data_for_analysis(values)\n",
    "        clean_values = clean_values[clean_values >= 0]\n",
    "        \n",
    "        if len(clean_values) == 0:\n",
    "            log_message(f\"No valid numeric data for {land_type} after cleaning for summary stats\")\n",
    "            continue\n",
    "            \n",
    "        try:\n",
    "            valid_mask = np.isfinite(clean_values) & (clean_values < 1e6)\n",
    "            filtered_values = clean_values[valid_mask]\n",
    "            \n",
    "            if len(filtered_values) == 0:\n",
    "                log_message(f\"No valid data for {land_type} after filtering extremes\")\n",
    "                continue\n",
    "                \n",
    "            try:\n",
    "                mean_val = np.mean(filtered_values)\n",
    "                if not np.isfinite(mean_val):\n",
    "                    mean_val = np.median(filtered_values)\n",
    "                    log_message(f\"Mean was infinite, using median instead: {mean_val}\")\n",
    "                    \n",
    "                std_val = np.std(filtered_values)\n",
    "                if not np.isfinite(std_val):\n",
    "                    std_val = 0.0\n",
    "                    log_message(f\"Standard deviation was infinite, using 0 instead\")\n",
    "                \n",
    "                summary_rows.append({\n",
    "                    'Land_Cover': land_type.replace('_', ' ').title(),\n",
    "                    'Count': len(filtered_values),\n",
    "                    'Mean_Height_m': float(mean_val),\n",
    "                    'Median_Height_m': float(np.median(filtered_values)),\n",
    "                    'Std_Dev_m': float(std_val),\n",
    "                    'Min_Height_m': float(np.min(filtered_values)),\n",
    "                    'Max_Height_m': float(np.max(filtered_values)),\n",
    "                    'Range_m': float(np.max(filtered_values) - np.min(filtered_values))\n",
    "                })\n",
    "                \n",
    "                log_message(f\"Successfully calculated summary statistics for {land_type}\")\n",
    "                \n",
    "            except Exception as e:\n",
    "                log_message(f\"Error calculating statistics for {land_type}: {str(e)}\")\n",
    "                \n",
    "        except Exception as e:\n",
    "            log_message(f\"Error filtering data for {land_type} summary: {str(e)}\")\n",
    "            \n",
    "    except Exception as e:\n",
    "        log_message(f\"Error processing summary for {land_type}: {str(e)}\")\n",
    "\n",
    "if summary_rows:\n",
    "    summary_df = pd.DataFrame(summary_rows)\n",
    "    \n",
    "    for col in summary_df.columns:\n",
    "        if col not in ['Land_Cover', 'Count']:\n",
    "            summary_df[col] = summary_df[col].round(2)\n",
    "    \n",
    "    summary_csv_path = os.path.join(output_folder, 'canopy_height_summary.csv')\n",
    "    summary_df.to_csv(summary_csv_path, index=False)\n",
    "    \n",
    "    summary_excel_path = os.path.join(output_folder, 'canopy_height_summary.xlsx')\n",
    "    try:\n",
    "        with pd.ExcelWriter(summary_excel_path) as writer:\n",
    "            summary_df.to_excel(writer, sheet_name='Summary', index=False)\n",
    "            \n",
    "            workbook = writer.book\n",
    "            worksheet = writer.sheets['Summary']\n",
    "            \n",
    "            header_format = workbook.add_format({\n",
    "                'bold': True,\n",
    "                'font_name': 'Arial',\n",
    "                'font_size': 11,\n",
    "                'align': 'center',\n",
    "                'valign': 'vcenter',\n",
    "                'border': 1\n",
    "            })\n",
    "            \n",
    "            number_format = workbook.add_format({\n",
    "                'num_format': '0.00',\n",
    "                'font_name': 'Arial',\n",
    "                'font_size': 10,\n",
    "                'align': 'right'\n",
    "            })\n",
    "            \n",
    "            for col_num, col_name in enumerate(summary_df.columns):\n",
    "                worksheet.write(0, col_num, col_name, header_format)\n",
    "                if col_name not in ['Land_Cover', 'Count']:\n",
    "                    worksheet.set_column(col_num, col_num, 15, number_format)\n",
    "            \n",
    "        log_message(f\"Summary table saved to {summary_csv_path} and {summary_excel_path}\")\n",
    "    except Exception as e:\n",
    "        log_message(f\"Error saving formatted Excel summary: {str(e)}\")\n",
    "        summary_df.to_csv(summary_csv_path, index=False)\n",
    "        log_message(f\"Summary table saved to {summary_csv_path} only\")\n",
    "else:\n",
    "    log_message(\"No valid data for summary statistics\")\n",
    "\n",
    "log_message(\"\\nAnalysis complete! Results saved to: \" + output_folder)"
   ]
  },
  {
   "cell_type": "code",
   "execution_count": null,
   "id": "d49def31-ef3a-4541-bfd4-2c6d61b74227",
   "metadata": {},
   "outputs": [],
   "source": []
  }
 ],
 "metadata": {
  "kernelspec": {
   "display_name": "Python 3 (ipykernel)",
   "language": "python",
   "name": "python3"
  },
  "language_info": {
   "codemirror_mode": {
    "name": "ipython",
    "version": 3
   },
   "file_extension": ".py",
   "mimetype": "text/x-python",
   "name": "python",
   "nbconvert_exporter": "python",
   "pygments_lexer": "ipython3",
   "version": "3.9.18"
  }
 },
 "nbformat": 4,
 "nbformat_minor": 5
}
